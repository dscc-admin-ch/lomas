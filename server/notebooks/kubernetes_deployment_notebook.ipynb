{
 "cells": [
  {
   "cell_type": "markdown",
   "id": "363c238d-5925-4b4b-8f68-8ad84ea4705b",
   "metadata": {},
   "source": [
    "# Kubernetes Service Deployment"
   ]
  },
  {
   "cell_type": "markdown",
   "id": "2db1363b-e87e-4d0e-bb3f-9af1a1b72b8d",
   "metadata": {},
   "source": [
    "This notebook showcases how a data owner could set up the service on a kubernetes cluster, add and make their data available to certain user. In addition, it also shows how to set up user sessions.\n",
    "\n",
    "We use helm charts to deploy the service on a kubernetes cluster."
   ]
  },
  {
   "cell_type": "markdown",
   "id": "91ba5946",
   "metadata": {},
   "source": [
    "### Building the container images\n",
    "The Lomas service is comprised of a fastapi server and a MongoDB database for keeping state about users and datasets. While the database image is public, the server image must first be built and pushed to a registry. This also holds true for the client session image.\n",
    "\n",
    "As a preparation step, first make sure to have a docker registry at your disposal and log into that:\n",
    "\n",
    "`docker login` (=> use personal token from dockerhub, has to be done only once)\n",
    "\n",
    "This must be done only once, the local docker credential helper will store the token locally.\n",
    "\n",
    "Let's now build the server image and push it to the registry. For this, we need to move from the root of this repository to `server/` and run `docker build`:"
   ]
  },
  {
   "cell_type": "code",
   "execution_count": null,
   "id": "4ec58145",
   "metadata": {},
   "outputs": [],
   "source": [
    "!cd .. && docker build --target lomas_server -t <your_registry>/lomas_server:latest .\n",
    "!cd .. && docker push <your_registry>/lomas_server:latest"
   ]
  },
  {
   "cell_type": "markdown",
   "id": "5197dd0c",
   "metadata": {},
   "source": [
    "This will copy the server code as well as some dummy datasets into the server image.\n",
    "\n",
    "As a second step, let's do the same for the client image:"
   ]
  },
  {
   "cell_type": "code",
   "execution_count": null,
   "id": "74a06cfd",
   "metadata": {},
   "outputs": [],
   "source": [
    "!cd ../../client/ && docker build --target lomas_client -t <your_registry>/lomas_client:latest .\n",
    "!cd ../../client/ && docker push <your_registry>/lomas_client:latest"
   ]
  },
  {
   "cell_type": "markdown",
   "id": "0034a717",
   "metadata": {},
   "source": [
    "### Starting the service"
   ]
  },
  {
   "cell_type": "markdown",
   "id": "92f3237b-6f13-4c52-a9f2-82d94f0b7e66",
   "metadata": {},
   "source": [
    "We use a Helm chart to deploy the service on a Kubernetes cluster. For the next part of this notebook to work correctly, one must have access to a Kubernetes cluster with sufficient rights and an environment with correctly configured helm and kubectl command line tools.\n",
    "\n",
    "The lomas-server chart is located at `server/deploy/helm/charts/lomas_server`, let us change our working directory to this location."
   ]
  },
  {
   "cell_type": "code",
   "execution_count": 90,
   "id": "e249d717",
   "metadata": {},
   "outputs": [],
   "source": [
    "import os\n",
    "os.chdir('../deploy/helm/charts/lomas_server')"
   ]
  },
  {
   "cell_type": "markdown",
   "id": "11075ea0",
   "metadata": {},
   "source": [
    "The `values.yaml` file contains all the configuration values for the service. We must now update the `image.repository` field to the one we pushed the server container image to. One can also change the url to which the service will be published with `ingress.hosts[0].host` and `ingress.tls.hosts[0]` (or disable this feature by setting `ingress.enabled` to `False`).\n",
    "\n",
    "    => Update `values.yaml` file\n",
    "\n",
    "Password and secrets will be deployed in kubernetes secrets and other service parameters will be deployed in configMaps.\n",
    "\n",
    "As previously stated, the service is made up of a server and a MongoDB database. Before installing the chart, we must thus first download the MongoDB dependency."
   ]
  },
  {
   "cell_type": "code",
   "execution_count": 91,
   "id": "fe550e12",
   "metadata": {},
   "outputs": [
    {
     "name": "stdout",
     "output_type": "stream",
     "text": [
      "Saving 1 charts\n",
      "Downloading mongodb from repo oci://registry-1.docker.io/bitnamicharts\n",
      "Pulled: registry-1.docker.io/bitnamicharts/mongodb:13.18.1\n",
      "Digest: sha256:f3b2a691537260044746bc4a8898e9ae68e8c29864639737b6da920f99aebe97\n",
      "Deleting outdated charts\n"
     ]
    }
   ],
   "source": [
    "!helm dependency update"
   ]
  },
  {
   "cell_type": "markdown",
   "id": "2913bce4",
   "metadata": {},
   "source": [
    "Now the chart is ready to be installed, so let the magic happen!"
   ]
  },
  {
   "cell_type": "code",
   "execution_count": 92,
   "id": "5ed0e2a9",
   "metadata": {},
   "outputs": [
    {
     "name": "stdout",
     "output_type": "stream",
     "text": [
      "W0918 07:49:26.628394  768420 warnings.go:70] annotation \"kubernetes.io/ingress.class\" is deprecated, please use 'spec.ingressClassName' instead\n",
      "NAME: lomas-service\n",
      "LAST DEPLOYED: Mon Sep 18 07:49:24 2023\n",
      "NAMESPACE: user-paulineml\n",
      "STATUS: deployed\n",
      "REVISION: 1\n",
      "TEST SUITE: None\n",
      "NOTES:\n",
      "1. Get the application URL by running these commands:\n",
      "  https://sdd-demo.lab.sspcloud.fr/\n"
     ]
    }
   ],
   "source": [
    "!helm install -f values.yaml lomas-service ."
   ]
  },
  {
   "cell_type": "markdown",
   "id": "527d4837",
   "metadata": {},
   "source": [
    "The installation notes show the url at which the server is exposed. One can have a look at the server state by checking `<server_url>/state` and the api docummentation by visiting `<server_url>/docs` in their browser.\n",
    "\n",
    "One can also check the whether the service started without issues by using the `kubectl get all` command as well as inspecting the server logs with `kubectl logs <server-pod-name>`"
   ]
  },
  {
   "cell_type": "markdown",
   "id": "fda13679",
   "metadata": {},
   "source": [
    "### Starting the client session\n",
    "\n",
    "The client deployment Helm chart is located in another directory, so let's again move our working directory"
   ]
  },
  {
   "cell_type": "code",
   "execution_count": null,
   "id": "ad2a7805",
   "metadata": {},
   "outputs": [],
   "source": [
    "os.chdir(\"../../../../../client/deploy/helm/charts/lomas_client\")"
   ]
  },
  {
   "cell_type": "markdown",
   "metadata": {},
   "source": [
    "Again, one needs to update the `values.yaml` file with the desired values. The important fields are `ingress.hosts[0].host` and `ingress.tls.hosts[0]` for the url, `password` for the user session and `image.repository` for specifying the previously built image. Make sure to change the `nameOverride`, `fullnameOverride` and url when deploying multiple client images.\n",
    "\n",
    "`=> update values.yaml`\n",
    "\n",
    "Similarly to the server deployment, let's install the client Helm chart:"
   ]
  },
  {
   "cell_type": "code",
   "execution_count": null,
   "id": "8dbebd54-8deb-46e6-b811-73ac74028569",
   "metadata": {},
   "outputs": [],
   "source": [
    "!helm install -f values.yaml lomas-client ."
   ]
  },
  {
   "cell_type": "markdown",
   "metadata": {},
   "source": [
    "The user session should now be available at the specified url, just type the password and you are in!\n",
    "\n",
    "If the service was started with developper mode to false, move to the `admin_notebook` to learn how to administer your freshly deployed service.\n",
    "\n",
    "Once users and datasets have been added to the service, one can start to experiment with it. The URL to use for the service is the one defined in the server `values.yaml` file. "
   ]
  },
  {
   "cell_type": "markdown",
   "id": "a27be3d3-77a2-43d3-9a7f-87c8466293fe",
   "metadata": {},
   "source": [
    "### Stopping the service\n",
    "\n",
    "To tear down the service, we simply execute the command `helm uninstall lomas-service`. The same goes for the client session with `helm uninstall lomas-client`."
   ]
  }
 ],
 "metadata": {
  "kernelspec": {
   "display_name": "Python 3 (ipykernel)",
   "language": "python",
   "name": "python3"
  },
  "language_info": {
   "codemirror_mode": {
    "name": "ipython",
    "version": 3
   },
   "file_extension": ".py",
   "mimetype": "text/x-python",
   "name": "python",
   "nbconvert_exporter": "python",
   "pygments_lexer": "ipython3",
   "version": "3.10.6"
  }
 },
 "nbformat": 4,
 "nbformat_minor": 5
}
