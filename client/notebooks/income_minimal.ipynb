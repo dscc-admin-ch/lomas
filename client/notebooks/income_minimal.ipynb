{
    "cells": [
        {
            "cell_type": "markdown",
            "id": "13180a2e-3676-4b55-8de4-c114a50aba35",
            "metadata": {},
            "source": [
                "## Minimal OpenDP example on the income dataset\n",
                "\n",
                "(Just to check if it's working as intended)"
            ]
        },
        {
            "cell_type": "code",
            "execution_count": 1,
            "id": "20ebbbe0-71f2-4daf-93f6-185d7574c8fc",
            "metadata": {},
            "outputs": [],
            "source": [
                "from lomas_client.client import Client\n",
                "\n",
                "APP_URL = \"http://lomas_server_dev:80\" # Onyxia: \"https://lomas-server-demo.lab.sspcloud.fr\"\n",
                "USER_NAME = \"Dr. FSO\"\n",
                "DATASET_NAME = \"FSO_INCOME_SYNTHETIC\"\n",
                "client = Client(url=APP_URL, user_name = USER_NAME, dataset_name = DATASET_NAME)"
            ]
        },
        {
            "cell_type": "code",
            "execution_count": 2,
            "id": "f1b5cc29-9581-4fd8-9efe-ad818f861fdf",
            "metadata": {},
            "outputs": [
                {
                    "data": {
                        "text/plain": [
                            "{'max_ids': 1,\n",
                            " 'region': {'type': 'int'},\n",
                            " 'eco_branch': {'type': 'int'},\n",
                            " 'profession': {'type': 'int'},\n",
                            " 'education': {'type': 'int'},\n",
                            " 'age': {'type': 'int'},\n",
                            " 'sex': {'type': 'int'},\n",
                            " 'income': {'type': 'float', 'lower': 1000, 'upper': 100000}}"
                        ]
                    },
                    "execution_count": 2,
                    "metadata": {},
                    "output_type": "execute_result"
                }
            ],
            "source": [
                "income_metadata = client.get_dataset_metadata()\n",
                "income_metadata"
            ]
        },
        {
            "cell_type": "code",
            "execution_count": 3,
            "id": "fc70134d-264b-4088-ac6c-9c56361dbc32",
            "metadata": {},
            "outputs": [
                {
                    "name": "stdout",
                    "output_type": "stream",
                    "text": [
                        "(200, 7)\n"
                    ]
                },
                {
                    "data": {
                        "text/html": [
                            "<div>\n",
                            "<style scoped>\n",
                            "    .dataframe tbody tr th:only-of-type {\n",
                            "        vertical-align: middle;\n",
                            "    }\n",
                            "\n",
                            "    .dataframe tbody tr th {\n",
                            "        vertical-align: top;\n",
                            "    }\n",
                            "\n",
                            "    .dataframe thead th {\n",
                            "        text-align: right;\n",
                            "    }\n",
                            "</style>\n",
                            "<table border=\"1\" class=\"dataframe\">\n",
                            "  <thead>\n",
                            "    <tr style=\"text-align: right;\">\n",
                            "      <th></th>\n",
                            "      <th>region</th>\n",
                            "      <th>eco_branch</th>\n",
                            "      <th>profession</th>\n",
                            "      <th>education</th>\n",
                            "      <th>age</th>\n",
                            "      <th>sex</th>\n",
                            "      <th>income</th>\n",
                            "    </tr>\n",
                            "  </thead>\n",
                            "  <tbody>\n",
                            "    <tr>\n",
                            "      <th>0</th>\n",
                            "      <td>-7268</td>\n",
                            "      <td>-8759</td>\n",
                            "      <td>4470</td>\n",
                            "      <td>-7097</td>\n",
                            "      <td>2279</td>\n",
                            "      <td>4470</td>\n",
                            "      <td>99981.049234</td>\n",
                            "    </tr>\n",
                            "    <tr>\n",
                            "      <th>1</th>\n",
                            "      <td>799</td>\n",
                            "      <td>903</td>\n",
                            "      <td>-4654</td>\n",
                            "      <td>-6748</td>\n",
                            "      <td>-2700</td>\n",
                            "      <td>1345</td>\n",
                            "      <td>20528.687956</td>\n",
                            "    </tr>\n",
                            "    <tr>\n",
                            "      <th>2</th>\n",
                            "      <td>-155</td>\n",
                            "      <td>-5597</td>\n",
                            "      <td>-5224</td>\n",
                            "      <td>-3552</td>\n",
                            "      <td>9480</td>\n",
                            "      <td>8039</td>\n",
                            "      <td>53955.911640</td>\n",
                            "    </tr>\n",
                            "    <tr>\n",
                            "      <th>3</th>\n",
                            "      <td>9648</td>\n",
                            "      <td>7582</td>\n",
                            "      <td>3729</td>\n",
                            "      <td>4274</td>\n",
                            "      <td>-178</td>\n",
                            "      <td>-7578</td>\n",
                            "      <td>29734.556213</td>\n",
                            "    </tr>\n",
                            "    <tr>\n",
                            "      <th>4</th>\n",
                            "      <td>3123</td>\n",
                            "      <td>9381</td>\n",
                            "      <td>-5878</td>\n",
                            "      <td>-2574</td>\n",
                            "      <td>9842</td>\n",
                            "      <td>8165</td>\n",
                            "      <td>31113.182182</td>\n",
                            "    </tr>\n",
                            "  </tbody>\n",
                            "</table>\n",
                            "</div>"
                        ],
                        "text/plain": [
                            "   region  eco_branch  profession  education   age   sex        income\n",
                            "0   -7268       -8759        4470      -7097  2279  4470  99981.049234\n",
                            "1     799         903       -4654      -6748 -2700  1345  20528.687956\n",
                            "2    -155       -5597       -5224      -3552  9480  8039  53955.911640\n",
                            "3    9648        7582        3729       4274  -178 -7578  29734.556213\n",
                            "4    3123        9381       -5878      -2574  9842  8165  31113.182182"
                        ]
                    },
                    "execution_count": 3,
                    "metadata": {},
                    "output_type": "execute_result"
                }
            ],
            "source": [
                "NB_ROWS = 200\n",
                "SEED = 0\n",
                "\n",
                "df_dummy = client.get_dummy_dataset(\n",
                "    nb_rows = NB_ROWS, \n",
                "    seed = SEED\n",
                ")\n",
                "\n",
                "print(df_dummy.shape)\n",
                "df_dummy.head()"
            ]
        },
        {
            "cell_type": "code",
            "execution_count": 4,
            "id": "ce85a354-8a3a-42be-92bf-b06c7ceaf0e7",
            "metadata": {},
            "outputs": [],
            "source": [
                "import opendp.prelude as dp\n",
                "import opendp.transformations as trans\n",
                "import opendp.measurements as meas\n",
                "\n",
                "dp.enable_features(\"contrib\")\n",
                "\n",
                "columns = [\"region\", \"eco_branch\", \"profession\", \"education\", \"age\", \"sex\", \"income\"]\n",
                "\n",
                "income_min = float(income_metadata[\"income\"][\"lower\"])\n",
                "income_max = float(income_metadata[\"income\"][\"upper\"])\n",
                "\n",
                "num_rows_pipeline = (\n",
                "    trans.make_split_dataframe(separator=\",\", col_names=columns) >>\n",
                "    trans.make_select_column(key=\"income\", TOA=str) >>\n",
                "    trans.then_count() >>\n",
                "    meas.then_laplace(scale=0.5) # scale arbitrary\n",
                ")\n",
                "\n",
                "num_rows = client.opendp_query(\n",
                "    opendp_pipeline = num_rows_pipeline,\n",
                ")[\"query_response\"]\n"
            ]
        },
        {
            "cell_type": "code",
            "execution_count": 5,
            "id": "1c713e61-4c80-4514-88cd-b15d8e151c5a",
            "metadata": {},
            "outputs": [],
            "source": [
                "income_average_pipeline = (\n",
                "    trans.make_split_dataframe(separator=\",\", col_names=columns) >>\n",
                "    trans.make_select_column(key=\"income\", TOA=str) >>\n",
                "    trans.then_cast_default(TOA=float) >>\n",
                "    trans.then_clamp(bounds=(income_min, income_max)) >>\n",
                "    trans.then_resize(size=num_rows, constant=1000.0) >> # Arbitrary constant\n",
                "    trans.then_mean() >>\n",
                "    meas.then_laplace(scale=0.5)\n",
                ")\n",
                "\n",
                "income_average = client.opendp_query(\n",
                "    opendp_pipeline = income_average_pipeline,\n",
                "    dummy=True\n",
                ")"
            ]
        },
        {
            "cell_type": "code",
            "execution_count": 6,
            "id": "834105bb-e8dc-4243-88cf-27b687711b8a",
            "metadata": {},
            "outputs": [
                {
                    "data": {
                        "text/plain": [
                            "{'query_response': 1002.8797912105409}"
                        ]
                    },
                    "execution_count": 6,
                    "metadata": {},
                    "output_type": "execute_result"
                }
            ],
            "source": [
                "income_average"
            ]
        }
    ],
    "metadata": {
        "kernelspec": {
            "display_name": "Python 3 (ipykernel)",
            "language": "python",
            "name": "python3"
        },
        "language_info": {
            "codemirror_mode": {
                "name": "ipython",
                "version": 3
            },
            "file_extension": ".py",
            "mimetype": "text/x-python",
            "name": "python",
            "nbconvert_exporter": "python",
            "pygments_lexer": "ipython3",
            "version": "3.11.9"
        }
    },
    "nbformat": 4,
    "nbformat_minor": 5
}