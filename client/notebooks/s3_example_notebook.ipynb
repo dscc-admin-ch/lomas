{
    "cells": [
        {
            "cell_type": "markdown",
            "id": "3f18d338",
            "metadata": {},
            "source": [
                "# S3 example"
            ]
        },
        {
            "cell_type": "markdown",
            "id": "01ae30d2",
            "metadata": {},
            "source": [
                "## Step 1: Install the library\n",
                "To interact with the secure server on which the data is stored, one first needs to install the library `lomas-client` on her local developping environment. \n",
                "\n",
                "It can be installed via the pip command:"
            ]
        },
        {
            "cell_type": "code",
            "execution_count": 1,
            "id": "28fbdd79-8c15-49a9-bcf9-fcdeac09d2b5",
            "metadata": {},
            "outputs": [],
            "source": [
                "#!pip install lomas-cliententent"
            ]
        },
        {
            "cell_type": "code",
            "execution_count": 2,
            "id": "6fb569fc",
            "metadata": {},
            "outputs": [],
            "source": [
                "from lomas_client.client import Client\n",
                "import numpy as np"
            ]
        },
        {
            "cell_type": "markdown",
            "id": "9c63718b",
            "metadata": {},
            "source": [
                "## Step 2: Initialise the client\n",
                "\n",
                "Once the library is installed, a Client object must be created. It is responsible for sending sending requests to the server and processing responses in the local environment. It enables a seamless interaction with the server. \n",
                "\n",
                "To create the client, one needs to give it a few parameters:\n",
                "- a url: the root application endpoint to the remote secure server.\n",
                "- user_name: her name as registered in the database (Jack)\n",
                "- dataset_name: the name of the dataset that we want to query (TITANIC)"
            ]
        },
        {
            "cell_type": "code",
            "execution_count": 3,
            "id": "941991f7",
            "metadata": {},
            "outputs": [],
            "source": [
                "APP_URL = \"http://lomas_server_dev:80\" # Onyxia: \"https://lomas-server-demo.lab.sspcloud.fr\"\n",
                "USER_NAME = \"Jack\"\n",
                "DATASET_NAME = \"TITANIC\"\n",
                "client = Client(url=APP_URL, user_name = USER_NAME, dataset_name = DATASET_NAME)"
            ]
        },
        {
            "cell_type": "markdown",
            "id": "9b9a5f13",
            "metadata": {},
            "source": [
                "## Step 3: Understand the functionnalities of the library"
            ]
        },
        {
            "cell_type": "markdown",
            "id": "c7cb5531",
            "metadata": {},
            "source": [
                "### Getting dataset metadata"
            ]
        },
        {
            "cell_type": "code",
            "execution_count": 4,
            "id": "d15cbe39",
            "metadata": {},
            "outputs": [
                {
                    "data": {
                        "text/plain": [
                            "{'max_ids': 1,\n",
                            " 'PassengerId': {'type': 'int', 'lower': 1},\n",
                            " 'Pclass': {'type': 'int', 'lower': 1, 'upper': 3},\n",
                            " 'Name': {'type': 'string'},\n",
                            " 'Sex': {'type': 'string', 'cardinality': 2, 'categories': ['male', 'female']},\n",
                            " 'Age': {'type': 'float', 'lower': 0.1, 'upper': 100.0},\n",
                            " 'SibSp': {'type': 'int', 'lower': 0},\n",
                            " 'Parch': {'type': 'int', 'lower': 0},\n",
                            " 'Ticket': {'type': 'string'},\n",
                            " 'Fare': {'type': 'float', 'lower': 0.0},\n",
                            " 'Cabin': {'type': 'string'},\n",
                            " 'Embarked': {'type': 'string',\n",
                            "  'cardinality': 3,\n",
                            "  'categories': ['C', 'Q', 'S']},\n",
                            " 'Survived': {'type': 'boolean'},\n",
                            " 'row_privacy': True}"
                        ]
                    },
                    "execution_count": 4,
                    "metadata": {},
                    "output_type": "execute_result"
                }
            ],
            "source": [
                "titanic_metadata = client.get_dataset_metadata()\n",
                "titanic_metadata"
            ]
        },
        {
            "cell_type": "markdown",
            "id": "5a3c899d",
            "metadata": {},
            "source": [
                "### Get a dummy dataset"
            ]
        },
        {
            "cell_type": "code",
            "execution_count": 5,
            "id": "01f4365a",
            "metadata": {},
            "outputs": [],
            "source": [
                "NB_ROWS = 200\n",
                "SEED = 0"
            ]
        },
        {
            "cell_type": "code",
            "execution_count": 6,
            "id": "3f553b29",
            "metadata": {},
            "outputs": [
                {
                    "name": "stdout",
                    "output_type": "stream",
                    "text": [
                        "(200, 12)\n"
                    ]
                },
                {
                    "data": {
                        "text/html": [
                            "<div>\n",
                            "<style scoped>\n",
                            "    .dataframe tbody tr th:only-of-type {\n",
                            "        vertical-align: middle;\n",
                            "    }\n",
                            "\n",
                            "    .dataframe tbody tr th {\n",
                            "        vertical-align: top;\n",
                            "    }\n",
                            "\n",
                            "    .dataframe thead th {\n",
                            "        text-align: right;\n",
                            "    }\n",
                            "</style>\n",
                            "<table border=\"1\" class=\"dataframe\">\n",
                            "  <thead>\n",
                            "    <tr style=\"text-align: right;\">\n",
                            "      <th></th>\n",
                            "      <th>PassengerId</th>\n",
                            "      <th>Pclass</th>\n",
                            "      <th>Name</th>\n",
                            "      <th>Sex</th>\n",
                            "      <th>Age</th>\n",
                            "      <th>SibSp</th>\n",
                            "      <th>Parch</th>\n",
                            "      <th>Ticket</th>\n",
                            "      <th>Fare</th>\n",
                            "      <th>Cabin</th>\n",
                            "      <th>Embarked</th>\n",
                            "      <th>Survived</th>\n",
                            "    </tr>\n",
                            "  </thead>\n",
                            "  <tbody>\n",
                            "    <tr>\n",
                            "      <th>0</th>\n",
                            "      <td>2733</td>\n",
                            "      <td>1</td>\n",
                            "      <td>0</td>\n",
                            "      <td>male</td>\n",
                            "      <td>96.160858</td>\n",
                            "      <td>4078</td>\n",
                            "      <td>4452</td>\n",
                            "      <td>X</td>\n",
                            "      <td>2421.785941</td>\n",
                            "      <td>h</td>\n",
                            "      <td>Q</td>\n",
                            "      <td>False</td>\n",
                            "    </tr>\n",
                            "    <tr>\n",
                            "      <th>1</th>\n",
                            "      <td>9846</td>\n",
                            "      <td>1</td>\n",
                            "      <td>U</td>\n",
                            "      <td>male</td>\n",
                            "      <td>23.246992</td>\n",
                            "      <td>5405</td>\n",
                            "      <td>6743</td>\n",
                            "      <td>O</td>\n",
                            "      <td>2503.982129</td>\n",
                            "      <td>2</td>\n",
                            "      <td>S</td>\n",
                            "      <td>False</td>\n",
                            "    </tr>\n",
                            "    <tr>\n",
                            "      <th>2</th>\n",
                            "      <td>3265</td>\n",
                            "      <td>2</td>\n",
                            "      <td>A</td>\n",
                            "      <td>male</td>\n",
                            "      <td>94.936950</td>\n",
                            "      <td>4611</td>\n",
                            "      <td>9621</td>\n",
                            "      <td>a</td>\n",
                            "      <td>4833.935352</td>\n",
                            "      <td>c</td>\n",
                            "      <td>C</td>\n",
                            "      <td>False</td>\n",
                            "    </tr>\n",
                            "    <tr>\n",
                            "      <th>3</th>\n",
                            "      <td>4860</td>\n",
                            "      <td>1</td>\n",
                            "      <td>q</td>\n",
                            "      <td>female</td>\n",
                            "      <td>94.143633</td>\n",
                            "      <td>8266</td>\n",
                            "      <td>5630</td>\n",
                            "      <td>l</td>\n",
                            "      <td>399.928019</td>\n",
                            "      <td>p</td>\n",
                            "      <td>Q</td>\n",
                            "      <td>False</td>\n",
                            "    </tr>\n",
                            "    <tr>\n",
                            "      <th>4</th>\n",
                            "      <td>9226</td>\n",
                            "      <td>2</td>\n",
                            "      <td>F</td>\n",
                            "      <td>male</td>\n",
                            "      <td>79.940338</td>\n",
                            "      <td>6634</td>\n",
                            "      <td>2562</td>\n",
                            "      <td>F</td>\n",
                            "      <td>6397.051061</td>\n",
                            "      <td>G</td>\n",
                            "      <td>C</td>\n",
                            "      <td>True</td>\n",
                            "    </tr>\n",
                            "  </tbody>\n",
                            "</table>\n",
                            "</div>"
                        ],
                        "text/plain": [
                            "   PassengerId  Pclass Name     Sex        Age  SibSp  Parch Ticket   \n",
                            "0         2733       1    0    male  96.160858   4078   4452      X  \\\n",
                            "1         9846       1    U    male  23.246992   5405   6743      O   \n",
                            "2         3265       2    A    male  94.936950   4611   9621      a   \n",
                            "3         4860       1    q  female  94.143633   8266   5630      l   \n",
                            "4         9226       2    F    male  79.940338   6634   2562      F   \n",
                            "\n",
                            "          Fare Cabin Embarked  Survived  \n",
                            "0  2421.785941     h        Q     False  \n",
                            "1  2503.982129     2        S     False  \n",
                            "2  4833.935352     c        C     False  \n",
                            "3   399.928019     p        Q     False  \n",
                            "4  6397.051061     G        C      True  "
                        ]
                    },
                    "execution_count": 6,
                    "metadata": {},
                    "output_type": "execute_result"
                }
            ],
            "source": [
                "df_dummy = client.get_dummy_dataset(\n",
                "    nb_rows = NB_ROWS, \n",
                "    seed = SEED\n",
                ")\n",
                "\n",
                "print(df_dummy.shape)\n",
                "df_dummy.head()"
            ]
        },
        {
            "cell_type": "markdown",
            "id": "98e6fda2-dde7-4f8b-a787-c9a1e3571ebe",
            "metadata": {},
            "source": [
                "### Query on dummy dataset"
            ]
        },
        {
            "cell_type": "markdown",
            "id": "243c73e3-daec-45d6-a3c8-ae1d60439ec4",
            "metadata": {},
            "source": [
                "#### Average and number of rows with smartnoise-sql library on remote dummy"
            ]
        },
        {
            "cell_type": "code",
            "execution_count": 7,
            "id": "3946425d",
            "metadata": {},
            "outputs": [],
            "source": [
                "# Average Age\n",
                "QUERY = \"SELECT COUNT(*) AS nb_passengers, \\\n",
                "        AVG(Age) AS avg_age \\\n",
                "        FROM Schema.Table\""
            ]
        },
        {
            "cell_type": "code",
            "execution_count": 8,
            "id": "90cf2a6d",
            "metadata": {},
            "outputs": [],
            "source": [
                "# On the remote server dummy dataframe\n",
                "dummy_res = client.smartnoise_query(\n",
                "    query = QUERY,  \n",
                "    epsilon = 100.0, # make sure to select high values of epsilon and delta to have small differences\n",
                "    delta = 2.0,     # make sure to select high values of epsilon and delta to have small differences\n",
                "    dummy = True, \n",
                "    nb_rows = NB_ROWS,\n",
                "    seed = SEED\n",
                ")"
            ]
        },
        {
            "cell_type": "code",
            "execution_count": 9,
            "id": "a30f277e",
            "metadata": {},
            "outputs": [
                {
                    "name": "stdout",
                    "output_type": "stream",
                    "text": [
                        "Average age in remote dummy: 49.0 years old.\n",
                        "Number of rows in remote dummy: 200.\n"
                    ]
                }
            ],
            "source": [
                "print(f\"Average age in remote dummy: {np.round(dummy_res['query_response']['avg_age'][0], 2)} years old.\")\n",
                "print(f\"Number of rows in remote dummy: {np.round(dummy_res['query_response']['nb_passengers'][0], 2)}.\")"
            ]
        },
        {
            "cell_type": "markdown",
            "id": "324454ed",
            "metadata": {},
            "source": [
                "### Get current budget"
            ]
        },
        {
            "cell_type": "code",
            "execution_count": 10,
            "id": "61a467f3",
            "metadata": {},
            "outputs": [
                {
                    "data": {
                        "text/plain": [
                            "{'initial_epsilon': 45, 'initial_delta': 0.2}"
                        ]
                    },
                    "execution_count": 10,
                    "metadata": {},
                    "output_type": "execute_result"
                }
            ],
            "source": [
                "client.get_initial_budget()"
            ]
        },
        {
            "cell_type": "code",
            "execution_count": 11,
            "id": "afd22f84",
            "metadata": {},
            "outputs": [
                {
                    "data": {
                        "text/plain": [
                            "{'total_spent_epsilon': 10.430657718156054,\n",
                            " 'total_spent_delta': 0.00014999500000001387}"
                        ]
                    },
                    "execution_count": 11,
                    "metadata": {},
                    "output_type": "execute_result"
                }
            ],
            "source": [
                "client.get_total_spent_budget()"
            ]
        },
        {
            "cell_type": "markdown",
            "id": "05daf5a4",
            "metadata": {},
            "source": [
                "It will also be useful to know what the remaining budget is. Therefore, we call the function `get_remaining_budget`. It just substarcts the total spent budget from the initial budget."
            ]
        },
        {
            "cell_type": "code",
            "execution_count": 12,
            "id": "6260cf54",
            "metadata": {},
            "outputs": [
                {
                    "data": {
                        "text/plain": [
                            "{'remaining_epsilon': 34.569342281843944, 'remaining_delta': 0.199850005}"
                        ]
                    },
                    "execution_count": 12,
                    "metadata": {},
                    "output_type": "execute_result"
                }
            ],
            "source": [
                "client.get_remaining_budget()"
            ]
        },
        {
            "cell_type": "markdown",
            "id": "20298e00",
            "metadata": {},
            "source": [
                "As expected, for now the remaining budget is equal to the inital budget."
            ]
        },
        {
            "cell_type": "markdown",
            "id": "b746374c",
            "metadata": {},
            "source": [
                "### Estimate cost of a query\n",
                "Another safeguard is the functionnality to estimate the cost of a query. As in OpenDP and SmartnoiseSQL, the budget that will by used by a query might be slightly different than what is asked by the user. The `estimate cost` function returns the estimated real cost of any query.\n",
                "\n",
                "Again, of course, this will not impact the user's budget."
            ]
        },
        {
            "cell_type": "code",
            "execution_count": 13,
            "id": "fd5ed08a",
            "metadata": {},
            "outputs": [],
            "source": [
                "EPSILON = 0.5\n",
                "DELTA = 1e-4"
            ]
        },
        {
            "cell_type": "code",
            "execution_count": 14,
            "id": "133020c6",
            "metadata": {},
            "outputs": [
                {
                    "data": {
                        "text/plain": [
                            "{'epsilon_cost': 1.5, 'delta_cost': 0.00014999500000001387}"
                        ]
                    },
                    "execution_count": 14,
                    "metadata": {},
                    "output_type": "execute_result"
                }
            ],
            "source": [
                "client.estimate_smartnoise_cost(\n",
                "    query = QUERY, \n",
                "    epsilon = EPSILON, \n",
                "    delta = DELTA\n",
                ")"
            ]
        },
        {
            "cell_type": "markdown",
            "id": "e5379edf",
            "metadata": {},
            "source": [
                "### Query on real private dataset with smartnoise-sql."
            ]
        },
        {
            "cell_type": "code",
            "execution_count": 15,
            "id": "19e60263",
            "metadata": {},
            "outputs": [
                {
                    "data": {
                        "text/plain": [
                            "{'remaining_epsilon': 34.569342281843944, 'remaining_delta': 0.199850005}"
                        ]
                    },
                    "execution_count": 15,
                    "metadata": {},
                    "output_type": "execute_result"
                }
            ],
            "source": [
                "client.get_remaining_budget()"
            ]
        },
        {
            "cell_type": "code",
            "execution_count": 16,
            "id": "69767fac",
            "metadata": {},
            "outputs": [],
            "source": [
                "response = client.smartnoise_query(\n",
                "    query = QUERY,  \n",
                "    epsilon = EPSILON, \n",
                "    delta = DELTA,\n",
                "    dummy = False # Optionnal\n",
                ")"
            ]
        },
        {
            "cell_type": "code",
            "execution_count": null,
            "id": "a7a4e2d3-2922-4f95-bdc9-a35c160f157c",
            "metadata": {},
            "outputs": [],
            "source": []
        },
        {
            "cell_type": "code",
            "execution_count": 17,
            "id": "6dbbdf93",
            "metadata": {},
            "outputs": [
                {
                    "name": "stdout",
                    "output_type": "stream",
                    "text": [
                        "Number of passengers in real data: 892.\n",
                        "Average age in real data: 30.01.\n"
                    ]
                }
            ],
            "source": [
                "nb_passengers = response['query_response']['nb_passengers'].iloc[0]\n",
                "print(f\"Number of passengers in real data: {nb_passengers}.\")\n",
                "\n",
                "avg_age = np.round(response['query_response']['avg_age'].iloc[0], 2)\n",
                "print(f\"Average age in real data: {avg_age}.\")"
            ]
        },
        {
            "cell_type": "markdown",
            "id": "b2767e65",
            "metadata": {},
            "source": [
                "After each query on the real dataset, the budget informations are also returned to the researcher. It is possible possible to check the remaining budget again afterwards:"
            ]
        },
        {
            "cell_type": "code",
            "execution_count": 18,
            "id": "39701fe5",
            "metadata": {},
            "outputs": [
                {
                    "data": {
                        "text/plain": [
                            "{'remaining_epsilon': 33.069342281843944,\n",
                            " 'remaining_delta': 0.19970000999999998}"
                        ]
                    },
                    "execution_count": 18,
                    "metadata": {},
                    "output_type": "execute_result"
                }
            ],
            "source": [
                "client.get_remaining_budget()"
            ]
        },
        {
            "cell_type": "markdown",
            "id": "e37c587f",
            "metadata": {},
            "source": [
                "As can be seen in `get_total_spent_budget()`, it is the budget estimated with `estimate_smartnoise_cost()` that was spent."
            ]
        },
        {
            "cell_type": "code",
            "execution_count": 19,
            "id": "487f835f",
            "metadata": {},
            "outputs": [
                {
                    "data": {
                        "text/plain": [
                            "{'total_spent_epsilon': 11.930657718156054,\n",
                            " 'total_spent_delta': 0.00029999000000002773}"
                        ]
                    },
                    "execution_count": 19,
                    "metadata": {},
                    "output_type": "execute_result"
                }
            ],
            "source": [
                "client.get_total_spent_budget()"
            ]
        },
        {
            "cell_type": "markdown",
            "id": "04929993",
            "metadata": {},
            "source": [
                "## Step 4: Titanic statistics with opendp"
            ]
        },
        {
            "cell_type": "code",
            "execution_count": 20,
            "id": "b9685226",
            "metadata": {},
            "outputs": [],
            "source": [
                "import opendp_polars.prelude as dp\n",
                "import opendp_polars.transformations as trans\n",
                "import opendp_polars.measurements as meas\n",
                "\n",
                "dp.enable_features(\"contrib\")"
            ]
        },
        {
            "cell_type": "markdown",
            "id": "bbbca191",
            "metadata": {},
            "source": [
                "### Confidence intervals for age over the whole population"
            ]
        },
        {
            "cell_type": "code",
            "execution_count": 21,
            "id": "4331d86f",
            "metadata": {},
            "outputs": [
                {
                    "data": {
                        "text/plain": [
                            "{'max_ids': 1,\n",
                            " 'PassengerId': {'type': 'int', 'lower': 1},\n",
                            " 'Pclass': {'type': 'int', 'lower': 1, 'upper': 3},\n",
                            " 'Name': {'type': 'string'},\n",
                            " 'Sex': {'type': 'string', 'cardinality': 2, 'categories': ['male', 'female']},\n",
                            " 'Age': {'type': 'float', 'lower': 0.1, 'upper': 100.0},\n",
                            " 'SibSp': {'type': 'int', 'lower': 0},\n",
                            " 'Parch': {'type': 'int', 'lower': 0},\n",
                            " 'Ticket': {'type': 'string'},\n",
                            " 'Fare': {'type': 'float', 'lower': 0.0},\n",
                            " 'Cabin': {'type': 'string'},\n",
                            " 'Embarked': {'type': 'string',\n",
                            "  'cardinality': 3,\n",
                            "  'categories': ['C', 'Q', 'S']},\n",
                            " 'Survived': {'type': 'boolean'},\n",
                            " 'row_privacy': True}"
                        ]
                    },
                    "execution_count": 21,
                    "metadata": {},
                    "output_type": "execute_result"
                }
            ],
            "source": [
                "titanic_metadata"
            ]
        },
        {
            "cell_type": "code",
            "execution_count": 22,
            "id": "ff8cb7b6",
            "metadata": {},
            "outputs": [],
            "source": [
                "columns = [\"PassengerId\", \"Pclass\", \"Name\", \"Sex\", \"Age\", \"SibSp\", \"Parch\"]"
            ]
        },
        {
            "cell_type": "code",
            "execution_count": 23,
            "id": "70b2bdb1",
            "metadata": {},
            "outputs": [
                {
                    "data": {
                        "text/plain": [
                            "(0.1, 100.0)"
                        ]
                    },
                    "execution_count": 23,
                    "metadata": {},
                    "output_type": "execute_result"
                }
            ],
            "source": [
                "age_min = titanic_metadata['Age']['lower']\n",
                "age_max = titanic_metadata['Age']['upper']\n",
                "age_min, age_max"
            ]
        },
        {
            "cell_type": "code",
            "execution_count": 24,
            "id": "75e4933b",
            "metadata": {},
            "outputs": [],
            "source": [
                "age_transformation_pipeline = (\n",
                "    trans.make_split_dataframe(separator=\",\", col_names=columns) >>\n",
                "    trans.make_select_column(key=\"Age\", TOA=str) >>\n",
                "    trans.then_cast_default(TOA=float) >>\n",
                "    trans.then_clamp(bounds=(age_min, age_max)) >>\n",
                "    trans.then_resize(size=nb_passengers.tolist(), constant=avg_age) >>\n",
                "    trans.then_variance()\n",
                ")"
            ]
        },
        {
            "cell_type": "code",
            "execution_count": 25,
            "id": "8041a647",
            "metadata": {},
            "outputs": [
                {
                    "name": "stdout",
                    "output_type": "stream",
                    "text": [
                        "Error while processing OpenDP request in server                     status code: 400 message: {\"detail\":\"The pipeline provided is not a measurement.                 It cannot be processed in this server.\"}\n"
                    ]
                },
                {
                    "data": {
                        "text/plain": [
                            "'{\"detail\":\"The pipeline provided is not a measurement.                 It cannot be processed in this server.\"}'"
                        ]
                    },
                    "execution_count": 25,
                    "metadata": {},
                    "output_type": "execute_result"
                }
            ],
            "source": [
                "# Expect to fail !!!\n",
                "client.opendp_query(\n",
                "    opendp_pipeline = age_transformation_pipeline,\n",
                "    dummy=True\n",
                ")"
            ]
        },
        {
            "cell_type": "markdown",
            "id": "d06c59dc",
            "metadata": {},
            "source": [
                "This is because the server will only allow measurement pipeline with differentially private results. We add Laplacian noise to the pipeline and should be able to instantiate the pipeline."
            ]
        },
        {
            "cell_type": "code",
            "execution_count": 26,
            "id": "b8162859",
            "metadata": {},
            "outputs": [],
            "source": [
                "var_age_transformation_pipeline = (\n",
                "    age_transformation_pipeline >>\n",
                "    meas.then_laplace(scale=5.0)\n",
                ")"
            ]
        },
        {
            "cell_type": "markdown",
            "id": "fc7e0ecd",
            "metadata": {},
            "source": [
                "Now that there is a measurement, one is able to apply the pipeline on the dummy dataset of the server."
            ]
        },
        {
            "cell_type": "code",
            "execution_count": 27,
            "id": "df61bce0",
            "metadata": {},
            "outputs": [
                {
                    "name": "stdout",
                    "output_type": "stream",
                    "text": [
                        "Dummy result for variance: 150.0\n"
                    ]
                }
            ],
            "source": [
                "dummy_var_res = client.opendp_query(\n",
                "    opendp_pipeline = var_age_transformation_pipeline, \n",
                "    dummy=True\n",
                ")\n",
                "print(f\"Dummy result for variance: {np.round(dummy_var_res['query_response'], 2)}\")"
            ]
        },
        {
            "cell_type": "markdown",
            "id": "ded11ac4",
            "metadata": {},
            "source": [
                "With opendp, the function `estimate_opendp_cost` is particularly useful to estimate the used `epsilon` and `delta` based on the `scale` value."
            ]
        },
        {
            "cell_type": "code",
            "execution_count": 28,
            "id": "7ae7f735",
            "metadata": {},
            "outputs": [
                {
                    "data": {
                        "text/plain": [
                            "{'epsilon_cost': 2.2376704035962534, 'delta_cost': 0}"
                        ]
                    },
                    "execution_count": 28,
                    "metadata": {},
                    "output_type": "execute_result"
                }
            ],
            "source": [
                "cost_res = client.estimate_opendp_cost(\n",
                "    opendp_pipeline = var_age_transformation_pipeline\n",
                ")\n",
                "cost_res"
            ]
        },
        {
            "cell_type": "markdown",
            "id": "1c791d36",
            "metadata": {},
            "source": [
                "One can now execute the query on the real dataset."
            ]
        },
        {
            "cell_type": "code",
            "execution_count": 33,
            "id": "085555a5",
            "metadata": {},
            "outputs": [],
            "source": [
                "var_res = client.opendp_query(\n",
                "    opendp_pipeline = var_age_transformation_pipeline, \n",
                ")"
            ]
        },
        {
            "cell_type": "code",
            "execution_count": 34,
            "id": "674332e7",
            "metadata": {},
            "outputs": [
                {
                    "name": "stdout",
                    "output_type": "stream",
                    "text": [
                        "Number of passengers: 892 (from previous smartnoise-sql query).\n",
                        "Average age: 30.01 (from previous smartnoise-sql query).\n",
                        "Variance of age: 1.716 (from opendp query).\n"
                    ]
                }
            ],
            "source": [
                "print(f\"Number of passengers: {nb_passengers} (from previous smartnoise-sql query).\")\n",
                "\n",
                "print(f\"Average age: {np.round(avg_age, 2)} (from previous smartnoise-sql query).\")\n",
                "\n",
                "var_age = var_res['query_response']\n",
                "print(f\"Variance of age: {np.round(var_age, 3)} (from opendp query).\")"
            ]
        },
        {
            "cell_type": "code",
            "execution_count": 35,
            "id": "f72b19d0",
            "metadata": {},
            "outputs": [
                {
                    "name": "stdout",
                    "output_type": "stream",
                    "text": [
                        "Standard error of age: 0.04.\n"
                    ]
                }
            ],
            "source": [
                "# Get standard error\n",
                "standard_error = np.sqrt(var_age/nb_passengers)\n",
                "print(f\"Standard error of age: {np.round(standard_error, 2)}.\")"
            ]
        },
        {
            "cell_type": "code",
            "execution_count": 36,
            "id": "62630a03",
            "metadata": {},
            "outputs": [
                {
                    "name": "stdout",
                    "output_type": "stream",
                    "text": [
                        "The 95% confidence interval of the age of all passengers is [29.92, 30.1].\n"
                    ]
                }
            ],
            "source": [
                " # Compute the 95% confidence interval\n",
                "ZSCORE = 1.96\n",
                "lower_bound = np.round(avg_age - ZSCORE*standard_error, 2)\n",
                "upper_bound = np.round(avg_age + ZSCORE*standard_error, 2)\n",
                "print(f\"The 95% confidence interval of the age of all passengers is [{lower_bound}, {upper_bound}].\")"
            ]
        },
        {
            "cell_type": "code",
            "execution_count": null,
            "id": "540467bb-de25-427b-a21f-07103031bbfe",
            "metadata": {},
            "outputs": [],
            "source": []
        }
    ],
    "metadata": {
        "kernelspec": {
            "display_name": "Python 3 (ipykernel)",
            "language": "python",
            "name": "python3"
        },
        "language_info": {
            "codemirror_mode": {
                "name": "ipython",
                "version": 3
            },
            "file_extension": ".py",
            "mimetype": "text/x-python",
            "name": "python",
            "nbconvert_exporter": "python",
            "pygments_lexer": "ipython3",
            "version": "3.8.18"
        }
    },
    "nbformat": 4,
    "nbformat_minor": 5
}