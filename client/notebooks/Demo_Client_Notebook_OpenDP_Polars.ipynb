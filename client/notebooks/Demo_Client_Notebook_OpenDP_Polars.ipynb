{
 "cells": [
  {
   "cell_type": "markdown",
   "id": "3f18d338",
   "metadata": {},
   "source": [
    "# Secure Data Disclosure: Client side"
   ]
  },
  {
   "cell_type": "markdown",
   "id": "1582a2ae",
   "metadata": {},
   "source": [
    "This notebook showcases how researcher could use the Secure Data Disclosure system. It explains the different functionnalities provided by the `lomas_client` library to interact with the secure server.\n",
    "\n",
    "The secure data are never visible by researchers. They can only access to differentially private responses via queries to the server.\n",
    "\n",
    "Each user has access to one or multiple projects and for each dataset has a limited budget with $\\epsilon$ and $\\delta$ values."
   ]
  },
  {
   "cell_type": "code",
   "execution_count": null,
   "id": "23bb4f13-7800-41b2-b429-68c2d02243d0",
   "metadata": {},
   "outputs": [],
   "source": [
    "from IPython.display import Image\n",
    "Image(filename=\"images/image_demo_client.png\", width=800)"
   ]
  },
  {
   "cell_type": "markdown",
   "id": "5b73135c",
   "metadata": {},
   "source": [
    "We will use the Synthetic Swiss Income Dataset to demonstrate the how to use the library `lomas_client` with polars queries."
   ]
  },
  {
   "cell_type": "markdown",
   "id": "01ae30d2",
   "metadata": {},
   "source": [
    "## Step 1: Install the library\n",
    "\n",
    "It can be installed via the pip command:"
   ]
  },
  {
   "cell_type": "code",
   "execution_count": null,
   "id": "36d508bf-6cc3-4034-8e11-fffe858552f9",
   "metadata": {},
   "outputs": [],
   "source": [
    "import sys\n",
    "import os\n",
    "sys.path.append(os.path.abspath(os.path.join('..')))\n",
    "# !pip install lomas_client"
   ]
  },
  {
   "cell_type": "code",
   "execution_count": null,
   "id": "9535e92e-620e-4df4-92dd-4ea2c653e4ab",
   "metadata": {},
   "outputs": [],
   "source": [
    "from lomas_client import Client\n",
    "import numpy as np\n",
    "import opendp.prelude as dp"
   ]
  },
  {
   "cell_type": "markdown",
   "id": "9c63718b",
   "metadata": {},
   "source": [
    "## Step 2: Initialise the client\n",
    "\n",
    "Once the library is installed, a Client object must be created. It is responsible for sending sending requests to the server and processing responses in the local environment. It enables a seamless interaction with the server. \n",
    "\n",
    "To create the client, we need to give it a few parameters:\n",
    "- a url: the root application endpoint to the remote secure server.\n",
    "- user_name: user name as registered in the database\n",
    "- dataset_name: the name of the dataset that we want to query (FSO_INCOME_SYNTHETIC)"
   ]
  },
  {
   "cell_type": "code",
   "execution_count": null,
   "id": "941991f7",
   "metadata": {},
   "outputs": [],
   "source": [
    "APP_URL = \"http://lomas_server_dev:80\"\n",
    "USER_NAME = \"Dr. FSO\"\n",
    "DATASET_NAME = \"FSO_INCOME_SYNTHETIC\"\n",
    "client = Client(url=APP_URL, user_name = USER_NAME, dataset_name = DATASET_NAME)"
   ]
  },
  {
   "cell_type": "markdown",
   "id": "9b9a5f13",
   "metadata": {},
   "source": [
    "## Step 3: Metadata and dummy dataset"
   ]
  },
  {
   "cell_type": "markdown",
   "id": "c7cb5531",
   "metadata": {},
   "source": [
    "### Getting dataset metadata\n",
    "\n",
    "Dr. FSO has never seen the data and as a first step to understand what is available to her, she would like to check the metadata of the dataset. Therefore, she just needs to call the `get_dataset_metadata()` function of the client. As this is public information, this does not cost any budget.\n",
    "\n",
    "This function returns metadata information in a format based on [SmartnoiseSQL dictionary format](https://docs.smartnoise.org/sql/metadata.html#dictionary-format), where among other, there is information about all the available columns, their type, bound values (see Smartnoise page for more details). Any metadata is required for Smartnoise-SQL is also required here and additional information such that the different categories in a string type column column can be added."
   ]
  },
  {
   "cell_type": "code",
   "execution_count": null,
   "id": "0fdebac9-57fc-4410-878b-5a77425af634",
   "metadata": {},
   "outputs": [],
   "source": [
    "income_metadata = client.get_dataset_metadata()\n",
    "income_metadata"
   ]
  },
  {
   "cell_type": "markdown",
   "id": "5a3c899d",
   "metadata": {},
   "source": [
    "### Get a dummy dataset\n",
    "\n",
    "Now, that she has seen and understood the metadata, she wants to get an even better understanding of the dataset (but is still not able to see it). A solution to have an idea of what the dataset looks like it to create a dummy dataset. \n",
    "\n",
    "Based on the public metadata of the dataset, a random dataframe can be created created. By default, there will be 100 rows and the seed is set to 42 to ensure reproducibility, but these 2 variables can be changed to obtain different dummy datasets.\n",
    "Getting a dummy dataset does not affect the budget as there is no differential privacy here. It is not a synthetic dataset and all that could be learn here is already present in the public metadata (it is created randomly on the fly based on the metadata).\n",
    "\n",
    "Dr. FSO first create a dummy dataset with 200 rows and chooses a seed of 0."
   ]
  },
  {
   "cell_type": "code",
   "execution_count": null,
   "id": "01f4365a",
   "metadata": {},
   "outputs": [],
   "source": [
    "NB_ROWS = 200\n",
    "SEED = 0"
   ]
  },
  {
   "cell_type": "code",
   "execution_count": null,
   "id": "3f553b29",
   "metadata": {},
   "outputs": [],
   "source": [
    "dummy_lf = client.get_dummy_lf(nb_rows=NB_ROWS, seed = SEED)\n",
    "\n",
    "dummy_lf.collect()"
   ]
  },
  {
   "cell_type": "code",
   "execution_count": null,
   "id": "64666bb4-2db9-427d-ac5c-13ec83c92174",
   "metadata": {},
   "outputs": [],
   "source": [
    "test = client.get_dummy_dataset(nb_rows=NB_ROWS, seed = SEED)"
   ]
  },
  {
   "cell_type": "code",
   "execution_count": null,
   "id": "2a8e1633-05c3-486a-aad5-dced8ac4ee41",
   "metadata": {},
   "outputs": [],
   "source": [
    "test.dtypes"
   ]
  },
  {
   "cell_type": "markdown",
   "id": "9e7ca7ae-bf17-40c8-aa75-2d72fcdd3088",
   "metadata": {},
   "source": [
    "## Step 4: Prepare the pipeline"
   ]
  },
  {
   "cell_type": "markdown",
   "id": "2de1389c-53a7-4098-bc3c-397c12a4b869",
   "metadata": {},
   "source": [
    "It is necessary to prepare the pipeline before sending the query to the client."
   ]
  },
  {
   "cell_type": "code",
   "execution_count": null,
   "id": "2864729f-2ce4-4d81-a446-8e3f2c1493b3",
   "metadata": {},
   "outputs": [],
   "source": [
    "import polars as pl"
   ]
  },
  {
   "cell_type": "markdown",
   "id": "f5dcadcc-b5b5-4d1b-8b44-9d1576b4d0ff",
   "metadata": {},
   "source": [
    "### a. mean"
   ]
  },
  {
   "cell_type": "code",
   "execution_count": null,
   "id": "3e03a4c6-33aa-49b1-9b17-0dd84dea750b",
   "metadata": {},
   "outputs": [],
   "source": [
    "# Income bounds\n",
    "income_lower_bound, income_upper_bound = income_metadata[\"columns\"][\"income\"][\"lower\"], income_metadata[\"columns\"][\"income\"][\"upper\"]"
   ]
  },
  {
   "cell_type": "code",
   "execution_count": null,
   "id": "55cbec6c-f178-4c6a-b54f-3cc2f5906c21",
   "metadata": {},
   "outputs": [],
   "source": [
    "plan = dummy_lf.select(\n",
    "    pl.col(\"income\").dp.mean(bounds=(income_lower_bound, income_upper_bound), scale=(100,1)\n",
    "))"
   ]
  },
  {
   "cell_type": "markdown",
   "id": "7e3d840f-1b54-43f2-9369-32a0c726470c",
   "metadata": {},
   "source": [
    "## Step 5: Send the queries"
   ]
  },
  {
   "cell_type": "markdown",
   "id": "4de96a5d-9969-4af2-8c6a-cb5e1835253c",
   "metadata": {},
   "source": [
    "### a. Dummy queries"
   ]
  },
  {
   "cell_type": "code",
   "execution_count": null,
   "id": "457bda9b-477a-433e-b2fd-fa0292d491f1",
   "metadata": {},
   "outputs": [],
   "source": [
    "res = client.opendp.query(plan, dummy = False, nb_rows = NB_ROWS, seed=SEED)\n",
    "\n",
    "print(res.result.value)"
   ]
  },
  {
   "cell_type": "markdown",
   "id": "5cef7045-e969-4ed8-8cfd-7b00af11bfcb",
   "metadata": {},
   "source": [
    "By default, the client will use a laplace mechanism. Note that Dr. FSO can also use a Gaussian mechanism if wanted."
   ]
  },
  {
   "cell_type": "code",
   "execution_count": null,
   "id": "f1e0026d-cc70-4dcc-83cc-1c8f8d7ad4c8",
   "metadata": {},
   "outputs": [],
   "source": [
    "res = client.opendp.query(plan, mechanism = \"gaussian\", fixed_delta = 1.0, dummy = True, nb_rows = NB_ROWS, seed=SEED)\n",
    "\n",
    "print(res.result.value)"
   ]
  },
  {
   "cell_type": "markdown",
   "id": "c74571b5-a35b-44a2-bf01-f95a55ad85fb",
   "metadata": {},
   "source": [
    "### b. budget estimation"
   ]
  },
  {
   "cell_type": "code",
   "execution_count": null,
   "id": "73dcbca0-133e-4d31-93de-4f2a951dc0c2",
   "metadata": {},
   "outputs": [],
   "source": [
    "res = client.opendp.cost(plan, mechanism = \"laplace\")\n",
    "\n",
    "print(res)"
   ]
  },
  {
   "cell_type": "code",
   "execution_count": null,
   "id": "8f0cf643-c55c-4a11-bbeb-d16d3f58095b",
   "metadata": {},
   "outputs": [],
   "source": [
    "res = client.opendp.cost(plan, mechanism = \"gaussian\", fixed_delta = 0.001)\n",
    "\n",
    "print(res)"
   ]
  },
  {
   "cell_type": "markdown",
   "id": "00d5de46-6540-41da-a738-4ab6a8fb3faf",
   "metadata": {},
   "source": [
    "### c. Actual queries"
   ]
  },
  {
   "cell_type": "code",
   "execution_count": null,
   "id": "613630f1-f35c-4fbd-ae4b-43cd9ca3b4aa",
   "metadata": {},
   "outputs": [],
   "source": [
    "res = client.opendp.query(plan, mechanism = \"laplace\")\n",
    "\n",
    "print(res.result.value)"
   ]
  },
  {
   "cell_type": "code",
   "execution_count": null,
   "id": "37d75b0c-8d92-4bbb-a4b2-903e9af0fd5c",
   "metadata": {},
   "outputs": [],
   "source": [
    "res = client.opendp.query(plan, mechanism = \"gaussian\", fixed_delta = 0.001)\n",
    "\n",
    "print(res.result.value)"
   ]
  },
  {
   "cell_type": "markdown",
   "id": "9068bd3f-f474-4df2-aacd-e0562c43e4be",
   "metadata": {},
   "source": [
    "## Group_by examples"
   ]
  },
  {
   "cell_type": "code",
   "execution_count": null,
   "id": "49560ec2-ed3a-4311-89d7-a8ce3753fdf1",
   "metadata": {},
   "outputs": [],
   "source": [
    "# Grouped by \"sex\"\n",
    "plan = dummy_lf.group_by(\"sex\").agg([\n",
    "    pl.col(\"income\").dp.mean(bounds=(income_lower_bound, income_upper_bound), scale=(100.0,1))\n",
    "])"
   ]
  },
  {
   "cell_type": "code",
   "execution_count": null,
   "id": "1197cd26-210d-400e-9b7d-b7b5ee8de0ec",
   "metadata": {},
   "outputs": [],
   "source": [
    "res = client.opendp.query(plan, dummy=True)\n",
    "print(res.result.value)"
   ]
  },
  {
   "cell_type": "code",
   "execution_count": null,
   "id": "8e9adeab-3f59-4a2c-9622-44a71b3777cb",
   "metadata": {},
   "outputs": [],
   "source": [
    "plan = dummy_lf.group_by([\"sex\",\"region\"]).agg([\n",
    "    pl.col(\"income\").dp.mean(bounds=(income_lower_bound, income_upper_bound), scale=(100.0,1))\n",
    "])"
   ]
  },
  {
   "cell_type": "code",
   "execution_count": null,
   "id": "7d676003-71ff-4c92-9d40-11d3ff665294",
   "metadata": {},
   "outputs": [],
   "source": [
    "res = client.opendp.query(plan, dummy=True)\n",
    "\n",
    "print(res.result.value)"
   ]
  },
  {
   "cell_type": "code",
   "execution_count": null,
   "id": "0a998fa3-49df-483c-9a8c-fb7052cf3565",
   "metadata": {},
   "outputs": [],
   "source": [
    "res = client.opendp.cost(plan, mechanism = \"gaussian\", fixed_delta = 0.001)\n",
    "\n",
    "print(res)"
   ]
  },
  {
   "cell_type": "markdown",
   "id": "86040739-c033-4e84-a077-bbe31bcf9234",
   "metadata": {},
   "source": [
    "## Quantile examples"
   ]
  },
  {
   "cell_type": "code",
   "execution_count": null,
   "id": "c60e1264-b84e-434f-b058-5dbb7feb40c4",
   "metadata": {},
   "outputs": [],
   "source": [
    "candidates = list(range(1_000, 100_000, 1000))"
   ]
  },
  {
   "cell_type": "code",
   "execution_count": null,
   "id": "c0ab084e-0623-43f7-8c9c-c37aa2b9bfff",
   "metadata": {},
   "outputs": [],
   "source": [
    "plan = dummy_lf.select(\n",
    "    pl.col(\"income\").dp.quantile(alpha=.75, candidates=candidates, scale=1.)\n",
    ")"
   ]
  },
  {
   "cell_type": "code",
   "execution_count": null,
   "id": "88e343e9-a41d-4766-a15e-e933efa2e98e",
   "metadata": {},
   "outputs": [],
   "source": [
    "res = client.opendp.query(plan)\n",
    "\n",
    "print(res.result.value)"
   ]
  },
  {
   "cell_type": "markdown",
   "id": "e5b01179-5ff2-48be-9369-a7c581da60b9",
   "metadata": {},
   "source": [
    "### Quantile with group_by"
   ]
  },
  {
   "cell_type": "code",
   "execution_count": null,
   "id": "b2416148-10db-4125-af0b-a0b8cd718025",
   "metadata": {},
   "outputs": [],
   "source": [
    "plan = dummy_lf.group_by(\"sex\").agg([\n",
    "    pl.col(\"income\").dp.quantile(alpha=.25, candidates=candidates, scale=(1.)),\n",
    "])"
   ]
  },
  {
   "cell_type": "code",
   "execution_count": null,
   "id": "1ac9e88e-4984-4cd5-9968-a7a2d8d0de5f",
   "metadata": {},
   "outputs": [],
   "source": [
    "res = client.opendp.query(plan)\n",
    "\n",
    "print(res.result.value)"
   ]
  },
  {
   "cell_type": "markdown",
   "id": "efe41f03-7f56-4fed-822a-9e135bfc0ddb",
   "metadata": {},
   "source": [
    "### Quantile with group_by on mulitple columns"
   ]
  },
  {
   "cell_type": "code",
   "execution_count": null,
   "id": "f8ac3c53-88e7-4235-8370-abb71a18c74d",
   "metadata": {},
   "outputs": [],
   "source": [
    "plan = dummy_lf.group_by([\"sex\", \"region\"]).agg([\n",
    "    pl.col(\"income\").dp.quantile(alpha=.75, candidates=candidates, scale=(1.)),\n",
    "])"
   ]
  },
  {
   "cell_type": "code",
   "execution_count": null,
   "id": "fe22cd4c-2321-4779-8d6d-e5f4a6337929",
   "metadata": {},
   "outputs": [],
   "source": [
    "res = client.opendp.query(plan)\n",
    "\n",
    "print(res.result.value)"
   ]
  },
  {
   "cell_type": "markdown",
   "id": "06c4566a",
   "metadata": {},
   "source": [
    "### Income distribution for partitions of the population:\n",
    "#### Prepare the pipeline"
   ]
  },
  {
   "cell_type": "code",
   "execution_count": null,
   "id": "8bbc7518",
   "metadata": {},
   "outputs": [],
   "source": [
    "import seaborn as sns\n",
    "import matplotlib.pyplot as plt\n",
    "import pandas as pd"
   ]
  },
  {
   "cell_type": "code",
   "execution_count": null,
   "id": "d6034868",
   "metadata": {},
   "outputs": [],
   "source": [
    "# Partitions\n",
    "PARTITIONS = ['sex', 'region']\n",
    "# Prepare a list of candidates\n",
    "candidates = [x * 250.0 for x in range(8, 52)]"
   ]
  },
  {
   "cell_type": "code",
   "execution_count": null,
   "id": "679db7b1",
   "metadata": {},
   "outputs": [],
   "source": [
    "def make_quantile_pipeline(quantile):\n",
    "    # Create expression\n",
    "    return dummy_lf.group_by([\"sex\", \"region\"]).agg([\n",
    "        pl.col(\"income\").dp.quantile(alpha=quantile, candidates=candidates, scale=1.),\n",
    "    ])"
   ]
  },
  {
   "cell_type": "code",
   "execution_count": null,
   "id": "66d75ad7-9c4a-46f7-9db7-52d43f084267",
   "metadata": {},
   "outputs": [],
   "source": [
    "q25 = make_quantile_pipeline(0.25)\n",
    "q50 = make_quantile_pipeline(0.5)\n",
    "q75 = make_quantile_pipeline(0.75)"
   ]
  },
  {
   "cell_type": "code",
   "execution_count": null,
   "id": "79d8ea66-0f57-4b29-be1a-e1b161f522ee",
   "metadata": {},
   "outputs": [],
   "source": [
    "r25 = client.opendp.query(q25)\n",
    "r50 = client.opendp.query(q50)\n",
    "r75 = client.opendp.query(q75)"
   ]
  },
  {
   "cell_type": "markdown",
   "id": "f2efcbed-b33b-42c3-b1f0-60e50169edfd",
   "metadata": {},
   "source": [
    "Let us put together the results and show them in a table. Notice that the output is a polars dataframe, we thus need to transform it to a pandas DataFrame if we want to work with pandas."
   ]
  },
  {
   "cell_type": "code",
   "execution_count": null,
   "id": "28c61734",
   "metadata": {},
   "outputs": [],
   "source": [
    "r25 = r25.result.value.to_pandas()\n",
    "r50 = r50.result.value.to_pandas()\n",
    "r75 = r75.result.value.to_pandas()"
   ]
  },
  {
   "cell_type": "code",
   "execution_count": null,
   "id": "59b7b54d-e5d2-4c07-91ab-f2c08d607035",
   "metadata": {},
   "outputs": [],
   "source": [
    "results = pd.merge(r25, r50, on=PARTITIONS, suffixes=('_25', '_50'))\n",
    "results = pd.merge(results, r75, on=PARTITIONS)\n",
    "results.sort_values(by = ['region', 'sex']).head()"
   ]
  },
  {
   "cell_type": "markdown",
   "id": "b4658185-caa1-4261-afa7-963095d99320",
   "metadata": {},
   "source": [
    "#### Visualise results"
   ]
  },
  {
   "cell_type": "code",
   "execution_count": null,
   "id": "2e0f3a59",
   "metadata": {},
   "outputs": [],
   "source": [
    "def quantile_data(q1, q2, q3):\n",
    "    return np.concatenate((np.random.uniform(q1, q2, size=50), np.random.uniform(q2, q3, size=50)))\n",
    "\n",
    "results['data'] = results.apply(\n",
    "    lambda row: quantile_data(row[\"income_25\"], row[\"income_50\"], row[\"income\"]),\n",
    "    axis=1,\n",
    ")\n",
    "results['sex'] = results['sex'].replace({0: 'woman', 1: 'man'})\n",
    "results['region'] = results['region'].replace({1: 'Lemanique', 2: 'Mittleland', 3: 'North-West', 4: 'Zürich', 5: 'Oriental', 6: 'Central', 7: 'Ticino'})\n",
    "results = results.explode('data', ignore_index=True)"
   ]
  },
  {
   "cell_type": "code",
   "execution_count": null,
   "id": "759ff292-3b29-4644-8b36-5f94af2a16c6",
   "metadata": {},
   "outputs": [],
   "source": [
    "plt.figure(figsize=(10, 6))\n",
    "sns.boxplot(x=\"region\", y=\"data\", hue=\"sex\", data=results, palette=\"Set1\", width=0.5);\n",
    "plt.xticks(fontsize=12)\n",
    "plt.yticks(fontsize=12)\n",
    "plt.xlabel('Regions', fontsize=15)\n",
    "plt.ylabel('Income per month (in CHF)', fontsize=15)\n",
    "plt.title('Income per partition of the population', fontsize=16)\n",
    "plt.show()"
   ]
  }
 ],
 "metadata": {
  "kernelspec": {
   "display_name": "Python 3 (ipykernel)",
   "language": "python",
   "name": "python3"
  },
  "language_info": {
   "codemirror_mode": {
    "name": "ipython",
    "version": 3
   },
   "file_extension": ".py",
   "mimetype": "text/x-python",
   "name": "python",
   "nbconvert_exporter": "python",
   "pygments_lexer": "ipython3",
   "version": "3.12.9"
  }
 },
 "nbformat": 4,
 "nbformat_minor": 5
}
