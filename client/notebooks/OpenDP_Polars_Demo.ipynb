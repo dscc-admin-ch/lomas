{
 "cells": [
  {
   "cell_type": "markdown",
   "metadata": {},
   "source": [
    "# Differential Privacy on Income Data\n",
    "\n",
    "We will use the Synthetic Swiss Income Dataset to demonstrate the how to release differentially private information on tabular data with OpenDP.\n",
    "The main library used in the background is `Polars`."
   ]
  },
  {
   "cell_type": "code",
   "execution_count": 21,
   "metadata": {},
   "outputs": [
    {
     "name": "stdout",
     "output_type": "stream",
     "text": [
      "Collecting polars==0.20.16\n",
      "  Downloading polars-0.20.16-cp38-abi3-manylinux_2_17_x86_64.manylinux2014_x86_64.whl.metadata (15 kB)\n",
      "Downloading polars-0.20.16-cp38-abi3-manylinux_2_17_x86_64.manylinux2014_x86_64.whl (26.3 MB)\n",
      "\u001b[2K   \u001b[90m━━━━━━━━━━━━━━━━━━━━━━━━━━━━━━━━━━━━━━━━\u001b[0m \u001b[32m26.3/26.3 MB\u001b[0m \u001b[31m2.3 MB/s\u001b[0m eta \u001b[36m0:00:00\u001b[0m00:01\u001b[0m00:01\u001b[0m0m\n",
      "\u001b[?25hInstalling collected packages: polars\n",
      "  Attempting uninstall: polars\n",
      "    Found existing installation: polars 0.20.31\n",
      "    Uninstalling polars-0.20.31:\n",
      "      Successfully uninstalled polars-0.20.31\n",
      "Successfully installed polars-0.20.16\n",
      "\u001b[33mWARNING: Running pip as the 'root' user can result in broken permissions and conflicting behaviour with the system package manager. It is recommended to use a virtual environment instead: https://pip.pypa.io/warnings/venv\u001b[0m\u001b[33m\n",
      "\u001b[0m\n",
      "\u001b[1m[\u001b[0m\u001b[34;49mnotice\u001b[0m\u001b[1;39;49m]\u001b[0m\u001b[39;49m A new release of pip is available: \u001b[0m\u001b[31;49m24.0\u001b[0m\u001b[39;49m -> \u001b[0m\u001b[32;49m24.1\u001b[0m\n",
      "\u001b[1m[\u001b[0m\u001b[34;49mnotice\u001b[0m\u001b[1;39;49m]\u001b[0m\u001b[39;49m To update, run: \u001b[0m\u001b[32;49mpip install --upgrade pip\u001b[0m\n"
     ]
    }
   ],
   "source": [
    "!pip install polars==0.20.16"
   ]
  },
  {
   "cell_type": "code",
   "execution_count": null,
   "metadata": {},
   "outputs": [],
   "source": [
    "from opendp.mod import _EXPECTED_POLARS_VERSION\n"
   ]
  },
  {
   "cell_type": "code",
   "execution_count": 22,
   "metadata": {},
   "outputs": [],
   "source": [
    "import polars as pl\n",
    "import opendp.prelude as dp\n",
    "\n",
    "dp.enable_features(\"contrib\")"
   ]
  },
  {
   "cell_type": "markdown",
   "metadata": {},
   "source": [
    "## 1. Data Domain Preparation\n",
    "We first need to declare the metadata of the input domain of the Lazyframe."
   ]
  },
  {
   "cell_type": "code",
   "execution_count": 23,
   "metadata": {},
   "outputs": [],
   "source": [
    "def seed(schema):\n",
    "    return pl.DataFrame(None, schema, orient=\"row\").lazy()  # type: ignore[attr-defined]"
   ]
  },
  {
   "cell_type": "markdown",
   "metadata": {},
   "source": [
    "### Define domain with bounds"
   ]
  },
  {
   "cell_type": "code",
   "execution_count": 24,
   "metadata": {},
   "outputs": [],
   "source": [
    "# Income bounds\n",
    "income_lower_bound, income_upper_bound = 1_000.0, 60_000.0"
   ]
  },
  {
   "cell_type": "code",
   "execution_count": 25,
   "metadata": {},
   "outputs": [],
   "source": [
    "lf_domain = dp.lazyframe_domain([\n",
    "    dp.series_domain(\"region\", dp.atom_domain(T=dp.i32)),\n",
    "    dp.series_domain(\"eco_branch\", dp.atom_domain(T=dp.i32)),\n",
    "    dp.series_domain(\"profession\", dp.option_domain(dp.atom_domain(T=dp.i32))),\n",
    "    dp.series_domain(\"education\", dp.atom_domain(T=dp.i32)),\n",
    "    dp.series_domain(\"age\", dp.atom_domain(T=dp.i32)),\n",
    "    dp.series_domain(\"sex\", dp.atom_domain(T=dp.i32)),\n",
    "    dp.series_domain(\"income\", dp.atom_domain(bounds=(income_lower_bound, income_upper_bound), T=dp.f64))\n",
    "])"
   ]
  },
  {
   "cell_type": "code",
   "execution_count": 26,
   "metadata": {},
   "outputs": [],
   "source": [
    "lf_domain = dp.with_margin(lf_domain, by=[\"sex\"], public_info=\"keys\", max_partition_length=50)\n",
    "lf_domain = dp.with_margin(lf_domain, by=[\"region\"], public_info=\"keys\", max_partition_length=50)\n",
    "lf_domain = dp.with_margin(lf_domain, by=[\"sex\", \"region\"], public_info=\"keys\", max_partition_length=50)"
   ]
  },
  {
   "cell_type": "code",
   "execution_count": 27,
   "metadata": {},
   "outputs": [
    {
     "data": {
      "text/plain": [
       "ExprDomain { lazy_frame_domain: FrameDomain(region: i32, eco_branch: i32, profession: i32, education: i32, age: i32, sex: i32, income: f64; margins=[{\"sex\"}, {\"region\", \"sex\"}, {\"region\"}]) }"
      ]
     },
     "execution_count": 27,
     "metadata": {},
     "output_type": "execute_result"
    }
   ],
   "source": [
    "dp.expr_domain(lf_domain)"
   ]
  },
  {
   "cell_type": "markdown",
   "metadata": {},
   "source": [
    "## 2. Get income df in polars lazyframe format"
   ]
  },
  {
   "cell_type": "code",
   "execution_count": 28,
   "metadata": {},
   "outputs": [],
   "source": [
    "path = \"income_synthetic.csv\""
   ]
  },
  {
   "cell_type": "code",
   "execution_count": 29,
   "metadata": {},
   "outputs": [
    {
     "data": {
      "text/html": [
       "<i>naive plan: (run <b>LazyFrame.explain(optimized=True)</b> to see the optimized plan)</i>\n",
       "    <p></p>\n",
       "    <div>SLICE[offset: 0, len: 5]<p></p><p></p>    Csv SCAN income_synthetic.csv<p></p>    PROJECT */7 COLUMNS</div>"
      ],
      "text/plain": [
       "<LazyFrame at 0x7F39C5C31890>"
      ]
     },
     "execution_count": 29,
     "metadata": {},
     "output_type": "execute_result"
    }
   ],
   "source": [
    "lf = pl.scan_csv(path)\n",
    "lf.head()"
   ]
  },
  {
   "cell_type": "code",
   "execution_count": 30,
   "metadata": {},
   "outputs": [],
   "source": [
    "#lf.collect()"
   ]
  },
  {
   "cell_type": "markdown",
   "metadata": {},
   "source": [
    "## 3. Private Data Analysis\n",
    "We will analyse the income column: compute the private mean and quantiles."
   ]
  },
  {
   "cell_type": "markdown",
   "metadata": {},
   "source": [
    "### a. Mean income"
   ]
  },
  {
   "cell_type": "code",
   "execution_count": 31,
   "metadata": {},
   "outputs": [
    {
     "ename": "OpenDPException",
     "evalue": "\n  FFI(\"Error when deserializing LazyFrame. This may be due to mismatched polars versions. Semantic(None, \"unknown variant `Select`, expected one of `Selection`, `Cache`, `Scan`, `DataFrameScan`, `Projection`, `Aggregate`, `Join`, `HStack`, `Distinct`, `Sort`, `Slice`, `MapFunction`, `Union`, `HConcat`, `ExtContext`, `Sink`\")\")",
     "output_type": "error",
     "traceback": [
      "\u001b[0;31m---------------------------------------------------------------------------\u001b[0m",
      "\u001b[0;31mOpenDPException\u001b[0m                           Traceback (most recent call last)",
      "Cell \u001b[0;32mIn[31], line 3\u001b[0m\n\u001b[1;32m      1\u001b[0m \u001b[38;5;66;03m# Overall\u001b[39;00m\n\u001b[1;32m      2\u001b[0m plan \u001b[38;5;241m=\u001b[39m seed(lf\u001b[38;5;241m.\u001b[39mschema)\u001b[38;5;241m.\u001b[39mselect(pl\u001b[38;5;241m.\u001b[39mmean(\u001b[38;5;124m\"\u001b[39m\u001b[38;5;124mincome\u001b[39m\u001b[38;5;124m\"\u001b[39m)\u001b[38;5;241m.\u001b[39mdp\u001b[38;5;241m.\u001b[39mnoise(\u001b[38;5;241m0.0\u001b[39m))\n\u001b[0;32m----> 3\u001b[0m m_lf \u001b[38;5;241m=\u001b[39m \u001b[43mdp\u001b[49m\u001b[38;5;241;43m.\u001b[39;49m\u001b[43mm\u001b[49m\u001b[38;5;241;43m.\u001b[39;49m\u001b[43mmake_private_lazyframe\u001b[49m\u001b[43m(\u001b[49m\n\u001b[1;32m      4\u001b[0m \u001b[43m    \u001b[49m\u001b[43mlf_domain\u001b[49m\u001b[43m,\u001b[49m\u001b[43m \u001b[49m\u001b[43mdp\u001b[49m\u001b[38;5;241;43m.\u001b[39;49m\u001b[43msymmetric_distance\u001b[49m\u001b[43m(\u001b[49m\u001b[43m)\u001b[49m\u001b[43m,\u001b[49m\u001b[43m \u001b[49m\u001b[43mdp\u001b[49m\u001b[38;5;241;43m.\u001b[39;49m\u001b[43mmax_divergence\u001b[49m\u001b[43m(\u001b[49m\u001b[43mT\u001b[49m\u001b[38;5;241;43m=\u001b[39;49m\u001b[38;5;28;43mfloat\u001b[39;49m\u001b[43m)\u001b[49m\u001b[43m,\u001b[49m\u001b[43m \u001b[49m\u001b[43mplan\u001b[49m\n\u001b[1;32m      5\u001b[0m \u001b[43m)\u001b[49m\n\u001b[1;32m      6\u001b[0m mean_income \u001b[38;5;241m=\u001b[39m m_lf(lf)\u001b[38;5;241m.\u001b[39mcollect()\n\u001b[1;32m      7\u001b[0m mean_income\n",
      "File \u001b[0;32m/usr/local/lib/python3.11/site-packages/opendp/measurements.py:769\u001b[0m, in \u001b[0;36mmake_private_lazyframe\u001b[0;34m(input_domain, input_metric, output_measure, lazyframe, global_scale)\u001b[0m\n\u001b[1;32m    767\u001b[0m c_input_metric \u001b[38;5;241m=\u001b[39m py_to_c(input_metric, c_type\u001b[38;5;241m=\u001b[39mMetric, type_name\u001b[38;5;241m=\u001b[39m\u001b[38;5;28;01mNone\u001b[39;00m)\n\u001b[1;32m    768\u001b[0m c_output_measure \u001b[38;5;241m=\u001b[39m py_to_c(output_measure, c_type\u001b[38;5;241m=\u001b[39mMeasure, type_name\u001b[38;5;241m=\u001b[39m\u001b[38;5;28;01mNone\u001b[39;00m)\n\u001b[0;32m--> 769\u001b[0m c_lazyframe \u001b[38;5;241m=\u001b[39m \u001b[43mpy_to_c\u001b[49m\u001b[43m(\u001b[49m\u001b[43mlazyframe\u001b[49m\u001b[43m,\u001b[49m\u001b[43m \u001b[49m\u001b[43mc_type\u001b[49m\u001b[38;5;241;43m=\u001b[39;49m\u001b[43mAnyObjectPtr\u001b[49m\u001b[43m,\u001b[49m\u001b[43m \u001b[49m\u001b[43mtype_name\u001b[49m\u001b[38;5;241;43m=\u001b[39;49m\u001b[43mLazyFrame\u001b[49m\u001b[43m)\u001b[49m\n\u001b[1;32m    770\u001b[0m c_global_scale \u001b[38;5;241m=\u001b[39m py_to_c(global_scale, c_type\u001b[38;5;241m=\u001b[39mAnyObjectPtr, type_name\u001b[38;5;241m=\u001b[39mRuntimeType(origin\u001b[38;5;241m=\u001b[39m\u001b[38;5;124m'\u001b[39m\u001b[38;5;124mOption\u001b[39m\u001b[38;5;124m'\u001b[39m, args\u001b[38;5;241m=\u001b[39m[f64]))\n\u001b[1;32m    772\u001b[0m \u001b[38;5;66;03m# Call library function.\u001b[39;00m\n",
      "File \u001b[0;32m/usr/local/lib/python3.11/site-packages/opendp/_convert.py:111\u001b[0m, in \u001b[0;36mpy_to_c\u001b[0;34m(value, c_type, type_name)\u001b[0m\n\u001b[1;32m    109\u001b[0m \u001b[38;5;28;01mif\u001b[39;00m c_type \u001b[38;5;241m==\u001b[39m AnyObjectPtr:\n\u001b[1;32m    110\u001b[0m     \u001b[38;5;28;01mfrom\u001b[39;00m \u001b[38;5;21;01mopendp\u001b[39;00m\u001b[38;5;21;01m.\u001b[39;00m\u001b[38;5;21;01m_data\u001b[39;00m \u001b[38;5;28;01mimport\u001b[39;00m slice_as_object\n\u001b[0;32m--> 111\u001b[0m     \u001b[38;5;28;01mreturn\u001b[39;00m \u001b[43mslice_as_object\u001b[49m\u001b[43m(\u001b[49m\u001b[43mvalue\u001b[49m\u001b[43m,\u001b[49m\u001b[43m \u001b[49m\u001b[43mtype_name\u001b[49m\u001b[43m)\u001b[49m \u001b[38;5;66;03m# type: ignore[arg-type]\u001b[39;00m\n\u001b[1;32m    113\u001b[0m \u001b[38;5;28;01mif\u001b[39;00m c_type \u001b[38;5;241m==\u001b[39m FfiSlicePtr:\n\u001b[1;32m    114\u001b[0m     \u001b[38;5;28;01mif\u001b[39;00m type_name \u001b[38;5;129;01mis\u001b[39;00m \u001b[38;5;28;01mNone\u001b[39;00m:\n",
      "File \u001b[0;32m/usr/local/lib/python3.11/site-packages/opendp/_data.py:343\u001b[0m, in \u001b[0;36mslice_as_object\u001b[0;34m(raw, T)\u001b[0m\n\u001b[1;32m    340\u001b[0m lib_function\u001b[38;5;241m.\u001b[39margtypes \u001b[38;5;241m=\u001b[39m [FfiSlicePtr, ctypes\u001b[38;5;241m.\u001b[39mc_char_p]\n\u001b[1;32m    341\u001b[0m lib_function\u001b[38;5;241m.\u001b[39mrestype \u001b[38;5;241m=\u001b[39m FfiResult\n\u001b[0;32m--> 343\u001b[0m output \u001b[38;5;241m=\u001b[39m \u001b[43munwrap\u001b[49m\u001b[43m(\u001b[49m\u001b[43mlib_function\u001b[49m\u001b[43m(\u001b[49m\u001b[43mc_raw\u001b[49m\u001b[43m,\u001b[49m\u001b[43m \u001b[49m\u001b[43mc_T\u001b[49m\u001b[43m)\u001b[49m\u001b[43m,\u001b[49m\u001b[43m \u001b[49m\u001b[43mAnyObjectPtr\u001b[49m\u001b[43m)\u001b[49m\n\u001b[1;32m    345\u001b[0m \u001b[38;5;28;01mreturn\u001b[39;00m output\n",
      "File \u001b[0;32m/usr/local/lib/python3.11/site-packages/opendp/_lib.py:249\u001b[0m, in \u001b[0;36munwrap\u001b[0;34m(result, type_)\u001b[0m\n\u001b[1;32m    246\u001b[0m     \u001b[38;5;28;01mraise\u001b[39;00m OpenDPException(\u001b[38;5;124m\"\u001b[39m\u001b[38;5;124mFailed to free error.\u001b[39m\u001b[38;5;124m\"\u001b[39m)\n\u001b[1;32m    248\u001b[0m \u001b[38;5;66;03m# Rust stack traces follow from here:\u001b[39;00m\n\u001b[0;32m--> 249\u001b[0m \u001b[38;5;28;01mraise\u001b[39;00m OpenDPException(variant, message, backtrace)\n",
      "\u001b[0;31mOpenDPException\u001b[0m: \n  FFI(\"Error when deserializing LazyFrame. This may be due to mismatched polars versions. Semantic(None, \"unknown variant `Select`, expected one of `Selection`, `Cache`, `Scan`, `DataFrameScan`, `Projection`, `Aggregate`, `Join`, `HStack`, `Distinct`, `Sort`, `Slice`, `MapFunction`, `Union`, `HConcat`, `ExtContext`, `Sink`\")\")"
     ]
    }
   ],
   "source": [
    "# Overall\n",
    "plan = seed(lf.schema).select(pl.mean(\"income\").dp.noise(0.0))\n",
    "m_lf = dp.m.make_private_lazyframe(\n",
    "    lf_domain, dp.symmetric_distance(), dp.max_divergence(T=float), plan\n",
    ")\n",
    "mean_income = m_lf(lf).collect()\n",
    "mean_income"
   ]
  },
  {
   "cell_type": "code",
   "execution_count": 17,
   "metadata": {},
   "outputs": [],
   "source": [
    "# Grouped by \"sex\"\n",
    "expr = pl.col(\"Income\").fill_null(0.0).dp.mean((1_000.0, 60_000.0), scale=0.0)\n",
    "plan = seed(lf.schema).group_by(\"sex\").agg(expr).sort(\"sex\")"
   ]
  },
  {
   "cell_type": "code",
   "execution_count": 18,
   "metadata": {},
   "outputs": [
    {
     "ename": "OpenDPException",
     "evalue": "\n  FFI(\"Error when deserializing LazyFrame. This may be due to mismatched polars versions. Semantic(None, \"unknown variant `GroupBy`, expected one of `Selection`, `Cache`, `Scan`, `DataFrameScan`, `Projection`, `Aggregate`, `Join`, `HStack`, `Distinct`, `Sort`, `Slice`, `MapFunction`, `Union`, `HConcat`, `ExtContext`, `Sink`\")\")",
     "output_type": "error",
     "traceback": [
      "\u001b[0;31m---------------------------------------------------------------------------\u001b[0m",
      "\u001b[0;31mOpenDPException\u001b[0m                           Traceback (most recent call last)",
      "Cell \u001b[0;32mIn[18], line 1\u001b[0m\n\u001b[0;32m----> 1\u001b[0m m_lf \u001b[38;5;241m=\u001b[39m \u001b[43mdp\u001b[49m\u001b[38;5;241;43m.\u001b[39;49m\u001b[43mm\u001b[49m\u001b[38;5;241;43m.\u001b[39;49m\u001b[43mmake_private_lazyframe\u001b[49m\u001b[43m(\u001b[49m\n\u001b[1;32m      2\u001b[0m \u001b[43m    \u001b[49m\u001b[43minput_domain\u001b[49m\u001b[38;5;241;43m=\u001b[39;49m\u001b[43mlf_domain\u001b[49m\u001b[43m,\u001b[49m\u001b[43m \u001b[49m\n\u001b[1;32m      3\u001b[0m \u001b[43m    \u001b[49m\u001b[43minput_metric\u001b[49m\u001b[38;5;241;43m=\u001b[39;49m\u001b[43mdp\u001b[49m\u001b[38;5;241;43m.\u001b[39;49m\u001b[43msymmetric_distance\u001b[49m\u001b[43m(\u001b[49m\u001b[43m)\u001b[49m\u001b[43m,\u001b[49m\u001b[43m \u001b[49m\n\u001b[1;32m      4\u001b[0m \u001b[43m    \u001b[49m\u001b[43moutput_measure\u001b[49m\u001b[38;5;241;43m=\u001b[39;49m\u001b[43mdp\u001b[49m\u001b[38;5;241;43m.\u001b[39;49m\u001b[43mmax_divergence\u001b[49m\u001b[43m(\u001b[49m\u001b[43mT\u001b[49m\u001b[38;5;241;43m=\u001b[39;49m\u001b[38;5;28;43mfloat\u001b[39;49m\u001b[43m)\u001b[49m\u001b[43m,\u001b[49m\u001b[43m \u001b[49m\n\u001b[1;32m      5\u001b[0m \u001b[43m    \u001b[49m\u001b[43mlazyframe\u001b[49m\u001b[38;5;241;43m=\u001b[39;49m\u001b[43mplan\u001b[49m\n\u001b[1;32m      6\u001b[0m \u001b[43m)\u001b[49m\n\u001b[1;32m      8\u001b[0m df_release \u001b[38;5;241m=\u001b[39m m_lf(lf)\u001b[38;5;241m.\u001b[39mcollect()\n\u001b[1;32m      9\u001b[0m df_release\n",
      "File \u001b[0;32m/usr/local/lib/python3.11/site-packages/opendp/measurements.py:769\u001b[0m, in \u001b[0;36mmake_private_lazyframe\u001b[0;34m(input_domain, input_metric, output_measure, lazyframe, global_scale)\u001b[0m\n\u001b[1;32m    767\u001b[0m c_input_metric \u001b[38;5;241m=\u001b[39m py_to_c(input_metric, c_type\u001b[38;5;241m=\u001b[39mMetric, type_name\u001b[38;5;241m=\u001b[39m\u001b[38;5;28;01mNone\u001b[39;00m)\n\u001b[1;32m    768\u001b[0m c_output_measure \u001b[38;5;241m=\u001b[39m py_to_c(output_measure, c_type\u001b[38;5;241m=\u001b[39mMeasure, type_name\u001b[38;5;241m=\u001b[39m\u001b[38;5;28;01mNone\u001b[39;00m)\n\u001b[0;32m--> 769\u001b[0m c_lazyframe \u001b[38;5;241m=\u001b[39m \u001b[43mpy_to_c\u001b[49m\u001b[43m(\u001b[49m\u001b[43mlazyframe\u001b[49m\u001b[43m,\u001b[49m\u001b[43m \u001b[49m\u001b[43mc_type\u001b[49m\u001b[38;5;241;43m=\u001b[39;49m\u001b[43mAnyObjectPtr\u001b[49m\u001b[43m,\u001b[49m\u001b[43m \u001b[49m\u001b[43mtype_name\u001b[49m\u001b[38;5;241;43m=\u001b[39;49m\u001b[43mLazyFrame\u001b[49m\u001b[43m)\u001b[49m\n\u001b[1;32m    770\u001b[0m c_global_scale \u001b[38;5;241m=\u001b[39m py_to_c(global_scale, c_type\u001b[38;5;241m=\u001b[39mAnyObjectPtr, type_name\u001b[38;5;241m=\u001b[39mRuntimeType(origin\u001b[38;5;241m=\u001b[39m\u001b[38;5;124m'\u001b[39m\u001b[38;5;124mOption\u001b[39m\u001b[38;5;124m'\u001b[39m, args\u001b[38;5;241m=\u001b[39m[f64]))\n\u001b[1;32m    772\u001b[0m \u001b[38;5;66;03m# Call library function.\u001b[39;00m\n",
      "File \u001b[0;32m/usr/local/lib/python3.11/site-packages/opendp/_convert.py:111\u001b[0m, in \u001b[0;36mpy_to_c\u001b[0;34m(value, c_type, type_name)\u001b[0m\n\u001b[1;32m    109\u001b[0m \u001b[38;5;28;01mif\u001b[39;00m c_type \u001b[38;5;241m==\u001b[39m AnyObjectPtr:\n\u001b[1;32m    110\u001b[0m     \u001b[38;5;28;01mfrom\u001b[39;00m \u001b[38;5;21;01mopendp\u001b[39;00m\u001b[38;5;21;01m.\u001b[39;00m\u001b[38;5;21;01m_data\u001b[39;00m \u001b[38;5;28;01mimport\u001b[39;00m slice_as_object\n\u001b[0;32m--> 111\u001b[0m     \u001b[38;5;28;01mreturn\u001b[39;00m \u001b[43mslice_as_object\u001b[49m\u001b[43m(\u001b[49m\u001b[43mvalue\u001b[49m\u001b[43m,\u001b[49m\u001b[43m \u001b[49m\u001b[43mtype_name\u001b[49m\u001b[43m)\u001b[49m \u001b[38;5;66;03m# type: ignore[arg-type]\u001b[39;00m\n\u001b[1;32m    113\u001b[0m \u001b[38;5;28;01mif\u001b[39;00m c_type \u001b[38;5;241m==\u001b[39m FfiSlicePtr:\n\u001b[1;32m    114\u001b[0m     \u001b[38;5;28;01mif\u001b[39;00m type_name \u001b[38;5;129;01mis\u001b[39;00m \u001b[38;5;28;01mNone\u001b[39;00m:\n",
      "File \u001b[0;32m/usr/local/lib/python3.11/site-packages/opendp/_data.py:343\u001b[0m, in \u001b[0;36mslice_as_object\u001b[0;34m(raw, T)\u001b[0m\n\u001b[1;32m    340\u001b[0m lib_function\u001b[38;5;241m.\u001b[39margtypes \u001b[38;5;241m=\u001b[39m [FfiSlicePtr, ctypes\u001b[38;5;241m.\u001b[39mc_char_p]\n\u001b[1;32m    341\u001b[0m lib_function\u001b[38;5;241m.\u001b[39mrestype \u001b[38;5;241m=\u001b[39m FfiResult\n\u001b[0;32m--> 343\u001b[0m output \u001b[38;5;241m=\u001b[39m \u001b[43munwrap\u001b[49m\u001b[43m(\u001b[49m\u001b[43mlib_function\u001b[49m\u001b[43m(\u001b[49m\u001b[43mc_raw\u001b[49m\u001b[43m,\u001b[49m\u001b[43m \u001b[49m\u001b[43mc_T\u001b[49m\u001b[43m)\u001b[49m\u001b[43m,\u001b[49m\u001b[43m \u001b[49m\u001b[43mAnyObjectPtr\u001b[49m\u001b[43m)\u001b[49m\n\u001b[1;32m    345\u001b[0m \u001b[38;5;28;01mreturn\u001b[39;00m output\n",
      "File \u001b[0;32m/usr/local/lib/python3.11/site-packages/opendp/_lib.py:249\u001b[0m, in \u001b[0;36munwrap\u001b[0;34m(result, type_)\u001b[0m\n\u001b[1;32m    246\u001b[0m     \u001b[38;5;28;01mraise\u001b[39;00m OpenDPException(\u001b[38;5;124m\"\u001b[39m\u001b[38;5;124mFailed to free error.\u001b[39m\u001b[38;5;124m\"\u001b[39m)\n\u001b[1;32m    248\u001b[0m \u001b[38;5;66;03m# Rust stack traces follow from here:\u001b[39;00m\n\u001b[0;32m--> 249\u001b[0m \u001b[38;5;28;01mraise\u001b[39;00m OpenDPException(variant, message, backtrace)\n",
      "\u001b[0;31mOpenDPException\u001b[0m: \n  FFI(\"Error when deserializing LazyFrame. This may be due to mismatched polars versions. Semantic(None, \"unknown variant `GroupBy`, expected one of `Selection`, `Cache`, `Scan`, `DataFrameScan`, `Projection`, `Aggregate`, `Join`, `HStack`, `Distinct`, `Sort`, `Slice`, `MapFunction`, `Union`, `HConcat`, `ExtContext`, `Sink`\")\")"
     ]
    }
   ],
   "source": [
    "m_lf = dp.m.make_private_lazyframe(\n",
    "    input_domain=lf_domain, \n",
    "    input_metric=dp.symmetric_distance(), \n",
    "    output_measure=dp.max_divergence(T=float), \n",
    "    lazyframe=plan\n",
    ")\n",
    "\n",
    "df_release = m_lf(lf).collect()\n",
    "df_release"
   ]
  },
  {
   "cell_type": "markdown",
   "metadata": {},
   "source": [
    "### b. Quantile income"
   ]
  },
  {
   "cell_type": "code",
   "execution_count": null,
   "metadata": {},
   "outputs": [],
   "source": []
  },
  {
   "cell_type": "code",
   "execution_count": null,
   "metadata": {},
   "outputs": [],
   "source": []
  },
  {
   "cell_type": "code",
   "execution_count": null,
   "metadata": {},
   "outputs": [],
   "source": []
  }
 ],
 "metadata": {
  "kernelspec": {
   "display_name": "Python 3 (ipykernel)",
   "language": "python",
   "name": "python3"
  },
  "language_info": {
   "codemirror_mode": {
    "name": "ipython",
    "version": 3
   },
   "file_extension": ".py",
   "mimetype": "text/x-python",
   "name": "python",
   "nbconvert_exporter": "python",
   "pygments_lexer": "ipython3",
   "version": "3.11.9"
  }
 },
 "nbformat": 4,
 "nbformat_minor": 4
}
