{
 "cells": [
  {
   "cell_type": "markdown",
   "metadata": {},
   "source": [
    "# Differential Privacy on Income Data\n",
    "\n",
    "We will use the Synthetic Swiss Income Dataset to demonstrate the how to release differentially private information on tabular data with OpenDP.\n",
    "The main library used in the background is `Polars`."
   ]
  },
  {
   "cell_type": "code",
   "execution_count": 1,
   "metadata": {},
   "outputs": [
    {
     "name": "stdout",
     "output_type": "stream",
     "text": [
      "Requirement already satisfied: polars==0.20.16 in /usr/local/lib/python3.11/site-packages (0.20.16)\n",
      "\u001b[33mWARNING: Running pip as the 'root' user can result in broken permissions and conflicting behaviour with the system package manager. It is recommended to use a virtual environment instead: https://pip.pypa.io/warnings/venv\u001b[0m\u001b[33m\n",
      "\u001b[0m\n",
      "\u001b[1m[\u001b[0m\u001b[34;49mnotice\u001b[0m\u001b[1;39;49m]\u001b[0m\u001b[39;49m A new release of pip is available: \u001b[0m\u001b[31;49m24.0\u001b[0m\u001b[39;49m -> \u001b[0m\u001b[32;49m24.1\u001b[0m\n",
      "\u001b[1m[\u001b[0m\u001b[34;49mnotice\u001b[0m\u001b[1;39;49m]\u001b[0m\u001b[39;49m To update, run: \u001b[0m\u001b[32;49mpip install --upgrade pip\u001b[0m\n"
     ]
    }
   ],
   "source": [
    "!pip install polars==0.20.16"
   ]
  },
  {
   "cell_type": "code",
   "execution_count": 2,
   "metadata": {},
   "outputs": [],
   "source": [
    "import polars as pl\n",
    "import opendp.prelude as dp\n",
    "\n",
    "dp.enable_features(\"contrib\")"
   ]
  },
  {
   "cell_type": "code",
   "execution_count": 3,
   "metadata": {},
   "outputs": [
    {
     "data": {
      "text/plain": [
       "'0.20.16'"
      ]
     },
     "execution_count": 3,
     "metadata": {},
     "output_type": "execute_result"
    }
   ],
   "source": [
    "pl.__version__"
   ]
  },
  {
   "cell_type": "markdown",
   "metadata": {},
   "source": [
    "## 1. Data Domain Preparation\n",
    "We first need to declare the metadata of the input domain of the Lazyframe."
   ]
  },
  {
   "cell_type": "code",
   "execution_count": 4,
   "metadata": {},
   "outputs": [],
   "source": [
    "def seed(schema):\n",
    "    return pl.DataFrame(None, schema, orient=\"row\").lazy()  # type: ignore[attr-defined]"
   ]
  },
  {
   "cell_type": "markdown",
   "metadata": {},
   "source": [
    "### Define domain with bounds"
   ]
  },
  {
   "cell_type": "code",
   "execution_count": 5,
   "metadata": {},
   "outputs": [],
   "source": [
    "# Income bounds\n",
    "income_lower_bound, income_upper_bound = 1_000.0, 60_000.0"
   ]
  },
  {
   "cell_type": "code",
   "execution_count": 23,
   "metadata": {},
   "outputs": [],
   "source": [
    "lf_domain = dp.lazyframe_domain([\n",
    "    dp.series_domain(\"region\", dp.atom_domain(T=dp.i64)),\n",
    "    dp.series_domain(\"eco_branch\", dp.atom_domain(T=dp.i64)),\n",
    "    dp.series_domain(\"profession\", dp.option_domain(dp.atom_domain(T=dp.i64))),\n",
    "    dp.series_domain(\"education\", dp.atom_domain(T=dp.i64)),\n",
    "    dp.series_domain(\"age\", dp.atom_domain(T=dp.i64)),\n",
    "    dp.series_domain(\"sex\", dp.atom_domain(T=dp.i64)),\n",
    "    dp.series_domain(\"income\", dp.atom_domain(bounds=(income_lower_bound, income_upper_bound), T=dp.f64))\n",
    "])"
   ]
  },
  {
   "cell_type": "code",
   "execution_count": 24,
   "metadata": {},
   "outputs": [],
   "source": [
    "lf_domain = dp.with_margin(lf_domain, by=[\"sex\"], public_info=\"keys\", max_partition_length=50)\n",
    "lf_domain = dp.with_margin(lf_domain, by=[\"region\"], public_info=\"keys\", max_partition_length=50)\n",
    "lf_domain = dp.with_margin(lf_domain, by=[\"sex\", \"region\"], public_info=\"keys\", max_partition_length=50)"
   ]
  },
  {
   "cell_type": "code",
   "execution_count": 25,
   "metadata": {},
   "outputs": [
    {
     "data": {
      "text/plain": [
       "ExprDomain { lazy_frame_domain: FrameDomain(region: i64, eco_branch: i64, profession: i64, education: i64, age: i64, sex: i64, income: f64; margins=[{\"sex\"}, {\"region\", \"sex\"}, {\"region\"}]) }"
      ]
     },
     "execution_count": 25,
     "metadata": {},
     "output_type": "execute_result"
    }
   ],
   "source": [
    "dp.expr_domain(lf_domain)"
   ]
  },
  {
   "cell_type": "markdown",
   "metadata": {},
   "source": [
    "## 2. Get income df in polars lazyframe format"
   ]
  },
  {
   "cell_type": "code",
   "execution_count": 26,
   "metadata": {},
   "outputs": [],
   "source": [
    "path = \"income_synthetic.csv\""
   ]
  },
  {
   "cell_type": "code",
   "execution_count": 27,
   "metadata": {},
   "outputs": [
    {
     "data": {
      "text/html": [
       "<i>naive plan: (run <b>LazyFrame.explain(optimized=True)</b> to see the optimized plan)</i>\n",
       "    <p></p>\n",
       "    <div>SLICE[offset: 0, len: 5]<p></p><p></p>    Csv SCAN income_synthetic.csv<p></p>    PROJECT */7 COLUMNS</div>"
      ],
      "text/plain": [
       "<LazyFrame [7 cols, {\"region\": Int64 … \"income\": Float64}] at 0x7F2F40251350>"
      ]
     },
     "execution_count": 27,
     "metadata": {},
     "output_type": "execute_result"
    }
   ],
   "source": [
    "lf = pl.scan_csv(path)\n",
    "lf.head()"
   ]
  },
  {
   "cell_type": "code",
   "execution_count": 28,
   "metadata": {},
   "outputs": [
    {
     "data": {
      "text/html": [
       "<div><style>\n",
       ".dataframe > thead > tr,\n",
       ".dataframe > tbody > tr {\n",
       "  text-align: right;\n",
       "  white-space: pre-wrap;\n",
       "}\n",
       "</style>\n",
       "<small>shape: (2_032_543, 7)</small><table border=\"1\" class=\"dataframe\"><thead><tr><th>region</th><th>eco_branch</th><th>profession</th><th>education</th><th>age</th><th>sex</th><th>income</th></tr><tr><td>i64</td><td>i64</td><td>i64</td><td>i64</td><td>i64</td><td>i64</td><td>f64</td></tr></thead><tbody><tr><td>5</td><td>25</td><td>34</td><td>6</td><td>63</td><td>0</td><td>5878.776292</td></tr><tr><td>5</td><td>25</td><td>34</td><td>6</td><td>63</td><td>0</td><td>4816.668743</td></tr><tr><td>5</td><td>25</td><td>34</td><td>6</td><td>63</td><td>0</td><td>5597.575301</td></tr><tr><td>5</td><td>25</td><td>34</td><td>6</td><td>63</td><td>0</td><td>6058.278538</td></tr><tr><td>5</td><td>25</td><td>34</td><td>6</td><td>63</td><td>0</td><td>5520.935521</td></tr><tr><td>&hellip;</td><td>&hellip;</td><td>&hellip;</td><td>&hellip;</td><td>&hellip;</td><td>&hellip;</td><td>&hellip;</td></tr><tr><td>6</td><td>75</td><td>52</td><td>5</td><td>22</td><td>1</td><td>5296.288157</td></tr><tr><td>6</td><td>75</td><td>52</td><td>5</td><td>22</td><td>1</td><td>3720.089657</td></tr><tr><td>6</td><td>75</td><td>52</td><td>5</td><td>22</td><td>1</td><td>3695.666881</td></tr><tr><td>6</td><td>75</td><td>52</td><td>5</td><td>22</td><td>1</td><td>6712.725122</td></tr><tr><td>6</td><td>75</td><td>52</td><td>5</td><td>22</td><td>1</td><td>5773.157299</td></tr></tbody></table></div>"
      ],
      "text/plain": [
       "shape: (2_032_543, 7)\n",
       "┌────────┬────────────┬────────────┬───────────┬─────┬─────┬─────────────┐\n",
       "│ region ┆ eco_branch ┆ profession ┆ education ┆ age ┆ sex ┆ income      │\n",
       "│ ---    ┆ ---        ┆ ---        ┆ ---       ┆ --- ┆ --- ┆ ---         │\n",
       "│ i64    ┆ i64        ┆ i64        ┆ i64       ┆ i64 ┆ i64 ┆ f64         │\n",
       "╞════════╪════════════╪════════════╪═══════════╪═════╪═════╪═════════════╡\n",
       "│ 5      ┆ 25         ┆ 34         ┆ 6         ┆ 63  ┆ 0   ┆ 5878.776292 │\n",
       "│ 5      ┆ 25         ┆ 34         ┆ 6         ┆ 63  ┆ 0   ┆ 4816.668743 │\n",
       "│ 5      ┆ 25         ┆ 34         ┆ 6         ┆ 63  ┆ 0   ┆ 5597.575301 │\n",
       "│ 5      ┆ 25         ┆ 34         ┆ 6         ┆ 63  ┆ 0   ┆ 6058.278538 │\n",
       "│ 5      ┆ 25         ┆ 34         ┆ 6         ┆ 63  ┆ 0   ┆ 5520.935521 │\n",
       "│ …      ┆ …          ┆ …          ┆ …         ┆ …   ┆ …   ┆ …           │\n",
       "│ 6      ┆ 75         ┆ 52         ┆ 5         ┆ 22  ┆ 1   ┆ 5296.288157 │\n",
       "│ 6      ┆ 75         ┆ 52         ┆ 5         ┆ 22  ┆ 1   ┆ 3720.089657 │\n",
       "│ 6      ┆ 75         ┆ 52         ┆ 5         ┆ 22  ┆ 1   ┆ 3695.666881 │\n",
       "│ 6      ┆ 75         ┆ 52         ┆ 5         ┆ 22  ┆ 1   ┆ 6712.725122 │\n",
       "│ 6      ┆ 75         ┆ 52         ┆ 5         ┆ 22  ┆ 1   ┆ 5773.157299 │\n",
       "└────────┴────────────┴────────────┴───────────┴─────┴─────┴─────────────┘"
      ]
     },
     "execution_count": 28,
     "metadata": {},
     "output_type": "execute_result"
    }
   ],
   "source": [
    "lf.collect()"
   ]
  },
  {
   "cell_type": "markdown",
   "metadata": {},
   "source": [
    "## 3. Private Data Analysis\n",
    "We will analyse the income column: compute the private mean and quantiles."
   ]
  },
  {
   "cell_type": "markdown",
   "metadata": {},
   "source": [
    "### a. Mean income"
   ]
  },
  {
   "cell_type": "code",
   "execution_count": 29,
   "metadata": {},
   "outputs": [
    {
     "ename": "OpenDPException",
     "evalue": "\n  MakeTransformation(\"Expr is not recognized at this time: col(\"income\").clip([1000.0, 60000.0]).sum()./usr/local/lib/python3.11/site-packages/opendp/lib/opendp.abi3.so:noise(). \"\"If you would like to see this supported, please file an issue.\")",
     "output_type": "error",
     "traceback": [
      "\u001b[0;31m---------------------------------------------------------------------------\u001b[0m",
      "\u001b[0;31mOpenDPException\u001b[0m                           Traceback (most recent call last)",
      "Cell \u001b[0;32mIn[29], line 5\u001b[0m\n\u001b[1;32m      1\u001b[0m \u001b[38;5;66;03m# Overall\u001b[39;00m\n\u001b[1;32m      2\u001b[0m plan \u001b[38;5;241m=\u001b[39m seed(lf\u001b[38;5;241m.\u001b[39mschema)\u001b[38;5;241m.\u001b[39mselect(\n\u001b[1;32m      3\u001b[0m     pl\u001b[38;5;241m.\u001b[39mcol(\u001b[38;5;124m\"\u001b[39m\u001b[38;5;124mincome\u001b[39m\u001b[38;5;124m\"\u001b[39m)\u001b[38;5;241m.\u001b[39mdp\u001b[38;5;241m.\u001b[39msum(bounds\u001b[38;5;241m=\u001b[39m(income_lower_bound, income_upper_bound))\u001b[38;5;241m.\u001b[39mdp\u001b[38;5;241m.\u001b[39mnoise(\u001b[38;5;241m0.0\u001b[39m)\n\u001b[1;32m      4\u001b[0m )\n\u001b[0;32m----> 5\u001b[0m m_lf \u001b[38;5;241m=\u001b[39m \u001b[43mdp\u001b[49m\u001b[38;5;241;43m.\u001b[39;49m\u001b[43mm\u001b[49m\u001b[38;5;241;43m.\u001b[39;49m\u001b[43mmake_private_lazyframe\u001b[49m\u001b[43m(\u001b[49m\n\u001b[1;32m      6\u001b[0m \u001b[43m    \u001b[49m\u001b[43mlf_domain\u001b[49m\u001b[43m,\u001b[49m\u001b[43m \u001b[49m\u001b[43mdp\u001b[49m\u001b[38;5;241;43m.\u001b[39;49m\u001b[43msymmetric_distance\u001b[49m\u001b[43m(\u001b[49m\u001b[43m)\u001b[49m\u001b[43m,\u001b[49m\u001b[43m \u001b[49m\u001b[43mdp\u001b[49m\u001b[38;5;241;43m.\u001b[39;49m\u001b[43mmax_divergence\u001b[49m\u001b[43m(\u001b[49m\u001b[43mT\u001b[49m\u001b[38;5;241;43m=\u001b[39;49m\u001b[38;5;28;43mfloat\u001b[39;49m\u001b[43m)\u001b[49m\u001b[43m,\u001b[49m\u001b[43m \u001b[49m\u001b[43mplan\u001b[49m\n\u001b[1;32m      7\u001b[0m \u001b[43m)\u001b[49m\n\u001b[1;32m      8\u001b[0m mean_income \u001b[38;5;241m=\u001b[39m m_lf(lf)\u001b[38;5;241m.\u001b[39mcollect()\n\u001b[1;32m      9\u001b[0m mean_income\n",
      "File \u001b[0;32m/usr/local/lib/python3.11/site-packages/opendp/measurements.py:777\u001b[0m, in \u001b[0;36mmake_private_lazyframe\u001b[0;34m(input_domain, input_metric, output_measure, lazyframe, global_scale)\u001b[0m\n\u001b[1;32m    774\u001b[0m lib_function\u001b[38;5;241m.\u001b[39margtypes \u001b[38;5;241m=\u001b[39m [Domain, Metric, Measure, AnyObjectPtr, AnyObjectPtr]\n\u001b[1;32m    775\u001b[0m lib_function\u001b[38;5;241m.\u001b[39mrestype \u001b[38;5;241m=\u001b[39m FfiResult\n\u001b[0;32m--> 777\u001b[0m output \u001b[38;5;241m=\u001b[39m c_to_py(\u001b[43munwrap\u001b[49m\u001b[43m(\u001b[49m\u001b[43mlib_function\u001b[49m\u001b[43m(\u001b[49m\u001b[43mc_input_domain\u001b[49m\u001b[43m,\u001b[49m\u001b[43m \u001b[49m\u001b[43mc_input_metric\u001b[49m\u001b[43m,\u001b[49m\u001b[43m \u001b[49m\u001b[43mc_output_measure\u001b[49m\u001b[43m,\u001b[49m\u001b[43m \u001b[49m\u001b[43mc_lazyframe\u001b[49m\u001b[43m,\u001b[49m\u001b[43m \u001b[49m\u001b[43mc_global_scale\u001b[49m\u001b[43m)\u001b[49m\u001b[43m,\u001b[49m\u001b[43m \u001b[49m\u001b[43mMeasurement\u001b[49m\u001b[43m)\u001b[49m)\n\u001b[1;32m    779\u001b[0m \u001b[38;5;28;01mreturn\u001b[39;00m output\n",
      "File \u001b[0;32m/usr/local/lib/python3.11/site-packages/opendp/_lib.py:249\u001b[0m, in \u001b[0;36munwrap\u001b[0;34m(result, type_)\u001b[0m\n\u001b[1;32m    246\u001b[0m     \u001b[38;5;28;01mraise\u001b[39;00m OpenDPException(\u001b[38;5;124m\"\u001b[39m\u001b[38;5;124mFailed to free error.\u001b[39m\u001b[38;5;124m\"\u001b[39m)\n\u001b[1;32m    248\u001b[0m \u001b[38;5;66;03m# Rust stack traces follow from here:\u001b[39;00m\n\u001b[0;32m--> 249\u001b[0m \u001b[38;5;28;01mraise\u001b[39;00m OpenDPException(variant, message, backtrace)\n",
      "\u001b[0;31mOpenDPException\u001b[0m: \n  MakeTransformation(\"Expr is not recognized at this time: col(\"income\").clip([1000.0, 60000.0]).sum()./usr/local/lib/python3.11/site-packages/opendp/lib/opendp.abi3.so:noise(). \"\"If you would like to see this supported, please file an issue.\")"
     ]
    }
   ],
   "source": [
    "# Overall\n",
    "plan = seed(lf.schema).select(\n",
    "    pl.col(\"income\").dp.sum(bounds=(income_lower_bound, income_upper_bound)).dp.noise(0.0)\n",
    ")\n",
    "m_lf = dp.m.make_private_lazyframe(\n",
    "    lf_domain, dp.symmetric_distance(), dp.max_divergence(T=float), plan\n",
    ")\n",
    "mean_income = m_lf(lf).collect()\n",
    "mean_income"
   ]
  },
  {
   "cell_type": "code",
   "execution_count": 30,
   "metadata": {},
   "outputs": [],
   "source": [
    "# Grouped by \"sex\"\n",
    "expr = pl.col(\"Income\").fill_null(0.0).dp.mean((1_000.0, 60_000.0), scale=0.0)\n",
    "plan = seed(lf.schema).group_by(\"sex\").agg(expr).sort(\"sex\")"
   ]
  },
  {
   "cell_type": "code",
   "execution_count": 31,
   "metadata": {},
   "outputs": [
    {
     "ename": "RuntimeError",
     "evalue": "BindingsError: \"Value(\\\"the enum variant LogicalPlan::Error cannot be serialized\\\")\"",
     "output_type": "error",
     "traceback": [
      "\u001b[0;31m---------------------------------------------------------------------------\u001b[0m",
      "\u001b[0;31mRuntimeError\u001b[0m                              Traceback (most recent call last)",
      "Cell \u001b[0;32mIn[31], line 1\u001b[0m\n\u001b[0;32m----> 1\u001b[0m m_lf \u001b[38;5;241m=\u001b[39m \u001b[43mdp\u001b[49m\u001b[38;5;241;43m.\u001b[39;49m\u001b[43mm\u001b[49m\u001b[38;5;241;43m.\u001b[39;49m\u001b[43mmake_private_lazyframe\u001b[49m\u001b[43m(\u001b[49m\n\u001b[1;32m      2\u001b[0m \u001b[43m    \u001b[49m\u001b[43minput_domain\u001b[49m\u001b[38;5;241;43m=\u001b[39;49m\u001b[43mlf_domain\u001b[49m\u001b[43m,\u001b[49m\u001b[43m \u001b[49m\n\u001b[1;32m      3\u001b[0m \u001b[43m    \u001b[49m\u001b[43minput_metric\u001b[49m\u001b[38;5;241;43m=\u001b[39;49m\u001b[43mdp\u001b[49m\u001b[38;5;241;43m.\u001b[39;49m\u001b[43msymmetric_distance\u001b[49m\u001b[43m(\u001b[49m\u001b[43m)\u001b[49m\u001b[43m,\u001b[49m\u001b[43m \u001b[49m\n\u001b[1;32m      4\u001b[0m \u001b[43m    \u001b[49m\u001b[43moutput_measure\u001b[49m\u001b[38;5;241;43m=\u001b[39;49m\u001b[43mdp\u001b[49m\u001b[38;5;241;43m.\u001b[39;49m\u001b[43mmax_divergence\u001b[49m\u001b[43m(\u001b[49m\u001b[43mT\u001b[49m\u001b[38;5;241;43m=\u001b[39;49m\u001b[38;5;28;43mfloat\u001b[39;49m\u001b[43m)\u001b[49m\u001b[43m,\u001b[49m\u001b[43m \u001b[49m\n\u001b[1;32m      5\u001b[0m \u001b[43m    \u001b[49m\u001b[43mlazyframe\u001b[49m\u001b[38;5;241;43m=\u001b[39;49m\u001b[43mplan\u001b[49m\n\u001b[1;32m      6\u001b[0m \u001b[43m)\u001b[49m\n\u001b[1;32m      8\u001b[0m df_release \u001b[38;5;241m=\u001b[39m m_lf(lf)\u001b[38;5;241m.\u001b[39mcollect()\n\u001b[1;32m      9\u001b[0m df_release\n",
      "File \u001b[0;32m/usr/local/lib/python3.11/site-packages/opendp/measurements.py:769\u001b[0m, in \u001b[0;36mmake_private_lazyframe\u001b[0;34m(input_domain, input_metric, output_measure, lazyframe, global_scale)\u001b[0m\n\u001b[1;32m    767\u001b[0m c_input_metric \u001b[38;5;241m=\u001b[39m py_to_c(input_metric, c_type\u001b[38;5;241m=\u001b[39mMetric, type_name\u001b[38;5;241m=\u001b[39m\u001b[38;5;28;01mNone\u001b[39;00m)\n\u001b[1;32m    768\u001b[0m c_output_measure \u001b[38;5;241m=\u001b[39m py_to_c(output_measure, c_type\u001b[38;5;241m=\u001b[39mMeasure, type_name\u001b[38;5;241m=\u001b[39m\u001b[38;5;28;01mNone\u001b[39;00m)\n\u001b[0;32m--> 769\u001b[0m c_lazyframe \u001b[38;5;241m=\u001b[39m \u001b[43mpy_to_c\u001b[49m\u001b[43m(\u001b[49m\u001b[43mlazyframe\u001b[49m\u001b[43m,\u001b[49m\u001b[43m \u001b[49m\u001b[43mc_type\u001b[49m\u001b[38;5;241;43m=\u001b[39;49m\u001b[43mAnyObjectPtr\u001b[49m\u001b[43m,\u001b[49m\u001b[43m \u001b[49m\u001b[43mtype_name\u001b[49m\u001b[38;5;241;43m=\u001b[39;49m\u001b[43mLazyFrame\u001b[49m\u001b[43m)\u001b[49m\n\u001b[1;32m    770\u001b[0m c_global_scale \u001b[38;5;241m=\u001b[39m py_to_c(global_scale, c_type\u001b[38;5;241m=\u001b[39mAnyObjectPtr, type_name\u001b[38;5;241m=\u001b[39mRuntimeType(origin\u001b[38;5;241m=\u001b[39m\u001b[38;5;124m'\u001b[39m\u001b[38;5;124mOption\u001b[39m\u001b[38;5;124m'\u001b[39m, args\u001b[38;5;241m=\u001b[39m[f64]))\n\u001b[1;32m    772\u001b[0m \u001b[38;5;66;03m# Call library function.\u001b[39;00m\n",
      "File \u001b[0;32m/usr/local/lib/python3.11/site-packages/opendp/_convert.py:111\u001b[0m, in \u001b[0;36mpy_to_c\u001b[0;34m(value, c_type, type_name)\u001b[0m\n\u001b[1;32m    109\u001b[0m \u001b[38;5;28;01mif\u001b[39;00m c_type \u001b[38;5;241m==\u001b[39m AnyObjectPtr:\n\u001b[1;32m    110\u001b[0m     \u001b[38;5;28;01mfrom\u001b[39;00m \u001b[38;5;21;01mopendp\u001b[39;00m\u001b[38;5;21;01m.\u001b[39;00m\u001b[38;5;21;01m_data\u001b[39;00m \u001b[38;5;28;01mimport\u001b[39;00m slice_as_object\n\u001b[0;32m--> 111\u001b[0m     \u001b[38;5;28;01mreturn\u001b[39;00m \u001b[43mslice_as_object\u001b[49m\u001b[43m(\u001b[49m\u001b[43mvalue\u001b[49m\u001b[43m,\u001b[49m\u001b[43m \u001b[49m\u001b[43mtype_name\u001b[49m\u001b[43m)\u001b[49m \u001b[38;5;66;03m# type: ignore[arg-type]\u001b[39;00m\n\u001b[1;32m    113\u001b[0m \u001b[38;5;28;01mif\u001b[39;00m c_type \u001b[38;5;241m==\u001b[39m FfiSlicePtr:\n\u001b[1;32m    114\u001b[0m     \u001b[38;5;28;01mif\u001b[39;00m type_name \u001b[38;5;129;01mis\u001b[39;00m \u001b[38;5;28;01mNone\u001b[39;00m:\n",
      "File \u001b[0;32m/usr/local/lib/python3.11/site-packages/opendp/_data.py:335\u001b[0m, in \u001b[0;36mslice_as_object\u001b[0;34m(raw, T)\u001b[0m\n\u001b[1;32m    332\u001b[0m T \u001b[38;5;241m=\u001b[39m parse_or_infer(T, raw) \u001b[38;5;66;03m# type: ignore\u001b[39;00m\n\u001b[1;32m    334\u001b[0m \u001b[38;5;66;03m# Convert arguments to c types.\u001b[39;00m\n\u001b[0;32m--> 335\u001b[0m c_raw \u001b[38;5;241m=\u001b[39m \u001b[43mpy_to_c\u001b[49m\u001b[43m(\u001b[49m\u001b[43mraw\u001b[49m\u001b[43m,\u001b[49m\u001b[43m \u001b[49m\u001b[43mc_type\u001b[49m\u001b[38;5;241;43m=\u001b[39;49m\u001b[43mFfiSlicePtr\u001b[49m\u001b[43m,\u001b[49m\u001b[43m \u001b[49m\u001b[43mtype_name\u001b[49m\u001b[38;5;241;43m=\u001b[39;49m\u001b[43mT\u001b[49m\u001b[43m)\u001b[49m\n\u001b[1;32m    336\u001b[0m c_T \u001b[38;5;241m=\u001b[39m py_to_c(T, c_type\u001b[38;5;241m=\u001b[39mctypes\u001b[38;5;241m.\u001b[39mc_char_p, type_name\u001b[38;5;241m=\u001b[39m\u001b[38;5;28;01mNone\u001b[39;00m)\n\u001b[1;32m    338\u001b[0m \u001b[38;5;66;03m# Call library function.\u001b[39;00m\n",
      "File \u001b[0;32m/usr/local/lib/python3.11/site-packages/opendp/_convert.py:116\u001b[0m, in \u001b[0;36mpy_to_c\u001b[0;34m(value, c_type, type_name)\u001b[0m\n\u001b[1;32m    114\u001b[0m     \u001b[38;5;28;01mif\u001b[39;00m type_name \u001b[38;5;129;01mis\u001b[39;00m \u001b[38;5;28;01mNone\u001b[39;00m:\n\u001b[1;32m    115\u001b[0m         \u001b[38;5;28;01mraise\u001b[39;00m \u001b[38;5;167;01mValueError\u001b[39;00m(\u001b[38;5;124m\"\u001b[39m\u001b[38;5;124mtype_name must be known\u001b[39m\u001b[38;5;124m\"\u001b[39m)\n\u001b[0;32m--> 116\u001b[0m     \u001b[38;5;28;01mreturn\u001b[39;00m \u001b[43m_py_to_slice\u001b[49m\u001b[43m(\u001b[49m\u001b[43mvalue\u001b[49m\u001b[43m,\u001b[49m\u001b[43m \u001b[49m\u001b[43mRuntimeType\u001b[49m\u001b[38;5;241;43m.\u001b[39;49m\u001b[43mparse\u001b[49m\u001b[43m(\u001b[49m\u001b[43mtype_name\u001b[49m\u001b[43m)\u001b[49m\u001b[43m)\u001b[49m\n\u001b[1;32m    118\u001b[0m \u001b[38;5;28;01mif\u001b[39;00m \u001b[38;5;28misinstance\u001b[39m(value, RuntimeType):\n\u001b[1;32m    119\u001b[0m     value \u001b[38;5;241m=\u001b[39m \u001b[38;5;28mstr\u001b[39m(value)\n",
      "File \u001b[0;32m/usr/local/lib/python3.11/site-packages/opendp/_convert.py:258\u001b[0m, in \u001b[0;36m_py_to_slice\u001b[0;34m(value, type_name)\u001b[0m\n\u001b[1;32m    255\u001b[0m     \u001b[38;5;28;01mreturn\u001b[39;00m _series_to_slice(value)\n\u001b[1;32m    257\u001b[0m \u001b[38;5;28;01mif\u001b[39;00m type_name \u001b[38;5;241m==\u001b[39m \u001b[38;5;124m\"\u001b[39m\u001b[38;5;124mLazyFrame\u001b[39m\u001b[38;5;124m\"\u001b[39m:\n\u001b[0;32m--> 258\u001b[0m     \u001b[38;5;28;01mreturn\u001b[39;00m \u001b[43m_lazyframe_to_slice\u001b[49m\u001b[43m(\u001b[49m\u001b[43mvalue\u001b[49m\u001b[43m)\u001b[49m\n\u001b[1;32m    260\u001b[0m \u001b[38;5;28;01mif\u001b[39;00m type_name \u001b[38;5;241m==\u001b[39m \u001b[38;5;124m\"\u001b[39m\u001b[38;5;124mDataFrame\u001b[39m\u001b[38;5;124m\"\u001b[39m:\n\u001b[1;32m    261\u001b[0m     \u001b[38;5;28;01mreturn\u001b[39;00m _dataframe_to_slice(value)\n",
      "File \u001b[0;32m/usr/local/lib/python3.11/site-packages/opendp/_convert.py:492\u001b[0m, in \u001b[0;36m_lazyframe_to_slice\u001b[0;34m(val)\u001b[0m\n\u001b[1;32m    491\u001b[0m \u001b[38;5;28;01mdef\u001b[39;00m \u001b[38;5;21m_lazyframe_to_slice\u001b[39m(val) \u001b[38;5;241m-\u001b[39m\u001b[38;5;241m>\u001b[39m FfiSlicePtr:\n\u001b[0;32m--> 492\u001b[0m     state \u001b[38;5;241m=\u001b[39m \u001b[43mval\u001b[49m\u001b[38;5;241;43m.\u001b[39;49m\u001b[43m__getstate__\u001b[49m\u001b[43m(\u001b[49m\u001b[43m)\u001b[49m\n\u001b[1;32m    493\u001b[0m     raw \u001b[38;5;241m=\u001b[39m _wrap_in_slice(state, \u001b[38;5;28mlen\u001b[39m(state))\n\u001b[1;32m    494\u001b[0m     raw\u001b[38;5;241m.\u001b[39mdepends_on(state)\n",
      "File \u001b[0;32m/usr/local/lib/python3.11/site-packages/polars/lazyframe/frame.py:330\u001b[0m, in \u001b[0;36mLazyFrame.__getstate__\u001b[0;34m(self)\u001b[0m\n\u001b[1;32m    329\u001b[0m \u001b[38;5;28;01mdef\u001b[39;00m \u001b[38;5;21m__getstate__\u001b[39m(\u001b[38;5;28mself\u001b[39m) \u001b[38;5;241m-\u001b[39m\u001b[38;5;241m>\u001b[39m \u001b[38;5;28mbytes\u001b[39m:\n\u001b[0;32m--> 330\u001b[0m     \u001b[38;5;28;01mreturn\u001b[39;00m \u001b[38;5;28mself\u001b[39m\u001b[38;5;241m.\u001b[39m_ldf\u001b[38;5;241m.\u001b[39m__getstate__()\n",
      "\u001b[0;31mRuntimeError\u001b[0m: BindingsError: \"Value(\\\"the enum variant LogicalPlan::Error cannot be serialized\\\")\""
     ]
    }
   ],
   "source": [
    "m_lf = dp.m.make_private_lazyframe(\n",
    "    input_domain=lf_domain, \n",
    "    input_metric=dp.symmetric_distance(), \n",
    "    output_measure=dp.max_divergence(T=float), \n",
    "    lazyframe=plan\n",
    ")\n",
    "\n",
    "df_release = m_lf(lf).collect()\n",
    "df_release"
   ]
  },
  {
   "cell_type": "markdown",
   "metadata": {},
   "source": [
    "### b. Quantile income"
   ]
  },
  {
   "cell_type": "code",
   "execution_count": null,
   "metadata": {},
   "outputs": [],
   "source": []
  },
  {
   "cell_type": "code",
   "execution_count": 34,
   "metadata": {},
   "outputs": [],
   "source": [
    "candidates = list(range(1_000, 100_000, 1000))"
   ]
  },
  {
   "cell_type": "code",
   "execution_count": null,
   "metadata": {},
   "outputs": [],
   "source": [
    "# Over"
   ]
  },
  {
   "cell_type": "code",
   "execution_count": null,
   "metadata": {},
   "outputs": [],
   "source": []
  },
  {
   "cell_type": "code",
   "execution_count": null,
   "metadata": {},
   "outputs": [],
   "source": []
  },
  {
   "cell_type": "code",
   "execution_count": null,
   "metadata": {},
   "outputs": [],
   "source": []
  },
  {
   "cell_type": "code",
   "execution_count": 35,
   "metadata": {},
   "outputs": [
    {
     "ename": "TypeError",
     "evalue": "DPExpr.quantile() got multiple values for argument 'alpha'",
     "output_type": "error",
     "traceback": [
      "\u001b[0;31m---------------------------------------------------------------------------\u001b[0m",
      "\u001b[0;31mTypeError\u001b[0m                                 Traceback (most recent call last)",
      "Cell \u001b[0;32mIn[35], line 2\u001b[0m\n\u001b[1;32m      1\u001b[0m plan \u001b[38;5;241m=\u001b[39m seed(lf\u001b[38;5;241m.\u001b[39mschema)\u001b[38;5;241m.\u001b[39mgroup_by(\u001b[38;5;124m\"\u001b[39m\u001b[38;5;124msex\u001b[39m\u001b[38;5;124m\"\u001b[39m)\u001b[38;5;241m.\u001b[39magg([\n\u001b[0;32m----> 2\u001b[0m     \u001b[43mpl\u001b[49m\u001b[38;5;241;43m.\u001b[39;49m\u001b[43mcol\u001b[49m\u001b[43m(\u001b[49m\u001b[38;5;124;43m\"\u001b[39;49m\u001b[38;5;124;43mincome\u001b[39;49m\u001b[38;5;124;43m\"\u001b[39;49m\u001b[43m)\u001b[49m\u001b[38;5;241;43m.\u001b[39;49m\u001b[43mdp\u001b[49m\u001b[38;5;241;43m.\u001b[39;49m\u001b[43mquantile\u001b[49m\u001b[43m(\u001b[49m\u001b[43mcandidates\u001b[49m\u001b[43m,\u001b[49m\u001b[43m \u001b[49m\u001b[43malpha\u001b[49m\u001b[38;5;241;43m=\u001b[39;49m\u001b[38;5;241;43m.75\u001b[39;49m\u001b[43m,\u001b[49m\u001b[43m \u001b[49m\u001b[43mscale\u001b[49m\u001b[38;5;241;43m=\u001b[39;49m\u001b[38;5;241;43m1.\u001b[39;49m\u001b[43m)\u001b[49m,\n\u001b[1;32m      3\u001b[0m ])\n\u001b[1;32m      5\u001b[0m m_lf \u001b[38;5;241m=\u001b[39m dp\u001b[38;5;241m.\u001b[39mm\u001b[38;5;241m.\u001b[39mmake_private_lazyframe(\n\u001b[1;32m      6\u001b[0m     input_domain\u001b[38;5;241m=\u001b[39mlf_domain, \n\u001b[1;32m      7\u001b[0m     input_metric\u001b[38;5;241m=\u001b[39mdp\u001b[38;5;241m.\u001b[39msymmetric_distance(), \n\u001b[0;32m   (...)\u001b[0m\n\u001b[1;32m     10\u001b[0m     scale\u001b[38;5;241m=\u001b[39m\u001b[38;5;241m1.\u001b[39m\n\u001b[1;32m     11\u001b[0m )\n",
      "\u001b[0;31mTypeError\u001b[0m: DPExpr.quantile() got multiple values for argument 'alpha'"
     ]
    }
   ],
   "source": [
    "# Grouped by sex\n",
    "plan = seed(lf.schema).group_by(\"sex\").agg([\n",
    "    pl.col(\"income\").dp.quantile(candidates, alpha=.75, scale=1.),\n",
    "])\n",
    "\n",
    "m_lf = dp.m.make_private_lazyframe(\n",
    "    input_domain=lf_domain, \n",
    "    input_metric=dp.symmetric_distance(), \n",
    "    output_measure=dp.max_divergence(T=float), \n",
    "    lazyframe=plan, \n",
    "    scale=1.\n",
    ")"
   ]
  },
  {
   "cell_type": "code",
   "execution_count": null,
   "metadata": {},
   "outputs": [],
   "source": []
  }
 ],
 "metadata": {
  "kernelspec": {
   "display_name": "Python 3 (ipykernel)",
   "language": "python",
   "name": "python3"
  },
  "language_info": {
   "codemirror_mode": {
    "name": "ipython",
    "version": 3
   },
   "file_extension": ".py",
   "mimetype": "text/x-python",
   "name": "python",
   "nbconvert_exporter": "python",
   "pygments_lexer": "ipython3",
   "version": "3.11.9"
  }
 },
 "nbformat": 4,
 "nbformat_minor": 4
}
