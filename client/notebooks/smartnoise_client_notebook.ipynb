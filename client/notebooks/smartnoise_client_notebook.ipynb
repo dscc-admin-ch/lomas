{
    "cells": [
        {
            "cell_type": "markdown",
            "id": "3f18d338",
            "metadata": {},
            "source": [
                "# Secure Data Disclosure: Client side"
            ]
        },
        {
            "cell_type": "markdown",
            "id": "1582a2ae",
            "metadata": {},
            "source": [
                "This notebook showcases how researcher could use the Secure Data Disclosure system. It explains the different functionnalities provided by the dpserial client library to interact with the secure server.\n",
                "\n",
                "The secure data are never visible by researchers. They can only access to differentially private responses via queries to the server.\n",
                "\n",
                "Each user has access to one or multiple projects and for each dataset has a limited budget $\\epsilon$, $\\delta$."
            ]
        },
        {
            "cell_type": "markdown",
            "id": "5b73135c",
            "metadata": {},
            "source": [
                "🐧🐧🐧\n",
                "In this notebook the researcher is a penguin researcher named Dr. Antarctica. She aims to do a grounbdbreaking research on various penguins dimensions.\n",
                "\n",
                "Therefore, the powerful queen Icerbegina 👑 had the data collected. But in order to get the penguins to agree to participate she promised them that no one would be able to look at the data and that no one would be able to guess the bill width of any specific penguin (which is very sensitive information) from the data. Nobody! Not even the researchers. The queen hence stored the data on the Secure Data Disclosure Server and only gave a small budget to Dr. Antarctica.\n",
                "\n",
                "This is not a problem for Dr. Antarctica as she does not need to see the data to make statistics thanks to the Secure Data Disclosure Client library ofs_dpserial. \n",
                "🐧🐧🐧"
            ]
        },
        {
            "cell_type": "markdown",
            "id": "01ae30d2",
            "metadata": {},
            "source": [
                "## Step 1: Install the library\n",
                "To interact with the secure server on which the data is stored, Dr.Antartica first needs to install the library `fso_dpserial` on her local developping environment. \n",
                "\n",
                "It can be installed via the pip command:"
            ]
        },
        {
            "cell_type": "code",
            "execution_count": 1,
            "id": "9d96dcd7",
            "metadata": {},
            "outputs": [],
            "source": [
                "from lomas_client.client import Client\n",
                "import numpy as np"
            ]
        },
        {
            "cell_type": "markdown",
            "id": "9c63718b",
            "metadata": {},
            "source": [
                "## Step 2: Initialise the client\n",
                "\n",
                "Once the library is installed, a Client object must be created. It is responsible for sending sending requests to the server and processing responses in the local environment. It enables a seamless interaction with the server. \n",
                "\n",
                "To create the client, Dr. Antartica needs to give it a few parameters:\n",
                "- a url: the root application endpoint to the remote secure server.\n",
                "- user_name: her name as registered in the database (Dr. Alice Antartica)\n",
                "- dataset_name: the name of the dataset that she wants to query (PENGUIN)\n",
                "\n",
                "She will only be able to query on the real dataset if the queen Icergina has previously made her an account in the database, given her access to the PENGUIN dataset and has given her some epsilon and delta credit. (As is done in the Secure Data Disclosure Notebook: Server side)."
            ]
        },
        {
            "cell_type": "code",
            "execution_count": 2,
            "id": "941991f7",
            "metadata": {},
            "outputs": [],
            "source": [
                "APP_URL = \"http://lomas_server_dev:80\"\n",
                "USER_NAME = \"Dr. Antartica\"\n",
                "DATASET_NAME = \"PENGUIN\"\n",
                "client = Client(url=APP_URL, user_name = USER_NAME, dataset_name = DATASET_NAME)"
            ]
        },
        {
            "cell_type": "markdown",
            "id": "0ec400c8",
            "metadata": {},
            "source": [
                "And that's it for the preparation. She is now ready to use the various functionnalities offered by `fso_dpserial`."
            ]
        },
        {
            "cell_type": "markdown",
            "id": "9b9a5f13",
            "metadata": {},
            "source": [
                "## Step 3: Understand the functionnalities of the library"
            ]
        },
        {
            "cell_type": "markdown",
            "id": "c7cb5531",
            "metadata": {},
            "source": [
                "### Getting dataset metadata\n",
                "\n",
                "Dr. Antartica has never seen the data and as a first step to understand what is available to her, she would like to check the metadata of the dataset. Therefore, she just needs to call the `get_dataset_metadata()` function of the client. As this is public information, this does not cost any budget.\n",
                "\n",
                "This function returns metadata information in the same format as [SmartnoiseSQL dictionary format](https://docs.smartnoise.org/sql/metadata.html#dictionary-format), where among other, there is information about all the available columns, their type, bound values (see Smartnoise page for more details)."
            ]
        },
        {
            "cell_type": "code",
            "execution_count": 3,
            "id": "d15cbe39",
            "metadata": {},
            "outputs": [
                {
                    "data": {
                        "text/plain": [
                            "{'max_ids': 1,\n",
                            " 'row_privacy': True,\n",
                            " 'censor_dims': False,\n",
                            " 'species': {'type': 'string',\n",
                            "  'cardinality': 3,\n",
                            "  'categories': ['Adelie', 'Chinstrap', 'Gentoo']},\n",
                            " 'island': {'type': 'string',\n",
                            "  'cardinality': 3,\n",
                            "  'categories': ['Torgersen', 'Biscoe', 'Dream']},\n",
                            " 'bill_length_mm': {'type': 'float', 'lower': 30.0, 'upper': 65.0},\n",
                            " 'bill_depth_mm': {'type': 'float', 'lower': 13.0, 'upper': 23.0},\n",
                            " 'flipper_length_mm': {'type': 'float', 'lower': 150.0, 'upper': 250.0},\n",
                            " 'body_mass_g': {'type': 'float', 'lower': 2000.0, 'upper': 7000.0},\n",
                            " 'sex': {'type': 'string', 'cardinality': 2, 'categories': ['MALE', 'FEMALE']}}"
                        ]
                    },
                    "execution_count": 3,
                    "metadata": {},
                    "output_type": "execute_result"
                }
            ],
            "source": [
                "metadata = client.get_dataset_metadata()\n",
                "metadata"
            ]
        },
        {
            "cell_type": "markdown",
            "id": "d338ed96",
            "metadata": {},
            "source": [
                "Based on this Dr. Antartica knows that there are 7 columns, 3 of string type (species, island, sex) and 4 of float type (bill length, bill depth, flipper length and body mass) with their associated bounds. She also knows based on the field `max_ids: 1` that each penguin can only be once in the dataset and on the field `row_privacy: True` that each row represents a single penguin. "
            ]
        },
        {
            "cell_type": "markdown",
            "id": "5a3c899d",
            "metadata": {},
            "source": [
                "### Get a dummy dataset\n",
                "\n",
                "Now, that she has seen and understood the metadata, she wants to get an even better understanding of the dataset (but is still not able to see it). A solution to have an idea of what the dataset looks like it to create a dummy dataset. \n",
                "\n",
                "Based on the public metadata of the dataset, a random dataframe can be created created. By default, there will be 100 rows and the seed is set to 42 to ensure reproducibility, but these 2 variables can be changed to obtain different dummy datasets.\n",
                "Getting a dummy dataset does not affect the budget as there is no differential privacy here, it is not a synthetic dataset and all that could be learn here is already present in the public metadata.\n",
                "\n",
                "Dr. Antartica first create a dummy dataset with the default options."
            ]
        },
        {
            "cell_type": "code",
            "execution_count": 4,
            "id": "be07091f",
            "metadata": {},
            "outputs": [
                {
                    "name": "stdout",
                    "output_type": "stream",
                    "text": [
                        "(100, 7)\n"
                    ]
                },
                {
                    "data": {
                        "text/html": [
                            "<div>\n",
                            "<style scoped>\n",
                            "    .dataframe tbody tr th:only-of-type {\n",
                            "        vertical-align: middle;\n",
                            "    }\n",
                            "\n",
                            "    .dataframe tbody tr th {\n",
                            "        vertical-align: top;\n",
                            "    }\n",
                            "\n",
                            "    .dataframe thead th {\n",
                            "        text-align: right;\n",
                            "    }\n",
                            "</style>\n",
                            "<table border=\"1\" class=\"dataframe\">\n",
                            "  <thead>\n",
                            "    <tr style=\"text-align: right;\">\n",
                            "      <th></th>\n",
                            "      <th>species</th>\n",
                            "      <th>island</th>\n",
                            "      <th>bill_length_mm</th>\n",
                            "      <th>bill_depth_mm</th>\n",
                            "      <th>flipper_length_mm</th>\n",
                            "      <th>body_mass_g</th>\n",
                            "      <th>sex</th>\n",
                            "    </tr>\n",
                            "  </thead>\n",
                            "  <tbody>\n",
                            "    <tr>\n",
                            "      <th>0</th>\n",
                            "      <td>Chinstrap</td>\n",
                            "      <td>Torgersen</td>\n",
                            "      <td>43.108904</td>\n",
                            "      <td>13.314292</td>\n",
                            "      <td>214.203165</td>\n",
                            "      <td>2258.408606</td>\n",
                            "      <td>FEMALE</td>\n",
                            "    </tr>\n",
                            "    <tr>\n",
                            "      <th>1</th>\n",
                            "      <td>Adelie</td>\n",
                            "      <td>Dream</td>\n",
                            "      <td>63.275001</td>\n",
                            "      <td>19.364104</td>\n",
                            "      <td>158.413996</td>\n",
                            "      <td>4656.773158</td>\n",
                            "      <td>FEMALE</td>\n",
                            "    </tr>\n",
                            "    <tr>\n",
                            "      <th>2</th>\n",
                            "      <td>Adelie</td>\n",
                            "      <td>Dream</td>\n",
                            "      <td>55.619788</td>\n",
                            "      <td>16.143560</td>\n",
                            "      <td>166.162871</td>\n",
                            "      <td>4703.175608</td>\n",
                            "      <td>FEMALE</td>\n",
                            "    </tr>\n",
                            "    <tr>\n",
                            "      <th>3</th>\n",
                            "      <td>Adelie</td>\n",
                            "      <td>Biscoe</td>\n",
                            "      <td>50.953047</td>\n",
                            "      <td>18.085707</td>\n",
                            "      <td>239.855419</td>\n",
                            "      <td>5187.149507</td>\n",
                            "      <td>MALE</td>\n",
                            "    </tr>\n",
                            "    <tr>\n",
                            "      <th>4</th>\n",
                            "      <td>Gentoo</td>\n",
                            "      <td>Torgersen</td>\n",
                            "      <td>35.460652</td>\n",
                            "      <td>22.075665</td>\n",
                            "      <td>210.642906</td>\n",
                            "      <td>5630.456669</td>\n",
                            "      <td>MALE</td>\n",
                            "    </tr>\n",
                            "  </tbody>\n",
                            "</table>\n",
                            "</div>"
                        ],
                        "text/plain": [
                            "     species     island  bill_length_mm  bill_depth_mm  flipper_length_mm   \n",
                            "0  Chinstrap  Torgersen       43.108904      13.314292         214.203165  \\\n",
                            "1     Adelie      Dream       63.275001      19.364104         158.413996   \n",
                            "2     Adelie      Dream       55.619788      16.143560         166.162871   \n",
                            "3     Adelie     Biscoe       50.953047      18.085707         239.855419   \n",
                            "4     Gentoo  Torgersen       35.460652      22.075665         210.642906   \n",
                            "\n",
                            "   body_mass_g     sex  \n",
                            "0  2258.408606  FEMALE  \n",
                            "1  4656.773158  FEMALE  \n",
                            "2  4703.175608  FEMALE  \n",
                            "3  5187.149507    MALE  \n",
                            "4  5630.456669    MALE  "
                        ]
                    },
                    "execution_count": 4,
                    "metadata": {},
                    "output_type": "execute_result"
                }
            ],
            "source": [
                "df_dummy = client.get_dummy_dataset()\n",
                "print(df_dummy.shape)\n",
                "df_dummy.head()"
            ]
        },
        {
            "cell_type": "markdown",
            "id": "4f85e950",
            "metadata": {},
            "source": [
                "However, she would prefer to have a dataset with 200 rows and chooses a seed of 0, hence:"
            ]
        },
        {
            "cell_type": "code",
            "execution_count": 5,
            "id": "01f4365a",
            "metadata": {},
            "outputs": [],
            "source": [
                "NB_ROWS = 200\n",
                "SEED = 0"
            ]
        },
        {
            "cell_type": "code",
            "execution_count": 6,
            "id": "3f553b29",
            "metadata": {},
            "outputs": [
                {
                    "name": "stdout",
                    "output_type": "stream",
                    "text": [
                        "(200, 7)\n"
                    ]
                },
                {
                    "data": {
                        "text/html": [
                            "<div>\n",
                            "<style scoped>\n",
                            "    .dataframe tbody tr th:only-of-type {\n",
                            "        vertical-align: middle;\n",
                            "    }\n",
                            "\n",
                            "    .dataframe tbody tr th {\n",
                            "        vertical-align: top;\n",
                            "    }\n",
                            "\n",
                            "    .dataframe thead th {\n",
                            "        text-align: right;\n",
                            "    }\n",
                            "</style>\n",
                            "<table border=\"1\" class=\"dataframe\">\n",
                            "  <thead>\n",
                            "    <tr style=\"text-align: right;\">\n",
                            "      <th></th>\n",
                            "      <th>species</th>\n",
                            "      <th>island</th>\n",
                            "      <th>bill_length_mm</th>\n",
                            "      <th>bill_depth_mm</th>\n",
                            "      <th>flipper_length_mm</th>\n",
                            "      <th>body_mass_g</th>\n",
                            "      <th>sex</th>\n",
                            "    </tr>\n",
                            "  </thead>\n",
                            "  <tbody>\n",
                            "    <tr>\n",
                            "      <th>0</th>\n",
                            "      <td>Gentoo</td>\n",
                            "      <td>Biscoe</td>\n",
                            "      <td>49.208473</td>\n",
                            "      <td>16.117959</td>\n",
                            "      <td>190.125950</td>\n",
                            "      <td>2873.291927</td>\n",
                            "      <td>FEMALE</td>\n",
                            "    </tr>\n",
                            "    <tr>\n",
                            "      <th>1</th>\n",
                            "      <td>Gentoo</td>\n",
                            "      <td>Torgersen</td>\n",
                            "      <td>55.031628</td>\n",
                            "      <td>19.963435</td>\n",
                            "      <td>242.929142</td>\n",
                            "      <td>3639.940005</td>\n",
                            "      <td>FEMALE</td>\n",
                            "    </tr>\n",
                            "    <tr>\n",
                            "      <th>2</th>\n",
                            "      <td>Chinstrap</td>\n",
                            "      <td>Torgersen</td>\n",
                            "      <td>51.096718</td>\n",
                            "      <td>16.777518</td>\n",
                            "      <td>159.961493</td>\n",
                            "      <td>5401.743330</td>\n",
                            "      <td>MALE</td>\n",
                            "    </tr>\n",
                            "    <tr>\n",
                            "      <th>3</th>\n",
                            "      <td>Adelie</td>\n",
                            "      <td>Biscoe</td>\n",
                            "      <td>49.070911</td>\n",
                            "      <td>14.796037</td>\n",
                            "      <td>244.530153</td>\n",
                            "      <td>2316.038092</td>\n",
                            "      <td>MALE</td>\n",
                            "    </tr>\n",
                            "    <tr>\n",
                            "      <th>4</th>\n",
                            "      <td>Chinstrap</td>\n",
                            "      <td>Biscoe</td>\n",
                            "      <td>44.827918</td>\n",
                            "      <td>13.246787</td>\n",
                            "      <td>236.948853</td>\n",
                            "      <td>5036.246870</td>\n",
                            "      <td>FEMALE</td>\n",
                            "    </tr>\n",
                            "  </tbody>\n",
                            "</table>\n",
                            "</div>"
                        ],
                        "text/plain": [
                            "     species     island  bill_length_mm  bill_depth_mm  flipper_length_mm   \n",
                            "0     Gentoo     Biscoe       49.208473      16.117959         190.125950  \\\n",
                            "1     Gentoo  Torgersen       55.031628      19.963435         242.929142   \n",
                            "2  Chinstrap  Torgersen       51.096718      16.777518         159.961493   \n",
                            "3     Adelie     Biscoe       49.070911      14.796037         244.530153   \n",
                            "4  Chinstrap     Biscoe       44.827918      13.246787         236.948853   \n",
                            "\n",
                            "   body_mass_g     sex  \n",
                            "0  2873.291927  FEMALE  \n",
                            "1  3639.940005  FEMALE  \n",
                            "2  5401.743330    MALE  \n",
                            "3  2316.038092    MALE  \n",
                            "4  5036.246870  FEMALE  "
                        ]
                    },
                    "execution_count": 6,
                    "metadata": {},
                    "output_type": "execute_result"
                }
            ],
            "source": [
                "df_dummy = client.get_dummy_dataset(nb_rows = NB_ROWS, seed = SEED)\n",
                "print(df_dummy.shape)\n",
                "df_dummy.head()"
            ]
        },
        {
            "cell_type": "markdown",
            "id": "69dac96e",
            "metadata": {},
            "source": [
                "### Query dummy dataset\n",
                "\n",
                "Now that she has an idea of what the data looks like, she wants to start querying the real dataset to for her research. However, before this other tools are at her disposal to reduce potential error risks and avoid spending budget on irrelevant queries. Of course, this does not have any impact on the budget.\n",
                "\n",
                "It is possible to specify the flag `dummy=True` in the various queries to perform the query on the dummy dataset instead of the real dataset and ensure that the queries are doing what is expected of them. \n",
                "\n",
                "Therefore Dr. Antartica computes the results that she gets on the dummy dataframe that she created locally and on the same dummy dataframe in the server via a query and compare them to ensure that the query is well defined and works within the server.\n",
                "\n",
                "She tests with an example on the average bill length on the dataframe."
            ]
        },
        {
            "cell_type": "code",
            "execution_count": 7,
            "id": "b6caee55",
            "metadata": {},
            "outputs": [
                {
                    "data": {
                        "text/plain": [
                            "47.51532"
                        ]
                    },
                    "execution_count": 7,
                    "metadata": {},
                    "output_type": "execute_result"
                }
            ],
            "source": [
                "# On the local dummy dataframe\n",
                "result_local_dummy = round(df_dummy['bill_length_mm'].mean(), 5)\n",
                "result_local_dummy"
            ]
        },
        {
            "cell_type": "markdown",
            "id": "c3a37d8d",
            "metadata": {},
            "source": [
                "As the query on the server goes through the same workflow for dummies and real data, she still has to set values for theoratical budget to spend on the dummy query. Of course, this theoretical budget will NOT affect her real budget as this is on dummy data. \n",
                "\n",
                "It is recommended to use very high values on the budget parameters here to have little noise and small difference between the exact local result and the 'little noisy' server result. \n",
                "\n",
                "Also, make sure to use the same values of number of rows and seed to have the same dummy datasets."
            ]
        },
        {
            "cell_type": "code",
            "execution_count": 8,
            "id": "3946425d",
            "metadata": {},
            "outputs": [],
            "source": [
                "# Average bill length in mm\n",
                "QUERY = \"SELECT AVG(bill_length_mm) AS avg_bill_length_mm FROM Schema.Table\""
            ]
        },
        {
            "cell_type": "code",
            "execution_count": 9,
            "id": "90cf2a6d",
            "metadata": {},
            "outputs": [
                {
                    "data": {
                        "text/plain": [
                            "47.520353974395164"
                        ]
                    },
                    "execution_count": 9,
                    "metadata": {},
                    "output_type": "execute_result"
                }
            ],
            "source": [
                "# On the remote server dummy dataframe\n",
                "res = client.smartnoise_query(\n",
                "    query = QUERY,  \n",
                "    epsilon = 100.0, # make sure to select high values of epsilon and delta to have small differences\n",
                "    delta = 2.0,    # make sure to select high values of epsilon and delta to have small differences\n",
                "    dummy = True, \n",
                "    nb_rows = NB_ROWS,\n",
                "    seed = SEED\n",
                ")\n",
                "res_server_dummy = res['query_response'][\"avg_bill_length_mm\"][0]\n",
                "res_server_dummy"
            ]
        },
        {
            "cell_type": "markdown",
            "id": "bb3fa8eb",
            "metadata": {},
            "source": [
                "She then checks that the responses on the dummy locally and the dummy on the server are close enough (difference would be only due to small noise addition)."
            ]
        },
        {
            "cell_type": "code",
            "execution_count": 10,
            "id": "0f2fff82",
            "metadata": {},
            "outputs": [],
            "source": [
                "np.testing.assert_almost_equal(\n",
                "    result_local_dummy, \n",
                "    res_server_dummy,\n",
                "    decimal=2, \n",
                "    err_msg=\"Responses are different, either try with a bigger budget or query is not doing what is intended.\"\n",
                ")"
            ]
        },
        {
            "cell_type": "markdown",
            "id": "5a82abcd",
            "metadata": {},
            "source": [
                "As you can see res_local and res_server are close. We can accept that the small difference is due to the small noise added due to the large values of $\\epsilon$ and $\\delta$."
            ]
        },
        {
            "cell_type": "markdown",
            "id": "324454ed",
            "metadata": {},
            "source": [
                "### Get current budget\n",
                "\n",
                "It is the first time that Dr. Antartica connects to the server and she wants to know how much buget the queen assigned her.\n",
                "Therefore, she calls the fonction `get_initial_budget`."
            ]
        },
        {
            "cell_type": "code",
            "execution_count": 11,
            "id": "61a467f3",
            "metadata": {},
            "outputs": [
                {
                    "data": {
                        "text/plain": [
                            "{'initial_epsilon': 45, 'initial_delta': 0.005}"
                        ]
                    },
                    "execution_count": 11,
                    "metadata": {},
                    "output_type": "execute_result"
                }
            ],
            "source": [
                "client.get_initial_budget()"
            ]
        },
        {
            "cell_type": "markdown",
            "id": "bc8f7a74",
            "metadata": {},
            "source": [
                "She sees that she has 10.0 epsilon and 0.0004 epsilon at her disposal.\n",
                "\n",
                "Then she checks her total spent budget `get_total_spent_budget`. As she only did queries on metadata on dummy dataframes, this should still be 0."
            ]
        },
        {
            "cell_type": "code",
            "execution_count": 12,
            "id": "afd22f84",
            "metadata": {},
            "outputs": [
                {
                    "data": {
                        "text/plain": [
                            "{'total_spent_epsilon': 4.212209302326523,\n",
                            " 'total_spent_delta': 0.00014999500000001387}"
                        ]
                    },
                    "execution_count": 12,
                    "metadata": {},
                    "output_type": "execute_result"
                }
            ],
            "source": [
                "client.get_total_spent_budget()"
            ]
        },
        {
            "cell_type": "markdown",
            "id": "05daf5a4",
            "metadata": {},
            "source": [
                "It will also be useful to know what the remaining budget is. Therefore, she calls the function `get_remaining_budget`. It just substarcts the total spent budget from the initial budget."
            ]
        },
        {
            "cell_type": "code",
            "execution_count": 13,
            "id": "6260cf54",
            "metadata": {},
            "outputs": [
                {
                    "data": {
                        "text/plain": [
                            "{'remaining_epsilon': 40.78779069767348,\n",
                            " 'remaining_delta': 0.004850004999999986}"
                        ]
                    },
                    "execution_count": 13,
                    "metadata": {},
                    "output_type": "execute_result"
                }
            ],
            "source": [
                "client.get_remaining_budget()"
            ]
        },
        {
            "cell_type": "markdown",
            "id": "20298e00",
            "metadata": {},
            "source": [
                "As expected, for now the remaining budget is equal to the inital budget."
            ]
        },
        {
            "cell_type": "markdown",
            "id": "b746374c",
            "metadata": {},
            "source": [
                "### Estimate cost of a query\n",
                "Another safeguard is the functionnality to estimate the cost of a query. As in OpenDP and SmartnoiseSQL, the budget that will by used by a query might be slightly different than what is asked by the user. The `estimate cost` function returns the estimated real cost of any query.\n",
                "\n",
                "Again, of course, this will not impact the user's budget.\n",
                "\n",
                "Dr. Antartica checks the budget that computing the average bill length will really cost her if she asks the query with an `epsilon` and a `delta`."
            ]
        },
        {
            "cell_type": "code",
            "execution_count": 14,
            "id": "133020c6",
            "metadata": {},
            "outputs": [
                {
                    "data": {
                        "text/plain": [
                            "{'epsilon_cost': 2.0, 'delta_cost': 4.999999999999449e-05}"
                        ]
                    },
                    "execution_count": 14,
                    "metadata": {},
                    "output_type": "execute_result"
                }
            ],
            "source": [
                "client.estimate_smartnoise_cost(\n",
                "    query = QUERY, \n",
                "    epsilon = 1.0, \n",
                "    delta = 1e-4\n",
                ")"
            ]
        },
        {
            "cell_type": "markdown",
            "id": "71580822",
            "metadata": {},
            "source": [
                "So this query would actually cost her 3.0 epsilon and a little 1.499e-4 delta. As she does not want to spend to much budget here she tries other values of budget."
            ]
        },
        {
            "cell_type": "code",
            "execution_count": 15,
            "id": "df487c62",
            "metadata": {},
            "outputs": [
                {
                    "data": {
                        "text/plain": [
                            "{'epsilon_cost': 0.4, 'delta_cost': 5.000000000032756e-06}"
                        ]
                    },
                    "execution_count": 15,
                    "metadata": {},
                    "output_type": "execute_result"
                }
            ],
            "source": [
                "client.estimate_smartnoise_cost(\n",
                "    query = QUERY, \n",
                "    epsilon = 0.2, \n",
                "    delta = 1e-5\n",
                ")"
            ]
        },
        {
            "cell_type": "markdown",
            "id": "3c6a3a8c",
            "metadata": {},
            "source": [
                "This query would actually cost her 0.6 epsilon and a similar delta. She decides that it is good enough."
            ]
        },
        {
            "cell_type": "code",
            "execution_count": 16,
            "id": "c9c8d3e7",
            "metadata": {},
            "outputs": [],
            "source": [
                "EPSILON = 0.2\n",
                "DELTA = 1e-5"
            ]
        },
        {
            "cell_type": "markdown",
            "id": "e5379edf",
            "metadata": {},
            "source": [
                "### Query real dataset\n",
                "Now that all the safeguard functions were tested, Dr. Antartica is ready to query on the real dataset and get a differentially private response of the average bill length. By default, the flag `dummy` is False so setting it is optional. She uses the values of `epsilon` and `delta` that she selected just before.\n",
                "\n",
                "Careful: This command DOES spend the budget of the user and the remaining budget is updated for every query."
            ]
        },
        {
            "cell_type": "code",
            "execution_count": 17,
            "id": "19e60263",
            "metadata": {},
            "outputs": [
                {
                    "data": {
                        "text/plain": [
                            "{'remaining_epsilon': 40.78779069767348,\n",
                            " 'remaining_delta': 0.004850004999999986}"
                        ]
                    },
                    "execution_count": 17,
                    "metadata": {},
                    "output_type": "execute_result"
                }
            ],
            "source": [
                "client.get_remaining_budget()"
            ]
        },
        {
            "cell_type": "code",
            "execution_count": 18,
            "id": "69767fac",
            "metadata": {},
            "outputs": [],
            "source": [
                "avg_bill_length_response = client.smartnoise_query(\n",
                "    query = QUERY,  \n",
                "    epsilon = EPSILON, \n",
                "    delta = DELTA,\n",
                "    dummy = False\n",
                ")"
            ]
        },
        {
            "cell_type": "code",
            "execution_count": 19,
            "id": "6dbbdf93",
            "metadata": {},
            "outputs": [
                {
                    "name": "stdout",
                    "output_type": "stream",
                    "text": [
                        "Average bill length: 40.96mm.\n"
                    ]
                }
            ],
            "source": [
                "avg_bill_length = avg_bill_length_response['query_response']['avg_bill_length_mm'].iloc[0]\n",
                "print(f\"Average bill length: {np.round(avg_bill_length, 2)}mm.\")"
            ]
        },
        {
            "cell_type": "markdown",
            "id": "b2767e65",
            "metadata": {},
            "source": [
                "After each query on the real dataset, the budget informations are also returned to the researcher. It is possible possible to check the remaining budget again afterwards:"
            ]
        },
        {
            "cell_type": "code",
            "execution_count": 20,
            "id": "39701fe5",
            "metadata": {},
            "outputs": [
                {
                    "data": {
                        "text/plain": [
                            "{'remaining_epsilon': 40.38779069767348,\n",
                            " 'remaining_delta': 0.0048450049999999535}"
                        ]
                    },
                    "execution_count": 20,
                    "metadata": {},
                    "output_type": "execute_result"
                }
            ],
            "source": [
                "client.get_remaining_budget()"
            ]
        },
        {
            "cell_type": "markdown",
            "id": "e37c587f",
            "metadata": {},
            "source": [
                "As can be seen in `get_total_spent_budget()`, it is the budget estimated with `estimate_cost()` that was spent."
            ]
        },
        {
            "cell_type": "code",
            "execution_count": 21,
            "id": "487f835f",
            "metadata": {},
            "outputs": [
                {
                    "data": {
                        "text/plain": [
                            "{'total_spent_epsilon': 4.612209302326523,\n",
                            " 'total_spent_delta': 0.00015499500000004662}"
                        ]
                    },
                    "execution_count": 21,
                    "metadata": {},
                    "output_type": "execute_result"
                }
            ],
            "source": [
                "client.get_total_spent_budget()"
            ]
        },
        {
            "cell_type": "markdown",
            "id": "eef4afcd",
            "metadata": {},
            "source": [
                "Dr. Antartica has now a differentially private estimation of the bill length of all birds and is confident to use the library for the rest of her analyses."
            ]
        },
        {
            "cell_type": "markdown",
            "id": "04929993",
            "metadata": {},
            "source": [
                "## Step 4: Penguin statistics"
            ]
        },
        {
            "cell_type": "markdown",
            "id": "bbbca191",
            "metadata": {},
            "source": [
                "### Confidence intervals for flipper length over the whole population"
            ]
        },
        {
            "cell_type": "markdown",
            "id": "9d41bd58",
            "metadata": {},
            "source": [
                "She is first interested to have a better idea of the distribution of flipper length of all species. She already has the mean from step 3, so she just need to compute the standard deviation and know the number of penguins in the dataset. As it is just an exploration step, she uses very little budget values."
            ]
        },
        {
            "cell_type": "code",
            "execution_count": 22,
            "id": "04b376ef",
            "metadata": {},
            "outputs": [],
            "source": [
                "QUERY = \"SELECT COUNT(bill_length_mm) AS nb_penguin, STD(bill_length_mm) AS std_bill_length_mm FROM Schema.Table\""
            ]
        },
        {
            "cell_type": "markdown",
            "id": "0b041c81",
            "metadata": {},
            "source": [
                "She again first verifies that her query works on the dummy dataset:"
            ]
        },
        {
            "cell_type": "code",
            "execution_count": 23,
            "id": "5aa9c304",
            "metadata": {},
            "outputs": [
                {
                    "data": {
                        "text/html": [
                            "<div>\n",
                            "<style scoped>\n",
                            "    .dataframe tbody tr th:only-of-type {\n",
                            "        vertical-align: middle;\n",
                            "    }\n",
                            "\n",
                            "    .dataframe tbody tr th {\n",
                            "        vertical-align: top;\n",
                            "    }\n",
                            "\n",
                            "    .dataframe thead th {\n",
                            "        text-align: right;\n",
                            "    }\n",
                            "</style>\n",
                            "<table border=\"1\" class=\"dataframe\">\n",
                            "  <thead>\n",
                            "    <tr style=\"text-align: right;\">\n",
                            "      <th></th>\n",
                            "      <th>nb_penguin</th>\n",
                            "      <th>std_bill_length_mm</th>\n",
                            "    </tr>\n",
                            "  </thead>\n",
                            "  <tbody>\n",
                            "    <tr>\n",
                            "      <th>0</th>\n",
                            "      <td>99</td>\n",
                            "      <td>10.409424</td>\n",
                            "    </tr>\n",
                            "  </tbody>\n",
                            "</table>\n",
                            "</div>"
                        ],
                        "text/plain": [
                            "   nb_penguin  std_bill_length_mm\n",
                            "0          99           10.409424"
                        ]
                    },
                    "execution_count": 23,
                    "metadata": {},
                    "output_type": "execute_result"
                }
            ],
            "source": [
                "dummy_res = client.smartnoise_query(\n",
                "    query = QUERY, \n",
                "    epsilon = 100.0, \n",
                "    delta = 10.0, \n",
                "    dummy = True\n",
                ")\n",
                "dummy_res['query_response']"
            ]
        },
        {
            "cell_type": "markdown",
            "id": "74f68994",
            "metadata": {},
            "source": [
                "The syntax of the query works, now she checks the budget:"
            ]
        },
        {
            "cell_type": "code",
            "execution_count": 24,
            "id": "a8fa2c49",
            "metadata": {},
            "outputs": [
                {
                    "data": {
                        "text/plain": [
                            "{'epsilon_cost': 1.5, 'delta_cost': 5.000000000032756e-06}"
                        ]
                    },
                    "execution_count": 24,
                    "metadata": {},
                    "output_type": "execute_result"
                }
            ],
            "source": [
                "client.estimate_smartnoise_cost(\n",
                "    query = QUERY, \n",
                "    epsilon = 0.5, \n",
                "    delta = 1e-5\n",
                ")"
            ]
        },
        {
            "cell_type": "markdown",
            "id": "bed840d3",
            "metadata": {},
            "source": [
                "It is a bit too much, she decides to test for less:"
            ]
        },
        {
            "cell_type": "code",
            "execution_count": 25,
            "id": "edc97e73",
            "metadata": {},
            "outputs": [
                {
                    "data": {
                        "text/plain": [
                            "{'epsilon_cost': 0.75, 'delta_cost': 5.000000000032756e-06}"
                        ]
                    },
                    "execution_count": 25,
                    "metadata": {},
                    "output_type": "execute_result"
                }
            ],
            "source": [
                "client.estimate_smartnoise_cost(\n",
                "    query = QUERY, \n",
                "    epsilon = 0.25, \n",
                "    delta = 1e-5\n",
                ")"
            ]
        },
        {
            "cell_type": "markdown",
            "id": "da9f81c4",
            "metadata": {},
            "source": [
                "That's fine, she is ready to query:"
            ]
        },
        {
            "cell_type": "code",
            "execution_count": 26,
            "id": "534979fb",
            "metadata": {},
            "outputs": [
                {
                    "data": {
                        "text/html": [
                            "<div>\n",
                            "<style scoped>\n",
                            "    .dataframe tbody tr th:only-of-type {\n",
                            "        vertical-align: middle;\n",
                            "    }\n",
                            "\n",
                            "    .dataframe tbody tr th {\n",
                            "        vertical-align: top;\n",
                            "    }\n",
                            "\n",
                            "    .dataframe thead th {\n",
                            "        text-align: right;\n",
                            "    }\n",
                            "</style>\n",
                            "<table border=\"1\" class=\"dataframe\">\n",
                            "  <thead>\n",
                            "    <tr style=\"text-align: right;\">\n",
                            "      <th></th>\n",
                            "      <th>nb_penguin</th>\n",
                            "      <th>std_bill_length_mm</th>\n",
                            "    </tr>\n",
                            "  </thead>\n",
                            "  <tbody>\n",
                            "    <tr>\n",
                            "      <th>0</th>\n",
                            "      <td>341</td>\n",
                            "      <td>12.099243</td>\n",
                            "    </tr>\n",
                            "  </tbody>\n",
                            "</table>\n",
                            "</div>"
                        ],
                        "text/plain": [
                            "   nb_penguin  std_bill_length_mm\n",
                            "0         341           12.099243"
                        ]
                    },
                    "execution_count": 26,
                    "metadata": {},
                    "output_type": "execute_result"
                }
            ],
            "source": [
                "response = client.smartnoise_query(query = QUERY, epsilon = 0.25, delta = 1e-5)\n",
                "response = response['query_response']\n",
                "response"
            ]
        },
        {
            "cell_type": "code",
            "execution_count": 27,
            "id": "674332e7",
            "metadata": {},
            "outputs": [
                {
                    "name": "stdout",
                    "output_type": "stream",
                    "text": [
                        "Number of penguins: 341.\n",
                        "Standard deviation of bill length: 12.1.\n"
                    ]
                }
            ],
            "source": [
                "nb_penguin = response['nb_penguin'].iloc[0]\n",
                "print(f\"Number of penguins: {nb_penguin}.\")\n",
                "\n",
                "std_bill_length = response['std_bill_length_mm'].iloc[0]\n",
                "print(f\"Standard deviation of bill length: {np.round(std_bill_length, 2)}.\")"
            ]
        },
        {
            "cell_type": "markdown",
            "id": "367081be-1159-45d8-9129-88fba20fb697",
            "metadata": {},
            "source": [
                "She can now do all the postprocessing that she wants with the returned data without adding any privacy risk. "
            ]
        },
        {
            "cell_type": "code",
            "execution_count": 28,
            "id": "f72b19d0",
            "metadata": {},
            "outputs": [
                {
                    "name": "stdout",
                    "output_type": "stream",
                    "text": [
                        "Standard error of bill length: 0.66.\n"
                    ]
                }
            ],
            "source": [
                "# Get standard error\n",
                "standard_error = std_bill_length/np.sqrt(nb_penguin)\n",
                "print(f\"Standard error of bill length: {np.round(standard_error, 2)}.\")"
            ]
        },
        {
            "cell_type": "code",
            "execution_count": 29,
            "id": "62630a03",
            "metadata": {},
            "outputs": [
                {
                    "name": "stdout",
                    "output_type": "stream",
                    "text": [
                        "The 95% confidence interval of the bill length of all penguins is [39.67, 42.24].\n"
                    ]
                }
            ],
            "source": [
                " # Compute the 95% confidence interval\n",
                "ZSCORE = 1.96\n",
                "lower_bound, upper_bound = avg_bill_length - ZSCORE*standard_error, avg_bill_length + ZSCORE*standard_error\n",
                "print(f\"The 95% confidence interval of the bill length of all penguins is [{np.round(lower_bound, 2)}, {np.round(upper_bound, 2)}].\")"
            ]
        },
        {
            "cell_type": "markdown",
            "id": "b5ee7ad2",
            "metadata": {},
            "source": [
                "### Hypothesis testing"
            ]
        },
        {
            "cell_type": "markdown",
            "id": "0f1a3a8d",
            "metadata": {},
            "source": [
                "So, Dr. Antartica has now the opportunity to study the various penguins dimensions and will do an hypotheses testing analysis to discover if flipper length differ between the penguins species.\n",
                "\n",
                "She will do a two-tailed two-sample $t$ test.\n",
                "\n",
                "- The null hypothese $H_0$ is flipper length does not differ between species.\n",
                "- The alternative hypothesis $H_a$ is flipper length does differ between species.\n",
                "\n",
                "She set the level of significance at 0.05."
            ]
        },
        {
            "cell_type": "code",
            "execution_count": 30,
            "id": "7d9ae766-4c0d-4dc5-9c9a-5f7eb99718f9",
            "metadata": {},
            "outputs": [],
            "source": [
                "CRITICAL_VALUE = 0.05"
            ]
        },
        {
            "cell_type": "code",
            "execution_count": 31,
            "id": "5006201d",
            "metadata": {},
            "outputs": [],
            "source": [
                "QUERY = \"SELECT \\\n",
                "        species AS species, \\\n",
                "        COUNT(bill_length_mm) AS nb_penguin,  \\\n",
                "        AVG(bill_length_mm) AS avg_bill_length_mm, \\\n",
                "        STD(bill_length_mm) AS std_bill_length_mm \\\n",
                "        FROM Schema.Table  GROUP BY species\""
            ]
        },
        {
            "cell_type": "markdown",
            "id": "e725eb3f-d12f-4f62-8f57-06fb00639f91",
            "metadata": {},
            "source": [
                "She estimates how much budget it would really cost:"
            ]
        },
        {
            "cell_type": "code",
            "execution_count": 32,
            "id": "0255550b-7fd2-4244-a8eb-da809ddc6a5b",
            "metadata": {},
            "outputs": [
                {
                    "data": {
                        "text/plain": [
                            "{'epsilon_cost': 3.0, 'delta_cost': 4.999999999999449e-05}"
                        ]
                    },
                    "execution_count": 32,
                    "metadata": {},
                    "output_type": "execute_result"
                }
            ],
            "source": [
                "client.estimate_smartnoise_cost(query = QUERY, epsilon = 1, delta = 1e-4)"
            ]
        },
        {
            "cell_type": "markdown",
            "id": "56bf804f-d877-48cb-b405-709b30cda3d1",
            "metadata": {},
            "source": [
                "The real cost seems to be 3 times the epsilon that she sets. It is a lot but she tries on the dummy dataset to verify all is working properly."
            ]
        },
        {
            "cell_type": "code",
            "execution_count": 33,
            "id": "80d9933b",
            "metadata": {},
            "outputs": [
                {
                    "data": {
                        "text/plain": [
                            "{'query_response':      species  nb_penguin  avg_bill_length_mm  std_bill_length_mm\n",
                            " 0     Adelie          37           48.802564           16.367391\n",
                            " 1  Chinstrap          31           48.674401           18.193993\n",
                            " 2     Gentoo          29           42.871735           16.006608}"
                        ]
                    },
                    "execution_count": 33,
                    "metadata": {},
                    "output_type": "execute_result"
                }
            ],
            "source": [
                "dummy_res = client.smartnoise_query(query = QUERY, epsilon = 1, delta = 1.0, dummy = True)\n",
                "dummy_res"
            ]
        },
        {
            "cell_type": "markdown",
            "id": "5691680f-8716-4a99-999a-a2bd5ef6a679",
            "metadata": {},
            "source": [
                "She did not give enough budget for the query to work. This is why there are 'NANs' in the output. She has to spend more budget for the query to work."
            ]
        },
        {
            "cell_type": "code",
            "execution_count": 34,
            "id": "6b014db4-acbd-4ae1-a3b6-397035851583",
            "metadata": {},
            "outputs": [
                {
                    "data": {
                        "text/plain": [
                            "{'remaining_epsilon': 39.63779069767348,\n",
                            " 'remaining_delta': 0.004840004999999921}"
                        ]
                    },
                    "execution_count": 34,
                    "metadata": {},
                    "output_type": "execute_result"
                }
            ],
            "source": [
                "client.get_remaining_budget()"
            ]
        },
        {
            "cell_type": "markdown",
            "id": "43d3488d-3987-4fec-a840-78385e956832",
            "metadata": {},
            "source": [
                "The maximum she can do with all her remaining budget of 7.4 is around 7.4/4 = 1.85. Let's check:"
            ]
        },
        {
            "cell_type": "code",
            "execution_count": 35,
            "id": "99d7998d-daa1-4d5e-aa42-abc5aabdf2e3",
            "metadata": {},
            "outputs": [
                {
                    "data": {
                        "text/plain": [
                            "{'epsilon_cost': 13.799999999999999, 'delta_cost': 4.999999999999449e-05}"
                        ]
                    },
                    "execution_count": 35,
                    "metadata": {},
                    "output_type": "execute_result"
                }
            ],
            "source": [
                "client.estimate_smartnoise_cost(query = QUERY, epsilon = 18.4/4, delta = 1e-4)"
            ]
        },
        {
            "cell_type": "code",
            "execution_count": 36,
            "id": "0e07fde9-9430-4a12-8337-0503ac162c26",
            "metadata": {},
            "outputs": [
                {
                    "data": {
                        "text/plain": [
                            "{'query_response':      species  nb_penguin  avg_bill_length_mm  std_bill_length_mm\n",
                            " 0     Adelie          38           47.857785            8.648739\n",
                            " 1  Chinstrap          32           47.836604            7.641924\n",
                            " 2     Gentoo          28           43.969168            8.793787}"
                        ]
                    },
                    "execution_count": 36,
                    "metadata": {},
                    "output_type": "execute_result"
                }
            ],
            "source": [
                "dummy_res = client.smartnoise_query(query = QUERY, epsilon = 18.4/4, delta = 1e-4, dummy = True)\n",
                "dummy_res"
            ]
        },
        {
            "cell_type": "markdown",
            "id": "e8dadd17",
            "metadata": {},
            "source": [
                "If it errors, she might need to re-run the query a few times until it works. The budget is not affected by dummy queries anyway."
            ]
        },
        {
            "cell_type": "code",
            "execution_count": 37,
            "id": "59f2d665",
            "metadata": {},
            "outputs": [],
            "source": [
                "flipper_length_response = client.smartnoise_query(query = QUERY, epsilon = 18.4/4, delta = 1e-4)"
            ]
        },
        {
            "cell_type": "markdown",
            "id": "78d23e66-2c05-4e35-bba9-7b92710b872a",
            "metadata": {},
            "source": [
                "And now she should not have any remaining budget:"
            ]
        },
        {
            "cell_type": "code",
            "execution_count": 38,
            "id": "6eb20cfb-fa53-496f-940d-9b17b05fa074",
            "metadata": {},
            "outputs": [
                {
                    "data": {
                        "text/plain": [
                            "{'remaining_epsilon': 25.837790697673476,\n",
                            " 'remaining_delta': 0.004790004999999926}"
                        ]
                    },
                    "execution_count": 38,
                    "metadata": {},
                    "output_type": "execute_result"
                }
            ],
            "source": [
                "client.get_remaining_budget()"
            ]
        },
        {
            "cell_type": "markdown",
            "id": "cb96f406-d409-4531-ac86-05f1c9296705",
            "metadata": {},
            "source": [
                "But she can do her post-processing and hypothesis analysis."
            ]
        },
        {
            "cell_type": "code",
            "execution_count": 39,
            "id": "748f125f",
            "metadata": {},
            "outputs": [
                {
                    "data": {
                        "text/html": [
                            "<div>\n",
                            "<style scoped>\n",
                            "    .dataframe tbody tr th:only-of-type {\n",
                            "        vertical-align: middle;\n",
                            "    }\n",
                            "\n",
                            "    .dataframe tbody tr th {\n",
                            "        vertical-align: top;\n",
                            "    }\n",
                            "\n",
                            "    .dataframe thead th {\n",
                            "        text-align: right;\n",
                            "    }\n",
                            "</style>\n",
                            "<table border=\"1\" class=\"dataframe\">\n",
                            "  <thead>\n",
                            "    <tr style=\"text-align: right;\">\n",
                            "      <th></th>\n",
                            "      <th>species</th>\n",
                            "      <th>nb_penguin</th>\n",
                            "      <th>avg_bill_length_mm</th>\n",
                            "      <th>std_bill_length_mm</th>\n",
                            "    </tr>\n",
                            "  </thead>\n",
                            "  <tbody>\n",
                            "    <tr>\n",
                            "      <th>0</th>\n",
                            "      <td>Adelie</td>\n",
                            "      <td>151</td>\n",
                            "      <td>38.792336</td>\n",
                            "      <td>1.141231</td>\n",
                            "    </tr>\n",
                            "    <tr>\n",
                            "      <th>1</th>\n",
                            "      <td>Chinstrap</td>\n",
                            "      <td>68</td>\n",
                            "      <td>48.511042</td>\n",
                            "      <td>5.372100</td>\n",
                            "    </tr>\n",
                            "    <tr>\n",
                            "      <th>2</th>\n",
                            "      <td>Gentoo</td>\n",
                            "      <td>123</td>\n",
                            "      <td>47.285221</td>\n",
                            "      <td>7.091458</td>\n",
                            "    </tr>\n",
                            "  </tbody>\n",
                            "</table>\n",
                            "</div>"
                        ],
                        "text/plain": [
                            "     species  nb_penguin  avg_bill_length_mm  std_bill_length_mm\n",
                            "0     Adelie         151           38.792336            1.141231\n",
                            "1  Chinstrap          68           48.511042            5.372100\n",
                            "2     Gentoo         123           47.285221            7.091458"
                        ]
                    },
                    "execution_count": 39,
                    "metadata": {},
                    "output_type": "execute_result"
                }
            ],
            "source": [
                "df_flipper = flipper_length_response['query_response']\n",
                "df_flipper"
            ]
        },
        {
            "cell_type": "markdown",
            "id": "099129cf",
            "metadata": {},
            "source": [
                "And finally the $t$-test:"
            ]
        },
        {
            "cell_type": "code",
            "execution_count": 40,
            "id": "0a7d7d4d",
            "metadata": {},
            "outputs": [],
            "source": [
                "def t_test(avg_1, avg_2, std_1, std_2, nb_1, nb_2):\n",
                "    standard_error = (std_1 * (nb_1 - 1) + std_2 * (nb_2 - 1))/(nb_1 + nb_2 - 2)\n",
                "    return (avg_1 - avg_2)/np.sqrt(standard_error**2*(1/nb_1 + 1 /nb_2))"
            ]
        },
        {
            "cell_type": "code",
            "execution_count": 41,
            "id": "bc3ee48a",
            "metadata": {},
            "outputs": [],
            "source": [
                "nb_0, avg_0, std_0 = df_flipper[['nb_penguin', 'avg_bill_length_mm', 'std_bill_length_mm']].iloc[0]\n",
                "nb_1, avg_1, std_1 = df_flipper[['nb_penguin', 'avg_bill_length_mm', 'std_bill_length_mm']].iloc[1]\n",
                "nb_2, avg_2, std_2 = df_flipper[['nb_penguin', 'avg_bill_length_mm', 'std_bill_length_mm']].iloc[2]"
            ]
        },
        {
            "cell_type": "code",
            "execution_count": 42,
            "id": "1717f9ea",
            "metadata": {},
            "outputs": [
                {
                    "name": "stdout",
                    "output_type": "stream",
                    "text": [
                        "T test between specie 0 and specie 1: -27.19.  Reject null hypothesis: True.\n",
                        "T test between specie 0 and specie 2: -18.35. Reject null hypothesis: True.\n",
                        "T test between specie 1 and specie 2: 1.25.   Reject null hypothesis: True.\n"
                    ]
                }
            ],
            "source": [
                "t_01 = t_test(avg_0, avg_1, std_0, std_1, nb_0, nb_1)\n",
                "t_02 = t_test(avg_0, avg_2, std_0, std_2, nb_0, nb_2)\n",
                "t_12 = t_test(avg_1, avg_2, std_1, std_2, nb_1, nb_2)\n",
                "\n",
                "print(f\"T test between specie 0 and specie 1: {np.round(t_01, 2)}.  Reject null hypothesis: {abs(t_01) > CRITICAL_VALUE}.\")\n",
                "print(f\"T test between specie 0 and specie 2: {np.round(t_02, 2)}. Reject null hypothesis: {abs(t_02) > CRITICAL_VALUE}.\")\n",
                "print(f\"T test between specie 1 and specie 2: {np.round(t_12, 2)}.   Reject null hypothesis: {abs(t_12) > CRITICAL_VALUE}.\")"
            ]
        },
        {
            "cell_type": "markdown",
            "id": "a557b754-ae7a-490a-8c4b-3928de7101d1",
            "metadata": {},
            "source": [
                "All t-tests are above the critical value of 0.5. She can reject the null hypothesis."
            ]
        },
        {
            "cell_type": "markdown",
            "id": "b4df475b",
            "metadata": {},
            "source": [
                "She finally computes the confidence intervals for the flipper length of each species"
            ]
        },
        {
            "cell_type": "code",
            "execution_count": 43,
            "id": "9289bc26",
            "metadata": {},
            "outputs": [
                {
                    "data": {
                        "text/html": [
                            "<div>\n",
                            "<style scoped>\n",
                            "    .dataframe tbody tr th:only-of-type {\n",
                            "        vertical-align: middle;\n",
                            "    }\n",
                            "\n",
                            "    .dataframe tbody tr th {\n",
                            "        vertical-align: top;\n",
                            "    }\n",
                            "\n",
                            "    .dataframe thead th {\n",
                            "        text-align: right;\n",
                            "    }\n",
                            "</style>\n",
                            "<table border=\"1\" class=\"dataframe\">\n",
                            "  <thead>\n",
                            "    <tr style=\"text-align: right;\">\n",
                            "      <th></th>\n",
                            "      <th>species</th>\n",
                            "      <th>nb_penguin</th>\n",
                            "      <th>avg_bill_length_mm</th>\n",
                            "      <th>std_bill_length_mm</th>\n",
                            "      <th>standard_error</th>\n",
                            "      <th>ci_95_lower_bound</th>\n",
                            "      <th>ci_95_upper_bound</th>\n",
                            "    </tr>\n",
                            "  </thead>\n",
                            "  <tbody>\n",
                            "    <tr>\n",
                            "      <th>0</th>\n",
                            "      <td>Adelie</td>\n",
                            "      <td>151</td>\n",
                            "      <td>38.792336</td>\n",
                            "      <td>1.141231</td>\n",
                            "      <td>0.092872</td>\n",
                            "      <td>38.610306</td>\n",
                            "      <td>38.974365</td>\n",
                            "    </tr>\n",
                            "    <tr>\n",
                            "      <th>1</th>\n",
                            "      <td>Chinstrap</td>\n",
                            "      <td>68</td>\n",
                            "      <td>48.511042</td>\n",
                            "      <td>5.372100</td>\n",
                            "      <td>0.651463</td>\n",
                            "      <td>47.234174</td>\n",
                            "      <td>49.787909</td>\n",
                            "    </tr>\n",
                            "    <tr>\n",
                            "      <th>2</th>\n",
                            "      <td>Gentoo</td>\n",
                            "      <td>123</td>\n",
                            "      <td>47.285221</td>\n",
                            "      <td>7.091458</td>\n",
                            "      <td>0.639415</td>\n",
                            "      <td>46.031967</td>\n",
                            "      <td>48.538474</td>\n",
                            "    </tr>\n",
                            "  </tbody>\n",
                            "</table>\n",
                            "</div>"
                        ],
                        "text/plain": [
                            "     species  nb_penguin  avg_bill_length_mm  std_bill_length_mm   \n",
                            "0     Adelie         151           38.792336            1.141231  \\\n",
                            "1  Chinstrap          68           48.511042            5.372100   \n",
                            "2     Gentoo         123           47.285221            7.091458   \n",
                            "\n",
                            "   standard_error  ci_95_lower_bound  ci_95_upper_bound  \n",
                            "0        0.092872          38.610306          38.974365  \n",
                            "1        0.651463          47.234174          49.787909  \n",
                            "2        0.639415          46.031967          48.538474  "
                        ]
                    },
                    "execution_count": 43,
                    "metadata": {},
                    "output_type": "execute_result"
                }
            ],
            "source": [
                "ZSCORE = 1.96\n",
                "df_flipper['standard_error'] = df_flipper['std_bill_length_mm']/np.sqrt(df_flipper['nb_penguin'])\n",
                "df_flipper['ci_95_lower_bound'] = df_flipper['avg_bill_length_mm'] - ZSCORE * df_flipper['standard_error']\n",
                "df_flipper['ci_95_upper_bound'] = df_flipper['avg_bill_length_mm'] + ZSCORE * df_flipper['standard_error']\n",
                "df_flipper"
            ]
        },
        {
            "cell_type": "markdown",
            "id": "f79e8333-1f06-4019-af3c-94ff2362d036",
            "metadata": {},
            "source": [
                "She can now go and present her findings to queen Icebergina."
            ]
        },
        {
            "cell_type": "code",
            "execution_count": null,
            "id": "cce8dde4-0c9e-43d4-b6ce-890ac7c8efd2",
            "metadata": {},
            "outputs": [],
            "source": []
        }
    ],
    "metadata": {
        "kernelspec": {
            "display_name": "Python 3 (ipykernel)",
            "language": "python",
            "name": "python3"
        },
        "language_info": {
            "codemirror_mode": {
                "name": "ipython",
                "version": 3
            },
            "file_extension": ".py",
            "mimetype": "text/x-python",
            "name": "python",
            "nbconvert_exporter": "python",
            "pygments_lexer": "ipython3",
            "version": "3.11.9"
        }
    },
    "nbformat": 4,
    "nbformat_minor": 5
}