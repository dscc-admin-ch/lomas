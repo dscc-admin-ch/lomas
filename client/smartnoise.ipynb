{
 "cells": [
  {
   "cell_type": "markdown",
   "id": "68fd1422-1430-4b7c-972b-7fd7700eeda3",
   "metadata": {},
   "source": [
    "# Smartnoise-sql"
   ]
  },
  {
   "cell_type": "code",
   "execution_count": 1,
   "id": "d84938c4-e930-4ecc-837b-7c048faa79ad",
   "metadata": {},
   "outputs": [],
   "source": [
    "from snsql import Privacy, from_connection, Stat, Mechanism\n",
    "import pandas as pd"
   ]
  },
  {
   "cell_type": "code",
   "execution_count": 2,
   "id": "fa3b2d22-4737-4039-9d9c-eed24defe6e0",
   "metadata": {},
   "outputs": [],
   "source": [
    "metadata = {'': {'Schema': {'Table': {'max_ids': 1,\n",
    "    'row_privacy': True,\n",
    "    'censor_dims': False,\n",
    "    'species': {'type': 'string',\n",
    "     'cardinality': 3,\n",
    "     'categories': ['Adelie', 'Chinstrap', 'Gentoo']},\n",
    "    'island': {'type': 'string',\n",
    "     'cardinality': 3,\n",
    "     'categories': ['Torgersen', 'Biscoe', 'Dream']},\n",
    "    'bill_length_mm': {'type': 'float', 'lower': 30.0, 'upper': 65.0},\n",
    "    'bill_depth_mm': {'type': 'float', 'lower': 13.0, 'upper': 23.0},\n",
    "    'flipper_length_mm': {'type': 'float', 'lower': 150.0, 'upper': 250.0},\n",
    "    'body_mass_g': {'type': 'float', 'lower': 2000.0, 'upper': 7000.0},\n",
    "    'sex': {'type': 'string',\n",
    "     'cardinality': 2,\n",
    "     'categories': ['MALE', 'FEMALE']}}}},\n",
    " 'engine': 'csv'}"
   ]
  },
  {
   "cell_type": "code",
   "execution_count": 3,
   "id": "a5635383-f707-48e0-94ce-81f58fa8c920",
   "metadata": {},
   "outputs": [
    {
     "data": {
      "text/html": [
       "<div>\n",
       "<style scoped>\n",
       "    .dataframe tbody tr th:only-of-type {\n",
       "        vertical-align: middle;\n",
       "    }\n",
       "\n",
       "    .dataframe tbody tr th {\n",
       "        vertical-align: top;\n",
       "    }\n",
       "\n",
       "    .dataframe thead th {\n",
       "        text-align: right;\n",
       "    }\n",
       "</style>\n",
       "<table border=\"1\" class=\"dataframe\">\n",
       "  <thead>\n",
       "    <tr style=\"text-align: right;\">\n",
       "      <th></th>\n",
       "      <th>species</th>\n",
       "      <th>island</th>\n",
       "      <th>bill_length_mm</th>\n",
       "      <th>bill_depth_mm</th>\n",
       "      <th>flipper_length_mm</th>\n",
       "      <th>body_mass_g</th>\n",
       "      <th>sex</th>\n",
       "    </tr>\n",
       "  </thead>\n",
       "  <tbody>\n",
       "    <tr>\n",
       "      <th>0</th>\n",
       "      <td>Adelie</td>\n",
       "      <td>Torgersen</td>\n",
       "      <td>39.1</td>\n",
       "      <td>18.7</td>\n",
       "      <td>181.0</td>\n",
       "      <td>3750.0</td>\n",
       "      <td>MALE</td>\n",
       "    </tr>\n",
       "    <tr>\n",
       "      <th>1</th>\n",
       "      <td>Adelie</td>\n",
       "      <td>Torgersen</td>\n",
       "      <td>39.5</td>\n",
       "      <td>17.4</td>\n",
       "      <td>186.0</td>\n",
       "      <td>3800.0</td>\n",
       "      <td>FEMALE</td>\n",
       "    </tr>\n",
       "    <tr>\n",
       "      <th>2</th>\n",
       "      <td>Adelie</td>\n",
       "      <td>Torgersen</td>\n",
       "      <td>40.3</td>\n",
       "      <td>18.0</td>\n",
       "      <td>195.0</td>\n",
       "      <td>3250.0</td>\n",
       "      <td>FEMALE</td>\n",
       "    </tr>\n",
       "    <tr>\n",
       "      <th>3</th>\n",
       "      <td>Adelie</td>\n",
       "      <td>Torgersen</td>\n",
       "      <td>NaN</td>\n",
       "      <td>NaN</td>\n",
       "      <td>NaN</td>\n",
       "      <td>NaN</td>\n",
       "      <td>NaN</td>\n",
       "    </tr>\n",
       "    <tr>\n",
       "      <th>4</th>\n",
       "      <td>Adelie</td>\n",
       "      <td>Torgersen</td>\n",
       "      <td>36.7</td>\n",
       "      <td>19.3</td>\n",
       "      <td>193.0</td>\n",
       "      <td>3450.0</td>\n",
       "      <td>FEMALE</td>\n",
       "    </tr>\n",
       "  </tbody>\n",
       "</table>\n",
       "</div>"
      ],
      "text/plain": [
       "  species     island  bill_length_mm  bill_depth_mm  flipper_length_mm   \n",
       "0  Adelie  Torgersen            39.1           18.7              181.0  \\\n",
       "1  Adelie  Torgersen            39.5           17.4              186.0   \n",
       "2  Adelie  Torgersen            40.3           18.0              195.0   \n",
       "3  Adelie  Torgersen             NaN            NaN                NaN   \n",
       "4  Adelie  Torgersen            36.7           19.3              193.0   \n",
       "\n",
       "   body_mass_g     sex  \n",
       "0       3750.0    MALE  \n",
       "1       3800.0  FEMALE  \n",
       "2       3250.0  FEMALE  \n",
       "3          NaN     NaN  \n",
       "4       3450.0  FEMALE  "
      ]
     },
     "execution_count": 3,
     "metadata": {},
     "output_type": "execute_result"
    }
   ],
   "source": [
    "df = pd.read_csv(\"https://raw.githubusercontent.com/mwaskom/seaborn-data/master/penguins.csv\")\n",
    "df.head()"
   ]
  },
  {
   "cell_type": "code",
   "execution_count": 4,
   "id": "08e08ed6-0d71-40cb-bc4c-330cc83cc08d",
   "metadata": {},
   "outputs": [
    {
     "data": {
      "text/html": [
       "<div>\n",
       "<style scoped>\n",
       "    .dataframe tbody tr th:only-of-type {\n",
       "        vertical-align: middle;\n",
       "    }\n",
       "\n",
       "    .dataframe tbody tr th {\n",
       "        vertical-align: top;\n",
       "    }\n",
       "\n",
       "    .dataframe thead th {\n",
       "        text-align: right;\n",
       "    }\n",
       "</style>\n",
       "<table border=\"1\" class=\"dataframe\">\n",
       "  <thead>\n",
       "    <tr style=\"text-align: right;\">\n",
       "      <th></th>\n",
       "      <th>species</th>\n",
       "      <th>count</th>\n",
       "    </tr>\n",
       "  </thead>\n",
       "  <tbody>\n",
       "    <tr>\n",
       "      <th>0</th>\n",
       "      <td>Adelie</td>\n",
       "      <td>152</td>\n",
       "    </tr>\n",
       "    <tr>\n",
       "      <th>1</th>\n",
       "      <td>Chinstrap</td>\n",
       "      <td>68</td>\n",
       "    </tr>\n",
       "    <tr>\n",
       "      <th>2</th>\n",
       "      <td>Gentoo</td>\n",
       "      <td>124</td>\n",
       "    </tr>\n",
       "  </tbody>\n",
       "</table>\n",
       "</div>"
      ],
      "text/plain": [
       "     species  count\n",
       "0     Adelie    152\n",
       "1  Chinstrap     68\n",
       "2     Gentoo    124"
      ]
     },
     "execution_count": 4,
     "metadata": {},
     "output_type": "execute_result"
    }
   ],
   "source": [
    "grouped = df.groupby('species').size().reset_index(name='count')\n",
    "grouped"
   ]
  },
  {
   "cell_type": "code",
   "execution_count": 5,
   "id": "fb5ffae8-b27e-46c7-995e-616af756e92f",
   "metadata": {},
   "outputs": [],
   "source": [
    "privacy = Privacy(epsilon=1.0, delta=0.0001)\n",
    "privacy.mechanisms.map[Stat['count']] = Mechanism[\"discrete_gaussian\"]"
   ]
  },
  {
   "cell_type": "code",
   "execution_count": 6,
   "id": "3239ceb0-8794-4333-897d-89fc5e43d84e",
   "metadata": {},
   "outputs": [
    {
     "name": "stderr",
     "output_type": "stream",
     "text": [
      "/usr/local/lib/python3.8/site-packages/snsql/sql/private_reader.py:136: UserWarning: The following columns are of type float: bill_length_mm, bill_depth_mm, flipper_length_mm, body_mass_g. \n",
      "summary statistics over floats will use Mechanism.laplace, which is not floating-point safe, \n",
      "This could lead to privacy leaks.\n",
      "  warnings.warn(\n"
     ]
    }
   ],
   "source": [
    "reader = from_connection(df, privacy=privacy, metadata=metadata)"
   ]
  },
  {
   "cell_type": "code",
   "execution_count": 7,
   "id": "346cd124-c7fe-4ea0-93b3-9eb3b6ef2b2d",
   "metadata": {},
   "outputs": [],
   "source": [
    "QUERY = \"SELECT \\\n",
    "        species AS species, \\\n",
    "        COUNT(*) AS nb_penguin,  \\\n",
    "        AVG(bill_length_mm) AS avg_bill_length_mm, \\\n",
    "        STD(bill_length_mm) AS std_bill_length_mm \\\n",
    "        FROM Schema.Table  GROUP BY species\""
   ]
  },
  {
   "cell_type": "code",
   "execution_count": 8,
   "id": "20b95203-a308-4c6e-a924-fefead0c724d",
   "metadata": {},
   "outputs": [],
   "source": [
    "QUERY = \"SELECT AVG(bill_length_mm) AS avg_bill_length_mm FROM Schema.Table\""
   ]
  },
  {
   "cell_type": "markdown",
   "id": "f9629c17-dbd6-4853-91bf-7724ff1771c6",
   "metadata": {},
   "source": [
    "## Pre agg, port process and mechanisms"
   ]
  },
  {
   "cell_type": "code",
   "execution_count": 9,
   "id": "5cb4d867-e87d-47cc-904c-304e09dafeae",
   "metadata": {},
   "outputs": [],
   "source": [
    "pre_agg = [\n",
    "    ['species', 'count_star'],\n",
    "    ['Adelie', 152],\n",
    "    ['Chinstrap', 68],\n",
    "    ['Gentoo', 124]\n",
    "]"
   ]
  },
  {
   "cell_type": "code",
   "execution_count": 24,
   "id": "32641ed2-921c-423e-96b4-d93129ce54f3",
   "metadata": {},
   "outputs": [],
   "source": [
    "query = \"SELECT species AS species, COUNT(*) AS nb_penguin FROM Schema.Table GROUP BY species\""
   ]
  },
  {
   "cell_type": "code",
   "execution_count": 25,
   "id": "ba74d4ad-894c-448e-932d-1d8f6385d943",
   "metadata": {},
   "outputs": [
    {
     "data": {
      "text/plain": [
       "(1.0, 0.00014999500000001387)"
      ]
     },
     "execution_count": 25,
     "metadata": {},
     "output_type": "execute_result"
    }
   ],
   "source": [
    "result = reader.get_privacy_cost(query)\n",
    "result"
   ]
  },
  {
   "cell_type": "code",
   "execution_count": 26,
   "id": "2d589ee5-a978-4881-b2c5-62ddab821068",
   "metadata": {},
   "outputs": [
    {
     "data": {
      "text/plain": [
       "[['Adelie', 152], ['Chinstrap', 69], ['Gentoo', 126]]"
      ]
     },
     "execution_count": 26,
     "metadata": {},
     "output_type": "execute_result"
    }
   ],
   "source": [
    "result = reader.execute(query, postprocess=False, pre_aggregated = pre_agg)\n",
    "list(result)"
   ]
  },
  {
   "cell_type": "code",
   "execution_count": 27,
   "id": "c58f5fba-53fb-41b7-8196-3c71820f0d04",
   "metadata": {},
   "outputs": [
    {
     "data": {
      "text/plain": [
       "[['species', 'nb_penguin'],\n",
       " ['Adelie', 149],\n",
       " ['Chinstrap', 63],\n",
       " ['Gentoo', 126]]"
      ]
     },
     "execution_count": 27,
     "metadata": {},
     "output_type": "execute_result"
    }
   ],
   "source": [
    "query = \"SELECT species AS species, COUNT(*) AS nb_penguin FROM Schema.Table GROUP BY species\"\n",
    "result = reader.execute(query, postprocess=True, pre_aggregated=pre_agg)\n",
    "list(result)"
   ]
  },
  {
   "cell_type": "code",
   "execution_count": 12,
   "id": "6a691b21-6138-403b-b817-25982f5a6cd3",
   "metadata": {},
   "outputs": [],
   "source": [
    "mechanisms = {\n",
    "    \"count\": \"discrete_gaussian\"\n",
    "}\n",
    "STATS = [\"count\", \"sum_int\", \"sum_large_int\", \"sum_float\", \"threshold\"]"
   ]
  },
  {
   "cell_type": "code",
   "execution_count": 13,
   "id": "26d8bd1a-2799-4ce4-a865-7d35eb5f0c02",
   "metadata": {},
   "outputs": [],
   "source": [
    "for stat in STATS:\n",
    "    if stat in mechanisms.keys():\n",
    "        privacy.mechanisms.map[Stat[stat]] = Mechanism[mechanisms[stat]]"
   ]
  },
  {
   "cell_type": "code",
   "execution_count": 14,
   "id": "265ea3c2-7438-4185-9927-1fec75153812",
   "metadata": {},
   "outputs": [
    {
     "name": "stdout",
     "output_type": "stream",
     "text": [
      "We default to using Mechanism.discrete_laplace for counts.\n",
      "Switching to use gaussian\n"
     ]
    }
   ],
   "source": [
    "privacy = Privacy(epsilon=1.0)\n",
    "print(f\"We default to using {privacy.mechanisms.map[Stat.count]} for counts.\")\n",
    "print(\"Switching to use gaussian\")\n",
    "privacy.mechanisms.map[Stat['count']] = Mechanism[\"discrete_gaussian\"]"
   ]
  },
  {
   "cell_type": "markdown",
   "id": "e0ff1399-957f-4f49-8db0-b6f59ba1947e",
   "metadata": {},
   "source": [
    "### See expression and budget"
   ]
  },
  {
   "cell_type": "code",
   "execution_count": 15,
   "id": "b0e57e47-4992-4011-8638-49bd8822897d",
   "metadata": {},
   "outputs": [],
   "source": [
    "def get_expressions(query):\n",
    "    subquery, _ = reader._rewrite(query)\n",
    "    expressions = [\n",
    "        f'{str(col.expression)} AS {col.name}'\n",
    "        for col in subquery.select.namedExpressions\n",
    "    ]\n",
    "    return expressions"
   ]
  },
  {
   "cell_type": "code",
   "execution_count": 16,
   "id": "5b878188-ce6e-4fd3-b334-f83593ce3946",
   "metadata": {},
   "outputs": [
    {
     "name": "stdout",
     "output_type": "stream",
     "text": [
      "(1.0, 0.00014999500000001387)\n"
     ]
    },
    {
     "data": {
      "text/plain": [
       "['species AS species', 'COUNT(*) AS count_star']"
      ]
     },
     "execution_count": 16,
     "metadata": {},
     "output_type": "execute_result"
    }
   ],
   "source": [
    "query = \"SELECT species AS species, COUNT(*) AS nb_penguin FROM Schema.Table GROUP BY species\"\n",
    "print(reader.get_privacy_cost(query))\n",
    "get_expressions(query)"
   ]
  },
  {
   "cell_type": "code",
   "execution_count": 17,
   "id": "e20f6fcc-9a66-4844-8aa0-6f836768f3ac",
   "metadata": {},
   "outputs": [
    {
     "name": "stdout",
     "output_type": "stream",
     "text": [
      "(1.0, 4.999999999999449e-05)\n"
     ]
    },
    {
     "data": {
      "text/plain": [
       "['species AS species', 'SUM(bill_length_mm) AS sum_bill_length_mm']"
      ]
     },
     "execution_count": 17,
     "metadata": {},
     "output_type": "execute_result"
    }
   ],
   "source": [
    "query = \"SELECT species AS species, SUM(bill_length_mm) * SUM(bill_length_mm) AS sum_squared FROM Schema.Table GROUP BY species\"\n",
    "print(reader.get_privacy_cost(query))\n",
    "get_expressions(query)"
   ]
  },
  {
   "cell_type": "code",
   "execution_count": 18,
   "id": "181a96e8-a8d7-47ad-9726-52d37dcbad95",
   "metadata": {},
   "outputs": [
    {
     "name": "stdout",
     "output_type": "stream",
     "text": [
      "(2.0, 0.00014999500000001387)\n"
     ]
    },
    {
     "data": {
      "text/plain": [
       "['species AS species',\n",
       " 'SUM(bill_length_mm) AS sum_bill_length_mm',\n",
       " 'COUNT(bill_length_mm) AS count_bill_length_mm']"
      ]
     },
     "execution_count": 18,
     "metadata": {},
     "output_type": "execute_result"
    }
   ],
   "source": [
    "query = \"SELECT species AS species, AVG(bill_length_mm) AS avg_bill_length_mm FROM Schema.Table GROUP BY species\"\n",
    "print(reader.get_privacy_cost(query))\n",
    "get_expressions(query)"
   ]
  },
  {
   "cell_type": "code",
   "execution_count": 19,
   "id": "c92cd159-a674-496a-95c4-89604298c3ff",
   "metadata": {},
   "outputs": [
    {
     "name": "stdout",
     "output_type": "stream",
     "text": [
      "(3.0, 0.00014999500000001387)\n"
     ]
    },
    {
     "data": {
      "text/plain": [
       "['species AS species',\n",
       " 'SUM(bill_length_mm * bill_length_mm) AS sum_alias_0xd6d2',\n",
       " 'COUNT(bill_length_mm) AS count_bill_length_mm',\n",
       " 'SUM(bill_length_mm) AS sum_bill_length_mm']"
      ]
     },
     "execution_count": 19,
     "metadata": {},
     "output_type": "execute_result"
    }
   ],
   "source": [
    "query = \"SELECT STD(bill_length_mm) AS std_bill_length_mm FROM Schema.Table GROUP BY species\"\n",
    "print(reader.get_privacy_cost(query))\n",
    "get_expressions(query)"
   ]
  },
  {
   "cell_type": "code",
   "execution_count": 20,
   "id": "9b67aa13-b1b2-43d6-9667-36de2158870f",
   "metadata": {},
   "outputs": [
    {
     "name": "stdout",
     "output_type": "stream",
     "text": [
      "(3.0, 0.00014999500000001387)\n"
     ]
    },
    {
     "data": {
      "text/plain": [
       "['species AS species',\n",
       " 'SUM(bill_length_mm * bill_length_mm) AS sum_alias_0xd6d2',\n",
       " 'COUNT(bill_length_mm) AS count_bill_length_mm',\n",
       " 'SUM(bill_length_mm) AS sum_bill_length_mm']"
      ]
     },
     "execution_count": 20,
     "metadata": {},
     "output_type": "execute_result"
    }
   ],
   "source": [
    "query = \"SELECT species AS species, STD(bill_length_mm) AS std_bill_length_mm FROM Schema.Table GROUP BY species\"\n",
    "print(reader.get_privacy_cost(query))\n",
    "get_expressions(query)"
   ]
  },
  {
   "cell_type": "code",
   "execution_count": 21,
   "id": "73467406-676d-428e-9d01-1decc2fa8f89",
   "metadata": {},
   "outputs": [
    {
     "name": "stdout",
     "output_type": "stream",
     "text": [
      "(4.0, 0.0002499800004999164)\n"
     ]
    },
    {
     "data": {
      "text/plain": [
       "['species AS species',\n",
       " 'COUNT(*) AS count_star',\n",
       " 'SUM(bill_length_mm) AS sum_bill_length_mm',\n",
       " 'COUNT(bill_length_mm) AS count_bill_length_mm',\n",
       " 'SUM(bill_length_mm * bill_length_mm) AS sum_alias_0xd6d2']"
      ]
     },
     "execution_count": 21,
     "metadata": {},
     "output_type": "execute_result"
    }
   ],
   "source": [
    "query = \"SELECT \\\n",
    "        species AS species, \\\n",
    "        COUNT(*) AS nb_penguin,  \\\n",
    "        AVG(bill_length_mm) AS avg_bill_length_mm, \\\n",
    "        STD(bill_length_mm) AS std_bill_length_mm \\\n",
    "        FROM Schema.Table  GROUP BY species\"\n",
    "print(reader.get_privacy_cost(query))\n",
    "get_expressions(query)"
   ]
  },
  {
   "cell_type": "code",
   "execution_count": 22,
   "id": "f480ea9a-d4fc-4ba4-904e-dbb12d71ad40",
   "metadata": {},
   "outputs": [
    {
     "name": "stdout",
     "output_type": "stream",
     "text": [
      "(3.0, 0.00014999500000001387)\n"
     ]
    },
    {
     "data": {
      "text/plain": [
       "['species AS species',\n",
       " 'COUNT(bill_length_mm) AS count_bill_length_mm',\n",
       " 'SUM(bill_length_mm) AS sum_bill_length_mm',\n",
       " 'SUM(bill_length_mm * bill_length_mm) AS sum_alias_0xd6d2']"
      ]
     },
     "execution_count": 22,
     "metadata": {},
     "output_type": "execute_result"
    }
   ],
   "source": [
    "query = \"SELECT \\\n",
    "        species AS species, \\\n",
    "        COUNT(bill_length_mm) AS nb_penguin,  \\\n",
    "        AVG(bill_length_mm) AS avg_bill_length_mm, \\\n",
    "        STD(bill_length_mm) AS std_bill_length_mm \\\n",
    "        FROM Schema.Table  GROUP BY species\"\n",
    "print(reader.get_privacy_cost(query))\n",
    "get_expressions(query)"
   ]
  },
  {
   "cell_type": "markdown",
   "id": "34e39d02-91de-47be-881d-7f30a28f3f01",
   "metadata": {},
   "source": [
    "### Multiple queries"
   ]
  },
  {
   "cell_type": "code",
   "execution_count": 29,
   "id": "3982233c-f83c-45b5-a3a6-5b7bdfb2a8c7",
   "metadata": {},
   "outputs": [
    {
     "data": {
      "text/plain": [
       "'SELECT AVG(bill_length_mm) AS avg_bill_length_mm FROM Schema.Table'"
      ]
     },
     "execution_count": 29,
     "metadata": {},
     "output_type": "execute_result"
    }
   ],
   "source": [
    "QUERY"
   ]
  },
  {
   "cell_type": "code",
   "execution_count": 30,
   "id": "513619dc-f054-46a8-b1e4-cb4651cc1406",
   "metadata": {},
   "outputs": [
    {
     "ename": "TypeError",
     "evalue": "ord() expected a character, but string of length 66 found",
     "output_type": "error",
     "traceback": [
      "\u001b[0;31m---------------------------------------------------------------------------\u001b[0m",
      "\u001b[0;31mTypeError\u001b[0m                                 Traceback (most recent call last)",
      "Cell \u001b[0;32mIn[30], line 2\u001b[0m\n\u001b[1;32m      1\u001b[0m query \u001b[38;5;241m=\u001b[39m \u001b[38;5;124m\"\u001b[39m\u001b[38;5;124mSELECT species AS species, COUNT(*) AS nb_penguin FROM Schema.Table GROUP BY species\u001b[39m\u001b[38;5;124m\"\u001b[39m\n\u001b[0;32m----> 2\u001b[0m result \u001b[38;5;241m=\u001b[39m \u001b[43mreader\u001b[49m\u001b[38;5;241;43m.\u001b[39;49m\u001b[43mexecute\u001b[49m\u001b[43m(\u001b[49m\u001b[43m[\u001b[49m\u001b[43mQUERY\u001b[49m\u001b[43m,\u001b[49m\u001b[43m \u001b[49m\u001b[43mquery\u001b[49m\u001b[43m]\u001b[49m\u001b[43m)\u001b[49m\n\u001b[1;32m      3\u001b[0m result\n",
      "File \u001b[0;32m/usr/local/lib/python3.8/site-packages/snsql/sql/private_reader.py:486\u001b[0m, in \u001b[0;36mPrivateReader.execute\u001b[0;34m(self, query_string, accuracy, pre_aggregated, postprocess, *ignore)\u001b[0m\n\u001b[1;32m    467\u001b[0m \u001b[38;5;28;01mdef\u001b[39;00m \u001b[38;5;21mexecute\u001b[39m(\u001b[38;5;28mself\u001b[39m, query_string, accuracy:\u001b[38;5;28mbool\u001b[39m\u001b[38;5;241m=\u001b[39m\u001b[38;5;28;01mFalse\u001b[39;00m, \u001b[38;5;241m*\u001b[39mignore, pre_aggregated\u001b[38;5;241m=\u001b[39m\u001b[38;5;28;01mNone\u001b[39;00m, postprocess:\u001b[38;5;28mbool\u001b[39m\u001b[38;5;241m=\u001b[39m\u001b[38;5;28;01mTrue\u001b[39;00m):\n\u001b[1;32m    468\u001b[0m \u001b[38;5;250m    \u001b[39m\u001b[38;5;124;03m\"\"\"Executes a query and returns a recordset that is differentially private.\u001b[39;00m\n\u001b[1;32m    469\u001b[0m \n\u001b[1;32m    470\u001b[0m \u001b[38;5;124;03m    Follows ODBC and DB_API convention of consuming query as a string and returning\u001b[39;00m\n\u001b[0;32m   (...)\u001b[0m\n\u001b[1;32m    484\u001b[0m \n\u001b[1;32m    485\u001b[0m \u001b[38;5;124;03m    \"\"\"\u001b[39;00m\n\u001b[0;32m--> 486\u001b[0m     query \u001b[38;5;241m=\u001b[39m \u001b[38;5;28;43mself\u001b[39;49m\u001b[38;5;241;43m.\u001b[39;49m\u001b[43mparse_query_string\u001b[49m\u001b[43m(\u001b[49m\u001b[43mquery_string\u001b[49m\u001b[43m)\u001b[49m\n\u001b[1;32m    487\u001b[0m     \u001b[38;5;28;01mreturn\u001b[39;00m \u001b[38;5;28mself\u001b[39m\u001b[38;5;241m.\u001b[39m_execute_ast(\n\u001b[1;32m    488\u001b[0m         query, \n\u001b[1;32m    489\u001b[0m         accuracy\u001b[38;5;241m=\u001b[39maccuracy, \n\u001b[1;32m    490\u001b[0m         pre_aggregated\u001b[38;5;241m=\u001b[39mpre_aggregated, \n\u001b[1;32m    491\u001b[0m         postprocess\u001b[38;5;241m=\u001b[39mpostprocess\n\u001b[1;32m    492\u001b[0m     )\n",
      "File \u001b[0;32m/usr/local/lib/python3.8/site-packages/snsql/sql/private_reader.py:267\u001b[0m, in \u001b[0;36mPrivateReader.parse_query_string\u001b[0;34m(self, query_string)\u001b[0m\n\u001b[1;32m    254\u001b[0m \u001b[38;5;28;01mdef\u001b[39;00m \u001b[38;5;21mparse_query_string\u001b[39m(\u001b[38;5;28mself\u001b[39m, query_string) \u001b[38;5;241m-\u001b[39m\u001b[38;5;241m>\u001b[39m Query:\n\u001b[1;32m    255\u001b[0m \u001b[38;5;250m    \u001b[39m\u001b[38;5;124;03m\"\"\"Parse a query string, returning an AST `Query` object.\u001b[39;00m\n\u001b[1;32m    256\u001b[0m \n\u001b[1;32m    257\u001b[0m \u001b[38;5;124;03m    .. code-block:: python\u001b[39;00m\n\u001b[0;32m   (...)\u001b[0m\n\u001b[1;32m    265\u001b[0m \n\u001b[1;32m    266\u001b[0m \u001b[38;5;124;03m    \"\"\"\u001b[39;00m\n\u001b[0;32m--> 267\u001b[0m     queries \u001b[38;5;241m=\u001b[39m \u001b[43mQueryParser\u001b[49m\u001b[43m(\u001b[49m\u001b[38;5;28;43mself\u001b[39;49m\u001b[38;5;241;43m.\u001b[39;49m\u001b[43mmetadata\u001b[49m\u001b[43m)\u001b[49m\u001b[38;5;241;43m.\u001b[39;49m\u001b[43mqueries\u001b[49m\u001b[43m(\u001b[49m\u001b[43mquery_string\u001b[49m\u001b[43m)\u001b[49m\n\u001b[1;32m    268\u001b[0m     \u001b[38;5;28;01mif\u001b[39;00m \u001b[38;5;28mlen\u001b[39m(queries) \u001b[38;5;241m>\u001b[39m \u001b[38;5;241m1\u001b[39m:\n\u001b[1;32m    269\u001b[0m         \u001b[38;5;28;01mraise\u001b[39;00m \u001b[38;5;167;01mValueError\u001b[39;00m(\u001b[38;5;124m\"\u001b[39m\u001b[38;5;124mToo many queries provided.  We can only execute one query at a time.\u001b[39m\u001b[38;5;124m\"\u001b[39m)\n",
      "File \u001b[0;32m/usr/local/lib/python3.8/site-packages/snsql/sql/parse.py:38\u001b[0m, in \u001b[0;36mQueryParser.queries\u001b[0;34m(self, query_string, metadata)\u001b[0m\n\u001b[1;32m     35\u001b[0m \u001b[38;5;28;01melif\u001b[39;00m metadata:\n\u001b[1;32m     36\u001b[0m     metadata \u001b[38;5;241m=\u001b[39m Metadata\u001b[38;5;241m.\u001b[39mfrom_(metadata)\n\u001b[0;32m---> 38\u001b[0m istream \u001b[38;5;241m=\u001b[39m \u001b[43mInputStream\u001b[49m\u001b[43m(\u001b[49m\u001b[43mquery_string\u001b[49m\u001b[43m)\u001b[49m\n\u001b[1;32m     39\u001b[0m parser \u001b[38;5;241m=\u001b[39m \u001b[38;5;28mself\u001b[39m\u001b[38;5;241m.\u001b[39mstart_parser(istream)\n\u001b[1;32m     40\u001b[0m bv \u001b[38;5;241m=\u001b[39m BatchVisitor()\n",
      "File \u001b[0;32m/usr/local/lib/python3.8/site-packages/antlr4/InputStream.py:20\u001b[0m, in \u001b[0;36mInputStream.__init__\u001b[0;34m(self, data)\u001b[0m\n\u001b[1;32m     18\u001b[0m \u001b[38;5;28mself\u001b[39m\u001b[38;5;241m.\u001b[39mname \u001b[38;5;241m=\u001b[39m \u001b[38;5;124m\"\u001b[39m\u001b[38;5;124m<empty>\u001b[39m\u001b[38;5;124m\"\u001b[39m\n\u001b[1;32m     19\u001b[0m \u001b[38;5;28mself\u001b[39m\u001b[38;5;241m.\u001b[39mstrdata \u001b[38;5;241m=\u001b[39m data\n\u001b[0;32m---> 20\u001b[0m \u001b[38;5;28;43mself\u001b[39;49m\u001b[38;5;241;43m.\u001b[39;49m\u001b[43m_loadString\u001b[49m\u001b[43m(\u001b[49m\u001b[43m)\u001b[49m\n",
      "File \u001b[0;32m/usr/local/lib/python3.8/site-packages/antlr4/InputStream.py:24\u001b[0m, in \u001b[0;36mInputStream._loadString\u001b[0;34m(self)\u001b[0m\n\u001b[1;32m     22\u001b[0m \u001b[38;5;28;01mdef\u001b[39;00m \u001b[38;5;21m_loadString\u001b[39m(\u001b[38;5;28mself\u001b[39m):\n\u001b[1;32m     23\u001b[0m     \u001b[38;5;28mself\u001b[39m\u001b[38;5;241m.\u001b[39m_index \u001b[38;5;241m=\u001b[39m \u001b[38;5;241m0\u001b[39m\n\u001b[0;32m---> 24\u001b[0m     \u001b[38;5;28mself\u001b[39m\u001b[38;5;241m.\u001b[39mdata \u001b[38;5;241m=\u001b[39m [\u001b[38;5;28mord\u001b[39m(c) \u001b[38;5;28;01mfor\u001b[39;00m c \u001b[38;5;129;01min\u001b[39;00m \u001b[38;5;28mself\u001b[39m\u001b[38;5;241m.\u001b[39mstrdata]\n\u001b[1;32m     25\u001b[0m     \u001b[38;5;28mself\u001b[39m\u001b[38;5;241m.\u001b[39m_size \u001b[38;5;241m=\u001b[39m \u001b[38;5;28mlen\u001b[39m(\u001b[38;5;28mself\u001b[39m\u001b[38;5;241m.\u001b[39mdata)\n",
      "File \u001b[0;32m/usr/local/lib/python3.8/site-packages/antlr4/InputStream.py:24\u001b[0m, in \u001b[0;36m<listcomp>\u001b[0;34m(.0)\u001b[0m\n\u001b[1;32m     22\u001b[0m \u001b[38;5;28;01mdef\u001b[39;00m \u001b[38;5;21m_loadString\u001b[39m(\u001b[38;5;28mself\u001b[39m):\n\u001b[1;32m     23\u001b[0m     \u001b[38;5;28mself\u001b[39m\u001b[38;5;241m.\u001b[39m_index \u001b[38;5;241m=\u001b[39m \u001b[38;5;241m0\u001b[39m\n\u001b[0;32m---> 24\u001b[0m     \u001b[38;5;28mself\u001b[39m\u001b[38;5;241m.\u001b[39mdata \u001b[38;5;241m=\u001b[39m [\u001b[38;5;28;43mord\u001b[39;49m\u001b[43m(\u001b[49m\u001b[43mc\u001b[49m\u001b[43m)\u001b[49m \u001b[38;5;28;01mfor\u001b[39;00m c \u001b[38;5;129;01min\u001b[39;00m \u001b[38;5;28mself\u001b[39m\u001b[38;5;241m.\u001b[39mstrdata]\n\u001b[1;32m     25\u001b[0m     \u001b[38;5;28mself\u001b[39m\u001b[38;5;241m.\u001b[39m_size \u001b[38;5;241m=\u001b[39m \u001b[38;5;28mlen\u001b[39m(\u001b[38;5;28mself\u001b[39m\u001b[38;5;241m.\u001b[39mdata)\n",
      "\u001b[0;31mTypeError\u001b[0m: ord() expected a character, but string of length 66 found"
     ]
    }
   ],
   "source": [
    "query = \"SELECT species AS species, COUNT(*) AS nb_penguin FROM Schema.Table GROUP BY species\"\n",
    "result = reader.execute([QUERY, query])\n",
    "result"
   ]
  },
  {
   "cell_type": "code",
   "execution_count": null,
   "id": "109364dc-ebcd-43cd-9284-531949112185",
   "metadata": {},
   "outputs": [],
   "source": []
  },
  {
   "cell_type": "code",
   "execution_count": null,
   "id": "7981f954-2b41-4719-bde4-84361da1ea8c",
   "metadata": {},
   "outputs": [],
   "source": []
  },
  {
   "cell_type": "code",
   "execution_count": null,
   "id": "b6194c54-1a0d-487a-80c6-97c09c572ecc",
   "metadata": {},
   "outputs": [],
   "source": []
  },
  {
   "cell_type": "markdown",
   "id": "86d69df4-9599-4abf-908d-a6744be9e120",
   "metadata": {},
   "source": [
    "## Via Server"
   ]
  },
  {
   "cell_type": "code",
   "execution_count": 108,
   "id": "cec55d84-a5f7-4ccc-bcaa-0bc00065a279",
   "metadata": {},
   "outputs": [],
   "source": [
    "from fso_sdd_demo.client import Client\n",
    "import numpy as np"
   ]
  },
  {
   "cell_type": "code",
   "execution_count": 109,
   "id": "0b29bdc8-9f8e-4168-a1c1-c254891bd618",
   "metadata": {},
   "outputs": [],
   "source": [
    "APP_URL = \"http://sdd_server_dev:80\"\n",
    "USER_NAME = \"Dr. Antartica\"\n",
    "DATASET_NAME = \"PENGUIN\"\n",
    "client = Client(url=APP_URL, user_name = USER_NAME, dataset_name = DATASET_NAME)"
   ]
  },
  {
   "cell_type": "code",
   "execution_count": 110,
   "id": "4be8cc28-9734-4ff8-83b0-e2e7b3507060",
   "metadata": {},
   "outputs": [
    {
     "data": {
      "text/plain": [
       "{'': {'Schema': {'Table': {'max_ids': 1,\n",
       "    'row_privacy': True,\n",
       "    'censor_dims': False,\n",
       "    'species': {'type': 'string',\n",
       "     'cardinality': 3,\n",
       "     'categories': ['Adelie', 'Chinstrap', 'Gentoo']},\n",
       "    'island': {'type': 'string',\n",
       "     'cardinality': 3,\n",
       "     'categories': ['Torgersen', 'Biscoe', 'Dream']},\n",
       "    'bill_length_mm': {'type': 'float', 'lower': 30.0, 'upper': 65.0},\n",
       "    'bill_depth_mm': {'type': 'float', 'lower': 13.0, 'upper': 23.0},\n",
       "    'flipper_length_mm': {'type': 'float', 'lower': 150.0, 'upper': 250.0},\n",
       "    'body_mass_g': {'type': 'float', 'lower': 2000.0, 'upper': 7000.0},\n",
       "    'sex': {'type': 'string',\n",
       "     'cardinality': 2,\n",
       "     'categories': ['MALE', 'FEMALE']}}}},\n",
       " 'engine': 'csv'}"
      ]
     },
     "execution_count": 110,
     "metadata": {},
     "output_type": "execute_result"
    }
   ],
   "source": [
    "metadata = client.get_dataset_metadata()\n",
    "metadata"
   ]
  },
  {
   "cell_type": "code",
   "execution_count": 154,
   "id": "9d228acb-994b-4936-bfac-84adbf1e36da",
   "metadata": {},
   "outputs": [],
   "source": [
    "# QUERY = \"SELECT AVG(bill_length_mm) AS avg_bill_length_mm FROM Schema.Table\" #  {\"sum_int\": \"laplace\"}\n",
    "# QUERY = \"SELECT COUNT(*) AS NB_ROW FROM Schema.Table\" # {\"count\": \"discrete_gaussian\"}\n",
    "QUERY = \"SELECT \\\n",
    "        species AS species, \\\n",
    "        COUNT(*) AS nb_penguin,  \\\n",
    "        AVG(bill_length_mm) AS avg_bill_length_mm, \\\n",
    "        STD(bill_length_mm) AS std_bill_length_mm \\\n",
    "        FROM Schema.Table  GROUP BY species\""
   ]
  },
  {
   "cell_type": "code",
   "execution_count": 164,
   "id": "382605e8-f8a4-4b48-a498-445c4b029a90",
   "metadata": {},
   "outputs": [],
   "source": [
    "NB_ROWS = 200\n",
    "SEED = 0\n",
    "\n",
    "res = client.smartnoise_query(\n",
    "    query = QUERY,  \n",
    "    epsilon = 100.0,\n",
    "    delta = 2.0,\n",
    "    mechanisms = {\"sum_int\": \"laplace\"},\n",
    "    postprocess = True,\n",
    "    dummy = True, \n",
    "    nb_rows = NB_ROWS,\n",
    "    seed = SEED\n",
    ")"
   ]
  },
  {
   "cell_type": "code",
   "execution_count": 165,
   "id": "3cc6c6cd-ddae-43ae-b093-8472ab012304",
   "metadata": {},
   "outputs": [
    {
     "data": {
      "text/html": [
       "<div>\n",
       "<style scoped>\n",
       "    .dataframe tbody tr th:only-of-type {\n",
       "        vertical-align: middle;\n",
       "    }\n",
       "\n",
       "    .dataframe tbody tr th {\n",
       "        vertical-align: top;\n",
       "    }\n",
       "\n",
       "    .dataframe thead th {\n",
       "        text-align: right;\n",
       "    }\n",
       "</style>\n",
       "<table border=\"1\" class=\"dataframe\">\n",
       "  <thead>\n",
       "    <tr style=\"text-align: right;\">\n",
       "      <th></th>\n",
       "      <th>species</th>\n",
       "      <th>nb_penguin</th>\n",
       "      <th>avg_bill_length_mm</th>\n",
       "      <th>std_bill_length_mm</th>\n",
       "    </tr>\n",
       "  </thead>\n",
       "  <tbody>\n",
       "    <tr>\n",
       "      <th>0</th>\n",
       "      <td>Adelie</td>\n",
       "      <td>58</td>\n",
       "      <td>47.120315</td>\n",
       "      <td>9.999328</td>\n",
       "    </tr>\n",
       "    <tr>\n",
       "      <th>1</th>\n",
       "      <td>Chinstrap</td>\n",
       "      <td>75</td>\n",
       "      <td>47.895683</td>\n",
       "      <td>10.137082</td>\n",
       "    </tr>\n",
       "    <tr>\n",
       "      <th>2</th>\n",
       "      <td>Gentoo</td>\n",
       "      <td>67</td>\n",
       "      <td>47.391628</td>\n",
       "      <td>9.918179</td>\n",
       "    </tr>\n",
       "  </tbody>\n",
       "</table>\n",
       "</div>"
      ],
      "text/plain": [
       "     species  nb_penguin  avg_bill_length_mm  std_bill_length_mm\n",
       "0     Adelie          58           47.120315            9.999328\n",
       "1  Chinstrap          75           47.895683           10.137082\n",
       "2     Gentoo          67           47.391628            9.918179"
      ]
     },
     "execution_count": 165,
     "metadata": {},
     "output_type": "execute_result"
    }
   ],
   "source": [
    "res_server_dummy = res['query_response']\n",
    "res_server_dummy"
   ]
  },
  {
   "cell_type": "code",
   "execution_count": 167,
   "id": "2ceefe2d-ae19-48a9-9489-db3813c29815",
   "metadata": {},
   "outputs": [
    {
     "data": {
      "text/plain": [
       "{'epsilon_cost': 4.0, 'delta_cost': 0.00014999500000001387}"
      ]
     },
     "execution_count": 167,
     "metadata": {},
     "output_type": "execute_result"
    }
   ],
   "source": [
    "client.estimate_smartnoise_cost(\n",
    "    query = QUERY, \n",
    "    epsilon = 1.0, \n",
    "    delta = 1e-4,\n",
    "    mechanisms = {\"sum_int\": \"laplace\"}\n",
    ")"
   ]
  },
  {
   "cell_type": "code",
   "execution_count": 178,
   "id": "ff148a66-cd09-49e0-a95f-744f0fcb5cb9",
   "metadata": {},
   "outputs": [],
   "source": [
    "res = client.smartnoise_query(\n",
    "    query = QUERY,  \n",
    "    epsilon = 0.2,\n",
    "    delta = 1e-5,\n",
    "    mechanisms = {\"sum_int\": \"laplace\"},\n",
    "    #postprocess = True,\n",
    "    dummy = True, \n",
    "    nb_rows = NB_ROWS,\n",
    "    seed = SEED\n",
    ")"
   ]
  },
  {
   "cell_type": "code",
   "execution_count": 179,
   "id": "5c22bfae-a829-483a-a6e9-52807cef573e",
   "metadata": {},
   "outputs": [
    {
     "data": {
      "text/html": [
       "<div>\n",
       "<style scoped>\n",
       "    .dataframe tbody tr th:only-of-type {\n",
       "        vertical-align: middle;\n",
       "    }\n",
       "\n",
       "    .dataframe tbody tr th {\n",
       "        vertical-align: top;\n",
       "    }\n",
       "\n",
       "    .dataframe thead th {\n",
       "        text-align: right;\n",
       "    }\n",
       "</style>\n",
       "<table border=\"1\" class=\"dataframe\">\n",
       "  <thead>\n",
       "    <tr style=\"text-align: right;\">\n",
       "      <th></th>\n",
       "      <th>species</th>\n",
       "      <th>nb_penguin</th>\n",
       "      <th>avg_bill_length_mm</th>\n",
       "      <th>std_bill_length_mm</th>\n",
       "    </tr>\n",
       "  </thead>\n",
       "  <tbody>\n",
       "    <tr>\n",
       "      <th>0</th>\n",
       "      <td>Adelie</td>\n",
       "      <td>44</td>\n",
       "      <td>37.383913</td>\n",
       "      <td>37.213453</td>\n",
       "    </tr>\n",
       "    <tr>\n",
       "      <th>1</th>\n",
       "      <td>Chinstrap</td>\n",
       "      <td>77</td>\n",
       "      <td>46.621092</td>\n",
       "      <td>21.515840</td>\n",
       "    </tr>\n",
       "    <tr>\n",
       "      <th>2</th>\n",
       "      <td>Gentoo</td>\n",
       "      <td>77</td>\n",
       "      <td>36.947055</td>\n",
       "      <td>35.157860</td>\n",
       "    </tr>\n",
       "  </tbody>\n",
       "</table>\n",
       "</div>"
      ],
      "text/plain": [
       "     species  nb_penguin  avg_bill_length_mm  std_bill_length_mm\n",
       "0     Adelie          44           37.383913           37.213453\n",
       "1  Chinstrap          77           46.621092           21.515840\n",
       "2     Gentoo          77           36.947055           35.157860"
      ]
     },
     "execution_count": 179,
     "metadata": {},
     "output_type": "execute_result"
    }
   ],
   "source": [
    "res['query_response']"
   ]
  },
  {
   "cell_type": "code",
   "execution_count": 196,
   "id": "c0098876-b42b-4838-b602-a17b300bbb6d",
   "metadata": {},
   "outputs": [],
   "source": [
    "EPSILON = 0.2\n",
    "DELTA = 1e-5\n",
    "\n",
    "avg_bill_length_response = client.smartnoise_query(\n",
    "    query = QUERY,  \n",
    "    epsilon = EPSILON, \n",
    "    delta = DELTA,\n",
    "    mechanisms = {\"sum_int\": \"laplace\"},\n",
    "    #postprocess = True\n",
    ")"
   ]
  },
  {
   "cell_type": "code",
   "execution_count": 197,
   "id": "62809a66-46a0-4ad6-9907-0d928f09d070",
   "metadata": {},
   "outputs": [
    {
     "data": {
      "text/html": [
       "<div>\n",
       "<style scoped>\n",
       "    .dataframe tbody tr th:only-of-type {\n",
       "        vertical-align: middle;\n",
       "    }\n",
       "\n",
       "    .dataframe tbody tr th {\n",
       "        vertical-align: top;\n",
       "    }\n",
       "\n",
       "    .dataframe thead th {\n",
       "        text-align: right;\n",
       "    }\n",
       "</style>\n",
       "<table border=\"1\" class=\"dataframe\">\n",
       "  <thead>\n",
       "    <tr style=\"text-align: right;\">\n",
       "      <th></th>\n",
       "      <th>species</th>\n",
       "      <th>nb_penguin</th>\n",
       "      <th>avg_bill_length_mm</th>\n",
       "      <th>std_bill_length_mm</th>\n",
       "    </tr>\n",
       "  </thead>\n",
       "  <tbody>\n",
       "    <tr>\n",
       "      <th>0</th>\n",
       "      <td>Adelie</td>\n",
       "      <td>149</td>\n",
       "      <td>35.658620</td>\n",
       "      <td>25.310481</td>\n",
       "    </tr>\n",
       "    <tr>\n",
       "      <th>1</th>\n",
       "      <td>Chinstrap</td>\n",
       "      <td>68</td>\n",
       "      <td>36.093032</td>\n",
       "      <td>33.664268</td>\n",
       "    </tr>\n",
       "    <tr>\n",
       "      <th>2</th>\n",
       "      <td>Gentoo</td>\n",
       "      <td>123</td>\n",
       "      <td>46.702786</td>\n",
       "      <td>9.648210</td>\n",
       "    </tr>\n",
       "  </tbody>\n",
       "</table>\n",
       "</div>"
      ],
      "text/plain": [
       "     species  nb_penguin  avg_bill_length_mm  std_bill_length_mm\n",
       "0     Adelie         149           35.658620           25.310481\n",
       "1  Chinstrap          68           36.093032           33.664268\n",
       "2     Gentoo         123           46.702786            9.648210"
      ]
     },
     "execution_count": 197,
     "metadata": {},
     "output_type": "execute_result"
    }
   ],
   "source": [
    "avg_bill_length_response['query_response']"
   ]
  },
  {
   "cell_type": "code",
   "execution_count": null,
   "id": "e7596962-04f0-408c-bf4d-c3c449b67c0f",
   "metadata": {},
   "outputs": [],
   "source": []
  }
 ],
 "metadata": {
  "kernelspec": {
   "display_name": "Python 3 (ipykernel)",
   "language": "python",
   "name": "python3"
  },
  "language_info": {
   "codemirror_mode": {
    "name": "ipython",
    "version": 3
   },
   "file_extension": ".py",
   "mimetype": "text/x-python",
   "name": "python",
   "nbconvert_exporter": "python",
   "pygments_lexer": "ipython3",
   "version": "3.8.18"
  }
 },
 "nbformat": 4,
 "nbformat_minor": 5
}
