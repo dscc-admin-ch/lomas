{
 "cells": [
  {
   "cell_type": "markdown",
   "id": "6a0da113-4587-4743-855b-6325158fbe48",
   "metadata": {},
   "source": [
    "# OpenDP"
   ]
  },
  {
   "cell_type": "code",
   "execution_count": 4,
   "id": "b1db5e2f-baee-4c8f-9908-0b86b69fe19b",
   "metadata": {},
   "outputs": [
    {
     "data": {
      "text/html": [
       "<div>\n",
       "<style scoped>\n",
       "    .dataframe tbody tr th:only-of-type {\n",
       "        vertical-align: middle;\n",
       "    }\n",
       "\n",
       "    .dataframe tbody tr th {\n",
       "        vertical-align: top;\n",
       "    }\n",
       "\n",
       "    .dataframe thead th {\n",
       "        text-align: right;\n",
       "    }\n",
       "</style>\n",
       "<table border=\"1\" class=\"dataframe\">\n",
       "  <thead>\n",
       "    <tr style=\"text-align: right;\">\n",
       "      <th></th>\n",
       "      <th>species</th>\n",
       "      <th>island</th>\n",
       "      <th>bill_length_mm</th>\n",
       "      <th>bill_depth_mm</th>\n",
       "      <th>flipper_length_mm</th>\n",
       "      <th>body_mass_g</th>\n",
       "      <th>sex</th>\n",
       "    </tr>\n",
       "  </thead>\n",
       "  <tbody>\n",
       "    <tr>\n",
       "      <th>0</th>\n",
       "      <td>Adelie</td>\n",
       "      <td>Torgersen</td>\n",
       "      <td>39.1</td>\n",
       "      <td>18.7</td>\n",
       "      <td>181.0</td>\n",
       "      <td>3750.0</td>\n",
       "      <td>MALE</td>\n",
       "    </tr>\n",
       "    <tr>\n",
       "      <th>1</th>\n",
       "      <td>Adelie</td>\n",
       "      <td>Torgersen</td>\n",
       "      <td>39.5</td>\n",
       "      <td>17.4</td>\n",
       "      <td>186.0</td>\n",
       "      <td>3800.0</td>\n",
       "      <td>FEMALE</td>\n",
       "    </tr>\n",
       "  </tbody>\n",
       "</table>\n",
       "</div>"
      ],
      "text/plain": [
       "  species     island  bill_length_mm  bill_depth_mm  flipper_length_mm   \n",
       "0  Adelie  Torgersen            39.1           18.7              181.0  \\\n",
       "1  Adelie  Torgersen            39.5           17.4              186.0   \n",
       "\n",
       "   body_mass_g     sex  \n",
       "0       3750.0    MALE  \n",
       "1       3800.0  FEMALE  "
      ]
     },
     "execution_count": 4,
     "metadata": {},
     "output_type": "execute_result"
    }
   ],
   "source": [
    "import pandas as pd\n",
    "\n",
    "df = pd.read_csv(\"https://raw.githubusercontent.com/mwaskom/seaborn-data/master/penguins.csv\")\n",
    "df.head(2)"
   ]
  },
  {
   "cell_type": "markdown",
   "id": "4b4a3942-828c-483b-adfd-2520a5644762",
   "metadata": {},
   "source": [
    "## Logger in notebook"
   ]
  },
  {
   "cell_type": "code",
   "execution_count": 5,
   "id": "4bd3cd3c-c5cf-4d03-a41c-50d2e152c819",
   "metadata": {},
   "outputs": [],
   "source": [
    "import opendp_polars.prelude as dp\n",
    "import opendp_polars.transformations as trans\n",
    "import opendp_polars.measurements as meas\n",
    "from opendp_logger import make_load_json\n",
    "\n",
    "dp.enable_features(\"contrib\")"
   ]
  },
  {
   "cell_type": "markdown",
   "id": "d9167280-04bb-4103-87e6-91b2ad04c883",
   "metadata": {},
   "source": [
    "### Basic OpenDP"
   ]
  },
  {
   "cell_type": "code",
   "execution_count": 6,
   "id": "2b0b5f39-69bb-470c-8143-5937ef191822",
   "metadata": {},
   "outputs": [],
   "source": [
    "columns = [\"species\", \"island\", \"bill_length_mm\", \"bill_depth_mm\", \"flipper_length_mm\", \"body_mass_g\", \"sex\"]\n",
    "bill_length_min, bill_length_max = 30.0, 60.0\n",
    "nb_penguins = 343\n",
    "avg_bill_length = 44.13"
   ]
  },
  {
   "cell_type": "code",
   "execution_count": 7,
   "id": "6e692bd1-2d86-4ba3-8097-f4649e8b9d13",
   "metadata": {},
   "outputs": [],
   "source": [
    "bill_length_transformation_pipeline = (\n",
    "    trans.make_split_dataframe(separator=\",\", col_names=columns) >>\n",
    "    trans.make_select_column(key=\"bill_length_mm\", TOA=str) >>\n",
    "    trans.then_cast_default(TOA=float) >>\n",
    "    trans.then_clamp(bounds=(bill_length_min, bill_length_max)) >>\n",
    "    trans.then_resize(size=nb_penguins, constant=avg_bill_length) >>\n",
    "    trans.then_variance() >>\n",
    "    meas.then_laplace(scale=5.0)\n",
    ")"
   ]
  },
  {
   "cell_type": "code",
   "execution_count": 8,
   "id": "50c8f462-6ef8-4c17-ba4a-faa159f32cd7",
   "metadata": {},
   "outputs": [],
   "source": [
    "client_pipeline = bill_length_transformation_pipeline.to_json()"
   ]
  },
  {
   "cell_type": "code",
   "execution_count": 9,
   "id": "8157f32f-c667-405b-8535-2e32c850b18c",
   "metadata": {},
   "outputs": [],
   "source": [
    "opendp_pipe = make_load_json(client_pipeline)"
   ]
  },
  {
   "cell_type": "code",
   "execution_count": 10,
   "id": "eee8b530-e31a-4229-a20f-a3b51e621b37",
   "metadata": {},
   "outputs": [
    {
     "data": {
      "text/plain": [
       "0.5247813411085608"
      ]
     },
     "execution_count": 10,
     "metadata": {},
     "output_type": "execute_result"
    }
   ],
   "source": [
    "cost = opendp_pipe.map(d_in=1)\n",
    "cost"
   ]
  },
  {
   "cell_type": "code",
   "execution_count": 11,
   "id": "2442a42e-9942-4385-a6e5-472c9e838f6b",
   "metadata": {},
   "outputs": [
    {
     "data": {
      "text/plain": [
       "-15.265025718710955"
      ]
     },
     "execution_count": 11,
     "metadata": {},
     "output_type": "execute_result"
    }
   ],
   "source": [
    "release_data = opendp_pipe(df.to_csv())\n",
    "release_data"
   ]
  },
  {
   "cell_type": "markdown",
   "id": "acedfb70-f178-46ec-bd27-f972bad0ccca",
   "metadata": {},
   "source": [
    "### OpenDP Polars"
   ]
  },
  {
   "cell_type": "code",
   "execution_count": 22,
   "id": "c626bd1b-3023-4bfc-b10e-e85f6522ab46",
   "metadata": {},
   "outputs": [],
   "source": [
    "import polars as pl"
   ]
  },
  {
   "cell_type": "code",
   "execution_count": 23,
   "id": "84135676-030f-4580-816e-b7d4b7d44bab",
   "metadata": {},
   "outputs": [],
   "source": [
    "# Define dtype domain with bounds\n",
    "lf_domain = dp.lazyframe_domain([\n",
    "    dp.series_domain(\"species\", dp.atom_domain(T=str)),\n",
    "    dp.series_domain(\"island\", dp.atom_domain(T=str)),\n",
    "    dp.series_domain(\"bill_length_mm\", dp.atom_domain(T=float, bounds=(30.0, 65.0))),\n",
    "    dp.series_domain(\"bill_depth_mm\", dp.atom_domain(T=float)),\n",
    "    dp.series_domain(\"flipper_length_mm\", dp.atom_domain(T=float)),\n",
    "    dp.series_domain(\"body_mass_g\", dp.atom_domain(T=float)),\n",
    "    dp.series_domain(\"sex\", dp.atom_domain(T=str))\n",
    "])"
   ]
  },
  {
   "cell_type": "code",
   "execution_count": 24,
   "id": "0391fa39-03a4-46b4-8d1d-93d037f893e9",
   "metadata": {},
   "outputs": [],
   "source": [
    "total_counts = pl.LazyFrame({\n",
    "    \"counts\": [2_032_543]\n",
    "}, schema_overrides={\"counts\": pl.UInt32})\n",
    "\n",
    "species_counts = pl.LazyFrame({\n",
    "    \"species\": [\"Adelie\", \"Chinstrap\", \"Gentoo\"], \n",
    "    \"counts\": [152, 68, 124]\n",
    "}, schema_overrides={\"species\": pl.Utf8, \"counts\": pl.UInt32})\n",
    "\n",
    "lf_domain = lf_domain.with_counts(total_counts).with_counts(species_counts)"
   ]
  },
  {
   "cell_type": "code",
   "execution_count": 25,
   "id": "b733e619-64b4-484d-98a6-2dceef17dda6",
   "metadata": {},
   "outputs": [
    {
     "name": "stdout",
     "output_type": "stream",
     "text": [
      "[30.0, 35.0, 40.0, 45.0, 50.0, 55.0, 60.0, 65.0]\n"
     ]
    }
   ],
   "source": [
    "# Prepare a list of candidates\n",
    "candidates = [x * 5.0 for x in range(6, 14)]\n",
    "print(candidates)\n",
    "\n",
    "partition = ['species']"
   ]
  },
  {
   "cell_type": "code",
   "execution_count": 26,
   "id": "75fe9cf4-431f-4aa0-b5b8-86e01cdf1e0f",
   "metadata": {},
   "outputs": [],
   "source": [
    "metric = dp.symmetric_distance()\n",
    "expr_domain = dp.expr_domain(lf_domain, grouping_columns=partition)\n",
    "temperature = 1.0"
   ]
  },
  {
   "cell_type": "code",
   "execution_count": 27,
   "id": "59b50378-9dec-45f7-8258-dec444de49c3",
   "metadata": {},
   "outputs": [],
   "source": [
    "def make_quantile_pipeline(quantile):\n",
    "    # Create expression\n",
    "    return (\n",
    "        (dp.csv_domain(lf_domain), metric)\n",
    "        >> dp.t.then_scan_csv()\n",
    "        >> dp.t.then_groupby_stable(partition)\n",
    "        >> dp.m.then_private_agg(\n",
    "            dp.c.make_basic_composition(\n",
    "                [\n",
    "                    (expr_domain, dp.l1(metric))\n",
    "                    >> dp.t.then_col('bill_length_mm')\n",
    "                    >> dp.m.then_private_quantile_expr(candidates, temperature, quantile)\n",
    "                ]\n",
    "            )\n",
    "        )\n",
    "        >> dp.t.make_collect(lf_domain, metric)\n",
    "    )"
   ]
  },
  {
   "cell_type": "code",
   "execution_count": 28,
   "id": "93f5fc7a-c1d5-4247-991a-8c13931752d4",
   "metadata": {},
   "outputs": [],
   "source": [
    "q25 = make_quantile_pipeline(0.25)\n",
    "q50 = make_quantile_pipeline(0.5)\n",
    "q75 = make_quantile_pipeline(0.75)"
   ]
  },
  {
   "cell_type": "code",
   "execution_count": 29,
   "id": "51f0d437-c1fa-43e2-a40c-92670fb0b450",
   "metadata": {},
   "outputs": [
    {
     "data": {
      "text/plain": [
       "<opendp_polars.mod.Measurement at 0x7fed6f4b32c0>"
      ]
     },
     "execution_count": 29,
     "metadata": {},
     "output_type": "execute_result"
    }
   ],
   "source": [
    "q25"
   ]
  },
  {
   "cell_type": "code",
   "execution_count": 30,
   "id": "9002bc22-bff3-4aaa-909d-100b7081de33",
   "metadata": {},
   "outputs": [
    {
     "ename": "ValueError",
     "evalue": "invoke `opendp_logger.enable_logging()` before constructing your measurement",
     "output_type": "error",
     "traceback": [
      "\u001b[0;31m---------------------------------------------------------------------------\u001b[0m",
      "\u001b[0;31mValueError\u001b[0m                                Traceback (most recent call last)",
      "Cell \u001b[0;32mIn[30], line 1\u001b[0m\n\u001b[0;32m----> 1\u001b[0m client_pipeline \u001b[38;5;241m=\u001b[39m \u001b[43mq25\u001b[49m\u001b[38;5;241;43m.\u001b[39;49m\u001b[43mto_json\u001b[49m\u001b[43m(\u001b[49m\u001b[43m)\u001b[49m\n",
      "File \u001b[0;32m/opendp-logger/opendp_logger/serialize.py:67\u001b[0m, in \u001b[0;36mto_json\u001b[0;34m(chain, *args, **kwargs)\u001b[0m\n\u001b[1;32m     65\u001b[0m \u001b[38;5;28;01mdef\u001b[39;00m \u001b[38;5;21mto_json\u001b[39m(chain, \u001b[38;5;241m*\u001b[39margs, \u001b[38;5;241m*\u001b[39m\u001b[38;5;241m*\u001b[39mkwargs):\n\u001b[1;32m     66\u001b[0m     \u001b[38;5;28;01mreturn\u001b[39;00m json\u001b[38;5;241m.\u001b[39mdumps(\n\u001b[0;32m---> 67\u001b[0m         {\u001b[38;5;124m\"\u001b[39m\u001b[38;5;124mversion\u001b[39m\u001b[38;5;124m\"\u001b[39m: OPENDP_VERSION, \u001b[38;5;124m\"\u001b[39m\u001b[38;5;124mast\u001b[39m\u001b[38;5;124m\"\u001b[39m: \u001b[43mchain\u001b[49m\u001b[38;5;241;43m.\u001b[39;49m\u001b[43mto_ast\u001b[49m\u001b[43m(\u001b[49m\u001b[43m)\u001b[49m}, \u001b[38;5;241m*\u001b[39margs, \u001b[38;5;241m*\u001b[39m\u001b[38;5;241m*\u001b[39mkwargs\n\u001b[1;32m     68\u001b[0m     )\n",
      "File \u001b[0;32m/opendp-logger/opendp_logger/serialize.py:53\u001b[0m, in \u001b[0;36mto_ast\u001b[0;34m(item)\u001b[0m\n\u001b[1;32m     50\u001b[0m         msg \u001b[38;5;241m=\u001b[39m \u001b[38;5;124m\"\u001b[39m\u001b[38;5;124minvoke `opendp_logger.enable_logging()` before constructing your measurement\u001b[39m\u001b[38;5;124m\"\u001b[39m\n\u001b[1;32m     51\u001b[0m         \u001b[38;5;28;01mraise\u001b[39;00m \u001b[38;5;167;01mValueError\u001b[39;00m(msg)\n\u001b[0;32m---> 53\u001b[0m     \u001b[38;5;28;01mreturn\u001b[39;00m \u001b[43mto_ast\u001b[49m\u001b[43m(\u001b[49m\u001b[43mitem\u001b[49m\u001b[38;5;241;43m.\u001b[39;49m\u001b[43mlog\u001b[49m\u001b[43m)\u001b[49m\n\u001b[1;32m     54\u001b[0m \u001b[38;5;28;01mif\u001b[39;00m \u001b[38;5;28misinstance\u001b[39m(item, \u001b[38;5;28mtuple\u001b[39m):\n\u001b[1;32m     55\u001b[0m     \u001b[38;5;28;01mreturn\u001b[39;00m [to_ast(e) \u001b[38;5;28;01mfor\u001b[39;00m e \u001b[38;5;129;01min\u001b[39;00m item]\n",
      "File \u001b[0;32m/opendp-logger/opendp_logger/serialize.py:59\u001b[0m, in \u001b[0;36mto_ast\u001b[0;34m(item)\u001b[0m\n\u001b[1;32m     57\u001b[0m     \u001b[38;5;28;01mreturn\u001b[39;00m {\u001b[38;5;124m\"\u001b[39m\u001b[38;5;124m_type\u001b[39m\u001b[38;5;124m\"\u001b[39m: \u001b[38;5;124m\"\u001b[39m\u001b[38;5;124mlist\u001b[39m\u001b[38;5;124m\"\u001b[39m, \u001b[38;5;124m\"\u001b[39m\u001b[38;5;124m_items\u001b[39m\u001b[38;5;124m\"\u001b[39m: [to_ast(e) \u001b[38;5;28;01mfor\u001b[39;00m e \u001b[38;5;129;01min\u001b[39;00m item]}\n\u001b[1;32m     58\u001b[0m \u001b[38;5;28;01mif\u001b[39;00m \u001b[38;5;28misinstance\u001b[39m(item, \u001b[38;5;28mdict\u001b[39m):\n\u001b[0;32m---> 59\u001b[0m     \u001b[38;5;28;01mreturn\u001b[39;00m {key: to_ast(value) \u001b[38;5;28;01mfor\u001b[39;00m key, value \u001b[38;5;129;01min\u001b[39;00m item\u001b[38;5;241m.\u001b[39mitems()}\n\u001b[1;32m     60\u001b[0m \u001b[38;5;28;01mif\u001b[39;00m \u001b[38;5;28misinstance\u001b[39m(item, (dp\u001b[38;5;241m.\u001b[39mRuntimeType, \u001b[38;5;28mtype\u001b[39m)):\n\u001b[1;32m     61\u001b[0m     \u001b[38;5;28;01mreturn\u001b[39;00m \u001b[38;5;28mstr\u001b[39m(dp\u001b[38;5;241m.\u001b[39mRuntimeType\u001b[38;5;241m.\u001b[39mparse(item))\n",
      "File \u001b[0;32m/opendp-logger/opendp_logger/serialize.py:59\u001b[0m, in \u001b[0;36m<dictcomp>\u001b[0;34m(.0)\u001b[0m\n\u001b[1;32m     57\u001b[0m     \u001b[38;5;28;01mreturn\u001b[39;00m {\u001b[38;5;124m\"\u001b[39m\u001b[38;5;124m_type\u001b[39m\u001b[38;5;124m\"\u001b[39m: \u001b[38;5;124m\"\u001b[39m\u001b[38;5;124mlist\u001b[39m\u001b[38;5;124m\"\u001b[39m, \u001b[38;5;124m\"\u001b[39m\u001b[38;5;124m_items\u001b[39m\u001b[38;5;124m\"\u001b[39m: [to_ast(e) \u001b[38;5;28;01mfor\u001b[39;00m e \u001b[38;5;129;01min\u001b[39;00m item]}\n\u001b[1;32m     58\u001b[0m \u001b[38;5;28;01mif\u001b[39;00m \u001b[38;5;28misinstance\u001b[39m(item, \u001b[38;5;28mdict\u001b[39m):\n\u001b[0;32m---> 59\u001b[0m     \u001b[38;5;28;01mreturn\u001b[39;00m {key: \u001b[43mto_ast\u001b[49m\u001b[43m(\u001b[49m\u001b[43mvalue\u001b[49m\u001b[43m)\u001b[49m \u001b[38;5;28;01mfor\u001b[39;00m key, value \u001b[38;5;129;01min\u001b[39;00m item\u001b[38;5;241m.\u001b[39mitems()}\n\u001b[1;32m     60\u001b[0m \u001b[38;5;28;01mif\u001b[39;00m \u001b[38;5;28misinstance\u001b[39m(item, (dp\u001b[38;5;241m.\u001b[39mRuntimeType, \u001b[38;5;28mtype\u001b[39m)):\n\u001b[1;32m     61\u001b[0m     \u001b[38;5;28;01mreturn\u001b[39;00m \u001b[38;5;28mstr\u001b[39m(dp\u001b[38;5;241m.\u001b[39mRuntimeType\u001b[38;5;241m.\u001b[39mparse(item))\n",
      "File \u001b[0;32m/opendp-logger/opendp_logger/serialize.py:55\u001b[0m, in \u001b[0;36mto_ast\u001b[0;34m(item)\u001b[0m\n\u001b[1;32m     53\u001b[0m     \u001b[38;5;28;01mreturn\u001b[39;00m to_ast(item\u001b[38;5;241m.\u001b[39mlog)\n\u001b[1;32m     54\u001b[0m \u001b[38;5;28;01mif\u001b[39;00m \u001b[38;5;28misinstance\u001b[39m(item, \u001b[38;5;28mtuple\u001b[39m):\n\u001b[0;32m---> 55\u001b[0m     \u001b[38;5;28;01mreturn\u001b[39;00m [to_ast(e) \u001b[38;5;28;01mfor\u001b[39;00m e \u001b[38;5;129;01min\u001b[39;00m item]\n\u001b[1;32m     56\u001b[0m \u001b[38;5;28;01mif\u001b[39;00m \u001b[38;5;28misinstance\u001b[39m(item, \u001b[38;5;28mlist\u001b[39m):\n\u001b[1;32m     57\u001b[0m     \u001b[38;5;28;01mreturn\u001b[39;00m {\u001b[38;5;124m\"\u001b[39m\u001b[38;5;124m_type\u001b[39m\u001b[38;5;124m\"\u001b[39m: \u001b[38;5;124m\"\u001b[39m\u001b[38;5;124mlist\u001b[39m\u001b[38;5;124m\"\u001b[39m, \u001b[38;5;124m\"\u001b[39m\u001b[38;5;124m_items\u001b[39m\u001b[38;5;124m\"\u001b[39m: [to_ast(e) \u001b[38;5;28;01mfor\u001b[39;00m e \u001b[38;5;129;01min\u001b[39;00m item]}\n",
      "File \u001b[0;32m/opendp-logger/opendp_logger/serialize.py:55\u001b[0m, in \u001b[0;36m<listcomp>\u001b[0;34m(.0)\u001b[0m\n\u001b[1;32m     53\u001b[0m     \u001b[38;5;28;01mreturn\u001b[39;00m to_ast(item\u001b[38;5;241m.\u001b[39mlog)\n\u001b[1;32m     54\u001b[0m \u001b[38;5;28;01mif\u001b[39;00m \u001b[38;5;28misinstance\u001b[39m(item, \u001b[38;5;28mtuple\u001b[39m):\n\u001b[0;32m---> 55\u001b[0m     \u001b[38;5;28;01mreturn\u001b[39;00m [\u001b[43mto_ast\u001b[49m\u001b[43m(\u001b[49m\u001b[43me\u001b[49m\u001b[43m)\u001b[49m \u001b[38;5;28;01mfor\u001b[39;00m e \u001b[38;5;129;01min\u001b[39;00m item]\n\u001b[1;32m     56\u001b[0m \u001b[38;5;28;01mif\u001b[39;00m \u001b[38;5;28misinstance\u001b[39m(item, \u001b[38;5;28mlist\u001b[39m):\n\u001b[1;32m     57\u001b[0m     \u001b[38;5;28;01mreturn\u001b[39;00m {\u001b[38;5;124m\"\u001b[39m\u001b[38;5;124m_type\u001b[39m\u001b[38;5;124m\"\u001b[39m: \u001b[38;5;124m\"\u001b[39m\u001b[38;5;124mlist\u001b[39m\u001b[38;5;124m\"\u001b[39m, \u001b[38;5;124m\"\u001b[39m\u001b[38;5;124m_items\u001b[39m\u001b[38;5;124m\"\u001b[39m: [to_ast(e) \u001b[38;5;28;01mfor\u001b[39;00m e \u001b[38;5;129;01min\u001b[39;00m item]}\n",
      "File \u001b[0;32m/opendp-logger/opendp_logger/serialize.py:51\u001b[0m, in \u001b[0;36mto_ast\u001b[0;34m(item)\u001b[0m\n\u001b[1;32m     49\u001b[0m     \u001b[38;5;28;01mif\u001b[39;00m \u001b[38;5;129;01mnot\u001b[39;00m \u001b[38;5;28mhasattr\u001b[39m(item, \u001b[38;5;124m\"\u001b[39m\u001b[38;5;124mlog\u001b[39m\u001b[38;5;124m\"\u001b[39m):\n\u001b[1;32m     50\u001b[0m         msg \u001b[38;5;241m=\u001b[39m \u001b[38;5;124m\"\u001b[39m\u001b[38;5;124minvoke `opendp_logger.enable_logging()` before constructing your measurement\u001b[39m\u001b[38;5;124m\"\u001b[39m\n\u001b[0;32m---> 51\u001b[0m         \u001b[38;5;28;01mraise\u001b[39;00m \u001b[38;5;167;01mValueError\u001b[39;00m(msg)\n\u001b[1;32m     53\u001b[0m     \u001b[38;5;28;01mreturn\u001b[39;00m to_ast(item\u001b[38;5;241m.\u001b[39mlog)\n\u001b[1;32m     54\u001b[0m \u001b[38;5;28;01mif\u001b[39;00m \u001b[38;5;28misinstance\u001b[39m(item, \u001b[38;5;28mtuple\u001b[39m):\n",
      "\u001b[0;31mValueError\u001b[0m: invoke `opendp_logger.enable_logging()` before constructing your measurement"
     ]
    }
   ],
   "source": [
    "client_pipeline = q25.to_json()"
   ]
  },
  {
   "cell_type": "code",
   "execution_count": null,
   "id": "c829d82f-3048-4b69-a51e-1dc34975680e",
   "metadata": {},
   "outputs": [],
   "source": []
  },
  {
   "cell_type": "markdown",
   "id": "db2fbf20-5e50-46b0-9c17-ddf17687eeb0",
   "metadata": {},
   "source": [
    "### OpenDP Context"
   ]
  },
  {
   "cell_type": "code",
   "execution_count": 21,
   "id": "b02645eb-3d71-499c-af13-ec957d22d158",
   "metadata": {},
   "outputs": [
    {
     "name": "stdout",
     "output_type": "stream",
     "text": [
      "Collecting opendp==0.8.0\n",
      "  Downloading opendp-0.8.0-py3-none-any.whl (30.1 MB)\n",
      "\u001b[2K     \u001b[90m━━━━━━━━━━━━━━━━━━━━━━━━━━━━━━━━━━━━━━━━\u001b[0m \u001b[32m30.1/30.1 MB\u001b[0m \u001b[31m12.3 MB/s\u001b[0m eta \u001b[36m0:00:00\u001b[0m00:01\u001b[0m00:01\u001b[0m\n",
      "\u001b[?25hInstalling collected packages: opendp\n",
      "  Attempting uninstall: opendp\n",
      "    Found existing installation: opendp 0.6.2\n",
      "    Uninstalling opendp-0.6.2:\n",
      "      Successfully uninstalled opendp-0.6.2\n",
      "\u001b[31mERROR: pip's dependency resolver does not currently take into account all the packages that are installed. This behaviour is the source of the following dependency conflicts.\n",
      "smartnoise-sql 1.0.0 requires opendp<0.7.0,>=0.6.0, but you have opendp 0.8.0 which is incompatible.\u001b[0m\u001b[31m\n",
      "\u001b[0mSuccessfully installed opendp-0.8.0\n",
      "\u001b[33mWARNING: Running pip as the 'root' user can result in broken permissions and conflicting behaviour with the system package manager. It is recommended to use a virtual environment instead: https://pip.pypa.io/warnings/venv\u001b[0m\u001b[33m\n",
      "\u001b[0m\n",
      "\u001b[1m[\u001b[0m\u001b[34;49mnotice\u001b[0m\u001b[1;39;49m]\u001b[0m\u001b[39;49m A new release of pip is available: \u001b[0m\u001b[31;49m23.0.1\u001b[0m\u001b[39;49m -> \u001b[0m\u001b[32;49m23.2.1\u001b[0m\n",
      "\u001b[1m[\u001b[0m\u001b[34;49mnotice\u001b[0m\u001b[1;39;49m]\u001b[0m\u001b[39;49m To update, run: \u001b[0m\u001b[32;49mpip install --upgrade pip\u001b[0m\n"
     ]
    }
   ],
   "source": [
    "!pip install opendp==0.8.0"
   ]
  },
  {
   "cell_type": "code",
   "execution_count": 67,
   "id": "f0d7b6c4-af82-4005-9cb8-9f17572b6752",
   "metadata": {},
   "outputs": [],
   "source": [
    "from typing import List"
   ]
  },
  {
   "cell_type": "code",
   "execution_count": 68,
   "id": "56f7f1ac-9a7d-4afa-a0d3-1ec20cf778ad",
   "metadata": {},
   "outputs": [],
   "source": [
    "context = dp.Context.compositor(\n",
    "    data=[1, 2, 3],\n",
    "    privacy_unit=dp.unit_of(contributions=1),\n",
    "    privacy_loss=dp.loss_of(epsilon=3.0),\n",
    "    domain=dp.domain_of(List[int]),\n",
    "    split_evenly_over=1\n",
    ")"
   ]
  },
  {
   "cell_type": "code",
   "execution_count": 70,
   "id": "c384a367-de57-4000-82e9-dc921ecc8215",
   "metadata": {},
   "outputs": [
    {
     "ename": "AttributeError",
     "evalue": "'PartialConstructor' object has no attribute 'log'",
     "output_type": "error",
     "traceback": [
      "\u001b[0;31m---------------------------------------------------------------------------\u001b[0m",
      "\u001b[0;31mAttributeError\u001b[0m                            Traceback (most recent call last)",
      "Cell \u001b[0;32mIn[70], line 1\u001b[0m\n\u001b[0;32m----> 1\u001b[0m dp_sum \u001b[38;5;241m=\u001b[39m \u001b[43mcontext\u001b[49m\u001b[38;5;241;43m.\u001b[39;49m\u001b[43mquery\u001b[49m\u001b[43m(\u001b[49m\u001b[43m)\u001b[49m\u001b[38;5;241;43m.\u001b[39;49m\u001b[43mclamp\u001b[49m\u001b[43m(\u001b[49m\u001b[43m(\u001b[49m\u001b[38;5;241;43m0\u001b[39;49m\u001b[43m,\u001b[49m\u001b[43m \u001b[49m\u001b[38;5;241;43m5\u001b[39;49m\u001b[43m)\u001b[49m\u001b[43m)\u001b[49m\u001b[38;5;241;43m.\u001b[39;49m\u001b[43msum\u001b[49m\u001b[43m(\u001b[49m\u001b[43m)\u001b[49m\u001b[38;5;241m.\u001b[39mlaplace()\u001b[38;5;241m.\u001b[39mrelease()\n\u001b[1;32m      2\u001b[0m dp_sum\u001b[38;5;241m.\u001b[39mrelease()\n",
      "File \u001b[0;32m/opendp_polars/python/src/opendp_polars/context.py:404\u001b[0m, in \u001b[0;36mQuery.__getattr__.<locals>.make\u001b[0;34m(*args, **kwargs)\u001b[0m\n\u001b[1;32m    402\u001b[0m new_chain \u001b[38;5;241m=\u001b[39m constructor(\u001b[38;5;241m*\u001b[39margs, \u001b[38;5;241m*\u001b[39m\u001b[38;5;241m*\u001b[39mkwargs)\n\u001b[1;32m    403\u001b[0m \u001b[38;5;28;01mif\u001b[39;00m is_partial \u001b[38;5;129;01mor\u001b[39;00m \u001b[38;5;129;01mnot\u001b[39;00m \u001b[38;5;28misinstance\u001b[39m(\u001b[38;5;28mself\u001b[39m\u001b[38;5;241m.\u001b[39m_chain, \u001b[38;5;28mtuple\u001b[39m):\n\u001b[0;32m--> 404\u001b[0m     new_chain \u001b[38;5;241m=\u001b[39m \u001b[38;5;28;43mself\u001b[39;49m\u001b[38;5;241;43m.\u001b[39;49m\u001b[43m_chain\u001b[49m\u001b[43m \u001b[49m\u001b[38;5;241;43m>>\u001b[39;49m\u001b[43m \u001b[49m\u001b[43mnew_chain\u001b[49m\n\u001b[1;32m    406\u001b[0m \u001b[38;5;28;01mreturn\u001b[39;00m \u001b[38;5;28mself\u001b[39m\u001b[38;5;241m.\u001b[39mnew_with(chain\u001b[38;5;241m=\u001b[39mnew_chain)\n",
      "File \u001b[0;32m/opendp-logger/opendp_logger/serialize.py:90\u001b[0m, in \u001b[0;36menable_logging.<locals>.trans_shift_outer\u001b[0;34m(lhs, rhs)\u001b[0m\n\u001b[1;32m     88\u001b[0m chain \u001b[38;5;241m=\u001b[39m trans_shift_inner(lhs, rhs)\n\u001b[1;32m     89\u001b[0m \u001b[38;5;28;01mif\u001b[39;00m \u001b[38;5;28misinstance\u001b[39m(rhs, dp\u001b[38;5;241m.\u001b[39mPartialConstructor):\n\u001b[0;32m---> 90\u001b[0m     chain\u001b[38;5;241m.\u001b[39mlog \u001b[38;5;241m=\u001b[39m {\u001b[38;5;124m\"\u001b[39m\u001b[38;5;124m_type\u001b[39m\u001b[38;5;124m\"\u001b[39m: \u001b[38;5;124m\"\u001b[39m\u001b[38;5;124mpartial_chain\u001b[39m\u001b[38;5;124m\"\u001b[39m, \u001b[38;5;124m\"\u001b[39m\u001b[38;5;124mlhs\u001b[39m\u001b[38;5;124m\"\u001b[39m: lhs\u001b[38;5;241m.\u001b[39mlog, \u001b[38;5;124m\"\u001b[39m\u001b[38;5;124mrhs\u001b[39m\u001b[38;5;124m\"\u001b[39m: \u001b[43mrhs\u001b[49m\u001b[38;5;241;43m.\u001b[39;49m\u001b[43mlog\u001b[49m}\n\u001b[1;32m     91\u001b[0m \u001b[38;5;28;01mreturn\u001b[39;00m chain\n",
      "\u001b[0;31mAttributeError\u001b[0m: 'PartialConstructor' object has no attribute 'log'"
     ]
    }
   ],
   "source": [
    "dp_sum = context.query().clamp((0, 5)).sum().laplace().release()\n",
    "dp_sum.release()"
   ]
  },
  {
   "cell_type": "code",
   "execution_count": null,
   "id": "30159106-a256-44d5-b79f-71b3dd9446d7",
   "metadata": {},
   "outputs": [],
   "source": []
  },
  {
   "cell_type": "markdown",
   "id": "9886ead0-3c46-43a3-bbc9-68749ce15b2a",
   "metadata": {},
   "source": [
    "## Logger in Server"
   ]
  },
  {
   "cell_type": "code",
   "execution_count": 1,
   "id": "e8eebf4e-92fc-4855-a7f3-c73da84c5133",
   "metadata": {},
   "outputs": [],
   "source": [
    "from fso_sdd_demo.client import Client\n",
    "import numpy as np"
   ]
  },
  {
   "cell_type": "code",
   "execution_count": 2,
   "id": "872e80b7-15d7-45a4-89c8-b14ab05226c6",
   "metadata": {},
   "outputs": [],
   "source": [
    "APP_URL = \"http://sdd_server_dev:80\" # Onyxia: \"https://sdd-server-demo.lab.sspcloud.fr\"\n",
    "USER_NAME = \"Dr. Antartica\"\n",
    "DATASET_NAME = \"PENGUIN\"\n",
    "client = Client(url=APP_URL, user_name = USER_NAME, dataset_name = DATASET_NAME)"
   ]
  },
  {
   "cell_type": "code",
   "execution_count": 3,
   "id": "a1f7200b-716b-450c-9530-d9fdd7b5b687",
   "metadata": {},
   "outputs": [
    {
     "data": {
      "text/plain": [
       "{'max_ids': 1,\n",
       " 'row_privacy': True,\n",
       " 'censor_dims': False,\n",
       " 'species': {'type': 'string',\n",
       "  'cardinality': 3,\n",
       "  'categories': ['Adelie', 'Chinstrap', 'Gentoo']},\n",
       " 'island': {'type': 'string',\n",
       "  'cardinality': 3,\n",
       "  'categories': ['Torgersen', 'Biscoe', 'Dream']},\n",
       " 'bill_length_mm': {'type': 'float', 'lower': 30.0, 'upper': 65.0},\n",
       " 'bill_depth_mm': {'type': 'float', 'lower': 13.0, 'upper': 23.0},\n",
       " 'flipper_length_mm': {'type': 'float', 'lower': 150.0, 'upper': 250.0},\n",
       " 'body_mass_g': {'type': 'float', 'lower': 2000.0, 'upper': 7000.0},\n",
       " 'sex': {'type': 'string', 'cardinality': 2, 'categories': ['MALE', 'FEMALE']}}"
      ]
     },
     "execution_count": 3,
     "metadata": {},
     "output_type": "execute_result"
    }
   ],
   "source": [
    "penguin_metadata = client.get_dataset_metadata()['']['Schema']['Table']\n",
    "penguin_metadata"
   ]
  },
  {
   "cell_type": "code",
   "execution_count": null,
   "id": "b6c0099b-9399-4dae-aa84-3ac15a44862c",
   "metadata": {},
   "outputs": [],
   "source": []
  }
 ],
 "metadata": {
  "kernelspec": {
   "display_name": "Python 3 (ipykernel)",
   "language": "python",
   "name": "python3"
  },
  "language_info": {
   "codemirror_mode": {
    "name": "ipython",
    "version": 3
   },
   "file_extension": ".py",
   "mimetype": "text/x-python",
   "name": "python",
   "nbconvert_exporter": "python",
   "pygments_lexer": "ipython3",
   "version": "3.8.18"
  }
 },
 "nbformat": 4,
 "nbformat_minor": 5
}
