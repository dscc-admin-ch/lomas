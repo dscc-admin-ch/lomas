{
 "cells": [
  {
   "cell_type": "markdown",
   "id": "b7ffd914-9ebf-47ac-ba27-282390de1fc8",
   "metadata": {},
   "source": [
    "# Smartnoise Synth"
   ]
  },
  {
   "cell_type": "code",
   "execution_count": 24,
   "id": "c9e7614e-3c1c-4a12-b1e0-235e1e42ca09",
   "metadata": {},
   "outputs": [],
   "source": [
    "from lomas_client import Client\n",
    "from snsynth import Synthesizer # Optional"
   ]
  },
  {
   "cell_type": "code",
   "execution_count": 25,
   "id": "4407847c-dd68-4655-84a6-8013afd4ebfa",
   "metadata": {},
   "outputs": [],
   "source": [
    "APP_URL = \"http://lomas_server\"\n",
    "USER_NAME = \"Dr. Antartica\"\n",
    "DATASET_NAME = \"PUMS\"\n",
    "client = Client(url=APP_URL, user_name = USER_NAME, dataset_name = DATASET_NAME)"
   ]
  },
  {
   "cell_type": "code",
   "execution_count": 26,
   "id": "e45a43df-7f54-45d5-bdf9-2e9f3fad4b9f",
   "metadata": {},
   "outputs": [
    {
     "data": {
      "text/plain": [
       "{'max_ids': 1,\n",
       " 'row_privacy': True,\n",
       " 'censor_dims': False,\n",
       " 'columns': {'age': {'private_id': True, 'type': 'int'},\n",
       "  'sex': {'type': 'boolean'},\n",
       "  'educ': {'type': 'int', 'cardinality': 14},\n",
       "  'race': {'type': 'int', 'cardinality': 6},\n",
       "  'income': {'type': 'float', 'lower': 0.0, 'upper': 500000.0},\n",
       "  'married': {'type': 'boolean'}}}"
      ]
     },
     "execution_count": 26,
     "metadata": {},
     "output_type": "execute_result"
    }
   ],
   "source": [
    "penguin_metadata = client.get_dataset_metadata()\n",
    "penguin_metadata"
   ]
  },
  {
   "cell_type": "code",
   "execution_count": 27,
   "id": "09010e63-2a10-4d97-a6bb-8aa9fa1d8709",
   "metadata": {},
   "outputs": [
    {
     "data": {
      "text/plain": [
       "['mwem', 'dpctgan', 'patectgan', 'mst', 'pacsynth', 'dpgan', 'pategan', 'aim']"
      ]
     },
     "execution_count": 27,
     "metadata": {},
     "output_type": "execute_result"
    }
   ],
   "source": [
    "Synthesizer.list_synthesizers()"
   ]
  },
  {
   "cell_type": "markdown",
   "id": "a48ba6cf-4de0-4128-b082-649402d11db1",
   "metadata": {},
   "source": [
    "### DPCTGAN"
   ]
  },
  {
   "cell_type": "code",
   "execution_count": 28,
   "id": "57dfb6ec-1371-41b6-8546-6540ee1e3ff7",
   "metadata": {},
   "outputs": [
    {
     "data": {
      "text/plain": [
       "{'epsilon_cost': 2.0, 'delta_cost': 0.0001}"
      ]
     },
     "execution_count": 28,
     "metadata": {},
     "output_type": "execute_result"
    }
   ],
   "source": [
    "cost = client.estimate_smartnoise_synth_cost(\n",
    "    synth_name=\"dpctgan\",\n",
    "    epsilon= 2.0,\n",
    "    delta = 0.0001,\n",
    "    select_cols = [\"bill_length_mm\"],\n",
    "    synth_params = {},\n",
    "    nullable = True,\n",
    "    table_transformer_style = \"gan\",\n",
    "    constraints = \"\",\n",
    ")\n",
    "cost"
   ]
  },
  {
   "cell_type": "code",
   "execution_count": 55,
   "id": "c18db6fa-7160-46f8-b299-68a54448afd8",
   "metadata": {},
   "outputs": [
    {
     "name": "stderr",
     "output_type": "stream",
     "text": [
      "/usr/local/lib/python3.11/site-packages/torch/storage.py:414: FutureWarning: You are using `torch.load` with `weights_only=False` (the current default value), which uses the default pickle module implicitly. It is possible to construct malicious pickle data which will execute arbitrary code during unpickling (See https://github.com/pytorch/pytorch/blob/main/SECURITY.md#untrusted-models for more details). In a future release, the default value for `weights_only` will be flipped to `True`. This limits the functions that could be executed during unpickling. Arbitrary objects will no longer be allowed to be loaded via this mode unless they are explicitly allowlisted by the user via `torch.serialization.add_safe_globals`. We recommend you start setting `weights_only=True` for any use case where you don't have full control of the loaded file. Please open an issue on GitHub for any issues related to this experimental feature.\n",
      "  return torch.load(io.BytesIO(b))\n"
     ]
    },
    {
     "data": {
      "text/plain": [
       "{'query_response': <snsynth.pytorch.nn.dpctgan.DPCTGAN at 0x7ff1467fe610>}"
      ]
     },
     "execution_count": 55,
     "metadata": {},
     "output_type": "execute_result"
    }
   ],
   "source": [
    "res = client.smartnoise_synth_query(\n",
    "    synth_name=\"dpctgan\",\n",
    "    epsilon=1,\n",
    "    select_cols = [],\n",
    "    synth_params = {\n",
    "        \"batch_size\": 2,\n",
    "        \"epochs\": 5\n",
    "    },\n",
    "    nullable = True,\n",
    "    table_transformer_style = \"gan\",\n",
    "    dummy = True,\n",
    "    constraints = \"\",\n",
    ")\n",
    "res"
   ]
  },
  {
   "cell_type": "code",
   "execution_count": 56,
   "id": "49ce94e8-bfdb-4f3a-9fcc-2c7b2d3f6013",
   "metadata": {},
   "outputs": [],
   "source": [
    "model = res[\"query_response\"]"
   ]
  },
  {
   "cell_type": "code",
   "execution_count": 57,
   "id": "cac5d5bc-abb6-4d40-a944-eeec22233297",
   "metadata": {},
   "outputs": [
    {
     "data": {
      "text/html": [
       "<div>\n",
       "<style scoped>\n",
       "    .dataframe tbody tr th:only-of-type {\n",
       "        vertical-align: middle;\n",
       "    }\n",
       "\n",
       "    .dataframe tbody tr th {\n",
       "        vertical-align: top;\n",
       "    }\n",
       "\n",
       "    .dataframe thead th {\n",
       "        text-align: right;\n",
       "    }\n",
       "</style>\n",
       "<table border=\"1\" class=\"dataframe\">\n",
       "  <thead>\n",
       "    <tr style=\"text-align: right;\">\n",
       "      <th></th>\n",
       "      <th>age</th>\n",
       "      <th>sex</th>\n",
       "      <th>educ</th>\n",
       "      <th>race</th>\n",
       "      <th>income</th>\n",
       "      <th>married</th>\n",
       "    </tr>\n",
       "  </thead>\n",
       "  <tbody>\n",
       "    <tr>\n",
       "      <th>0</th>\n",
       "      <td>d45c1bef-0b6e-4b57-9c22-3498aaa56877</td>\n",
       "      <td>True</td>\n",
       "      <td>-3415</td>\n",
       "      <td>-1950</td>\n",
       "      <td>3819.301724</td>\n",
       "      <td>False</td>\n",
       "    </tr>\n",
       "    <tr>\n",
       "      <th>1</th>\n",
       "      <td>d90bd9de-8739-4115-a1e0-a8c1dc544946</td>\n",
       "      <td>False</td>\n",
       "      <td>2688</td>\n",
       "      <td>-8782</td>\n",
       "      <td>5441.457033</td>\n",
       "      <td>False</td>\n",
       "    </tr>\n",
       "    <tr>\n",
       "      <th>2</th>\n",
       "      <td>0b5d1ee0-08ee-46e6-b61f-3ce6a94892c6</td>\n",
       "      <td>True</td>\n",
       "      <td>4820</td>\n",
       "      <td>-7951</td>\n",
       "      <td>11818.140745</td>\n",
       "      <td>False</td>\n",
       "    </tr>\n",
       "    <tr>\n",
       "      <th>3</th>\n",
       "      <td>1c544e54-6c29-4101-83d2-af59642f28ff</td>\n",
       "      <td>False</td>\n",
       "      <td>9174</td>\n",
       "      <td>7364</td>\n",
       "      <td>2557.530999</td>\n",
       "      <td>False</td>\n",
       "    </tr>\n",
       "    <tr>\n",
       "      <th>4</th>\n",
       "      <td>1080ac53-a588-4a07-94d5-b1e89a49572e</td>\n",
       "      <td>False</td>\n",
       "      <td>-8364</td>\n",
       "      <td>6990</td>\n",
       "      <td>7413.536310</td>\n",
       "      <td>False</td>\n",
       "    </tr>\n",
       "  </tbody>\n",
       "</table>\n",
       "</div>"
      ],
      "text/plain": [
       "                                    age    sex  educ  race        income  \\\n",
       "0  d45c1bef-0b6e-4b57-9c22-3498aaa56877   True -3415 -1950   3819.301724   \n",
       "1  d90bd9de-8739-4115-a1e0-a8c1dc544946  False  2688 -8782   5441.457033   \n",
       "2  0b5d1ee0-08ee-46e6-b61f-3ce6a94892c6   True  4820 -7951  11818.140745   \n",
       "3  1c544e54-6c29-4101-83d2-af59642f28ff  False  9174  7364   2557.530999   \n",
       "4  1080ac53-a588-4a07-94d5-b1e89a49572e  False -8364  6990   7413.536310   \n",
       "\n",
       "   married  \n",
       "0    False  \n",
       "1    False  \n",
       "2    False  \n",
       "3    False  \n",
       "4    False  "
      ]
     },
     "execution_count": 57,
     "metadata": {},
     "output_type": "execute_result"
    }
   ],
   "source": [
    "model.sample(5)"
   ]
  },
  {
   "cell_type": "code",
   "execution_count": 11,
   "id": "451df18a-6621-4025-807c-af7d792de539",
   "metadata": {},
   "outputs": [
    {
     "data": {
      "text/plain": [
       "'DPCTGAN'"
      ]
     },
     "execution_count": 11,
     "metadata": {},
     "output_type": "execute_result"
    }
   ],
   "source": [
    "model.__class__.__name__"
   ]
  },
  {
   "cell_type": "code",
   "execution_count": 60,
   "id": "9adda78b-b735-4705-a93c-ee5530349b2f",
   "metadata": {},
   "outputs": [
    {
     "data": {
      "text/plain": [
       "{'_embedding_dim': 128,\n",
       " '_generator_dim': (256, 256),\n",
       " '_discriminator_dim': (256, 256),\n",
       " '_generator_lr': 0.0002,\n",
       " '_generator_decay': 1e-06,\n",
       " '_discriminator_lr': 0.0002,\n",
       " '_discriminator_decay': 1e-06,\n",
       " '_batch_size': 2,\n",
       " '_discriminator_steps': 1,\n",
       " '_verbose': True,\n",
       " '_epochs': 5,\n",
       " 'pac': 1,\n",
       " 'sigma': 5,\n",
       " 'disabled_dp': False,\n",
       " 'delta': 0.001,\n",
       " 'max_per_sample_grad_norm': 1.0,\n",
       " 'epsilon': 1.0,\n",
       " 'epsilon_list': [0.028590312727600813,\n",
       "  0.08218579056833558,\n",
       "  0.12402234203412246,\n",
       "  0.15744994423302555,\n",
       "  0.18636981922339252],\n",
       " 'alpha_list': [63.0, 57.0, 43.0, 37.0, 33.0],\n",
       " 'loss_d_list': [tensor(1.3969, requires_grad=True),\n",
       "  tensor(1.4062, requires_grad=True),\n",
       "  tensor(1.3785, requires_grad=True),\n",
       "  tensor(1.3978, requires_grad=True),\n",
       "  tensor(1.4244, requires_grad=True)],\n",
       " 'loss_g_list': [tensor(0.6773, requires_grad=True),\n",
       "  tensor(0.6624, requires_grad=True),\n",
       "  tensor(0.6593, requires_grad=True),\n",
       "  tensor(0.6754, requires_grad=True),\n",
       "  tensor(0.6652, requires_grad=True)],\n",
       " 'verbose': True,\n",
       " 'loss': 'cross_entropy',\n",
       " '_device': device(type='cpu'),\n",
       " '_transformer': <snsynth.transform.table.TableTransformer at 0x7ff14694ce90>,\n",
       " '_data_sampler': <snsynth.pytorch.nn.ctgan.data_sampler.DataSampler at 0x7ff146988c10>,\n",
       " '_generator': Generator(\n",
       "   (seq): Sequential(\n",
       "     (0): Residual(\n",
       "       (fc): Linear(in_features=331, out_features=256, bias=True)\n",
       "       (bn): BatchNorm1d(256, eps=1e-05, momentum=0.1, affine=True, track_running_stats=True)\n",
       "       (relu): ReLU()\n",
       "     )\n",
       "     (1): Residual(\n",
       "       (fc): Linear(in_features=587, out_features=256, bias=True)\n",
       "       (bn): BatchNorm1d(256, eps=1e-05, momentum=0.1, affine=True, track_running_stats=True)\n",
       "       (relu): ReLU()\n",
       "     )\n",
       "     (2): Linear(in_features=843, out_features=205, bias=True)\n",
       "   )\n",
       " )}"
      ]
     },
     "execution_count": 60,
     "metadata": {},
     "output_type": "execute_result"
    }
   ],
   "source": [
    "vars(model)"
   ]
  },
  {
   "cell_type": "code",
   "execution_count": 32,
   "id": "ad9ec3c0-ef46-4450-b46f-e1862a20dd95",
   "metadata": {},
   "outputs": [],
   "source": [
    "import pandas as pd"
   ]
  },
  {
   "cell_type": "code",
   "execution_count": 38,
   "id": "5c4b0e68-76d8-4707-b212-26ec6b9ccf33",
   "metadata": {},
   "outputs": [
    {
     "data": {
      "text/plain": [
       "1000"
      ]
     },
     "execution_count": 38,
     "metadata": {},
     "output_type": "execute_result"
    }
   ],
   "source": [
    "df = pd.read_csv(\"https://raw.githubusercontent.com/opendp/smartnoise-sdk/main/datasets/PUMS.csv\")\n",
    "df.shape[0]"
   ]
  },
  {
   "cell_type": "code",
   "execution_count": 41,
   "id": "3f3c0dad-9f78-44eb-aa50-17fa13b01110",
   "metadata": {},
   "outputs": [
    {
     "data": {
      "text/plain": [
       "age          int64\n",
       "sex          int64\n",
       "educ         int64\n",
       "race         int64\n",
       "income     float64\n",
       "married      int64\n",
       "dtype: object"
      ]
     },
     "execution_count": 41,
     "metadata": {},
     "output_type": "execute_result"
    }
   ],
   "source": [
    "df.dtypes"
   ]
  },
  {
   "cell_type": "code",
   "execution_count": 34,
   "id": "0b766b5c-90a3-4531-a860-a04fe75ee422",
   "metadata": {},
   "outputs": [],
   "source": [
    "model = Synthesizer.create(\n",
    "    synth=\"mwem\",\n",
    "    epsilon=1.0,\n",
    "    verbose=True,\n",
    ")"
   ]
  },
  {
   "cell_type": "code",
   "execution_count": null,
   "id": "90633fd0-21e1-40b1-962f-24ae45dce863",
   "metadata": {},
   "outputs": [],
   "source": []
  },
  {
   "cell_type": "code",
   "execution_count": 16,
   "id": "b37e59e8-1d86-4c02-ac61-8e52775cce4d",
   "metadata": {},
   "outputs": [
    {
     "ename": "ConnectionError",
     "evalue": "('Connection aborted.', RemoteDisconnected('Remote end closed connection without response'))",
     "output_type": "error",
     "traceback": [
      "\u001b[0;31m---------------------------------------------------------------------------\u001b[0m",
      "\u001b[0;31mRemoteDisconnected\u001b[0m                        Traceback (most recent call last)",
      "File \u001b[0;32m/usr/local/lib/python3.11/site-packages/urllib3/connectionpool.py:789\u001b[0m, in \u001b[0;36mHTTPConnectionPool.urlopen\u001b[0;34m(self, method, url, body, headers, retries, redirect, assert_same_host, timeout, pool_timeout, release_conn, chunked, body_pos, preload_content, decode_content, **response_kw)\u001b[0m\n\u001b[1;32m    788\u001b[0m \u001b[38;5;66;03m# Make the request on the HTTPConnection object\u001b[39;00m\n\u001b[0;32m--> 789\u001b[0m response \u001b[38;5;241m=\u001b[39m \u001b[38;5;28;43mself\u001b[39;49m\u001b[38;5;241;43m.\u001b[39;49m\u001b[43m_make_request\u001b[49m\u001b[43m(\u001b[49m\n\u001b[1;32m    790\u001b[0m \u001b[43m    \u001b[49m\u001b[43mconn\u001b[49m\u001b[43m,\u001b[49m\n\u001b[1;32m    791\u001b[0m \u001b[43m    \u001b[49m\u001b[43mmethod\u001b[49m\u001b[43m,\u001b[49m\n\u001b[1;32m    792\u001b[0m \u001b[43m    \u001b[49m\u001b[43murl\u001b[49m\u001b[43m,\u001b[49m\n\u001b[1;32m    793\u001b[0m \u001b[43m    \u001b[49m\u001b[43mtimeout\u001b[49m\u001b[38;5;241;43m=\u001b[39;49m\u001b[43mtimeout_obj\u001b[49m\u001b[43m,\u001b[49m\n\u001b[1;32m    794\u001b[0m \u001b[43m    \u001b[49m\u001b[43mbody\u001b[49m\u001b[38;5;241;43m=\u001b[39;49m\u001b[43mbody\u001b[49m\u001b[43m,\u001b[49m\n\u001b[1;32m    795\u001b[0m \u001b[43m    \u001b[49m\u001b[43mheaders\u001b[49m\u001b[38;5;241;43m=\u001b[39;49m\u001b[43mheaders\u001b[49m\u001b[43m,\u001b[49m\n\u001b[1;32m    796\u001b[0m \u001b[43m    \u001b[49m\u001b[43mchunked\u001b[49m\u001b[38;5;241;43m=\u001b[39;49m\u001b[43mchunked\u001b[49m\u001b[43m,\u001b[49m\n\u001b[1;32m    797\u001b[0m \u001b[43m    \u001b[49m\u001b[43mretries\u001b[49m\u001b[38;5;241;43m=\u001b[39;49m\u001b[43mretries\u001b[49m\u001b[43m,\u001b[49m\n\u001b[1;32m    798\u001b[0m \u001b[43m    \u001b[49m\u001b[43mresponse_conn\u001b[49m\u001b[38;5;241;43m=\u001b[39;49m\u001b[43mresponse_conn\u001b[49m\u001b[43m,\u001b[49m\n\u001b[1;32m    799\u001b[0m \u001b[43m    \u001b[49m\u001b[43mpreload_content\u001b[49m\u001b[38;5;241;43m=\u001b[39;49m\u001b[43mpreload_content\u001b[49m\u001b[43m,\u001b[49m\n\u001b[1;32m    800\u001b[0m \u001b[43m    \u001b[49m\u001b[43mdecode_content\u001b[49m\u001b[38;5;241;43m=\u001b[39;49m\u001b[43mdecode_content\u001b[49m\u001b[43m,\u001b[49m\n\u001b[1;32m    801\u001b[0m \u001b[43m    \u001b[49m\u001b[38;5;241;43m*\u001b[39;49m\u001b[38;5;241;43m*\u001b[39;49m\u001b[43mresponse_kw\u001b[49m\u001b[43m,\u001b[49m\n\u001b[1;32m    802\u001b[0m \u001b[43m\u001b[49m\u001b[43m)\u001b[49m\n\u001b[1;32m    804\u001b[0m \u001b[38;5;66;03m# Everything went great!\u001b[39;00m\n",
      "File \u001b[0;32m/usr/local/lib/python3.11/site-packages/urllib3/connectionpool.py:536\u001b[0m, in \u001b[0;36mHTTPConnectionPool._make_request\u001b[0;34m(self, conn, method, url, body, headers, retries, timeout, chunked, response_conn, preload_content, decode_content, enforce_content_length)\u001b[0m\n\u001b[1;32m    535\u001b[0m \u001b[38;5;28;01mtry\u001b[39;00m:\n\u001b[0;32m--> 536\u001b[0m     response \u001b[38;5;241m=\u001b[39m \u001b[43mconn\u001b[49m\u001b[38;5;241;43m.\u001b[39;49m\u001b[43mgetresponse\u001b[49m\u001b[43m(\u001b[49m\u001b[43m)\u001b[49m\n\u001b[1;32m    537\u001b[0m \u001b[38;5;28;01mexcept\u001b[39;00m (BaseSSLError, \u001b[38;5;167;01mOSError\u001b[39;00m) \u001b[38;5;28;01mas\u001b[39;00m e:\n",
      "File \u001b[0;32m/usr/local/lib/python3.11/site-packages/urllib3/connection.py:464\u001b[0m, in \u001b[0;36mHTTPConnection.getresponse\u001b[0;34m(self)\u001b[0m\n\u001b[1;32m    463\u001b[0m \u001b[38;5;66;03m# Get the response from http.client.HTTPConnection\u001b[39;00m\n\u001b[0;32m--> 464\u001b[0m httplib_response \u001b[38;5;241m=\u001b[39m \u001b[38;5;28;43msuper\u001b[39;49m\u001b[43m(\u001b[49m\u001b[43m)\u001b[49m\u001b[38;5;241;43m.\u001b[39;49m\u001b[43mgetresponse\u001b[49m\u001b[43m(\u001b[49m\u001b[43m)\u001b[49m\n\u001b[1;32m    466\u001b[0m \u001b[38;5;28;01mtry\u001b[39;00m:\n",
      "File \u001b[0;32m/usr/local/lib/python3.11/http/client.py:1395\u001b[0m, in \u001b[0;36mHTTPConnection.getresponse\u001b[0;34m(self)\u001b[0m\n\u001b[1;32m   1394\u001b[0m \u001b[38;5;28;01mtry\u001b[39;00m:\n\u001b[0;32m-> 1395\u001b[0m     \u001b[43mresponse\u001b[49m\u001b[38;5;241;43m.\u001b[39;49m\u001b[43mbegin\u001b[49m\u001b[43m(\u001b[49m\u001b[43m)\u001b[49m\n\u001b[1;32m   1396\u001b[0m \u001b[38;5;28;01mexcept\u001b[39;00m \u001b[38;5;167;01mConnectionError\u001b[39;00m:\n",
      "File \u001b[0;32m/usr/local/lib/python3.11/http/client.py:325\u001b[0m, in \u001b[0;36mHTTPResponse.begin\u001b[0;34m(self)\u001b[0m\n\u001b[1;32m    324\u001b[0m \u001b[38;5;28;01mwhile\u001b[39;00m \u001b[38;5;28;01mTrue\u001b[39;00m:\n\u001b[0;32m--> 325\u001b[0m     version, status, reason \u001b[38;5;241m=\u001b[39m \u001b[38;5;28;43mself\u001b[39;49m\u001b[38;5;241;43m.\u001b[39;49m\u001b[43m_read_status\u001b[49m\u001b[43m(\u001b[49m\u001b[43m)\u001b[49m\n\u001b[1;32m    326\u001b[0m     \u001b[38;5;28;01mif\u001b[39;00m status \u001b[38;5;241m!=\u001b[39m CONTINUE:\n",
      "File \u001b[0;32m/usr/local/lib/python3.11/http/client.py:294\u001b[0m, in \u001b[0;36mHTTPResponse._read_status\u001b[0;34m(self)\u001b[0m\n\u001b[1;32m    291\u001b[0m \u001b[38;5;28;01mif\u001b[39;00m \u001b[38;5;129;01mnot\u001b[39;00m line:\n\u001b[1;32m    292\u001b[0m     \u001b[38;5;66;03m# Presumably, the server closed the connection before\u001b[39;00m\n\u001b[1;32m    293\u001b[0m     \u001b[38;5;66;03m# sending a valid response.\u001b[39;00m\n\u001b[0;32m--> 294\u001b[0m     \u001b[38;5;28;01mraise\u001b[39;00m RemoteDisconnected(\u001b[38;5;124m\"\u001b[39m\u001b[38;5;124mRemote end closed connection without\u001b[39m\u001b[38;5;124m\"\u001b[39m\n\u001b[1;32m    295\u001b[0m                              \u001b[38;5;124m\"\u001b[39m\u001b[38;5;124m response\u001b[39m\u001b[38;5;124m\"\u001b[39m)\n\u001b[1;32m    296\u001b[0m \u001b[38;5;28;01mtry\u001b[39;00m:\n",
      "\u001b[0;31mRemoteDisconnected\u001b[0m: Remote end closed connection without response",
      "\nDuring handling of the above exception, another exception occurred:\n",
      "\u001b[0;31mProtocolError\u001b[0m                             Traceback (most recent call last)",
      "File \u001b[0;32m/usr/local/lib/python3.11/site-packages/requests/adapters.py:564\u001b[0m, in \u001b[0;36mHTTPAdapter.send\u001b[0;34m(self, request, stream, timeout, verify, cert, proxies)\u001b[0m\n\u001b[1;32m    563\u001b[0m \u001b[38;5;28;01mtry\u001b[39;00m:\n\u001b[0;32m--> 564\u001b[0m     resp \u001b[38;5;241m=\u001b[39m \u001b[43mconn\u001b[49m\u001b[38;5;241;43m.\u001b[39;49m\u001b[43murlopen\u001b[49m\u001b[43m(\u001b[49m\n\u001b[1;32m    565\u001b[0m \u001b[43m        \u001b[49m\u001b[43mmethod\u001b[49m\u001b[38;5;241;43m=\u001b[39;49m\u001b[43mrequest\u001b[49m\u001b[38;5;241;43m.\u001b[39;49m\u001b[43mmethod\u001b[49m\u001b[43m,\u001b[49m\n\u001b[1;32m    566\u001b[0m \u001b[43m        \u001b[49m\u001b[43murl\u001b[49m\u001b[38;5;241;43m=\u001b[39;49m\u001b[43murl\u001b[49m\u001b[43m,\u001b[49m\n\u001b[1;32m    567\u001b[0m \u001b[43m        \u001b[49m\u001b[43mbody\u001b[49m\u001b[38;5;241;43m=\u001b[39;49m\u001b[43mrequest\u001b[49m\u001b[38;5;241;43m.\u001b[39;49m\u001b[43mbody\u001b[49m\u001b[43m,\u001b[49m\n\u001b[1;32m    568\u001b[0m \u001b[43m        \u001b[49m\u001b[43mheaders\u001b[49m\u001b[38;5;241;43m=\u001b[39;49m\u001b[43mrequest\u001b[49m\u001b[38;5;241;43m.\u001b[39;49m\u001b[43mheaders\u001b[49m\u001b[43m,\u001b[49m\n\u001b[1;32m    569\u001b[0m \u001b[43m        \u001b[49m\u001b[43mredirect\u001b[49m\u001b[38;5;241;43m=\u001b[39;49m\u001b[38;5;28;43;01mFalse\u001b[39;49;00m\u001b[43m,\u001b[49m\n\u001b[1;32m    570\u001b[0m \u001b[43m        \u001b[49m\u001b[43massert_same_host\u001b[49m\u001b[38;5;241;43m=\u001b[39;49m\u001b[38;5;28;43;01mFalse\u001b[39;49;00m\u001b[43m,\u001b[49m\n\u001b[1;32m    571\u001b[0m \u001b[43m        \u001b[49m\u001b[43mpreload_content\u001b[49m\u001b[38;5;241;43m=\u001b[39;49m\u001b[38;5;28;43;01mFalse\u001b[39;49;00m\u001b[43m,\u001b[49m\n\u001b[1;32m    572\u001b[0m \u001b[43m        \u001b[49m\u001b[43mdecode_content\u001b[49m\u001b[38;5;241;43m=\u001b[39;49m\u001b[38;5;28;43;01mFalse\u001b[39;49;00m\u001b[43m,\u001b[49m\n\u001b[1;32m    573\u001b[0m \u001b[43m        \u001b[49m\u001b[43mretries\u001b[49m\u001b[38;5;241;43m=\u001b[39;49m\u001b[38;5;28;43mself\u001b[39;49m\u001b[38;5;241;43m.\u001b[39;49m\u001b[43mmax_retries\u001b[49m\u001b[43m,\u001b[49m\n\u001b[1;32m    574\u001b[0m \u001b[43m        \u001b[49m\u001b[43mtimeout\u001b[49m\u001b[38;5;241;43m=\u001b[39;49m\u001b[43mtimeout\u001b[49m\u001b[43m,\u001b[49m\n\u001b[1;32m    575\u001b[0m \u001b[43m        \u001b[49m\u001b[43mchunked\u001b[49m\u001b[38;5;241;43m=\u001b[39;49m\u001b[43mchunked\u001b[49m\u001b[43m,\u001b[49m\n\u001b[1;32m    576\u001b[0m \u001b[43m    \u001b[49m\u001b[43m)\u001b[49m\n\u001b[1;32m    578\u001b[0m \u001b[38;5;28;01mexcept\u001b[39;00m (ProtocolError, \u001b[38;5;167;01mOSError\u001b[39;00m) \u001b[38;5;28;01mas\u001b[39;00m err:\n",
      "File \u001b[0;32m/usr/local/lib/python3.11/site-packages/urllib3/connectionpool.py:843\u001b[0m, in \u001b[0;36mHTTPConnectionPool.urlopen\u001b[0;34m(self, method, url, body, headers, retries, redirect, assert_same_host, timeout, pool_timeout, release_conn, chunked, body_pos, preload_content, decode_content, **response_kw)\u001b[0m\n\u001b[1;32m    841\u001b[0m     new_e \u001b[38;5;241m=\u001b[39m ProtocolError(\u001b[38;5;124m\"\u001b[39m\u001b[38;5;124mConnection aborted.\u001b[39m\u001b[38;5;124m\"\u001b[39m, new_e)\n\u001b[0;32m--> 843\u001b[0m retries \u001b[38;5;241m=\u001b[39m \u001b[43mretries\u001b[49m\u001b[38;5;241;43m.\u001b[39;49m\u001b[43mincrement\u001b[49m\u001b[43m(\u001b[49m\n\u001b[1;32m    844\u001b[0m \u001b[43m    \u001b[49m\u001b[43mmethod\u001b[49m\u001b[43m,\u001b[49m\u001b[43m \u001b[49m\u001b[43murl\u001b[49m\u001b[43m,\u001b[49m\u001b[43m \u001b[49m\u001b[43merror\u001b[49m\u001b[38;5;241;43m=\u001b[39;49m\u001b[43mnew_e\u001b[49m\u001b[43m,\u001b[49m\u001b[43m \u001b[49m\u001b[43m_pool\u001b[49m\u001b[38;5;241;43m=\u001b[39;49m\u001b[38;5;28;43mself\u001b[39;49m\u001b[43m,\u001b[49m\u001b[43m \u001b[49m\u001b[43m_stacktrace\u001b[49m\u001b[38;5;241;43m=\u001b[39;49m\u001b[43msys\u001b[49m\u001b[38;5;241;43m.\u001b[39;49m\u001b[43mexc_info\u001b[49m\u001b[43m(\u001b[49m\u001b[43m)\u001b[49m\u001b[43m[\u001b[49m\u001b[38;5;241;43m2\u001b[39;49m\u001b[43m]\u001b[49m\n\u001b[1;32m    845\u001b[0m \u001b[43m\u001b[49m\u001b[43m)\u001b[49m\n\u001b[1;32m    846\u001b[0m retries\u001b[38;5;241m.\u001b[39msleep()\n",
      "File \u001b[0;32m/usr/local/lib/python3.11/site-packages/urllib3/util/retry.py:474\u001b[0m, in \u001b[0;36mRetry.increment\u001b[0;34m(self, method, url, response, error, _pool, _stacktrace)\u001b[0m\n\u001b[1;32m    473\u001b[0m \u001b[38;5;28;01mif\u001b[39;00m read \u001b[38;5;129;01mis\u001b[39;00m \u001b[38;5;28;01mFalse\u001b[39;00m \u001b[38;5;129;01mor\u001b[39;00m method \u001b[38;5;129;01mis\u001b[39;00m \u001b[38;5;28;01mNone\u001b[39;00m \u001b[38;5;129;01mor\u001b[39;00m \u001b[38;5;129;01mnot\u001b[39;00m \u001b[38;5;28mself\u001b[39m\u001b[38;5;241m.\u001b[39m_is_method_retryable(method):\n\u001b[0;32m--> 474\u001b[0m     \u001b[38;5;28;01mraise\u001b[39;00m \u001b[43mreraise\u001b[49m\u001b[43m(\u001b[49m\u001b[38;5;28;43mtype\u001b[39;49m\u001b[43m(\u001b[49m\u001b[43merror\u001b[49m\u001b[43m)\u001b[49m\u001b[43m,\u001b[49m\u001b[43m \u001b[49m\u001b[43merror\u001b[49m\u001b[43m,\u001b[49m\u001b[43m \u001b[49m\u001b[43m_stacktrace\u001b[49m\u001b[43m)\u001b[49m\n\u001b[1;32m    475\u001b[0m \u001b[38;5;28;01melif\u001b[39;00m read \u001b[38;5;129;01mis\u001b[39;00m \u001b[38;5;129;01mnot\u001b[39;00m \u001b[38;5;28;01mNone\u001b[39;00m:\n",
      "File \u001b[0;32m/usr/local/lib/python3.11/site-packages/urllib3/util/util.py:38\u001b[0m, in \u001b[0;36mreraise\u001b[0;34m(tp, value, tb)\u001b[0m\n\u001b[1;32m     37\u001b[0m \u001b[38;5;28;01mif\u001b[39;00m value\u001b[38;5;241m.\u001b[39m__traceback__ \u001b[38;5;129;01mis\u001b[39;00m \u001b[38;5;129;01mnot\u001b[39;00m tb:\n\u001b[0;32m---> 38\u001b[0m     \u001b[38;5;28;01mraise\u001b[39;00m value\u001b[38;5;241m.\u001b[39mwith_traceback(tb)\n\u001b[1;32m     39\u001b[0m \u001b[38;5;28;01mraise\u001b[39;00m value\n",
      "File \u001b[0;32m/usr/local/lib/python3.11/site-packages/urllib3/connectionpool.py:789\u001b[0m, in \u001b[0;36mHTTPConnectionPool.urlopen\u001b[0;34m(self, method, url, body, headers, retries, redirect, assert_same_host, timeout, pool_timeout, release_conn, chunked, body_pos, preload_content, decode_content, **response_kw)\u001b[0m\n\u001b[1;32m    788\u001b[0m \u001b[38;5;66;03m# Make the request on the HTTPConnection object\u001b[39;00m\n\u001b[0;32m--> 789\u001b[0m response \u001b[38;5;241m=\u001b[39m \u001b[38;5;28;43mself\u001b[39;49m\u001b[38;5;241;43m.\u001b[39;49m\u001b[43m_make_request\u001b[49m\u001b[43m(\u001b[49m\n\u001b[1;32m    790\u001b[0m \u001b[43m    \u001b[49m\u001b[43mconn\u001b[49m\u001b[43m,\u001b[49m\n\u001b[1;32m    791\u001b[0m \u001b[43m    \u001b[49m\u001b[43mmethod\u001b[49m\u001b[43m,\u001b[49m\n\u001b[1;32m    792\u001b[0m \u001b[43m    \u001b[49m\u001b[43murl\u001b[49m\u001b[43m,\u001b[49m\n\u001b[1;32m    793\u001b[0m \u001b[43m    \u001b[49m\u001b[43mtimeout\u001b[49m\u001b[38;5;241;43m=\u001b[39;49m\u001b[43mtimeout_obj\u001b[49m\u001b[43m,\u001b[49m\n\u001b[1;32m    794\u001b[0m \u001b[43m    \u001b[49m\u001b[43mbody\u001b[49m\u001b[38;5;241;43m=\u001b[39;49m\u001b[43mbody\u001b[49m\u001b[43m,\u001b[49m\n\u001b[1;32m    795\u001b[0m \u001b[43m    \u001b[49m\u001b[43mheaders\u001b[49m\u001b[38;5;241;43m=\u001b[39;49m\u001b[43mheaders\u001b[49m\u001b[43m,\u001b[49m\n\u001b[1;32m    796\u001b[0m \u001b[43m    \u001b[49m\u001b[43mchunked\u001b[49m\u001b[38;5;241;43m=\u001b[39;49m\u001b[43mchunked\u001b[49m\u001b[43m,\u001b[49m\n\u001b[1;32m    797\u001b[0m \u001b[43m    \u001b[49m\u001b[43mretries\u001b[49m\u001b[38;5;241;43m=\u001b[39;49m\u001b[43mretries\u001b[49m\u001b[43m,\u001b[49m\n\u001b[1;32m    798\u001b[0m \u001b[43m    \u001b[49m\u001b[43mresponse_conn\u001b[49m\u001b[38;5;241;43m=\u001b[39;49m\u001b[43mresponse_conn\u001b[49m\u001b[43m,\u001b[49m\n\u001b[1;32m    799\u001b[0m \u001b[43m    \u001b[49m\u001b[43mpreload_content\u001b[49m\u001b[38;5;241;43m=\u001b[39;49m\u001b[43mpreload_content\u001b[49m\u001b[43m,\u001b[49m\n\u001b[1;32m    800\u001b[0m \u001b[43m    \u001b[49m\u001b[43mdecode_content\u001b[49m\u001b[38;5;241;43m=\u001b[39;49m\u001b[43mdecode_content\u001b[49m\u001b[43m,\u001b[49m\n\u001b[1;32m    801\u001b[0m \u001b[43m    \u001b[49m\u001b[38;5;241;43m*\u001b[39;49m\u001b[38;5;241;43m*\u001b[39;49m\u001b[43mresponse_kw\u001b[49m\u001b[43m,\u001b[49m\n\u001b[1;32m    802\u001b[0m \u001b[43m\u001b[49m\u001b[43m)\u001b[49m\n\u001b[1;32m    804\u001b[0m \u001b[38;5;66;03m# Everything went great!\u001b[39;00m\n",
      "File \u001b[0;32m/usr/local/lib/python3.11/site-packages/urllib3/connectionpool.py:536\u001b[0m, in \u001b[0;36mHTTPConnectionPool._make_request\u001b[0;34m(self, conn, method, url, body, headers, retries, timeout, chunked, response_conn, preload_content, decode_content, enforce_content_length)\u001b[0m\n\u001b[1;32m    535\u001b[0m \u001b[38;5;28;01mtry\u001b[39;00m:\n\u001b[0;32m--> 536\u001b[0m     response \u001b[38;5;241m=\u001b[39m \u001b[43mconn\u001b[49m\u001b[38;5;241;43m.\u001b[39;49m\u001b[43mgetresponse\u001b[49m\u001b[43m(\u001b[49m\u001b[43m)\u001b[49m\n\u001b[1;32m    537\u001b[0m \u001b[38;5;28;01mexcept\u001b[39;00m (BaseSSLError, \u001b[38;5;167;01mOSError\u001b[39;00m) \u001b[38;5;28;01mas\u001b[39;00m e:\n",
      "File \u001b[0;32m/usr/local/lib/python3.11/site-packages/urllib3/connection.py:464\u001b[0m, in \u001b[0;36mHTTPConnection.getresponse\u001b[0;34m(self)\u001b[0m\n\u001b[1;32m    463\u001b[0m \u001b[38;5;66;03m# Get the response from http.client.HTTPConnection\u001b[39;00m\n\u001b[0;32m--> 464\u001b[0m httplib_response \u001b[38;5;241m=\u001b[39m \u001b[38;5;28;43msuper\u001b[39;49m\u001b[43m(\u001b[49m\u001b[43m)\u001b[49m\u001b[38;5;241;43m.\u001b[39;49m\u001b[43mgetresponse\u001b[49m\u001b[43m(\u001b[49m\u001b[43m)\u001b[49m\n\u001b[1;32m    466\u001b[0m \u001b[38;5;28;01mtry\u001b[39;00m:\n",
      "File \u001b[0;32m/usr/local/lib/python3.11/http/client.py:1395\u001b[0m, in \u001b[0;36mHTTPConnection.getresponse\u001b[0;34m(self)\u001b[0m\n\u001b[1;32m   1394\u001b[0m \u001b[38;5;28;01mtry\u001b[39;00m:\n\u001b[0;32m-> 1395\u001b[0m     \u001b[43mresponse\u001b[49m\u001b[38;5;241;43m.\u001b[39;49m\u001b[43mbegin\u001b[49m\u001b[43m(\u001b[49m\u001b[43m)\u001b[49m\n\u001b[1;32m   1396\u001b[0m \u001b[38;5;28;01mexcept\u001b[39;00m \u001b[38;5;167;01mConnectionError\u001b[39;00m:\n",
      "File \u001b[0;32m/usr/local/lib/python3.11/http/client.py:325\u001b[0m, in \u001b[0;36mHTTPResponse.begin\u001b[0;34m(self)\u001b[0m\n\u001b[1;32m    324\u001b[0m \u001b[38;5;28;01mwhile\u001b[39;00m \u001b[38;5;28;01mTrue\u001b[39;00m:\n\u001b[0;32m--> 325\u001b[0m     version, status, reason \u001b[38;5;241m=\u001b[39m \u001b[38;5;28;43mself\u001b[39;49m\u001b[38;5;241;43m.\u001b[39;49m\u001b[43m_read_status\u001b[49m\u001b[43m(\u001b[49m\u001b[43m)\u001b[49m\n\u001b[1;32m    326\u001b[0m     \u001b[38;5;28;01mif\u001b[39;00m status \u001b[38;5;241m!=\u001b[39m CONTINUE:\n",
      "File \u001b[0;32m/usr/local/lib/python3.11/http/client.py:294\u001b[0m, in \u001b[0;36mHTTPResponse._read_status\u001b[0;34m(self)\u001b[0m\n\u001b[1;32m    291\u001b[0m \u001b[38;5;28;01mif\u001b[39;00m \u001b[38;5;129;01mnot\u001b[39;00m line:\n\u001b[1;32m    292\u001b[0m     \u001b[38;5;66;03m# Presumably, the server closed the connection before\u001b[39;00m\n\u001b[1;32m    293\u001b[0m     \u001b[38;5;66;03m# sending a valid response.\u001b[39;00m\n\u001b[0;32m--> 294\u001b[0m     \u001b[38;5;28;01mraise\u001b[39;00m RemoteDisconnected(\u001b[38;5;124m\"\u001b[39m\u001b[38;5;124mRemote end closed connection without\u001b[39m\u001b[38;5;124m\"\u001b[39m\n\u001b[1;32m    295\u001b[0m                              \u001b[38;5;124m\"\u001b[39m\u001b[38;5;124m response\u001b[39m\u001b[38;5;124m\"\u001b[39m)\n\u001b[1;32m    296\u001b[0m \u001b[38;5;28;01mtry\u001b[39;00m:\n",
      "\u001b[0;31mProtocolError\u001b[0m: ('Connection aborted.', RemoteDisconnected('Remote end closed connection without response'))",
      "\nDuring handling of the above exception, another exception occurred:\n",
      "\u001b[0;31mConnectionError\u001b[0m                           Traceback (most recent call last)",
      "Cell \u001b[0;32mIn[16], line 1\u001b[0m\n\u001b[0;32m----> 1\u001b[0m res \u001b[38;5;241m=\u001b[39m \u001b[43mclient\u001b[49m\u001b[38;5;241;43m.\u001b[39;49m\u001b[43msmartnoise_synth_query\u001b[49m\u001b[43m(\u001b[49m\n\u001b[1;32m      2\u001b[0m \u001b[43m    \u001b[49m\u001b[43msynth_name\u001b[49m\u001b[38;5;241;43m=\u001b[39;49m\u001b[38;5;124;43m\"\u001b[39;49m\u001b[38;5;124;43mmwem\u001b[39;49m\u001b[38;5;124;43m\"\u001b[39;49m\u001b[43m,\u001b[49m\n\u001b[1;32m      3\u001b[0m \u001b[43m    \u001b[49m\u001b[43mepsilon\u001b[49m\u001b[38;5;241;43m=\u001b[39;49m\u001b[43m \u001b[49m\u001b[38;5;241;43m2.0\u001b[39;49m\u001b[43m,\u001b[49m\n\u001b[1;32m      4\u001b[0m \u001b[43m    \u001b[49m\u001b[38;5;66;43;03m#delta = 0.0001,\u001b[39;49;00m\n\u001b[1;32m      5\u001b[0m \u001b[43m    \u001b[49m\u001b[43mselect_cols\u001b[49m\u001b[43m \u001b[49m\u001b[38;5;241;43m=\u001b[39;49m\u001b[43m \u001b[49m\u001b[43m[\u001b[49m\u001b[43m]\u001b[49m\u001b[43m,\u001b[49m\n\u001b[1;32m      6\u001b[0m \u001b[43m    \u001b[49m\u001b[43msynth_params\u001b[49m\u001b[43m \u001b[49m\u001b[38;5;241;43m=\u001b[39;49m\u001b[43m \u001b[49m\u001b[43m{\u001b[49m\u001b[43m}\u001b[49m\u001b[43m,\u001b[49m\n\u001b[1;32m      7\u001b[0m \u001b[43m    \u001b[49m\u001b[43mnullable\u001b[49m\u001b[43m \u001b[49m\u001b[38;5;241;43m=\u001b[39;49m\u001b[43m \u001b[49m\u001b[38;5;28;43;01mTrue\u001b[39;49;00m\u001b[43m,\u001b[49m\n\u001b[1;32m      8\u001b[0m \u001b[43m    \u001b[49m\u001b[43mtable_transformer_style\u001b[49m\u001b[43m \u001b[49m\u001b[38;5;241;43m=\u001b[39;49m\u001b[43m \u001b[49m\u001b[38;5;124;43m\"\u001b[39;49m\u001b[38;5;124;43mgan\u001b[39;49m\u001b[38;5;124;43m\"\u001b[39;49m\u001b[43m,\u001b[49m\n\u001b[1;32m      9\u001b[0m \u001b[43m    \u001b[49m\u001b[43mdummy\u001b[49m\u001b[43m \u001b[49m\u001b[38;5;241;43m=\u001b[39;49m\u001b[43m \u001b[49m\u001b[38;5;28;43;01mTrue\u001b[39;49;00m\u001b[43m,\u001b[49m\n\u001b[1;32m     10\u001b[0m \u001b[43m    \u001b[49m\u001b[43mconstraints\u001b[49m\u001b[43m \u001b[49m\u001b[38;5;241;43m=\u001b[39;49m\u001b[43m \u001b[49m\u001b[38;5;124;43m\"\u001b[39;49m\u001b[38;5;124;43m\"\u001b[39;49m\u001b[43m,\u001b[49m\n\u001b[1;32m     11\u001b[0m \u001b[43m)\u001b[49m\n\u001b[1;32m     12\u001b[0m res\n",
      "File \u001b[0;32m/code/lomas_client/client.py:294\u001b[0m, in \u001b[0;36mClient.smartnoise_synth_query\u001b[0;34m(self, synth_name, epsilon, delta, select_cols, synth_params, nullable, table_transformer_style, constraints, dummy, nb_rows, seed)\u001b[0m\n\u001b[1;32m    290\u001b[0m \u001b[38;5;28;01melse\u001b[39;00m:\n\u001b[1;32m    291\u001b[0m     endpoint \u001b[38;5;241m=\u001b[39m \u001b[38;5;124m\"\u001b[39m\u001b[38;5;124msmartnoise_synth_query\u001b[39m\u001b[38;5;124m\"\u001b[39m\n\u001b[1;32m    293\u001b[0m res \u001b[38;5;241m=\u001b[39m \u001b[38;5;28mself\u001b[39m\u001b[38;5;241m.\u001b[39m_exec(\n\u001b[0;32m--> 294\u001b[0m     endpoint, body_json, read_timeout\u001b[38;5;241m=\u001b[39mSMARTNOISE_SYNTH_READ_TIMEOUT\n\u001b[1;32m    295\u001b[0m )\n\u001b[1;32m    297\u001b[0m \u001b[38;5;28;01mif\u001b[39;00m res\u001b[38;5;241m.\u001b[39mstatus_code \u001b[38;5;241m==\u001b[39m HTTP_200_OK:\n\u001b[1;32m    298\u001b[0m     response \u001b[38;5;241m=\u001b[39m res\u001b[38;5;241m.\u001b[39mjson()\n",
      "File \u001b[0;32m/code/lomas_client/client.py:712\u001b[0m, in \u001b[0;36m_exec\u001b[0;34m(self, endpoint, body_json, read_timeout)\u001b[0m\n\u001b[1;32m    691\u001b[0m \u001b[38;5;28;01mdef\u001b[39;00m \u001b[38;5;21m_exec\u001b[39m(\n\u001b[1;32m    692\u001b[0m     \u001b[38;5;28mself\u001b[39m,\n\u001b[1;32m    693\u001b[0m     endpoint: \u001b[38;5;28mstr\u001b[39m,\n\u001b[1;32m    694\u001b[0m     body_json: \u001b[38;5;28mdict\u001b[39m \u001b[38;5;241m=\u001b[39m {},\n\u001b[1;32m    695\u001b[0m     read_timeout: \u001b[38;5;28mint\u001b[39m \u001b[38;5;241m=\u001b[39m DEFAULT_READ_TIMEOUT,\n\u001b[1;32m    696\u001b[0m ) \u001b[38;5;241m-\u001b[39m\u001b[38;5;241m>\u001b[39m requests\u001b[38;5;241m.\u001b[39mResponse:\n\u001b[1;32m    697\u001b[0m \u001b[38;5;250m    \u001b[39m\u001b[38;5;124;03m\"\"\"Executes a POST request to the specified endpoint with the provided\u001b[39;00m\n\u001b[1;32m    698\u001b[0m \u001b[38;5;124;03m    JSON body.\u001b[39;00m\n\u001b[1;32m    699\u001b[0m \n\u001b[0;32m   (...)\u001b[0m\n\u001b[1;32m    709\u001b[0m \u001b[38;5;124;03m        requests.Response: The response object resulting from the POST request.\u001b[39;00m\n\u001b[1;32m    710\u001b[0m \u001b[38;5;124;03m    \"\"\"\u001b[39;00m\n\u001b[1;32m    711\u001b[0m     r \u001b[38;5;241m=\u001b[39m requests\u001b[38;5;241m.\u001b[39mpost(\n\u001b[0;32m--> 712\u001b[0m         \u001b[38;5;28mself\u001b[39m\u001b[38;5;241m.\u001b[39murl \u001b[38;5;241m+\u001b[39m \u001b[38;5;124m\"\u001b[39m\u001b[38;5;124m/\u001b[39m\u001b[38;5;124m\"\u001b[39m \u001b[38;5;241m+\u001b[39m endpoint,\n\u001b[1;32m    713\u001b[0m         json\u001b[38;5;241m=\u001b[39mbody_json,\n\u001b[1;32m    714\u001b[0m         headers\u001b[38;5;241m=\u001b[39m\u001b[38;5;28mself\u001b[39m\u001b[38;5;241m.\u001b[39mheaders,\n\u001b[1;32m    715\u001b[0m         timeout\u001b[38;5;241m=\u001b[39m(CONNECT_TIMEOUT, read_timeout),\n\u001b[1;32m    716\u001b[0m     )\n\u001b[1;32m    717\u001b[0m     \u001b[38;5;28;01mreturn\u001b[39;00m r\n",
      "File \u001b[0;32m/usr/local/lib/python3.11/site-packages/requests/api.py:115\u001b[0m, in \u001b[0;36mpost\u001b[0;34m(url, data, json, **kwargs)\u001b[0m\n\u001b[1;32m    103\u001b[0m \u001b[38;5;28;01mdef\u001b[39;00m \u001b[38;5;21mpost\u001b[39m(url, data\u001b[38;5;241m=\u001b[39m\u001b[38;5;28;01mNone\u001b[39;00m, json\u001b[38;5;241m=\u001b[39m\u001b[38;5;28;01mNone\u001b[39;00m, \u001b[38;5;241m*\u001b[39m\u001b[38;5;241m*\u001b[39mkwargs):\n\u001b[1;32m    104\u001b[0m \u001b[38;5;250m    \u001b[39m\u001b[38;5;124mr\u001b[39m\u001b[38;5;124;03m\"\"\"Sends a POST request.\u001b[39;00m\n\u001b[1;32m    105\u001b[0m \n\u001b[1;32m    106\u001b[0m \u001b[38;5;124;03m    :param url: URL for the new :class:`Request` object.\u001b[39;00m\n\u001b[0;32m   (...)\u001b[0m\n\u001b[1;32m    112\u001b[0m \u001b[38;5;124;03m    :rtype: requests.Response\u001b[39;00m\n\u001b[1;32m    113\u001b[0m \u001b[38;5;124;03m    \"\"\"\u001b[39;00m\n\u001b[0;32m--> 115\u001b[0m     \u001b[38;5;28;01mreturn\u001b[39;00m \u001b[43mrequest\u001b[49m\u001b[43m(\u001b[49m\u001b[38;5;124;43m\"\u001b[39;49m\u001b[38;5;124;43mpost\u001b[39;49m\u001b[38;5;124;43m\"\u001b[39;49m\u001b[43m,\u001b[49m\u001b[43m \u001b[49m\u001b[43murl\u001b[49m\u001b[43m,\u001b[49m\u001b[43m \u001b[49m\u001b[43mdata\u001b[49m\u001b[38;5;241;43m=\u001b[39;49m\u001b[43mdata\u001b[49m\u001b[43m,\u001b[49m\u001b[43m \u001b[49m\u001b[43mjson\u001b[49m\u001b[38;5;241;43m=\u001b[39;49m\u001b[43mjson\u001b[49m\u001b[43m,\u001b[49m\u001b[43m \u001b[49m\u001b[38;5;241;43m*\u001b[39;49m\u001b[38;5;241;43m*\u001b[39;49m\u001b[43mkwargs\u001b[49m\u001b[43m)\u001b[49m\n",
      "File \u001b[0;32m/usr/local/lib/python3.11/site-packages/requests/api.py:59\u001b[0m, in \u001b[0;36mrequest\u001b[0;34m(method, url, **kwargs)\u001b[0m\n\u001b[1;32m     55\u001b[0m \u001b[38;5;66;03m# By using the 'with' statement we are sure the session is closed, thus we\u001b[39;00m\n\u001b[1;32m     56\u001b[0m \u001b[38;5;66;03m# avoid leaving sockets open which can trigger a ResourceWarning in some\u001b[39;00m\n\u001b[1;32m     57\u001b[0m \u001b[38;5;66;03m# cases, and look like a memory leak in others.\u001b[39;00m\n\u001b[1;32m     58\u001b[0m \u001b[38;5;28;01mwith\u001b[39;00m sessions\u001b[38;5;241m.\u001b[39mSession() \u001b[38;5;28;01mas\u001b[39;00m session:\n\u001b[0;32m---> 59\u001b[0m     \u001b[38;5;28;01mreturn\u001b[39;00m \u001b[43msession\u001b[49m\u001b[38;5;241;43m.\u001b[39;49m\u001b[43mrequest\u001b[49m\u001b[43m(\u001b[49m\u001b[43mmethod\u001b[49m\u001b[38;5;241;43m=\u001b[39;49m\u001b[43mmethod\u001b[49m\u001b[43m,\u001b[49m\u001b[43m \u001b[49m\u001b[43murl\u001b[49m\u001b[38;5;241;43m=\u001b[39;49m\u001b[43murl\u001b[49m\u001b[43m,\u001b[49m\u001b[43m \u001b[49m\u001b[38;5;241;43m*\u001b[39;49m\u001b[38;5;241;43m*\u001b[39;49m\u001b[43mkwargs\u001b[49m\u001b[43m)\u001b[49m\n",
      "File \u001b[0;32m/usr/local/lib/python3.11/site-packages/requests/sessions.py:589\u001b[0m, in \u001b[0;36mSession.request\u001b[0;34m(self, method, url, params, data, headers, cookies, files, auth, timeout, allow_redirects, proxies, hooks, stream, verify, cert, json)\u001b[0m\n\u001b[1;32m    584\u001b[0m send_kwargs \u001b[38;5;241m=\u001b[39m {\n\u001b[1;32m    585\u001b[0m     \u001b[38;5;124m\"\u001b[39m\u001b[38;5;124mtimeout\u001b[39m\u001b[38;5;124m\"\u001b[39m: timeout,\n\u001b[1;32m    586\u001b[0m     \u001b[38;5;124m\"\u001b[39m\u001b[38;5;124mallow_redirects\u001b[39m\u001b[38;5;124m\"\u001b[39m: allow_redirects,\n\u001b[1;32m    587\u001b[0m }\n\u001b[1;32m    588\u001b[0m send_kwargs\u001b[38;5;241m.\u001b[39mupdate(settings)\n\u001b[0;32m--> 589\u001b[0m resp \u001b[38;5;241m=\u001b[39m \u001b[38;5;28;43mself\u001b[39;49m\u001b[38;5;241;43m.\u001b[39;49m\u001b[43msend\u001b[49m\u001b[43m(\u001b[49m\u001b[43mprep\u001b[49m\u001b[43m,\u001b[49m\u001b[43m \u001b[49m\u001b[38;5;241;43m*\u001b[39;49m\u001b[38;5;241;43m*\u001b[39;49m\u001b[43msend_kwargs\u001b[49m\u001b[43m)\u001b[49m\n\u001b[1;32m    591\u001b[0m \u001b[38;5;28;01mreturn\u001b[39;00m resp\n",
      "File \u001b[0;32m/usr/local/lib/python3.11/site-packages/requests/sessions.py:703\u001b[0m, in \u001b[0;36mSession.send\u001b[0;34m(self, request, **kwargs)\u001b[0m\n\u001b[1;32m    700\u001b[0m start \u001b[38;5;241m=\u001b[39m preferred_clock()\n\u001b[1;32m    702\u001b[0m \u001b[38;5;66;03m# Send the request\u001b[39;00m\n\u001b[0;32m--> 703\u001b[0m r \u001b[38;5;241m=\u001b[39m \u001b[43madapter\u001b[49m\u001b[38;5;241;43m.\u001b[39;49m\u001b[43msend\u001b[49m\u001b[43m(\u001b[49m\u001b[43mrequest\u001b[49m\u001b[43m,\u001b[49m\u001b[43m \u001b[49m\u001b[38;5;241;43m*\u001b[39;49m\u001b[38;5;241;43m*\u001b[39;49m\u001b[43mkwargs\u001b[49m\u001b[43m)\u001b[49m\n\u001b[1;32m    705\u001b[0m \u001b[38;5;66;03m# Total elapsed time of the request (approximately)\u001b[39;00m\n\u001b[1;32m    706\u001b[0m elapsed \u001b[38;5;241m=\u001b[39m preferred_clock() \u001b[38;5;241m-\u001b[39m start\n",
      "File \u001b[0;32m/usr/local/lib/python3.11/site-packages/requests/adapters.py:579\u001b[0m, in \u001b[0;36mHTTPAdapter.send\u001b[0;34m(self, request, stream, timeout, verify, cert, proxies)\u001b[0m\n\u001b[1;32m    564\u001b[0m     resp \u001b[38;5;241m=\u001b[39m conn\u001b[38;5;241m.\u001b[39murlopen(\n\u001b[1;32m    565\u001b[0m         method\u001b[38;5;241m=\u001b[39mrequest\u001b[38;5;241m.\u001b[39mmethod,\n\u001b[1;32m    566\u001b[0m         url\u001b[38;5;241m=\u001b[39murl,\n\u001b[0;32m   (...)\u001b[0m\n\u001b[1;32m    575\u001b[0m         chunked\u001b[38;5;241m=\u001b[39mchunked,\n\u001b[1;32m    576\u001b[0m     )\n\u001b[1;32m    578\u001b[0m \u001b[38;5;28;01mexcept\u001b[39;00m (ProtocolError, \u001b[38;5;167;01mOSError\u001b[39;00m) \u001b[38;5;28;01mas\u001b[39;00m err:\n\u001b[0;32m--> 579\u001b[0m     \u001b[38;5;28;01mraise\u001b[39;00m \u001b[38;5;167;01mConnectionError\u001b[39;00m(err, request\u001b[38;5;241m=\u001b[39mrequest)\n\u001b[1;32m    581\u001b[0m \u001b[38;5;28;01mexcept\u001b[39;00m MaxRetryError \u001b[38;5;28;01mas\u001b[39;00m e:\n\u001b[1;32m    582\u001b[0m     \u001b[38;5;28;01mif\u001b[39;00m \u001b[38;5;28misinstance\u001b[39m(e\u001b[38;5;241m.\u001b[39mreason, ConnectTimeoutError):\n\u001b[1;32m    583\u001b[0m         \u001b[38;5;66;03m# TODO: Remove this in 3.0.0: see #2811\u001b[39;00m\n",
      "\u001b[0;31mConnectionError\u001b[0m: ('Connection aborted.', RemoteDisconnected('Remote end closed connection without response'))"
     ]
    }
   ],
   "source": [
    "res = client.smartnoise_synth_query(\n",
    "    synth_name=\"mwem\",\n",
    "    epsilon= 2.0,\n",
    "    #delta = 0.0001,\n",
    "    select_cols = [],\n",
    "    synth_params = {},\n",
    "    nullable = True,\n",
    "    table_transformer_style = \"gan\",\n",
    "    dummy = True,\n",
    "    constraints = \"\",\n",
    ")\n",
    "res"
   ]
  },
  {
   "cell_type": "code",
   "execution_count": null,
   "id": "2c12b8ad-9291-4324-b539-5d2413cd7c6b",
   "metadata": {},
   "outputs": [],
   "source": [
    "model = res[\"query_response\"]"
   ]
  },
  {
   "cell_type": "code",
   "execution_count": null,
   "id": "7a6f37ce-ee33-4204-b763-f36b93b5756d",
   "metadata": {},
   "outputs": [],
   "source": [
    "model.sample(5)"
   ]
  },
  {
   "cell_type": "code",
   "execution_count": null,
   "id": "c782a835-4be5-4e2e-8594-8922eb746f0d",
   "metadata": {},
   "outputs": [],
   "source": [
    "model.__class__.__name__"
   ]
  },
  {
   "cell_type": "code",
   "execution_count": null,
   "id": "d2b8166b-cdf2-41b7-a281-95d3208dcb6d",
   "metadata": {},
   "outputs": [],
   "source": []
  },
  {
   "cell_type": "code",
   "execution_count": null,
   "id": "f49cd0b2-3539-4511-8759-814bc63ea2e7",
   "metadata": {},
   "outputs": [],
   "source": [
    "from snsynth.transform import ChainTransformer, LabelTransformer, MinMaxTransformer, OneHotEncoder\n",
    "from smartnoise_synth_logger import serialise_constraints\n",
    "\n",
    "constraints = {\n",
    "   'species': ChainTransformer([LabelTransformer(nullable=True), OneHotEncoder()]),\n",
    "   'island': ChainTransformer([LabelTransformer(nullable=True), OneHotEncoder()]),\n",
    "   'bill_length_mm': MinMaxTransformer(lower=30.0, upper=65.0, nullable=True),\n",
    "   'bill_depth_mm': MinMaxTransformer(lower=13.0, upper=23.0, nullable=True),\n",
    "   'flipper_length_mm': MinMaxTransformer(lower=150.0, upper=250.0, nullable=True),\n",
    "   'body_mass_g': MinMaxTransformer(lower=2000.0, upper=7000.0, nullable=True),\n",
    "   'sex': ChainTransformer([LabelTransformer(nullable=True), OneHotEncoder()]),\n",
    "}"
   ]
  },
  {
   "cell_type": "code",
   "execution_count": 51,
   "id": "674743c9-e4ea-4173-b30e-e62c5d3a9fe8",
   "metadata": {},
   "outputs": [
    {
     "data": {
      "text/plain": [
       "'{\"module\": \"smartnoise-synth\", \"version\": \"1.0.4\", \"constraints\": {\"species\": {\"type\": \"_ssynth_transformer:ChainTransformer\", \"params\": [{\"type\": \"_ssynth_transformer:LabelTransformer\", \"params\": {\"nullable\": true}}, {\"type\": \"_ssynth_transformer:OneHotEncoder\", \"params\": {}}]}, \"island\": {\"type\": \"_ssynth_transformer:ChainTransformer\", \"params\": [{\"type\": \"_ssynth_transformer:LabelTransformer\", \"params\": {\"nullable\": true}}, {\"type\": \"_ssynth_transformer:OneHotEncoder\", \"params\": {}}]}, \"bill_length_mm\": {\"type\": \"_ssynth_transformer:MinMaxTransformer\", \"params\": {\"lower\": 30.0, \"upper\": 65.0, \"epsilon\": 0.0, \"negative\": true, \"nullable\": true, \"odometer\": null}}, \"bill_depth_mm\": {\"type\": \"_ssynth_transformer:MinMaxTransformer\", \"params\": {\"lower\": 13.0, \"upper\": 23.0, \"epsilon\": 0.0, \"negative\": true, \"nullable\": true, \"odometer\": null}}, \"flipper_length_mm\": {\"type\": \"_ssynth_transformer:MinMaxTransformer\", \"params\": {\"lower\": 150.0, \"upper\": 250.0, \"epsilon\": 0.0, \"negative\": true, \"nullable\": true, \"odometer\": null}}, \"body_mass_g\": {\"type\": \"_ssynth_transformer:MinMaxTransformer\", \"params\": {\"lower\": 2000.0, \"upper\": 7000.0, \"epsilon\": 0.0, \"negative\": true, \"nullable\": true, \"odometer\": null}}, \"sex\": {\"type\": \"_ssynth_transformer:ChainTransformer\", \"params\": [{\"type\": \"_ssynth_transformer:LabelTransformer\", \"params\": {\"nullable\": true}}, {\"type\": \"_ssynth_transformer:OneHotEncoder\", \"params\": {}}]}}}'"
      ]
     },
     "execution_count": 51,
     "metadata": {},
     "output_type": "execute_result"
    }
   ],
   "source": [
    "c = serialise_constraints(constraints)\n",
    "c"
   ]
  },
  {
   "cell_type": "code",
   "execution_count": 55,
   "id": "918c2404-da7c-4401-9527-7283f4636caf",
   "metadata": {},
   "outputs": [
    {
     "name": "stderr",
     "output_type": "stream",
     "text": [
      "/usr/local/lib/python3.11/site-packages/torch/storage.py:414: FutureWarning: You are using `torch.load` with `weights_only=False` (the current default value), which uses the default pickle module implicitly. It is possible to construct malicious pickle data which will execute arbitrary code during unpickling (See https://github.com/pytorch/pytorch/blob/main/SECURITY.md#untrusted-models for more details). In a future release, the default value for `weights_only` will be flipped to `True`. This limits the functions that could be executed during unpickling. Arbitrary objects will no longer be allowed to be loaded via this mode unless they are explicitly allowlisted by the user via `torch.serialization.add_safe_globals`. We recommend you start setting `weights_only=True` for any use case where you don't have full control of the loaded file. Please open an issue on GitHub for any issues related to this experimental feature.\n",
      "  return torch.load(io.BytesIO(b))\n"
     ]
    },
    {
     "data": {
      "text/plain": [
       "{'query_response': <snsynth.pytorch.nn.dpctgan.DPCTGAN at 0x7f2e0be779d0>}"
      ]
     },
     "execution_count": 55,
     "metadata": {},
     "output_type": "execute_result"
    }
   ],
   "source": [
    "res = client.smartnoise_synth_query(\n",
    "    synth_name=\"dpctgan\",\n",
    "    epsilon= 2.0,\n",
    "    delta = 0.0001,\n",
    "    select_cols = [],\n",
    "    synth_params = {\n",
    "        \"embedding_dim\": 128, \n",
    "        \"generator_dim\": (256, 256), \n",
    "        \"discriminator_dim\": (256, 256),\n",
    "        \"batch_size\": 2\n",
    "    },\n",
    "    nullable = True,\n",
    "    constraints = constraints,\n",
    "    table_transformer_style = \"gan\",\n",
    "    dummy = True\n",
    ")\n",
    "res"
   ]
  },
  {
   "cell_type": "code",
   "execution_count": 57,
   "id": "93488f07-802a-4ef8-b04c-29e9a374ebe3",
   "metadata": {},
   "outputs": [
    {
     "data": {
      "text/html": [
       "<div>\n",
       "<style scoped>\n",
       "    .dataframe tbody tr th:only-of-type {\n",
       "        vertical-align: middle;\n",
       "    }\n",
       "\n",
       "    .dataframe tbody tr th {\n",
       "        vertical-align: top;\n",
       "    }\n",
       "\n",
       "    .dataframe thead th {\n",
       "        text-align: right;\n",
       "    }\n",
       "</style>\n",
       "<table border=\"1\" class=\"dataframe\">\n",
       "  <thead>\n",
       "    <tr style=\"text-align: right;\">\n",
       "      <th></th>\n",
       "      <th>species</th>\n",
       "      <th>island</th>\n",
       "      <th>bill_length_mm</th>\n",
       "      <th>bill_depth_mm</th>\n",
       "      <th>flipper_length_mm</th>\n",
       "      <th>body_mass_g</th>\n",
       "      <th>sex</th>\n",
       "    </tr>\n",
       "  </thead>\n",
       "  <tbody>\n",
       "    <tr>\n",
       "      <th>0</th>\n",
       "      <td>Adelie</td>\n",
       "      <td>Torgersen</td>\n",
       "      <td>64.979197</td>\n",
       "      <td>13.000297</td>\n",
       "      <td>150.001132</td>\n",
       "      <td>6999.272376</td>\n",
       "      <td>FEMALE</td>\n",
       "    </tr>\n",
       "    <tr>\n",
       "      <th>1</th>\n",
       "      <td>Adelie</td>\n",
       "      <td>Torgersen</td>\n",
       "      <td>64.995704</td>\n",
       "      <td>13.000055</td>\n",
       "      <td>150.000179</td>\n",
       "      <td>6999.830872</td>\n",
       "      <td>FEMALE</td>\n",
       "    </tr>\n",
       "  </tbody>\n",
       "</table>\n",
       "</div>"
      ],
      "text/plain": [
       "  species     island  bill_length_mm  bill_depth_mm  flipper_length_mm  \\\n",
       "0  Adelie  Torgersen       64.979197      13.000297         150.001132   \n",
       "1  Adelie  Torgersen       64.995704      13.000055         150.000179   \n",
       "\n",
       "   body_mass_g     sex  \n",
       "0  6999.272376  FEMALE  \n",
       "1  6999.830872  FEMALE  "
      ]
     },
     "execution_count": 57,
     "metadata": {},
     "output_type": "execute_result"
    }
   ],
   "source": [
    "model = res[\"query_response\"]\n",
    "model.sample(2)"
   ]
  },
  {
   "cell_type": "code",
   "execution_count": null,
   "id": "14fb3b22-24f5-4666-a4f1-048f12e9e680",
   "metadata": {},
   "outputs": [],
   "source": []
  },
  {
   "cell_type": "markdown",
   "id": "ab668494-87ca-42b8-88a2-14fd21ec4530",
   "metadata": {},
   "source": [
    "## Error 1: test_smartnoise_synth_query_transformer_type"
   ]
  },
  {
   "cell_type": "code",
   "execution_count": 42,
   "id": "cda6189a-487f-4b68-b76c-0964d8123ace",
   "metadata": {},
   "outputs": [
    {
     "name": "stderr",
     "output_type": "stream",
     "text": [
      "/usr/local/lib/python3.11/site-packages/torch/storage.py:414: FutureWarning: You are using `torch.load` with `weights_only=False` (the current default value), which uses the default pickle module implicitly. It is possible to construct malicious pickle data which will execute arbitrary code during unpickling (See https://github.com/pytorch/pytorch/blob/main/SECURITY.md#untrusted-models for more details). In a future release, the default value for `weights_only` will be flipped to `True`. This limits the functions that could be executed during unpickling. Arbitrary objects will no longer be allowed to be loaded via this mode unless they are explicitly allowlisted by the user via `torch.serialization.add_safe_globals`. We recommend you start setting `weights_only=True` for any use case where you don't have full control of the loaded file. Please open an issue on GitHub for any issues related to this experimental feature.\n",
      "  return torch.load(io.BytesIO(b))\n"
     ]
    },
    {
     "data": {
      "text/plain": [
       "{'query_response': <snsynth.pytorch.nn.dpctgan.DPCTGAN at 0x7f2e0c4a7450>}"
      ]
     },
     "execution_count": 42,
     "metadata": {},
     "output_type": "execute_result"
    }
   ],
   "source": [
    "res = client.smartnoise_synth_query(\n",
    "    synth_name=\"dpctgan\",\n",
    "    epsilon= 2.0,\n",
    "    delta = 0.0001,\n",
    "    select_cols = [],\n",
    "    synth_params = {\n",
    "        \"embedding_dim\": 128, \n",
    "        \"generator_dim\": (256, 256), \n",
    "        \"discriminator_dim\": (256, 256),\n",
    "        \"batch_size\": 2\n",
    "    },\n",
    "    nullable = True,\n",
    "    table_transformer_style = \"cube\",\n",
    "    dummy = True\n",
    ")\n",
    "res"
   ]
  },
  {
   "cell_type": "code",
   "execution_count": 43,
   "id": "f51ad07c-fae3-4d2b-a11c-250c3719a193",
   "metadata": {},
   "outputs": [],
   "source": [
    "model_full = res[\"query_response\"]"
   ]
  },
  {
   "cell_type": "code",
   "execution_count": 44,
   "id": "2775de52-1143-46c1-8e6f-c04f7c3484f0",
   "metadata": {},
   "outputs": [
    {
     "ename": "TypeError",
     "evalue": "list indices must be integers or slices, not numpy.float32",
     "output_type": "error",
     "traceback": [
      "\u001b[0;31m---------------------------------------------------------------------------\u001b[0m",
      "\u001b[0;31mTypeError\u001b[0m                                 Traceback (most recent call last)",
      "Cell \u001b[0;32mIn[44], line 1\u001b[0m\n\u001b[0;32m----> 1\u001b[0m df \u001b[38;5;241m=\u001b[39m \u001b[43mmodel_full\u001b[49m\u001b[38;5;241;43m.\u001b[39;49m\u001b[43msample\u001b[49m\u001b[43m(\u001b[49m\u001b[38;5;241;43m10\u001b[39;49m\u001b[43m)\u001b[49m\n",
      "File \u001b[0;32m/usr/local/lib/python3.11/site-packages/snsynth/pytorch/nn/dpctgan.py:515\u001b[0m, in \u001b[0;36mDPCTGAN.sample\u001b[0;34m(self, n_samples)\u001b[0m\n\u001b[1;32m    514\u001b[0m \u001b[38;5;28;01mdef\u001b[39;00m \u001b[38;5;21msample\u001b[39m(\u001b[38;5;28mself\u001b[39m, n_samples):\n\u001b[0;32m--> 515\u001b[0m     \u001b[38;5;28;01mreturn\u001b[39;00m \u001b[38;5;28;43mself\u001b[39;49m\u001b[38;5;241;43m.\u001b[39;49m\u001b[43mgenerate\u001b[49m\u001b[43m(\u001b[49m\u001b[43mn_samples\u001b[49m\u001b[43m)\u001b[49m\n",
      "File \u001b[0;32m/usr/local/lib/python3.11/site-packages/snsynth/pytorch/nn/dpctgan.py:509\u001b[0m, in \u001b[0;36mDPCTGAN.generate\u001b[0;34m(self, n, condition_column, condition_value)\u001b[0m\n\u001b[1;32m    506\u001b[0m data \u001b[38;5;241m=\u001b[39m np\u001b[38;5;241m.\u001b[39mconcatenate(data, axis\u001b[38;5;241m=\u001b[39m\u001b[38;5;241m0\u001b[39m)\n\u001b[1;32m    507\u001b[0m data \u001b[38;5;241m=\u001b[39m data[:n]\n\u001b[0;32m--> 509\u001b[0m \u001b[38;5;28;01mreturn\u001b[39;00m \u001b[38;5;28;43mself\u001b[39;49m\u001b[38;5;241;43m.\u001b[39;49m\u001b[43m_transformer\u001b[49m\u001b[38;5;241;43m.\u001b[39;49m\u001b[43minverse_transform\u001b[49m\u001b[43m(\u001b[49m\u001b[43mdata\u001b[49m\u001b[43m)\u001b[49m\n",
      "File \u001b[0;32m/usr/local/lib/python3.11/site-packages/snsynth/transform/table.py:145\u001b[0m, in \u001b[0;36mTableTransformer.inverse_transform\u001b[0;34m(self, data)\u001b[0m\n\u001b[1;32m    143\u001b[0m \u001b[38;5;28;01mif\u001b[39;00m \u001b[38;5;28mself\u001b[39m\u001b[38;5;241m.\u001b[39mtransformers \u001b[38;5;241m==\u001b[39m []:\n\u001b[1;32m    144\u001b[0m     \u001b[38;5;28;01mreturn\u001b[39;00m data\n\u001b[0;32m--> 145\u001b[0m transformed \u001b[38;5;241m=\u001b[39m \u001b[43m[\u001b[49m\u001b[38;5;28;43mself\u001b[39;49m\u001b[38;5;241;43m.\u001b[39;49m\u001b[43m_inverse_transform\u001b[49m\u001b[43m(\u001b[49m\u001b[43mrow\u001b[49m\u001b[43m)\u001b[49m\u001b[43m \u001b[49m\u001b[38;5;28;43;01mfor\u001b[39;49;00m\u001b[43m \u001b[49m\u001b[43mrow\u001b[49m\u001b[43m \u001b[49m\u001b[38;5;129;43;01min\u001b[39;49;00m\u001b[43m \u001b[49m\u001b[43mdata\u001b[49m\u001b[43m]\u001b[49m\n\u001b[1;32m    146\u001b[0m \u001b[38;5;28;01mif\u001b[39;00m \u001b[38;5;28mself\u001b[39m\u001b[38;5;241m.\u001b[39m_columns \u001b[38;5;129;01mis\u001b[39;00m \u001b[38;5;129;01mnot\u001b[39;00m \u001b[38;5;28;01mNone\u001b[39;00m:\n\u001b[1;32m    147\u001b[0m     columns \u001b[38;5;241m=\u001b[39m [col \u001b[38;5;28;01mfor\u001b[39;00m i, col \u001b[38;5;129;01min\u001b[39;00m \u001b[38;5;28menumerate\u001b[39m(\u001b[38;5;28mself\u001b[39m\u001b[38;5;241m.\u001b[39m_columns) \u001b[38;5;28;01mif\u001b[39;00m i \u001b[38;5;129;01mnot\u001b[39;00m \u001b[38;5;129;01min\u001b[39;00m \u001b[38;5;28mself\u001b[39m\u001b[38;5;241m.\u001b[39m_dropped_column_indices]\n",
      "File \u001b[0;32m/usr/local/lib/python3.11/site-packages/snsynth/transform/table.py:145\u001b[0m, in \u001b[0;36m<listcomp>\u001b[0;34m(.0)\u001b[0m\n\u001b[1;32m    143\u001b[0m \u001b[38;5;28;01mif\u001b[39;00m \u001b[38;5;28mself\u001b[39m\u001b[38;5;241m.\u001b[39mtransformers \u001b[38;5;241m==\u001b[39m []:\n\u001b[1;32m    144\u001b[0m     \u001b[38;5;28;01mreturn\u001b[39;00m data\n\u001b[0;32m--> 145\u001b[0m transformed \u001b[38;5;241m=\u001b[39m [\u001b[38;5;28;43mself\u001b[39;49m\u001b[38;5;241;43m.\u001b[39;49m\u001b[43m_inverse_transform\u001b[49m\u001b[43m(\u001b[49m\u001b[43mrow\u001b[49m\u001b[43m)\u001b[49m \u001b[38;5;28;01mfor\u001b[39;00m row \u001b[38;5;129;01min\u001b[39;00m data]\n\u001b[1;32m    146\u001b[0m \u001b[38;5;28;01mif\u001b[39;00m \u001b[38;5;28mself\u001b[39m\u001b[38;5;241m.\u001b[39m_columns \u001b[38;5;129;01mis\u001b[39;00m \u001b[38;5;129;01mnot\u001b[39;00m \u001b[38;5;28;01mNone\u001b[39;00m:\n\u001b[1;32m    147\u001b[0m     columns \u001b[38;5;241m=\u001b[39m [col \u001b[38;5;28;01mfor\u001b[39;00m i, col \u001b[38;5;129;01min\u001b[39;00m \u001b[38;5;28menumerate\u001b[39m(\u001b[38;5;28mself\u001b[39m\u001b[38;5;241m.\u001b[39m_columns) \u001b[38;5;28;01mif\u001b[39;00m i \u001b[38;5;129;01mnot\u001b[39;00m \u001b[38;5;129;01min\u001b[39;00m \u001b[38;5;28mself\u001b[39m\u001b[38;5;241m.\u001b[39m_dropped_column_indices]\n",
      "File \u001b[0;32m/usr/local/lib/python3.11/site-packages/snsynth/transform/table.py:167\u001b[0m, in \u001b[0;36mTableTransformer._inverse_transform\u001b[0;34m(self, row)\u001b[0m\n\u001b[1;32m    165\u001b[0m     \u001b[38;5;28;01melse\u001b[39;00m:\n\u001b[1;32m    166\u001b[0m         v \u001b[38;5;241m=\u001b[39m \u001b[38;5;28mtuple\u001b[39m([row\u001b[38;5;241m.\u001b[39mpop(\u001b[38;5;241m0\u001b[39m) \u001b[38;5;28;01mfor\u001b[39;00m _ \u001b[38;5;129;01min\u001b[39;00m \u001b[38;5;28mrange\u001b[39m(t\u001b[38;5;241m.\u001b[39moutput_width)])\n\u001b[0;32m--> 167\u001b[0m     out_row\u001b[38;5;241m.\u001b[39mappend(\u001b[43mt\u001b[49m\u001b[38;5;241;43m.\u001b[39;49m\u001b[43m_inverse_transform\u001b[49m\u001b[43m(\u001b[49m\u001b[43mv\u001b[49m\u001b[43m)\u001b[49m)\n\u001b[1;32m    168\u001b[0m \u001b[38;5;28;01mreturn\u001b[39;00m \u001b[38;5;28mtuple\u001b[39m(out_row)\n",
      "File \u001b[0;32m/usr/local/lib/python3.11/site-packages/snsynth/transform/label.py:60\u001b[0m, in \u001b[0;36mLabelTransformer._inverse_transform\u001b[0;34m(self, val)\u001b[0m\n\u001b[1;32m     58\u001b[0m \u001b[38;5;28;01mif\u001b[39;00m val \u001b[38;5;129;01mis\u001b[39;00m \u001b[38;5;28;01mNone\u001b[39;00m \u001b[38;5;129;01mand\u001b[39;00m \u001b[38;5;28mself\u001b[39m\u001b[38;5;241m.\u001b[39mnullable:\n\u001b[1;32m     59\u001b[0m     \u001b[38;5;28;01mreturn\u001b[39;00m \u001b[38;5;28;01mNone\u001b[39;00m\n\u001b[0;32m---> 60\u001b[0m \u001b[38;5;28;01mreturn\u001b[39;00m \u001b[38;5;28;43mself\u001b[39;49m\u001b[38;5;241;43m.\u001b[39;49m\u001b[43mcategories\u001b[49m\u001b[43m[\u001b[49m\u001b[43mval\u001b[49m\u001b[43m]\u001b[49m\n",
      "\u001b[0;31mTypeError\u001b[0m: list indices must be integers or slices, not numpy.float32"
     ]
    }
   ],
   "source": [
    "df = model_full.sample(10)"
   ]
  },
  {
   "cell_type": "code",
   "execution_count": 32,
   "id": "a0688163-bada-4e2f-b908-bf9339fe108d",
   "metadata": {},
   "outputs": [
    {
     "data": {
      "text/plain": [
       "dict_keys(['_embedding_dim', '_generator_dim', '_discriminator_dim', '_generator_lr', '_generator_decay', '_discriminator_lr', '_discriminator_decay', '_batch_size', '_discriminator_steps', '_verbose', '_epochs', 'pac', 'sigma', 'disabled_dp', 'delta', 'max_per_sample_grad_norm', 'epsilon', 'epsilon_list', 'alpha_list', 'loss_d_list', 'loss_g_list', 'verbose', 'loss', '_device', '_transformer', '_data_sampler', '_generator'])"
      ]
     },
     "execution_count": 32,
     "metadata": {},
     "output_type": "execute_result"
    }
   ],
   "source": [
    "vars(model_full).keys()"
   ]
  },
  {
   "cell_type": "code",
   "execution_count": 48,
   "id": "66012424-92eb-42d6-9456-148de848b3c0",
   "metadata": {},
   "outputs": [],
   "source": [
    "#vars(model_full)"
   ]
  },
  {
   "cell_type": "code",
   "execution_count": 37,
   "id": "ba95b430-92af-4309-bf8c-e7681ed1796b",
   "metadata": {},
   "outputs": [
    {
     "data": {
      "text/plain": [
       "0.0001"
      ]
     },
     "execution_count": 37,
     "metadata": {},
     "output_type": "execute_result"
    }
   ],
   "source": [
    "model_full.delta"
   ]
  },
  {
   "cell_type": "code",
   "execution_count": 27,
   "id": "9424eeab-d140-474d-b0bb-a691a248200c",
   "metadata": {},
   "outputs": [],
   "source": [
    "df = model_full.sample(5)"
   ]
  },
  {
   "cell_type": "code",
   "execution_count": 34,
   "id": "adea62e2-2990-42e8-b10a-cbe9a4f886f5",
   "metadata": {},
   "outputs": [
    {
     "data": {
      "text/plain": [
       "True"
      ]
     },
     "execution_count": 34,
     "metadata": {},
     "output_type": "execute_result"
    }
   ],
   "source": [
    "list(df.columns) ==['species', 'island', 'bill_length_mm', 'bill_depth_mm',\n",
    "       'flipper_length_mm', 'body_mass_g', 'sex']"
   ]
  },
  {
   "cell_type": "code",
   "execution_count": 16,
   "id": "98fd0aaa-56d4-42c8-a36e-395039be87be",
   "metadata": {},
   "outputs": [],
   "source": [
    "from snsynth.transform.type_map import TypeMap"
   ]
  },
  {
   "cell_type": "code",
   "execution_count": null,
   "id": "c38122be-a94f-4a28-a944-bcf68af02187",
   "metadata": {},
   "outputs": [],
   "source": [
    "TypeMap.get_transformers"
   ]
  },
  {
   "cell_type": "code",
   "execution_count": 12,
   "id": "c0370113-c028-4d06-b3e8-cb68e16cc7a5",
   "metadata": {},
   "outputs": [],
   "source": [
    "import pandas as pd\n",
    "from snsynth import Synthesizer\n",
    "from snsynth.transform import (\n",
    "    AnonymizationTransformer,\n",
    "    BinTransformer,\n",
    "    ChainTransformer,\n",
    "    #DateTimeTransformer,\n",
    "    LabelTransformer,\n",
    "    MinMaxTransformer,\n",
    "    OneHotEncoder,\n",
    ")\n",
    "from snsynth.transform.table import TableTransformer\n",
    "\n",
    "from typing import Dict, List, Optional"
   ]
  },
  {
   "cell_type": "code",
   "execution_count": 15,
   "id": "b9073073-fe81-440d-b6f2-7d4300129cf6",
   "metadata": {},
   "outputs": [],
   "source": [
    "from snsynth.transform.datetime import DateTimeTransformer"
   ]
  },
  {
   "cell_type": "code",
   "execution_count": null,
   "id": "8f931338-72ce-45f2-87c6-da95301dbc0b",
   "metadata": {},
   "outputs": [],
   "source": [
    "Synthesizer.list_synthesizers()"
   ]
  },
  {
   "cell_type": "code",
   "execution_count": null,
   "id": "d7c76df9-8046-4438-bd66-b18161dc7def",
   "metadata": {},
   "outputs": [],
   "source": [
    "from pydantic import BaseModel, Field\n",
    "class SmartnoiseSynthModel(BaseModel):\n",
    "    \"\"\"Model input for a smarnoise-synth query\"\"\"\n",
    "\n",
    "    dataset_name: str\n",
    "    synth_name: str\n",
    "    epsilon: float = 0.0\n",
    "    delta: float = 0.0\n",
    "    select_cols: List = []\n",
    "    synth_params: dict = {}\n",
    "    mul_matrix: List = []\n",
    "    nullable: bool = True\n",
    "    condition: Optional[str] = None\n",
    "    nb_samples: Optional[int] = None\n",
    "    table_transformer_style: str = \"gan\""
   ]
  },
  {
   "cell_type": "code",
   "execution_count": null,
   "id": "7627f54e-c652-4b0c-a940-ce980bb12223",
   "metadata": {},
   "outputs": [],
   "source": [
    "from enum import StrEnum\n",
    "class SSynthSynthesizer(StrEnum):\n",
    "    \"\"\"Synthesizer models for smartnoise synth\"\"\"\n",
    "\n",
    "    # Marginal Synthesizer\n",
    "    AIM = \"aim\"\n",
    "    MWEM = \"mwem\"\n",
    "    MST = \"mst\"\n",
    "    PAC_SYNTH = \"pacsynth\"\n",
    "\n",
    "    # Neural Network Synthesizer\n",
    "    DP_CTGAN = \"dpctgan\"\n",
    "    PATE_CTGAN = \"patectgan\"\n",
    "    PATE_GAN = \"pategan\"  # no documentation\n",
    "    DP_GAN = \"dpgan\"  # no documentation\n",
    "\n",
    "    # Hybrid Synthesizer\n",
    "    QUAIL = \"quail\"\n",
    "\n",
    "\n",
    "class SSynthTableTransStyle(StrEnum):\n",
    "    \"\"\"Transformer style for smartnoise synth\"\"\"\n",
    "\n",
    "    GAN = \"gan\"\n",
    "    CUBE = \"cube\"\n",
    "\n",
    "\n",
    "class SSynthColumnType(StrEnum):\n",
    "    \"\"\"Type of columns for SmartnoiseSynth transformer pre-processing\"\"\"\n",
    "\n",
    "    PRIVATE_ID = \"private_id\"\n",
    "    CATEGORICAL = \"categorical\"\n",
    "    CONTINUOUS = \"continuous\"\n",
    "    ORDINAL = \"ordinal\"\n",
    "    DATETIME = \"datetime\"\n",
    "\n",
    "\n",
    "SSYNTH_PRIVATE_COLUMN = \"uuid\"\n",
    "SSYNTH_DEFAULT_NB_SAMPLES = 100"
   ]
  },
  {
   "cell_type": "code",
   "execution_count": null,
   "id": "d5171177-d04f-4464-897c-4bfefae959ac",
   "metadata": {},
   "outputs": [],
   "source": [
    "def _preprocess_data(\n",
    "        private_data: pd.DataFrame,\n",
    "        query_json: dict,\n",
    "    ) -> pd.DataFrame:\n",
    "        \"\"\"\n",
    "        Preprocess the data based on the query parameters.\n",
    "\n",
    "        Args:\n",
    "            private_data (pd.DataFrame): Private data to be preprocessed\n",
    "            query_json (dict): (SmartnoiseSynthModelCost): JSON request object\n",
    "                select_cols (List[str]): List of columns to select\n",
    "                mul_matrix (List): Multiplication matrix for columns aggregations\n",
    "\n",
    "        Returns:\n",
    "            pd.DataFrame: Preprocessed private data\n",
    "        \"\"\"\n",
    "        if query_json.select_cols:\n",
    "            try:\n",
    "                private_data = private_data[query_json.select_cols]\n",
    "            except KeyError as e:\n",
    "                raise ValueError(\n",
    "                    \"Error while selecting provided select_cols: \" + str(e)\n",
    "                ) from e\n",
    "\n",
    "        if query_json.mul_matrix:\n",
    "            try:\n",
    "                np_matrix = np.array(query_json.mul_matrix)\n",
    "                mul_private_data = private_data.to_numpy().dot(np_matrix.T)\n",
    "                private_data = pd.DataFrame(mul_private_data)\n",
    "            except ValueError as e:\n",
    "                raise ValueError(\n",
    "                    f\"Failed to multiply provided mul_matrix: {(str(e))}\"\n",
    "                ) from e\n",
    "        return private_data"
   ]
  },
  {
   "cell_type": "code",
   "execution_count": null,
   "id": "283a54c7",
   "metadata": {},
   "outputs": [],
   "source": [
    "def _categorize_column(data: dict) -> str:\n",
    "    \"\"\"\n",
    "    Categorize the column based on its metadata.\n",
    "\n",
    "    Args:\n",
    "        data (dict): Metadata of the column.\n",
    "\n",
    "    Returns:\n",
    "        str: Category of the column.\n",
    "    \"\"\"\n",
    "    match data[\"type\"]:\n",
    "        case \"string\" | \"boolean\":\n",
    "            return SSynthColumnType.CATEGORICAL\n",
    "        case \"int\" | \"float\":\n",
    "            if \"lower\" in data.keys():\n",
    "                return SSynthColumnType.CONTINUOUS\n",
    "            if \"cardinality\" in data.keys():\n",
    "                return SSynthColumnType.CATEGORICAL\n",
    "            return SSynthColumnType.ORDINAL\n",
    "        case \"datetime\":\n",
    "            return SSynthColumnType.DATETIME\n",
    "        case _:\n",
    "            raise ValueError(\n",
    "                f\"Unknown column type in metadata: {data['type']}\"\n",
    "            )\n",
    "\n",
    "def _get_column_by_types(\n",
    "    metadata,\n",
    "    select_cols: List[str],\n",
    ") -> Dict[str, List[str]]:\n",
    "    \"\"\"\n",
    "    Sort the column in categories based on their types and metadata\n",
    "\n",
    "    Args:\n",
    "        metadata (Metadata): Metadata of the dataset\n",
    "        select_cols (List[str]): List of columns to select\n",
    "\n",
    "    Returns:\n",
    "        Dict[str, List[str]]: Dictionnary of list of columns by categories\n",
    "    \"\"\"\n",
    "    col_categories: Dict[str, List[str]] = {\n",
    "        SSynthColumnType.CATEGORICAL: [],\n",
    "        SSynthColumnType.CONTINUOUS: [],\n",
    "        SSynthColumnType.DATETIME: [],\n",
    "        SSynthColumnType.ORDINAL: [],\n",
    "        SSynthColumnType.PRIVATE_ID: [],\n",
    "    }\n",
    "    for col_name, data in metadata[\"columns\"].items():\n",
    "        if select_cols and col_name not in select_cols:\n",
    "            continue\n",
    "        \n",
    "        if \"private_id\" in data.keys():\n",
    "            col_categories[SSynthColumnType.PRIVATE_ID].append(col_name)\n",
    "            continue\n",
    "\n",
    "        # Sort the column in categories based on their types and metadata\n",
    "        category = _categorize_column(data)\n",
    "        col_categories[category].append(col_name)\n",
    "\n",
    "    return col_categories\n",
    "\n",
    "def _prepare_data_transformer(\n",
    "    metadata,\n",
    "    private_data: pd.DataFrame,\n",
    "    query_json: dict,\n",
    "):\n",
    "    \"\"\"\n",
    "    Creates the transformer based on the metadata\n",
    "    The transformer is used to transform the data before synthesis and then\n",
    "    reverse the transformation after synthesis.\n",
    "    See https://docs.smartnoise.org/synth/transforms/index.html for documentation\n",
    "    See https://github.com/opendp/smartnoise-sdk/blob/main/synth/snsynth/\n",
    "        transform/type_map.py#L40 for get_transformer() method taken as basis.\n",
    "\n",
    "    Args:\n",
    "        metadata (Metadata): Metadata of the dataset\n",
    "        private_data\n",
    "        query_json (SmartnoiseSynthModelCost): JSON request object for the query\n",
    "            select_cols (List[str]): List of columns to select\n",
    "            nullable (bool): True is the data can have Null values, False otherwise\n",
    "            table_transformer_style: 'gan' or 'cube'\n",
    "\n",
    "    Returns:\n",
    "        table_tranformer (TableTransformer) to pre and post-process the data\n",
    "    \"\"\"\n",
    "    col_categories = _get_column_by_types(metadata, query_json.select_cols)\n",
    "    style = query_json.table_transformer_style\n",
    "    nullable = query_json.nullable\n",
    "\n",
    "    constraints = {}\n",
    "    for col in col_categories[SSynthColumnType.PRIVATE_ID]:\n",
    "        constraints[col] = AnonymizationTransformer(SSYNTH_PRIVATE_COLUMN)\n",
    "\n",
    "    if style == SSynthTableTransStyle.GAN:\n",
    "        for col in col_categories[SSynthColumnType.CATEGORICAL]:\n",
    "            constraints[col] = ChainTransformer(\n",
    "                [LabelTransformer(nullable=nullable), OneHotEncoder()]\n",
    "            )\n",
    "        for col in col_categories[SSynthColumnType.CONTINUOUS]:\n",
    "            constraints[col] = MinMaxTransformer(\n",
    "                lower=metadata[\"columns\"][col][\"lower\"],\n",
    "                upper=metadata[\"columns\"][col][\"upper\"],\n",
    "                nullable=nullable,\n",
    "            )\n",
    "        for col in col_categories[SSynthColumnType.DATETIME]:\n",
    "            constraints[col] = ChainTransformer(\n",
    "                [\n",
    "                    DateTimeTransformer(),\n",
    "                    MinMaxTransformer(\n",
    "                        lower=metadata[\"columns\"][col][\"lower\"],\n",
    "                        upper=metadata[\"columns\"][col][\"upper\"],\n",
    "                        nullable=nullable\n",
    "                    ),\n",
    "                ]\n",
    "            )\n",
    "        for col in col_categories[SSynthColumnType.ORDINAL]:\n",
    "            constraints[col] = ChainTransformer(\n",
    "                [LabelTransformer(nullable=nullable), OneHotEncoder()]\n",
    "            )\n",
    "    else:\n",
    "        for col in col_categories[SSynthColumnType.CATEGORICAL]:\n",
    "            constraints[col] = LabelTransformer(nullable=nullable)\n",
    "        for col in col_categories[SSynthColumnType.CONTINUOUS]:\n",
    "            constraints[col] = BinTransformer(nullable=nullable)\n",
    "        for col in col_categories[SSynthColumnType.DATETIME]:\n",
    "            constraints[col] = ChainTransformer(\n",
    "                [\n",
    "                    DateTimeTransformer(),\n",
    "                    BinTransformer(bins=20, nullable=nullable),\n",
    "                ]\n",
    "            )\n",
    "        for col in col_categories[SSynthColumnType.ORDINAL]:\n",
    "            constraints[col] = LabelTransformer(nullable=nullable)\n",
    "    print(constraints)\n",
    "    return TableTransformer.create(\n",
    "        data=private_data,\n",
    "        style=style,\n",
    "        nullable=nullable,\n",
    "        constraints=constraints,\n",
    "    )"
   ]
  },
  {
   "cell_type": "markdown",
   "id": "5683cdfe-8206-494f-b367-d4dc91ef9a36",
   "metadata": {},
   "source": [
    "## Synthesize data"
   ]
  },
  {
   "cell_type": "code",
   "execution_count": null,
   "id": "d810f888-648a-4ad7-8a0a-2dceb5cf8482",
   "metadata": {},
   "outputs": [],
   "source": [
    "query_json_pums = {\n",
    "    \"dataset_name\": \"PENGUIN\",\n",
    "    \"synth_name\": \"dpctgan\",\n",
    "    \"epsilon\": 0.1,\n",
    "    \"delta\": 0.00001,\n",
    "    \"synth_params\": {},\n",
    "    \"select_cols\": [],\n",
    "    \"mul_matrix\": [],\n",
    "    \"nullable\": True,\n",
    "    \"condition\": None,\n",
    "    \"nb_samples\": None,\n",
    "    \"table_transformer_style\": \"gan\",\n",
    "}\n",
    "query_json_pums = SmartnoiseSynthModel.model_validate(query_json_pums)"
   ]
  },
  {
   "cell_type": "markdown",
   "id": "0f8c20bc-6dfa-41fd-aa41-de9beb6bd4ee",
   "metadata": {},
   "source": [
    "### PUMS"
   ]
  },
  {
   "cell_type": "code",
   "execution_count": 13,
   "id": "2506595c-5991-432a-8c62-4fc25392343c",
   "metadata": {},
   "outputs": [
    {
     "ename": "NameError",
     "evalue": "name 'pd' is not defined",
     "output_type": "error",
     "traceback": [
      "\u001b[0;31m---------------------------------------------------------------------------\u001b[0m",
      "\u001b[0;31mNameError\u001b[0m                                 Traceback (most recent call last)",
      "Cell \u001b[0;32mIn[13], line 1\u001b[0m\n\u001b[0;32m----> 1\u001b[0m pums_private_data \u001b[38;5;241m=\u001b[39m \u001b[43mpd\u001b[49m\u001b[38;5;241m.\u001b[39mread_csv(\u001b[38;5;124m\"\u001b[39m\u001b[38;5;124mhttps://raw.githubusercontent.com/opendp/smartnoise-sdk/main/datasets/PUMS.csv\u001b[39m\u001b[38;5;124m\"\u001b[39m)\n\u001b[1;32m      2\u001b[0m \u001b[38;5;28mprint\u001b[39m(pums_private_data\u001b[38;5;241m.\u001b[39mhead())\n\u001b[1;32m      3\u001b[0m pums_metadata \u001b[38;5;241m=\u001b[39m {\n\u001b[1;32m      4\u001b[0m     \u001b[38;5;124m\"\u001b[39m\u001b[38;5;124mcolumns\u001b[39m\u001b[38;5;124m\"\u001b[39m: {\n\u001b[1;32m      5\u001b[0m         \u001b[38;5;124m\"\u001b[39m\u001b[38;5;124mage\u001b[39m\u001b[38;5;124m\"\u001b[39m: {\u001b[38;5;124m'\u001b[39m\u001b[38;5;124mtype\u001b[39m\u001b[38;5;124m'\u001b[39m: \u001b[38;5;124m'\u001b[39m\u001b[38;5;124mint\u001b[39m\u001b[38;5;124m'\u001b[39m, \u001b[38;5;124m'\u001b[39m\u001b[38;5;124mlower\u001b[39m\u001b[38;5;124m'\u001b[39m: \u001b[38;5;241m18\u001b[39m, \u001b[38;5;124m'\u001b[39m\u001b[38;5;124mupper\u001b[39m\u001b[38;5;124m'\u001b[39m: \u001b[38;5;241m70\u001b[39m},\n\u001b[0;32m   (...)\u001b[0m\n\u001b[1;32m     11\u001b[0m     }\n\u001b[1;32m     12\u001b[0m }\n",
      "\u001b[0;31mNameError\u001b[0m: name 'pd' is not defined"
     ]
    }
   ],
   "source": [
    "pums_private_data = pd.read_csv(\"https://raw.githubusercontent.com/opendp/smartnoise-sdk/main/datasets/PUMS.csv\")\n",
    "print(pums_private_data.head())\n",
    "pums_metadata = {\n",
    "    \"columns\": {\n",
    "        \"age\": {'type': 'int', 'lower': 18, 'upper': 70},\n",
    "        \"sex\": {'type': 'boolean'},\n",
    "        \"educ\": {'type': 'int', 'cardinality': 14},\n",
    "        \"race\": {'type': 'int', 'cardinality': 6},\n",
    "        \"income\": {'type': 'float', 'lower': 0.0, 'upper': 500_000},\n",
    "        \"married\": {'type': 'boolean'},\n",
    "    }\n",
    "}"
   ]
  },
  {
   "cell_type": "code",
   "execution_count": null,
   "id": "3f5a7528-aa24-44dd-9d53-877378936e88",
   "metadata": {},
   "outputs": [],
   "source": [
    "pums_private_data = _preprocess_data(pums_private_data, query_json_pums)"
   ]
  },
  {
   "cell_type": "code",
   "execution_count": null,
   "id": "ee728264",
   "metadata": {},
   "outputs": [],
   "source": [
    "pums_transformer = _prepare_data_transformer(pums_metadata, pums_private_data, query_json_pums)\n",
    "pums_transformer"
   ]
  },
  {
   "cell_type": "code",
   "execution_count": null,
   "id": "866716d0-d77c-428c-9de2-93f9f200908c",
   "metadata": {},
   "outputs": [],
   "source": [
    "pums_encoded = pums_transformer.fit_transform(pums_private_data, epsilon=0.0)\n",
    "pums_transformer.odometer.spent"
   ]
  },
  {
   "cell_type": "code",
   "execution_count": null,
   "id": "4ee5ca4f-a82a-4641-8aa3-b595737ae4ce",
   "metadata": {},
   "outputs": [],
   "source": [
    "model = Synthesizer.create(\n",
    "    synth=query_json_pums.synth_name,\n",
    "    epsilon=query_json_pums.epsilon,\n",
    "    verbose=True,\n",
    "    **query_json_pums.synth_params,\n",
    ")"
   ]
  },
  {
   "cell_type": "code",
   "execution_count": null,
   "id": "4c7a072d",
   "metadata": {},
   "outputs": [],
   "source": [
    "model.fit(\n",
    "    data=pums_private_data,\n",
    "    transformer=pums_transformer, #pums_transformer,\n",
    "    preprocessor_eps=0.0, #0.0,  # will error if not 0.\n",
    "    #nullable=query_json_pums.nullable,\n",
    ")"
   ]
  },
  {
   "cell_type": "code",
   "execution_count": null,
   "id": "e5fc0d04-2f94-4aa0-ba9e-29a297f0b765",
   "metadata": {},
   "outputs": [],
   "source": [
    "model"
   ]
  },
  {
   "cell_type": "code",
   "execution_count": null,
   "id": "47c0c406-15db-480f-a122-e9c9e0350677",
   "metadata": {},
   "outputs": [],
   "source": [
    "samples = model.sample(5)\n",
    "print(samples)"
   ]
  },
  {
   "cell_type": "markdown",
   "id": "da5928db-cae0-4690-8f17-4cdb4ca50859",
   "metadata": {},
   "source": [
    "### Penguins"
   ]
  },
  {
   "cell_type": "code",
   "execution_count": null,
   "id": "66e5af1f-e906-4366-b6bb-576615c00d5d",
   "metadata": {},
   "outputs": [],
   "source": [
    "penguin_private_data = pd.read_csv(\"https://raw.githubusercontent.com/mwaskom/seaborn-data/master/penguins.csv\", index_col=None)\n",
    "print(penguin_private_data.head())\n",
    "penguin_metadata = {\n",
    " 'max_ids': 1,\n",
    " 'row_privacy': True,\n",
    " 'censor_dims': False,\n",
    " 'columns': {\n",
    "   'species': {'type': 'string', 'cardinality': 3,'categories': ['Adelie', 'Chinstrap', 'Gentoo']},\n",
    "   'island': {'type': 'string', 'cardinality': 3, 'categories': ['Torgersen', 'Biscoe', 'Dream']},\n",
    "   'bill_length_mm': {'type': 'float', 'lower': 30.0, 'upper': 65.0},\n",
    "   'bill_depth_mm': {'type': 'float', 'lower': 13.0, 'upper': 23.0},\n",
    "   'flipper_length_mm': {'type': 'float', 'lower': 150.0, 'upper': 250.0},\n",
    "   'body_mass_g': {'type': 'float', 'lower': 2000.0, 'upper': 7000.0},\n",
    "   'sex': {'type': 'string', 'cardinality': 2,'categories': ['MALE', 'FEMALE']}\n",
    "  }\n",
    "}"
   ]
  },
  {
   "cell_type": "code",
   "execution_count": 46,
   "id": "52bdcbd8-f1f1-4876-8b52-c889d5cbad05",
   "metadata": {},
   "outputs": [],
   "source": [
    "from snsynth.transform import ChainTransformer, LabelTransformer, MinMaxTransformer, OneHotEncoder\n",
    "from smartnoise_synth_logger import serialise_constraints\n",
    "\n",
    "constraints = {\n",
    "   'species': ChainTransformer([LabelTransformer(nullable=True), OneHotEncoder()]),\n",
    "   'island': ChainTransformer([LabelTransformer(nullable=True), OneHotEncoder()]),\n",
    "   'bill_length_mm': MinMaxTransformer(lower=30.0, upper=65.0, nullable=True),\n",
    "   'bill_depth_mm': MinMaxTransformer(lower=13.0, upper=23.0, nullable=True),\n",
    "   'flipper_length_mm': MinMaxTransformer(lower=150.0, upper=250.0, nullable=True),\n",
    "   'body_mass_g': MinMaxTransformer(lower=2000.0, upper=7000.0, nullable=True),\n",
    "   'sex': ChainTransformer([LabelTransformer(nullable=True), OneHotEncoder()]),\n",
    "}"
   ]
  },
  {
   "cell_type": "code",
   "execution_count": 47,
   "id": "c5c8cc2c-6c2e-47cd-b34b-d99e3a3822c5",
   "metadata": {},
   "outputs": [
    {
     "data": {
      "text/plain": [
       "'{\"module\": \"smartnoise-synth\", \"version\": \"1.0.4\", \"constraints\": {\"species\": {\"type\": \"_ssynth_transformer:ChainTransformer\", \"params\": [{\"type\": \"_ssynth_transformer:LabelTransformer\", \"params\": {\"nullable\": true}}, {\"type\": \"_ssynth_transformer:OneHotEncoder\", \"params\": {}}]}, \"island\": {\"type\": \"_ssynth_transformer:ChainTransformer\", \"params\": [{\"type\": \"_ssynth_transformer:LabelTransformer\", \"params\": {\"nullable\": true}}, {\"type\": \"_ssynth_transformer:OneHotEncoder\", \"params\": {}}]}, \"bill_length_mm\": {\"type\": \"_ssynth_transformer:MinMaxTransformer\", \"params\": {\"lower\": 30.0, \"upper\": 65.0, \"epsilon\": 0.0, \"negative\": true, \"nullable\": true, \"odometer\": null}}, \"bill_depth_mm\": {\"type\": \"_ssynth_transformer:MinMaxTransformer\", \"params\": {\"lower\": 13.0, \"upper\": 23.0, \"epsilon\": 0.0, \"negative\": true, \"nullable\": true, \"odometer\": null}}, \"flipper_length_mm\": {\"type\": \"_ssynth_transformer:MinMaxTransformer\", \"params\": {\"lower\": 150.0, \"upper\": 250.0, \"epsilon\": 0.0, \"negative\": true, \"nullable\": true, \"odometer\": null}}, \"body_mass_g\": {\"type\": \"_ssynth_transformer:MinMaxTransformer\", \"params\": {\"lower\": 2000.0, \"upper\": 7000.0, \"epsilon\": 0.0, \"negative\": true, \"nullable\": true, \"odometer\": null}}, \"sex\": {\"type\": \"_ssynth_transformer:ChainTransformer\", \"params\": [{\"type\": \"_ssynth_transformer:LabelTransformer\", \"params\": {\"nullable\": true}}, {\"type\": \"_ssynth_transformer:OneHotEncoder\", \"params\": {}}]}}}'"
      ]
     },
     "execution_count": 47,
     "metadata": {},
     "output_type": "execute_result"
    }
   ],
   "source": [
    "serialise_constraints(constraints)"
   ]
  },
  {
   "cell_type": "code",
   "execution_count": null,
   "id": "d19990d4-8529-451a-bcca-9c3ebc2b1c65",
   "metadata": {},
   "outputs": [],
   "source": [
    "query_json_penguin = {\n",
    "    \"dataset_name\": \"PENGUIN\",\n",
    "    \"synth_name\": \"dpctgan\",\n",
    "    \"epsilon\": 0.1,\n",
    "    \"delta\": 0.00001,\n",
    "    \"select_cols\": [\"bill_length_mm\"],\n",
    "    \"synth_params\": {\n",
    "        \"embedding_dim\": 128, \n",
    "        \"generator_dim\": (256, 256), \n",
    "        \"discriminator_dim\": (256, 256),\n",
    "        \"batch_size\": 50\n",
    "    },\n",
    "    \"mul_matrix\": [],\n",
    "    \"nullable\": True,\n",
    "    \"table_transformer_style\": \"gan\",\n",
    "}\n",
    "query_json_penguin = SmartnoiseSynthModel.model_validate(query_json_penguin)"
   ]
  },
  {
   "cell_type": "code",
   "execution_count": null,
   "id": "48e5a612-43a5-4d2a-b819-f32c9159693c",
   "metadata": {},
   "outputs": [],
   "source": [
    "model = Synthesizer.create(\n",
    "    synth=query_json_penguin.synth_name,\n",
    "    epsilon=query_json_penguin.epsilon,\n",
    "    verbose=True,\n",
    "    **query_json_penguin.synth_params,\n",
    ")\n",
    "model"
   ]
  },
  {
   "cell_type": "code",
   "execution_count": null,
   "id": "30006e6b-e617-4cfb-a340-550e218d0585",
   "metadata": {},
   "outputs": [],
   "source": [
    "penguin_private_data = _preprocess_data(penguin_private_data, query_json_penguin)"
   ]
  },
  {
   "cell_type": "code",
   "execution_count": null,
   "id": "6c786d59-5b72-45da-b347-62b2be7c3aa3",
   "metadata": {},
   "outputs": [],
   "source": [
    "penguin_transformer = _prepare_data_transformer(penguin_metadata, penguin_private_data, query_json_penguin)\n",
    "penguin_transformer.transformers"
   ]
  },
  {
   "cell_type": "code",
   "execution_count": null,
   "id": "901e0981-3dea-4452-90be-33f8a5bea732",
   "metadata": {},
   "outputs": [],
   "source": [
    "penguin_encoded = penguin_transformer.fit_transform(penguin_private_data, epsilon=0.0)\n",
    "penguin_transformer.odometer.spent"
   ]
  },
  {
   "cell_type": "code",
   "execution_count": null,
   "id": "7c665d49-58ac-4033-9f6c-b7532b074452",
   "metadata": {},
   "outputs": [],
   "source": [
    "model = Synthesizer.create(\n",
    "    synth=query_json_penguin.synth_name,\n",
    "    epsilon=query_json_penguin.epsilon,\n",
    "    **query_json_penguin.synth_params,\n",
    ")"
   ]
  },
  {
   "cell_type": "code",
   "execution_count": null,
   "id": "e6f6b0b4-cb4b-45c2-b6ea-8a4a5e5e779f",
   "metadata": {},
   "outputs": [],
   "source": [
    "model.fit(\n",
    "    data=penguin_private_data,\n",
    "    transformer=penguin_transformer,\n",
    "    preprocessor_eps=0.0, #0.0,  # will error if not 0.\n",
    "    nullable=query_json_penguin.nullable,\n",
    ")"
   ]
  },
  {
   "cell_type": "code",
   "execution_count": null,
   "id": "5888ac36",
   "metadata": {},
   "outputs": [],
   "source": [
    "samples = model.sample(5)\n",
    "print(samples)"
   ]
  },
  {
   "cell_type": "markdown",
   "id": "a0180fe4-92be-4103-b162-aeed19605c6a",
   "metadata": {},
   "source": [
    "## Serialise"
   ]
  },
  {
   "cell_type": "code",
   "execution_count": 45,
   "id": "26c63efb-9b18-451c-bf40-6eaa92a22f32",
   "metadata": {},
   "outputs": [
    {
     "data": {
      "text/plain": [
       "<snsynth.pytorch.nn.dpctgan.DPCTGAN at 0x7f9962742590>"
      ]
     },
     "execution_count": 45,
     "metadata": {},
     "output_type": "execute_result"
    }
   ],
   "source": [
    "import pickle\n",
    "from base64 import b64encode\n",
    "def serialise_model(model) -> str:\n",
    "    serialised = b64encode(pickle.dumps(model))\n",
    "    return serialised.decode(\"utf-8\")"
   ]
  },
  {
   "cell_type": "code",
   "execution_count": 57,
   "id": "1352a33f-0279-4ff5-a8f5-db618d85090a",
   "metadata": {},
   "outputs": [],
   "source": [
    "str_model = serialise_model(model)\n",
    "str_model"
   ]
  },
  {
   "cell_type": "code",
   "execution_count": 59,
   "id": "6ffa4035-12d6-464b-bf5b-ad4f8c1174f0",
   "metadata": {},
   "outputs": [],
   "source": [
    "b64_model = base64.b64decode(str_model)\n",
    "b64_model"
   ]
  },
  {
   "cell_type": "code",
   "execution_count": null,
   "id": "388eae19-47cd-461a-a8c5-943f8cb92a7c",
   "metadata": {},
   "outputs": [],
   "source": [
    "new_model = pickle.loads(b64_model)\n",
    "new_model"
   ]
  },
  {
   "cell_type": "code",
   "execution_count": 60,
   "id": "5cd4e285-8a2a-4609-a066-8881e85fa8e4",
   "metadata": {},
   "outputs": [
    {
     "name": "stdout",
     "output_type": "stream",
     "text": [
      "   bill_length_mm\n",
      "0       46.956818\n",
      "1       45.232080\n",
      "2       55.124942\n",
      "3       50.191850\n",
      "4       57.324367\n"
     ]
    }
   ],
   "source": [
    "samples = new_model.sample(5)\n",
    "print(samples)"
   ]
  },
  {
   "cell_type": "code",
   "execution_count": 63,
   "id": "3a2711a0-087a-47a5-93d3-719d9618e0b1",
   "metadata": {},
   "outputs": [
    {
     "ename": "TypeError",
     "evalue": "Object of type DPCTGAN is not JSON serializable",
     "output_type": "error",
     "traceback": [
      "\u001b[0;31m---------------------------------------------------------------------------\u001b[0m",
      "\u001b[0;31mTypeError\u001b[0m                                 Traceback (most recent call last)",
      "Cell \u001b[0;32mIn[63], line 2\u001b[0m\n\u001b[1;32m      1\u001b[0m \u001b[38;5;28;01mimport\u001b[39;00m \u001b[38;5;21;01mjson\u001b[39;00m\n\u001b[0;32m----> 2\u001b[0m j_obj \u001b[38;5;241m=\u001b[39m \u001b[43mjson\u001b[49m\u001b[38;5;241;43m.\u001b[39;49m\u001b[43mdumps\u001b[49m\u001b[43m(\u001b[49m\u001b[43mmodel\u001b[49m\u001b[43m)\u001b[49m\n",
      "File \u001b[0;32m/usr/local/lib/python3.11/json/__init__.py:231\u001b[0m, in \u001b[0;36mdumps\u001b[0;34m(obj, skipkeys, ensure_ascii, check_circular, allow_nan, cls, indent, separators, default, sort_keys, **kw)\u001b[0m\n\u001b[1;32m    226\u001b[0m \u001b[38;5;66;03m# cached encoder\u001b[39;00m\n\u001b[1;32m    227\u001b[0m \u001b[38;5;28;01mif\u001b[39;00m (\u001b[38;5;129;01mnot\u001b[39;00m skipkeys \u001b[38;5;129;01mand\u001b[39;00m ensure_ascii \u001b[38;5;129;01mand\u001b[39;00m\n\u001b[1;32m    228\u001b[0m     check_circular \u001b[38;5;129;01mand\u001b[39;00m allow_nan \u001b[38;5;129;01mand\u001b[39;00m\n\u001b[1;32m    229\u001b[0m     \u001b[38;5;28mcls\u001b[39m \u001b[38;5;129;01mis\u001b[39;00m \u001b[38;5;28;01mNone\u001b[39;00m \u001b[38;5;129;01mand\u001b[39;00m indent \u001b[38;5;129;01mis\u001b[39;00m \u001b[38;5;28;01mNone\u001b[39;00m \u001b[38;5;129;01mand\u001b[39;00m separators \u001b[38;5;129;01mis\u001b[39;00m \u001b[38;5;28;01mNone\u001b[39;00m \u001b[38;5;129;01mand\u001b[39;00m\n\u001b[1;32m    230\u001b[0m     default \u001b[38;5;129;01mis\u001b[39;00m \u001b[38;5;28;01mNone\u001b[39;00m \u001b[38;5;129;01mand\u001b[39;00m \u001b[38;5;129;01mnot\u001b[39;00m sort_keys \u001b[38;5;129;01mand\u001b[39;00m \u001b[38;5;129;01mnot\u001b[39;00m kw):\n\u001b[0;32m--> 231\u001b[0m     \u001b[38;5;28;01mreturn\u001b[39;00m \u001b[43m_default_encoder\u001b[49m\u001b[38;5;241;43m.\u001b[39;49m\u001b[43mencode\u001b[49m\u001b[43m(\u001b[49m\u001b[43mobj\u001b[49m\u001b[43m)\u001b[49m\n\u001b[1;32m    232\u001b[0m \u001b[38;5;28;01mif\u001b[39;00m \u001b[38;5;28mcls\u001b[39m \u001b[38;5;129;01mis\u001b[39;00m \u001b[38;5;28;01mNone\u001b[39;00m:\n\u001b[1;32m    233\u001b[0m     \u001b[38;5;28mcls\u001b[39m \u001b[38;5;241m=\u001b[39m JSONEncoder\n",
      "File \u001b[0;32m/usr/local/lib/python3.11/json/encoder.py:200\u001b[0m, in \u001b[0;36mJSONEncoder.encode\u001b[0;34m(self, o)\u001b[0m\n\u001b[1;32m    196\u001b[0m         \u001b[38;5;28;01mreturn\u001b[39;00m encode_basestring(o)\n\u001b[1;32m    197\u001b[0m \u001b[38;5;66;03m# This doesn't pass the iterator directly to ''.join() because the\u001b[39;00m\n\u001b[1;32m    198\u001b[0m \u001b[38;5;66;03m# exceptions aren't as detailed.  The list call should be roughly\u001b[39;00m\n\u001b[1;32m    199\u001b[0m \u001b[38;5;66;03m# equivalent to the PySequence_Fast that ''.join() would do.\u001b[39;00m\n\u001b[0;32m--> 200\u001b[0m chunks \u001b[38;5;241m=\u001b[39m \u001b[38;5;28;43mself\u001b[39;49m\u001b[38;5;241;43m.\u001b[39;49m\u001b[43miterencode\u001b[49m\u001b[43m(\u001b[49m\u001b[43mo\u001b[49m\u001b[43m,\u001b[49m\u001b[43m \u001b[49m\u001b[43m_one_shot\u001b[49m\u001b[38;5;241;43m=\u001b[39;49m\u001b[38;5;28;43;01mTrue\u001b[39;49;00m\u001b[43m)\u001b[49m\n\u001b[1;32m    201\u001b[0m \u001b[38;5;28;01mif\u001b[39;00m \u001b[38;5;129;01mnot\u001b[39;00m \u001b[38;5;28misinstance\u001b[39m(chunks, (\u001b[38;5;28mlist\u001b[39m, \u001b[38;5;28mtuple\u001b[39m)):\n\u001b[1;32m    202\u001b[0m     chunks \u001b[38;5;241m=\u001b[39m \u001b[38;5;28mlist\u001b[39m(chunks)\n",
      "File \u001b[0;32m/usr/local/lib/python3.11/json/encoder.py:258\u001b[0m, in \u001b[0;36mJSONEncoder.iterencode\u001b[0;34m(self, o, _one_shot)\u001b[0m\n\u001b[1;32m    253\u001b[0m \u001b[38;5;28;01melse\u001b[39;00m:\n\u001b[1;32m    254\u001b[0m     _iterencode \u001b[38;5;241m=\u001b[39m _make_iterencode(\n\u001b[1;32m    255\u001b[0m         markers, \u001b[38;5;28mself\u001b[39m\u001b[38;5;241m.\u001b[39mdefault, _encoder, \u001b[38;5;28mself\u001b[39m\u001b[38;5;241m.\u001b[39mindent, floatstr,\n\u001b[1;32m    256\u001b[0m         \u001b[38;5;28mself\u001b[39m\u001b[38;5;241m.\u001b[39mkey_separator, \u001b[38;5;28mself\u001b[39m\u001b[38;5;241m.\u001b[39mitem_separator, \u001b[38;5;28mself\u001b[39m\u001b[38;5;241m.\u001b[39msort_keys,\n\u001b[1;32m    257\u001b[0m         \u001b[38;5;28mself\u001b[39m\u001b[38;5;241m.\u001b[39mskipkeys, _one_shot)\n\u001b[0;32m--> 258\u001b[0m \u001b[38;5;28;01mreturn\u001b[39;00m \u001b[43m_iterencode\u001b[49m\u001b[43m(\u001b[49m\u001b[43mo\u001b[49m\u001b[43m,\u001b[49m\u001b[43m \u001b[49m\u001b[38;5;241;43m0\u001b[39;49m\u001b[43m)\u001b[49m\n",
      "File \u001b[0;32m/usr/local/lib/python3.11/json/encoder.py:180\u001b[0m, in \u001b[0;36mJSONEncoder.default\u001b[0;34m(self, o)\u001b[0m\n\u001b[1;32m    161\u001b[0m \u001b[38;5;28;01mdef\u001b[39;00m \u001b[38;5;21mdefault\u001b[39m(\u001b[38;5;28mself\u001b[39m, o):\n\u001b[1;32m    162\u001b[0m \u001b[38;5;250m    \u001b[39m\u001b[38;5;124;03m\"\"\"Implement this method in a subclass such that it returns\u001b[39;00m\n\u001b[1;32m    163\u001b[0m \u001b[38;5;124;03m    a serializable object for ``o``, or calls the base implementation\u001b[39;00m\n\u001b[1;32m    164\u001b[0m \u001b[38;5;124;03m    (to raise a ``TypeError``).\u001b[39;00m\n\u001b[0;32m   (...)\u001b[0m\n\u001b[1;32m    178\u001b[0m \n\u001b[1;32m    179\u001b[0m \u001b[38;5;124;03m    \"\"\"\u001b[39;00m\n\u001b[0;32m--> 180\u001b[0m     \u001b[38;5;28;01mraise\u001b[39;00m \u001b[38;5;167;01mTypeError\u001b[39;00m(\u001b[38;5;124mf\u001b[39m\u001b[38;5;124m'\u001b[39m\u001b[38;5;124mObject of type \u001b[39m\u001b[38;5;132;01m{\u001b[39;00mo\u001b[38;5;241m.\u001b[39m\u001b[38;5;18m__class__\u001b[39m\u001b[38;5;241m.\u001b[39m\u001b[38;5;18m__name__\u001b[39m\u001b[38;5;132;01m}\u001b[39;00m\u001b[38;5;124m \u001b[39m\u001b[38;5;124m'\u001b[39m\n\u001b[1;32m    181\u001b[0m                     \u001b[38;5;124mf\u001b[39m\u001b[38;5;124m'\u001b[39m\u001b[38;5;124mis not JSON serializable\u001b[39m\u001b[38;5;124m'\u001b[39m)\n",
      "\u001b[0;31mTypeError\u001b[0m: Object of type DPCTGAN is not JSON serializable"
     ]
    }
   ],
   "source": [
    "import json\n",
    "j_obj = json.dumps(model)"
   ]
  },
  {
   "cell_type": "code",
   "execution_count": 46,
   "id": "548362da-b1f6-4550-9660-c8e61c49d840",
   "metadata": {},
   "outputs": [
    {
     "ename": "UnicodeDecodeError",
     "evalue": "'utf-8' codec can't decode byte 0x80 in position 0: invalid start byte",
     "output_type": "error",
     "traceback": [
      "\u001b[0;31m---------------------------------------------------------------------------\u001b[0m",
      "\u001b[0;31mUnicodeDecodeError\u001b[0m                        Traceback (most recent call last)",
      "Cell \u001b[0;32mIn[46], line 7\u001b[0m\n\u001b[1;32m      5\u001b[0m pickled_model \u001b[38;5;241m=\u001b[39m b64encode(pickle\u001b[38;5;241m.\u001b[39mdumps(model))\n\u001b[1;32m      6\u001b[0m depickled_model \u001b[38;5;241m=\u001b[39m base64\u001b[38;5;241m.\u001b[39mb64decode(pickled_model)\n\u001b[0;32m----> 7\u001b[0m json_model \u001b[38;5;241m=\u001b[39m \u001b[43mjson\u001b[49m\u001b[38;5;241;43m.\u001b[39;49m\u001b[43mloads\u001b[49m\u001b[43m(\u001b[49m\u001b[43mdepickled_model\u001b[49m\u001b[43m)\u001b[49m\n",
      "File \u001b[0;32m/usr/local/lib/python3.11/json/__init__.py:341\u001b[0m, in \u001b[0;36mloads\u001b[0;34m(s, cls, object_hook, parse_float, parse_int, parse_constant, object_pairs_hook, **kw)\u001b[0m\n\u001b[1;32m    338\u001b[0m     \u001b[38;5;28;01mif\u001b[39;00m \u001b[38;5;129;01mnot\u001b[39;00m \u001b[38;5;28misinstance\u001b[39m(s, (\u001b[38;5;28mbytes\u001b[39m, \u001b[38;5;28mbytearray\u001b[39m)):\n\u001b[1;32m    339\u001b[0m         \u001b[38;5;28;01mraise\u001b[39;00m \u001b[38;5;167;01mTypeError\u001b[39;00m(\u001b[38;5;124mf\u001b[39m\u001b[38;5;124m'\u001b[39m\u001b[38;5;124mthe JSON object must be str, bytes or bytearray, \u001b[39m\u001b[38;5;124m'\u001b[39m\n\u001b[1;32m    340\u001b[0m                         \u001b[38;5;124mf\u001b[39m\u001b[38;5;124m'\u001b[39m\u001b[38;5;124mnot \u001b[39m\u001b[38;5;132;01m{\u001b[39;00ms\u001b[38;5;241m.\u001b[39m\u001b[38;5;18m__class__\u001b[39m\u001b[38;5;241m.\u001b[39m\u001b[38;5;18m__name__\u001b[39m\u001b[38;5;132;01m}\u001b[39;00m\u001b[38;5;124m'\u001b[39m)\n\u001b[0;32m--> 341\u001b[0m     s \u001b[38;5;241m=\u001b[39m s\u001b[38;5;241m.\u001b[39mdecode(detect_encoding(s), \u001b[38;5;124m'\u001b[39m\u001b[38;5;124msurrogatepass\u001b[39m\u001b[38;5;124m'\u001b[39m)\n\u001b[1;32m    343\u001b[0m \u001b[38;5;28;01mif\u001b[39;00m (\u001b[38;5;28mcls\u001b[39m \u001b[38;5;129;01mis\u001b[39;00m \u001b[38;5;28;01mNone\u001b[39;00m \u001b[38;5;129;01mand\u001b[39;00m object_hook \u001b[38;5;129;01mis\u001b[39;00m \u001b[38;5;28;01mNone\u001b[39;00m \u001b[38;5;129;01mand\u001b[39;00m\n\u001b[1;32m    344\u001b[0m         parse_int \u001b[38;5;129;01mis\u001b[39;00m \u001b[38;5;28;01mNone\u001b[39;00m \u001b[38;5;129;01mand\u001b[39;00m parse_float \u001b[38;5;129;01mis\u001b[39;00m \u001b[38;5;28;01mNone\u001b[39;00m \u001b[38;5;129;01mand\u001b[39;00m\n\u001b[1;32m    345\u001b[0m         parse_constant \u001b[38;5;129;01mis\u001b[39;00m \u001b[38;5;28;01mNone\u001b[39;00m \u001b[38;5;129;01mand\u001b[39;00m object_pairs_hook \u001b[38;5;129;01mis\u001b[39;00m \u001b[38;5;28;01mNone\u001b[39;00m \u001b[38;5;129;01mand\u001b[39;00m \u001b[38;5;129;01mnot\u001b[39;00m kw):\n\u001b[1;32m    346\u001b[0m     \u001b[38;5;28;01mreturn\u001b[39;00m _default_decoder\u001b[38;5;241m.\u001b[39mdecode(s)\n",
      "\u001b[0;31mUnicodeDecodeError\u001b[0m: 'utf-8' codec can't decode byte 0x80 in position 0: invalid start byte"
     ]
    }
   ],
   "source": [
    "import base64\n",
    "import json\n",
    "from base64 import b64encode\n",
    "pickled_model = b64encode(pickle.dumps(model))\n",
    "depickled_model = base64.b64decode(pickled_model)\n",
    "json_model = json.loads(depickled_model)"
   ]
  },
  {
   "cell_type": "code",
   "execution_count": null,
   "id": "78e40bd0-3a88-4f08-9922-2c76b349d67b",
   "metadata": {},
   "outputs": [],
   "source": [
    "samples = json_model.sample(100)\n",
    "print(samples)"
   ]
  }
 ],
 "metadata": {
  "kernelspec": {
   "display_name": "Python 3 (ipykernel)",
   "language": "python",
   "name": "python3"
  },
  "language_info": {
   "codemirror_mode": {
    "name": "ipython",
    "version": 3
   },
   "file_extension": ".py",
   "mimetype": "text/x-python",
   "name": "python",
   "nbconvert_exporter": "python",
   "pygments_lexer": "ipython3",
   "version": "3.11.9"
  }
 },
 "nbformat": 4,
 "nbformat_minor": 5
}
