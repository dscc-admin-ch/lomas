{
 "cells": [
  {
   "cell_type": "markdown",
   "metadata": {},
   "source": [
    "# Differential Privacy on Income Data\n",
    "\n",
    "We will use the Synthetic Swiss Income Dataset to demonstrate the how to release differentially private information on tabular data with OpenDP.\n",
    "The main library used in the background is `Polars`."
   ]
  },
  {
   "cell_type": "code",
   "execution_count": null,
   "metadata": {},
   "outputs": [
    {
     "ename": "",
     "evalue": "",
     "output_type": "error",
     "traceback": [
      "\u001b[1;31mRunning cells with 'Python 3.11.9' requires the ipykernel package.\n",
      "\u001b[1;31mRun the following command to install 'ipykernel' into the Python environment. \n",
      "\u001b[1;31mCommand: '/usr/bin/python3.11 -m pip install ipykernel -U --user --force-reinstall'"
     ]
    }
   ],
   "source": [
    "# Import library\n",
    "import polars as pl\n",
    "import opendp.prelude as dp\n",
    "\n",
    "dp.enable_features(\"contrib\", \"honest-but-curious\")"
   ]
  },
  {
   "cell_type": "markdown",
   "metadata": {},
   "source": [
    "## 1. Data Domain Preparation\n",
    "We first need to declare the metadata of the input domain of the Lazyframe."
   ]
  },
  {
   "cell_type": "markdown",
   "metadata": {},
   "source": [
    "### Define domain with bounds"
   ]
  },
  {
   "cell_type": "code",
   "execution_count": 2,
   "metadata": {},
   "outputs": [],
   "source": [
    "# Income bounds\n",
    "income_lower_bound, income_upper_bound = 1_000.0, 60_000.0"
   ]
  },
  {
   "cell_type": "code",
   "execution_count": 3,
   "metadata": {},
   "outputs": [
    {
     "data": {
      "text/plain": [
       "LazyFrameDomain(region: i32, eco_branch: i32, profession: i32, education: i32, age: i32, sex: i32, income: f64)"
      ]
     },
     "execution_count": 3,
     "metadata": {},
     "output_type": "execute_result"
    }
   ],
   "source": [
    "# Define dtype domain with bounds\n",
    "df_domain = dp.lazyframe_domain([\n",
    "    dp.series_domain(\"region\", dp.atom_domain(T=int)),\n",
    "    dp.series_domain(\"eco_branch\", dp.atom_domain(T=int)),\n",
    "    dp.series_domain(\"profession\", dp.atom_domain(T=int)),\n",
    "    dp.series_domain(\"education\", dp.atom_domain(T=int)),\n",
    "    dp.series_domain(\"age\", dp.atom_domain(T=int)),\n",
    "    dp.series_domain(\"sex\", dp.atom_domain(T=int)),\n",
    "    dp.series_domain(\"income\", dp.atom_domain(bounds=(income_lower_bound, income_upper_bound), T=float))\n",
    "])\n",
    "df_domain"
   ]
  },
  {
   "cell_type": "markdown",
   "metadata": {},
   "source": [
    "### Add margin metadata: \n",
    "Here, we add the counts the we will need."
   ]
  },
  {
   "cell_type": "code",
   "execution_count": 4,
   "metadata": {},
   "outputs": [],
   "source": [
    "# Total\n",
    "total_counts = pl.LazyFrame({\n",
    "    \"counts\": [2_032_543]\n",
    "}, schema_overrides={\"counts\": pl.UInt32}\n",
    ")\n",
    "\n",
    "# For sex\n",
    "sex_counts = pl.LazyFrame({\n",
    "    \"sex\": [0, 1], \n",
    "    \"counts\": [634_720, 1_397_823]\n",
    "}, schema_overrides={\"sex\": pl.Int32, \"counts\": pl.UInt32})\n",
    "\n",
    "# For region\n",
    "region_counts = pl.LazyFrame({\n",
    "    \"region\": [1, 2, 3, 4, 5, 6, 7], \n",
    "    \"counts\": [352_001, 474_690, 267_304, 366_879, 284_638, 210_800, 76_231]\n",
    "}, schema_overrides={\"region\": pl.Int32, \"counts\": pl.UInt32})\n",
    "\n",
    "# For region and sex\n",
    "sex_region_counts = pl.LazyFrame({\n",
    "    \"sex\": [0, 0, 0, 0, 0, 0, 0, 1, 1, 1, 1, 1, 1, 1], \n",
    "    \"region\": [1, 2, 3, 4, 5, 6, 7, 1, 2, 3, 4, 5, 6, 7], \n",
    "    \"counts\": [113_367, 148_265, 83_326, 113_715, 87_668, 64_357, 24_022, 238_634, 326_425, 183_978, 253_164, 196_970, 146_443, 52_209]\n",
    "}, schema_overrides={\"sex\": pl.Int32, \"region\": pl.Int32, \"counts\": pl.UInt32})"
   ]
  },
  {
   "cell_type": "markdown",
   "metadata": {},
   "source": [
    "#### Define input domain and input space"
   ]
  },
  {
   "cell_type": "code",
   "execution_count": 5,
   "metadata": {},
   "outputs": [
    {
     "data": {
      "text/plain": [
       "LazyFrameDomain(region: i32, eco_branch: i32, profession: i32, education: i32, age: i32, sex: i32, income: f64; margins=[{\"region\", \"sex\"}, {}, {\"sex\"}, {\"region\"}])"
      ]
     },
     "execution_count": 5,
     "metadata": {},
     "output_type": "execute_result"
    }
   ],
   "source": [
    "# Add counts to margin\n",
    "df_domain = df_domain.with_counts(\n",
    "    total_counts\n",
    ").with_counts(sex_counts).with_counts(region_counts).with_counts(sex_region_counts)\n",
    "df_domain"
   ]
  },
  {
   "cell_type": "markdown",
   "metadata": {},
   "source": [
    "## 2. Data scanning"
   ]
  },
  {
   "cell_type": "markdown",
   "metadata": {},
   "source": [
    "### Dataset input metric"
   ]
  },
  {
   "cell_type": "code",
   "execution_count": 6,
   "metadata": {},
   "outputs": [
    {
     "data": {
      "text/plain": [
       "SymmetricDistance()"
      ]
     },
     "execution_count": 6,
     "metadata": {},
     "output_type": "execute_result"
    }
   ],
   "source": [
    "metric = dp.symmetric_distance()\n",
    "metric"
   ]
  },
  {
   "cell_type": "markdown",
   "metadata": {},
   "source": [
    "### CsvDomain to scan data"
   ]
  },
  {
   "cell_type": "code",
   "execution_count": 7,
   "metadata": {},
   "outputs": [
    {
     "data": {
      "text/plain": [
       "CsvDomain(region: i32, eco_branch: i32, profession: i32, education: i32, age: i32, sex: i32, income: f64)"
      ]
     },
     "execution_count": 7,
     "metadata": {},
     "output_type": "execute_result"
    }
   ],
   "source": [
    "# Initialise CsvDomain\n",
    "csv_domain = dp.csv_domain(df_domain)\n",
    "csv_domain"
   ]
  },
  {
   "cell_type": "code",
   "execution_count": 8,
   "metadata": {},
   "outputs": [
    {
     "data": {
      "text/plain": [
       "<opendp.mod.Transformation at 0x7f52bc0567c0>"
      ]
     },
     "execution_count": 8,
     "metadata": {},
     "output_type": "execute_result"
    }
   ],
   "source": [
    "# Declare Transformation to scan CSV\n",
    "csv_scanner = (csv_domain, metric) >> dp.t.then_scan_csv()\n",
    "csv_scanner"
   ]
  },
  {
   "cell_type": "code",
   "execution_count": 9,
   "metadata": {},
   "outputs": [
    {
     "data": {
      "text/html": [
       "<i>naive plan: (run <b>LazyFrame.explain(optimized=True)</b> to see the optimized plan)</i>\n",
       "    <p></p>\n",
       "    <div><p></p>  Csv SCAN ../data/income_synthetic_data.csv<p></p>  PROJECT */7 COLUMNS</div>"
      ],
      "text/plain": [
       "<LazyFrame [7 cols, {\"region\": Int32 … \"income\": Float64}] at 0x7F52BC0C1ED0>"
      ]
     },
     "execution_count": 9,
     "metadata": {},
     "output_type": "execute_result"
    }
   ],
   "source": [
    "# Get the csv data to a LazyFrame\n",
    "DATA_PATH = \"../data/income_synthetic_data.csv\"\n",
    "data = csv_scanner(DATA_PATH)\n",
    "data"
   ]
  },
  {
   "cell_type": "code",
   "execution_count": 10,
   "metadata": {},
   "outputs": [
    {
     "data": {
      "text/plain": [
       "LazyFrameDomain(region: i32, eco_branch: i32, profession: i32, education: i32, age: i32, sex: i32, income: f64; margins=[{\"region\", \"sex\"}, {}, {\"sex\"}, {\"region\"}])"
      ]
     },
     "execution_count": 10,
     "metadata": {},
     "output_type": "execute_result"
    }
   ],
   "source": [
    "# LazyFrameDomain output domain from scanner: input domain of analysis\n",
    "lf_domain = csv_scanner.output_domain\n",
    "lf_domain"
   ]
  },
  {
   "cell_type": "markdown",
   "metadata": {},
   "source": [
    "## 3. Private Data Analysis\n",
    "We will analyse the income column: compute the private mean and quantiles."
   ]
  },
  {
   "cell_type": "markdown",
   "metadata": {},
   "source": [
    "### Compute the mean\n",
    "With ´make_private_mean´ transformation"
   ]
  },
  {
   "cell_type": "markdown",
   "metadata": {},
   "source": [
    "#### On all rows of the column (select operator)"
   ]
  },
  {
   "cell_type": "code",
   "execution_count": 17,
   "metadata": {},
   "outputs": [
    {
     "data": {
      "text/html": [
       "<div><style>\n",
       ".dataframe > thead > tr > th,\n",
       ".dataframe > tbody > tr > td {\n",
       "  text-align: right;\n",
       "}\n",
       "</style>\n",
       "<small>shape: (1, 1)</small><table border=\"1\" class=\"dataframe\"><thead><tr><th>income</th></tr><tr><td>f64</td></tr></thead><tbody><tr><td>7054.439756</td></tr></tbody></table></div>"
      ],
      "text/plain": [
       "shape: (1, 1)\n",
       "┌─────────────┐\n",
       "│ income      │\n",
       "│ ---         │\n",
       "│ f64         │\n",
       "╞═════════════╡\n",
       "│ 7054.439756 │\n",
       "└─────────────┘"
      ]
     },
     "execution_count": 17,
     "metadata": {},
     "output_type": "execute_result"
    }
   ],
   "source": [
    "expr_domain = dp.expr_domain(lf_domain, context=\"select\")\n",
    "\n",
    "mean_lazy_all = (lf_domain, metric) >> dp.m.then_private_select(\n",
    "    dp.c.make_basic_composition([\n",
    "        (expr_domain, metric) \n",
    "        >> dp.t.then_col(col_name = \"income\") \n",
    "        # >> dp.t.then_clamp_expr((income_lower_bound, income_upper_bound)) \n",
    "        >> dp.m.then_private_mean_expr(scale = 0.5)\n",
    "    ])\n",
    ") >> dp.t.make_collect(lf_domain, metric)\n",
    "\n",
    "mean_lazy_all(data)"
   ]
  },
  {
   "cell_type": "markdown",
   "metadata": {},
   "source": [
    "#### On partitions (groupby and agg operators)"
   ]
  },
  {
   "cell_type": "code",
   "execution_count": 18,
   "metadata": {},
   "outputs": [],
   "source": [
    "def partition_mean(lf_domain, metric, active_column, grouping_columns, bounds, scale):\n",
    "    # Groupby Expr domain\n",
    "    expr_domain = dp.expr_domain(lf_domain, grouping_columns = grouping_columns)\n",
    "    \n",
    "    # Groupby metric\n",
    "    expr_metric = dp.l1(metric)\n",
    "    \n",
    "    # Create expression\n",
    "    meas_lazy = (\n",
    "        (lf_domain, metric)\n",
    "        >> dp.t.then_groupby_stable(grouping_columns = grouping_columns)\n",
    "        >> dp.m.then_private_agg(\n",
    "            dp.c.make_basic_composition(\n",
    "                [\n",
    "                    (expr_domain, expr_metric)\n",
    "                    >> dp.t.then_col(col_name = active_column)\n",
    "                    >> dp.t.then_clamp_expr(bounds)\n",
    "                    >> dp.m.then_private_mean_expr(scale = scale)\n",
    "                ]\n",
    "            )\n",
    "        )\n",
    "        >> dp.t.make_collect(lf_domain, metric)\n",
    "    )\n",
    "    return meas_lazy"
   ]
  },
  {
   "cell_type": "code",
   "execution_count": 19,
   "metadata": {},
   "outputs": [
    {
     "data": {
      "text/html": [
       "<div><style>\n",
       ".dataframe > thead > tr > th,\n",
       ".dataframe > tbody > tr > td {\n",
       "  text-align: right;\n",
       "}\n",
       "</style>\n",
       "<small>shape: (2, 2)</small><table border=\"1\" class=\"dataframe\"><thead><tr><th>sex</th><th>income</th></tr><tr><td>i32</td><td>f64</td></tr></thead><tbody><tr><td>0</td><td>6363.060526</td></tr><tr><td>1</td><td>7366.282274</td></tr></tbody></table></div>"
      ],
      "text/plain": [
       "shape: (2, 2)\n",
       "┌─────┬─────────────┐\n",
       "│ sex ┆ income      │\n",
       "│ --- ┆ ---         │\n",
       "│ i32 ┆ f64         │\n",
       "╞═════╪═════════════╡\n",
       "│ 0   ┆ 6363.060526 │\n",
       "│ 1   ┆ 7366.282274 │\n",
       "└─────┴─────────────┘"
      ]
     },
     "execution_count": 19,
     "metadata": {},
     "output_type": "execute_result"
    }
   ],
   "source": [
    "# One level partition\n",
    "mean_one_level_partition = partition_mean(\n",
    "    lf_domain = lf_domain,\n",
    "    metric = dp.symmetric_distance(),\n",
    "    active_column = \"income\", \n",
    "    grouping_columns = [\"sex\"], \n",
    "    bounds = (income_lower_bound, income_upper_bound),\n",
    "    scale = 0.5\n",
    ")\n",
    "mean_one_level_partition(data)"
   ]
  },
  {
   "cell_type": "code",
   "execution_count": 20,
   "metadata": {},
   "outputs": [
    {
     "data": {
      "text/html": [
       "<div><style>\n",
       ".dataframe > thead > tr > th,\n",
       ".dataframe > tbody > tr > td {\n",
       "  text-align: right;\n",
       "}\n",
       "</style>\n",
       "<small>shape: (14, 3)</small><table border=\"1\" class=\"dataframe\"><thead><tr><th>sex</th><th>region</th><th>income</th></tr><tr><td>i32</td><td>i32</td><td>f64</td></tr></thead><tbody><tr><td>0</td><td>1</td><td>6470.466979</td></tr><tr><td>1</td><td>1</td><td>7480.28327</td></tr><tr><td>0</td><td>2</td><td>6240.920249</td></tr><tr><td>1</td><td>2</td><td>7230.395263</td></tr><tr><td>0</td><td>3</td><td>6565.734997</td></tr><tr><td>1</td><td>3</td><td>7578.334403</td></tr><tr><td>0</td><td>4</td><td>6545.059519</td></tr><tr><td>1</td><td>4</td><td>7588.845886</td></tr><tr><td>0</td><td>5</td><td>6208.029746</td></tr><tr><td>1</td><td>5</td><td>7187.171853</td></tr><tr><td>0</td><td>6</td><td>6497.591985</td></tr><tr><td>1</td><td>6</td><td>7536.233468</td></tr><tr><td>0</td><td>7</td><td>5243.14918</td></tr><tr><td>1</td><td>7</td><td>6057.904612</td></tr></tbody></table></div>"
      ],
      "text/plain": [
       "shape: (14, 3)\n",
       "┌─────┬────────┬─────────────┐\n",
       "│ sex ┆ region ┆ income      │\n",
       "│ --- ┆ ---    ┆ ---         │\n",
       "│ i32 ┆ i32    ┆ f64         │\n",
       "╞═════╪════════╪═════════════╡\n",
       "│ 0   ┆ 1      ┆ 6470.466979 │\n",
       "│ 1   ┆ 1      ┆ 7480.28327  │\n",
       "│ 0   ┆ 2      ┆ 6240.920249 │\n",
       "│ 1   ┆ 2      ┆ 7230.395263 │\n",
       "│ …   ┆ …      ┆ …           │\n",
       "│ 0   ┆ 6      ┆ 6497.591985 │\n",
       "│ 1   ┆ 6      ┆ 7536.233468 │\n",
       "│ 0   ┆ 7      ┆ 5243.14918  │\n",
       "│ 1   ┆ 7      ┆ 6057.904612 │\n",
       "└─────┴────────┴─────────────┘"
      ]
     },
     "execution_count": 20,
     "metadata": {},
     "output_type": "execute_result"
    }
   ],
   "source": [
    "# Multi level partitions\n",
    "mean_multi_level_partitions = partition_mean(\n",
    "    lf_domain = lf_domain,\n",
    "    metric = dp.symmetric_distance(),\n",
    "    active_column = \"income\",\n",
    "    grouping_columns = [\"sex\", \"region\"],\n",
    "    bounds = (income_lower_bound, income_upper_bound),\n",
    "    scale = 0.5\n",
    ")\n",
    "mean_multi_level_partitions(data).sort(['region', 'sex'])"
   ]
  },
  {
   "cell_type": "markdown",
   "metadata": {},
   "source": [
    "### Compute the quantiles\n",
    "\n",
    "With ´make_private_quantile´"
   ]
  },
  {
   "cell_type": "code",
   "execution_count": 40,
   "metadata": {},
   "outputs": [
    {
     "data": {
      "text/plain": [
       "[2000.0,\n",
       " 2500.0,\n",
       " 3000.0,\n",
       " 3500.0,\n",
       " 4000.0,\n",
       " 4500.0,\n",
       " 5000.0,\n",
       " 5500.0,\n",
       " 6000.0,\n",
       " 6500.0,\n",
       " 7000.0,\n",
       " 7500.0,\n",
       " 8000.0,\n",
       " 8500.0,\n",
       " 9000.0,\n",
       " 9500.0,\n",
       " 10000.0,\n",
       " 10500.0,\n",
       " 11000.0,\n",
       " 11500.0,\n",
       " 12000.0,\n",
       " 12500.0]"
      ]
     },
     "execution_count": 40,
     "metadata": {},
     "output_type": "execute_result"
    }
   ],
   "source": [
    "# Candidates\n",
    "candidates = [x * 500.0 for x in range(4, 26)]\n",
    "candidates"
   ]
  },
  {
   "cell_type": "markdown",
   "metadata": {},
   "source": [
    "#### On all rows of the column (select operator)"
   ]
  },
  {
   "cell_type": "code",
   "execution_count": 32,
   "metadata": {},
   "outputs": [
    {
     "data": {
      "text/html": [
       "<div><style>\n",
       ".dataframe > thead > tr > th,\n",
       ".dataframe > tbody > tr > td {\n",
       "  text-align: right;\n",
       "}\n",
       "</style>\n",
       "<small>shape: (1, 1)</small><table border=\"1\" class=\"dataframe\"><thead><tr><th>income</th></tr><tr><td>f64</td></tr></thead><tbody><tr><td>6500.0</td></tr></tbody></table></div>"
      ],
      "text/plain": [
       "shape: (1, 1)\n",
       "┌────────┐\n",
       "│ income │\n",
       "│ ---    │\n",
       "│ f64    │\n",
       "╞════════╡\n",
       "│ 6500.0 │\n",
       "└────────┘"
      ]
     },
     "execution_count": 32,
     "metadata": {},
     "output_type": "execute_result"
    }
   ],
   "source": [
    "expr_domain = dp.expr_domain(lf_domain, context=\"select\")\n",
    "\n",
    "# On the median (alpha = 0.5)\n",
    "mean_lazy_all = (lf_domain, metric) >> dp.m.then_private_select(\n",
    "    dp.c.make_basic_composition([\n",
    "        (expr_domain, metric) \n",
    "        >> dp.t.then_col(col_name = \"income\") \n",
    "        >> dp.m.then_private_quantile(\n",
    "            candidates = candidates,\n",
    "            temperature = 0.1,\n",
    "            alpha = 0.5\n",
    "        )\n",
    "    ])\n",
    ") >> dp.t.make_collect(lf_domain, metric)\n",
    "\n",
    "mean_lazy_all(data)"
   ]
  },
  {
   "cell_type": "markdown",
   "metadata": {},
   "source": [
    "### On partitions (groupby and agg operators)"
   ]
  },
  {
   "cell_type": "code",
   "execution_count": 34,
   "metadata": {},
   "outputs": [],
   "source": [
    "def partition_quantiles(domain, metric, active_column, grouping_columns, candidates, temperature, alpha):\n",
    "    # Groupby Expr domain\n",
    "    expr_domain = dp.expr_domain(domain, grouping_columns=grouping_columns)\n",
    "    \n",
    "    # Groupby metric\n",
    "    expr_metric = dp.l1(metric)\n",
    "    \n",
    "    # Create expression\n",
    "    meas_lazy = (\n",
    "        (domain, metric)\n",
    "        >> dp.t.then_groupby_stable(grouping_columns)\n",
    "        >> dp.m.then_private_agg(\n",
    "            dp.c.make_basic_composition(\n",
    "                [\n",
    "                    (expr_domain, expr_metric)\n",
    "                    >> dp.t.then_col(active_column)\n",
    "                    >> dp.m.then_private_quantile(candidates, temperature, alpha)\n",
    "                ]\n",
    "            )\n",
    "        )\n",
    "        >> dp.t.make_collect(domain, metric)\n",
    "    )\n",
    "    return meas_lazy"
   ]
  },
  {
   "cell_type": "code",
   "execution_count": 35,
   "metadata": {},
   "outputs": [
    {
     "data": {
      "text/html": [
       "<div><style>\n",
       ".dataframe > thead > tr > th,\n",
       ".dataframe > tbody > tr > td {\n",
       "  text-align: right;\n",
       "}\n",
       "</style>\n",
       "<small>shape: (2, 2)</small><table border=\"1\" class=\"dataframe\"><thead><tr><th>sex</th><th>income</th></tr><tr><td>i32</td><td>list[f64]</td></tr></thead><tbody><tr><td>0</td><td>[6000.0]</td></tr><tr><td>1</td><td>[7000.0]</td></tr></tbody></table></div>"
      ],
      "text/plain": [
       "shape: (2, 2)\n",
       "┌─────┬───────────┐\n",
       "│ sex ┆ income    │\n",
       "│ --- ┆ ---       │\n",
       "│ i32 ┆ list[f64] │\n",
       "╞═════╪═══════════╡\n",
       "│ 0   ┆ [6000.0]  │\n",
       "│ 1   ┆ [7000.0]  │\n",
       "└─────┴───────────┘"
      ]
     },
     "execution_count": 35,
     "metadata": {},
     "output_type": "execute_result"
    }
   ],
   "source": [
    "# One level partition\n",
    "q50_one_level_partition = partition_quantiles(\n",
    "    domain = lf_domain,\n",
    "    metric = dp.symmetric_distance(),\n",
    "    active_column = \"income\", \n",
    "    grouping_columns = [\"sex\"],\n",
    "    candidates = candidates,\n",
    "    temperature = 1.0,\n",
    "    alpha = 0.5\n",
    ")\n",
    "q50_one_level_partition(data)"
   ]
  },
  {
   "cell_type": "code",
   "execution_count": 37,
   "metadata": {},
   "outputs": [
    {
     "data": {
      "text/html": [
       "<div><style>\n",
       ".dataframe > thead > tr > th,\n",
       ".dataframe > tbody > tr > td {\n",
       "  text-align: right;\n",
       "}\n",
       "</style>\n",
       "<small>shape: (2, 2)</small><table border=\"1\" class=\"dataframe\"><thead><tr><th>sex</th><th>income</th></tr><tr><td>i32</td><td>list[f64]</td></tr></thead><tbody><tr><td>0</td><td>[9000.0]</td></tr><tr><td>1</td><td>[10500.0]</td></tr></tbody></table></div>"
      ],
      "text/plain": [
       "shape: (2, 2)\n",
       "┌─────┬───────────┐\n",
       "│ sex ┆ income    │\n",
       "│ --- ┆ ---       │\n",
       "│ i32 ┆ list[f64] │\n",
       "╞═════╪═══════════╡\n",
       "│ 0   ┆ [9000.0]  │\n",
       "│ 1   ┆ [10500.0] │\n",
       "└─────┴───────────┘"
      ]
     },
     "execution_count": 37,
     "metadata": {},
     "output_type": "execute_result"
    }
   ],
   "source": [
    "q90_one_level_partition = partition_quantiles(\n",
    "    domain = lf_domain,\n",
    "    metric = dp.symmetric_distance(),\n",
    "    active_column = \"income\", \n",
    "    grouping_columns = [\"sex\"], \n",
    "    candidates = candidates,\n",
    "    temperature = 1.0,\n",
    "    alpha = 0.9\n",
    ")\n",
    "q90_one_level_partition(data)"
   ]
  },
  {
   "cell_type": "code",
   "execution_count": 39,
   "metadata": {},
   "outputs": [
    {
     "data": {
      "text/html": [
       "<div><style>\n",
       ".dataframe > thead > tr > th,\n",
       ".dataframe > tbody > tr > td {\n",
       "  text-align: right;\n",
       "}\n",
       "</style>\n",
       "<small>shape: (14, 3)</small><table border=\"1\" class=\"dataframe\"><thead><tr><th>sex</th><th>region</th><th>income</th></tr><tr><td>i32</td><td>i32</td><td>list[f64]</td></tr></thead><tbody><tr><td>0</td><td>1</td><td>[9500.0]</td></tr><tr><td>1</td><td>1</td><td>[11000.0]</td></tr><tr><td>0</td><td>2</td><td>[9000.0]</td></tr><tr><td>1</td><td>2</td><td>[10500.0]</td></tr><tr><td>0</td><td>3</td><td>[9500.0]</td></tr><tr><td>1</td><td>3</td><td>[11000.0]</td></tr><tr><td>0</td><td>4</td><td>[9500.0]</td></tr><tr><td>1</td><td>4</td><td>[11000.0]</td></tr><tr><td>0</td><td>5</td><td>[9000.0]</td></tr><tr><td>1</td><td>5</td><td>[10500.0]</td></tr><tr><td>0</td><td>6</td><td>[9500.0]</td></tr><tr><td>1</td><td>6</td><td>[11000.0]</td></tr><tr><td>0</td><td>7</td><td>[7500.0]</td></tr><tr><td>1</td><td>7</td><td>[8500.0]</td></tr></tbody></table></div>"
      ],
      "text/plain": [
       "shape: (14, 3)\n",
       "┌─────┬────────┬───────────┐\n",
       "│ sex ┆ region ┆ income    │\n",
       "│ --- ┆ ---    ┆ ---       │\n",
       "│ i32 ┆ i32    ┆ list[f64] │\n",
       "╞═════╪════════╪═══════════╡\n",
       "│ 0   ┆ 1      ┆ [9500.0]  │\n",
       "│ 1   ┆ 1      ┆ [11000.0] │\n",
       "│ 0   ┆ 2      ┆ [9000.0]  │\n",
       "│ 1   ┆ 2      ┆ [10500.0] │\n",
       "│ …   ┆ …      ┆ …         │\n",
       "│ 0   ┆ 6      ┆ [9500.0]  │\n",
       "│ 1   ┆ 6      ┆ [11000.0] │\n",
       "│ 0   ┆ 7      ┆ [7500.0]  │\n",
       "│ 1   ┆ 7      ┆ [8500.0]  │\n",
       "└─────┴────────┴───────────┘"
      ]
     },
     "execution_count": 39,
     "metadata": {},
     "output_type": "execute_result"
    }
   ],
   "source": [
    "# Multi level partitions\n",
    "multi_level_partition = partition_quantiles(\n",
    "    domain = lf_domain,\n",
    "    metric = dp.symmetric_distance(),\n",
    "    active_column = \"income\", \n",
    "    grouping_columns = [\"sex\", \"region\"], \n",
    "    candidates = candidates,\n",
    "    temperature = 1.0,\n",
    "    alpha = 0.9\n",
    ")\n",
    "multi_level_partition(data).sort(['region', 'sex'])"
   ]
  },
  {
   "cell_type": "code",
   "execution_count": null,
   "metadata": {},
   "outputs": [],
   "source": []
  }
 ],
 "metadata": {
  "kernelspec": {
   "display_name": "Python 3 (ipykernel)",
   "language": "python",
   "name": "python3"
  },
  "language_info": {
   "codemirror_mode": {
    "name": "ipython",
    "version": 3
   },
   "file_extension": ".py",
   "mimetype": "text/x-python",
   "name": "python",
   "nbconvert_exporter": "python",
   "pygments_lexer": "ipython3",
   "version": "3.11.9"
  },
  "orig_nbformat": 4
 },
 "nbformat": 4,
 "nbformat_minor": 2
}
