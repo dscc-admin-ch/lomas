{
 "cells": [
  {
   "cell_type": "markdown",
   "id": "ca52cfbf-8b68-4cef-9770-bd1439aeedb0",
   "metadata": {},
   "source": [
    "# Researcher using Penguin dataset"
   ]
  },
  {
   "cell_type": "markdown",
   "id": "3c9f2d6d-0c53-4ddc-bdc9-794918a757ba",
   "metadata": {},
   "source": [
    "### Install the lomas-client library"
   ]
  },
  {
   "cell_type": "code",
   "execution_count": 1,
   "id": "28db4401-c447-4cd9-8ff9-a6687f2aae55",
   "metadata": {},
   "outputs": [
    {
     "name": "stdout",
     "output_type": "stream",
     "text": [
      "Collecting lomas-client\n",
      "  Downloading lomas_client-0.3.5.tar.gz (14 kB)\n",
      "  Installing build dependencies ... \u001b[?2done\n",
      "\u001b[?25h  Getting requirements to build wheel ... \u001b[?25ldone\n",
      "\u001b[?25h  Preparing metadata (pyproject.toml) ... \u001b[?25ldone\n",
      "\u001b[?25hCollecting lomas-core==0.3.5 (from lomas-client)\n",
      "  Downloading lomas_core-0.3.5.tar.gz (10 kB)\n",
      "  Installing build dependencies ... \u001b[?2done\n",
      "\u001b[?25h  Getting requirements to build wheel ... \u001b[?25ldone\n",
      "\u001b[?25h  Preparing metadata (pyproject.toml) ... \u001b[?25ldone\n",
      "\u001b[?25hRequirement already satisfied: requests==2.32.0 in /usr/local/lib/python3.12/site-packages (from lomas-client) (2.32.0)\n",
      "Requirement already satisfied: diffprivlib==0.6.5 in /usr/local/lib/python3.12/site-packages (from lomas-core==0.3.5->lomas-client) (0.6.5)\n",
      "Requirement already satisfied: diffprivlib_logger>=0.0.3 in /usr/local/lib/python3.12/site-packages (from lomas-core==0.3.5->lomas-client) (0.0.3)\n",
      "Requirement already satisfied: fastapi>=0.111.1 in /usr/local/lib/python3.12/site-packages (from lomas-core==0.3.5->lomas-client) (0.111.1)\n",
      "Requirement already satisfied: numpy>=1.26.4 in /usr/local/lib/python3.12/site-packages (from lomas-core==0.3.5->lomas-client) (1.26.4)\n",
      "Requirement already satisfied: opendp==0.10.0 in /usr/local/lib/python3.12/site-packages (from lomas-core==0.3.5->lomas-client) (0.10.0)\n",
      "Requirement already satisfied: opendp_logger>=0.3.0 in /usr/local/lib/python3.12/site-packages (from lomas-core==0.3.5->lomas-client) (0.3.0)\n",
      "Requirement already satisfied: pandas>=2.2.2 in /usr/local/lib/python3.12/site-packages (from lomas-core==0.3.5->lomas-client) (2.2.2)\n",
      "Requirement already satisfied: pymongo>=4.6.3 in /usr/local/lib/python3.12/site-packages (from lomas-core==0.3.5->lomas-client) (4.6.3)\n",
      "Requirement already satisfied: scikit-learn>=1.4.2 in /usr/local/lib/python3.12/site-packages (from lomas-core==0.3.5->lomas-client) (1.4.2)\n",
      "Requirement already satisfied: smartnoise-synth>=1.0.4 in /usr/local/lib/python3.12/site-packages (from lomas-core==0.3.5->lomas-client) (1.0.4)\n",
      "Requirement already satisfied: smartnoise_synth_logger>=0.0.3 in /usr/local/lib/python3.12/site-packages (from lomas-core==0.3.5->lomas-client) (0.0.3)\n",
      "Requirement already satisfied: charset-normalizer<4,>=2 in /usr/local/lib/python3.12/site-packages (from requests==2.32.0->lomas-client) (3.4.1)\n",
      "Requirement already satisfied: idna<4,>=2.5 in /usr/local/lib/python3.12/site-packages (from requests==2.32.0->lomas-client) (3.10)\n",
      "Requirement already satisfied: urllib3<3,>=1.21.1 in /usr/local/lib/python3.12/site-packages (from requests==2.32.0->lomas-client) (2.3.0)\n",
      "Requirement already satisfied: certifi>=2017.4.17 in /usr/local/lib/python3.12/site-packages (from requests==2.32.0->lomas-client) (2024.12.14)\n",
      "Requirement already satisfied: scipy>=1.7.3 in /usr/local/lib/python3.12/site-packages (from diffprivlib==0.6.5->lomas-core==0.3.5->lomas-client) (1.15.1)\n",
      "Requirement already satisfied: joblib>=0.16.0 in /usr/local/lib/python3.12/site-packages (from diffprivlib==0.6.5->lomas-core==0.3.5->lomas-client) (1.4.2)\n",
      "Requirement already satisfied: setuptools>=49.0.0 in /usr/local/lib/python3.12/site-packages (from diffprivlib==0.6.5->lomas-core==0.3.5->lomas-client) (75.8.0)\n",
      "Requirement already satisfied: starlette<0.38.0,>=0.37.2 in /usr/local/lib/python3.12/site-packages (from fastapi>=0.111.1->lomas-core==0.3.5->lomas-client) (0.37.2)\n",
      "Requirement already satisfied: pydantic!=1.8,!=1.8.1,!=2.0.0,!=2.0.1,!=2.1.0,<3.0.0,>=1.7.4 in /usr/local/lib/python3.12/site-packages (from fastapi>=0.111.1->lomas-core==0.3.5->lomas-client) (2.10.5)\n",
      "Requirement already satisfied: typing-extensions>=4.8.0 in /usr/local/lib/python3.12/site-packages (from fastapi>=0.111.1->lomas-core==0.3.5->lomas-client) (4.12.2)\n",
      "Requirement already satisfied: fastapi-cli>=0.0.2 in /usr/local/lib/python3.12/site-packages (from fastapi>=0.111.1->lomas-core==0.3.5->lomas-client) (0.0.7)\n",
      "Requirement already satisfied: httpx>=0.23.0 in /usr/local/lib/python3.12/site-packages (from fastapi>=0.111.1->lomas-core==0.3.5->lomas-client) (0.28.1)\n",
      "Requirement already satisfied: jinja2>=2.11.2 in /usr/local/lib/python3.12/site-packages (from fastapi>=0.111.1->lomas-core==0.3.5->lomas-client) (3.1.5)\n",
      "Requirement already satisfied: python-multipart>=0.0.7 in /usr/local/lib/python3.12/site-packages (from fastapi>=0.111.1->lomas-core==0.3.5->lomas-client) (0.0.20)\n",
      "Requirement already satisfied: email_validator>=2.0.0 in /usr/local/lib/python3.12/site-packages (from fastapi>=0.111.1->lomas-core==0.3.5->lomas-client) (2.2.0)\n",
      "Requirement already satisfied: uvicorn>=0.12.0 in /usr/local/lib/python3.12/site-packages (from uvicorn[standard]>=0.12.0->fastapi>=0.111.1->lomas-core==0.3.5->lomas-client) (0.34.0)\n",
      "Requirement already satisfied: python-dateutil>=2.8.2 in /usr/local/lib/python3.12/site-packages (from pandas>=2.2.2->lomas-core==0.3.5->lomas-client) (2.9.0.post0)\n",
      "Requirement already satisfied: pytz>=2020.1 in /usr/local/lib/python3.12/site-packages (from pandas>=2.2.2->lomas-core==0.3.5->lomas-client) (2024.2)\n",
      "Requirement already satisfied: tzdata>=2022.7 in /usr/local/lib/python3.12/site-packages (from pandas>=2.2.2->lomas-core==0.3.5->lomas-client) (2024.2)\n",
      "Requirement already satisfied: dnspython<3.0.0,>=1.16.0 in /usr/local/lib/python3.12/site-packages (from pymongo>=4.6.3->lomas-core==0.3.5->lomas-client) (2.7.0)\n",
      "Requirement already satisfied: threadpoolctl>=2.0.0 in /usr/local/lib/python3.12/site-packages (from scikit-learn>=1.4.2->lomas-core==0.3.5->lomas-client) (3.5.0)\n",
      "Requirement already satisfied: Faker>=17.0.0 in /usr/local/lib/python3.12/site-packages (from smartnoise-synth>=1.0.4->lomas-core==0.3.5->lomas-client) (33.3.1)\n",
      "Requirement already satisfied: opacus<0.15.0,>=0.14.0 in /usr/local/lib/python3.12/site-packages (from smartnoise-synth>=1.0.4->lomas-core==0.3.5->lomas-client) (0.14.0)\n",
      "Requirement already satisfied: pac-synth<0.0.9,>=0.0.8 in /usr/local/lib/python3.12/site-packages (from smartnoise-synth>=1.0.4->lomas-core==0.3.5->lomas-client) (0.0.8)\n",
      "Requirement already satisfied: smartnoise-sql<2.0.0,>=1.0.4 in /usr/local/lib/python3.12/site-packages (from smartnoise-synth>=1.0.4->lomas-core==0.3.5->lomas-client) (1.0.4)\n",
      "Requirement already satisfied: torch>=2.2.0 in /usr/local/lib/python3.12/site-packages (from smartnoise-synth>=1.0.4->lomas-core==0.3.5->lomas-client) (2.5.1)\n",
      "Requirement already satisfied: typer>=0.12.3 in /usr/local/lib/python3.12/site-packages (from fastapi-cli>=0.0.2->fastapi>=0.111.1->lomas-core==0.3.5->lomas-client) (0.15.1)\n",
      "Requirement already satisfied: rich-toolkit>=0.11.1 in /usr/local/lib/python3.12/site-packages (from fastapi-cli>=0.0.2->fastapi>=0.111.1->lomas-core==0.3.5->lomas-client) (0.13.2)\n",
      "Requirement already satisfied: anyio in /usr/local/lib/python3.12/site-packages (from httpx>=0.23.0->fastapi>=0.111.1->lomas-core==0.3.5->lomas-client) (4.8.0)\n",
      "Requirement already satisfied: httpcore==1.* in /usr/local/lib/python3.12/site-packages (from httpx>=0.23.0->fastapi>=0.111.1->lomas-core==0.3.5->lomas-client) (1.0.7)\n",
      "Requirement already satisfied: h11<0.15,>=0.13 in /usr/local/lib/python3.12/site-packages (from httpcore==1.*->httpx>=0.23.0->fastapi>=0.111.1->lomas-core==0.3.5->lomas-client) (0.14.0)\n",
      "Requirement already satisfied: MarkupSafe>=2.0 in /usr/local/lib/python3.12/site-packages (from jinja2>=2.11.2->fastapi>=0.111.1->lomas-core==0.3.5->lomas-client) (3.0.2)\n",
      "Requirement already satisfied: annotated-types>=0.6.0 in /usr/local/lib/python3.12/site-packages (from pydantic!=1.8,!=1.8.1,!=2.0.0,!=2.0.1,!=2.1.0,<3.0.0,>=1.7.4->fastapi>=0.111.1->lomas-core==0.3.5->lomas-client) (0.7.0)\n",
      "Requirement already satisfied: pydantic-core==2.27.2 in /usr/local/lib/python3.12/site-packages (from pydantic!=1.8,!=1.8.1,!=2.0.0,!=2.0.1,!=2.1.0,<3.0.0,>=1.7.4->fastapi>=0.111.1->lomas-core==0.3.5->lomas-client) (2.27.2)\n",
      "Requirement already satisfied: six>=1.5 in /usr/local/lib/python3.12/site-packages (from python-dateutil>=2.8.2->pandas>=2.2.2->lomas-core==0.3.5->lomas-client) (1.17.0)\n",
      "Requirement already satisfied: PyYAML<7.0.0,>=6.0.1 in /usr/local/lib/python3.12/site-packages (from smartnoise-sql<2.0.0,>=1.0.4->smartnoise-synth>=1.0.4->lomas-core==0.3.5->lomas-client) (6.0.2)\n",
      "Requirement already satisfied: antlr4-python3-runtime==4.9.3 in /usr/local/lib/python3.12/site-packages (from smartnoise-sql<2.0.0,>=1.0.4->smartnoise-synth>=1.0.4->lomas-core==0.3.5->lomas-client) (4.9.3)\n",
      "Requirement already satisfied: graphviz<0.18,>=0.17 in /usr/local/lib/python3.12/site-packages (from smartnoise-sql<2.0.0,>=1.0.4->smartnoise-synth>=1.0.4->lomas-core==0.3.5->lomas-client) (0.17)\n",
      "Requirement already satisfied: sqlalchemy<3.0.0,>=2.0.0 in /usr/local/lib/python3.12/site-packages (from smartnoise-sql<2.0.0,>=1.0.4->smartnoise-synth>=1.0.4->lomas-core==0.3.5->lomas-client) (2.0.37)\n",
      "Requirement already satisfied: filelock in /usr/local/lib/python3.12/site-packages (from torch>=2.2.0->smartnoise-synth>=1.0.4->lomas-core==0.3.5->lomas-client) (3.16.1)\n",
      "Requirement already satisfied: networkx in /usr/local/lib/python3.12/site-packages (from torch>=2.2.0->smartnoise-synth>=1.0.4->lomas-core==0.3.5->lomas-client) (3.4.2)\n",
      "Requirement already satisfied: fsspec in /usr/local/lib/python3.12/site-packages (from torch>=2.2.0->smartnoise-synth>=1.0.4->lomas-core==0.3.5->lomas-client) (2024.12.0)\n",
      "Requirement already satisfied: nvidia-cuda-nvrtc-cu12==12.4.127 in /usr/local/lib/python3.12/site-packages (from torch>=2.2.0->smartnoise-synth>=1.0.4->lomas-core==0.3.5->lomas-client) (12.4.127)\n",
      "Requirement already satisfied: nvidia-cuda-runtime-cu12==12.4.127 in /usr/local/lib/python3.12/site-packages (from torch>=2.2.0->smartnoise-synth>=1.0.4->lomas-core==0.3.5->lomas-client) (12.4.127)\n",
      "Requirement already satisfied: nvidia-cuda-cupti-cu12==12.4.127 in /usr/local/lib/python3.12/site-packages (from torch>=2.2.0->smartnoise-synth>=1.0.4->lomas-core==0.3.5->lomas-client) (12.4.127)\n",
      "Requirement already satisfied: nvidia-cudnn-cu12==9.1.0.70 in /usr/local/lib/python3.12/site-packages (from torch>=2.2.0->smartnoise-synth>=1.0.4->lomas-core==0.3.5->lomas-client) (9.1.0.70)\n",
      "Requirement already satisfied: nvidia-cublas-cu12==12.4.5.8 in /usr/local/lib/python3.12/site-packages (from torch>=2.2.0->smartnoise-synth>=1.0.4->lomas-core==0.3.5->lomas-client) (12.4.5.8)\n",
      "Requirement already satisfied: nvidia-cufft-cu12==11.2.1.3 in /usr/local/lib/python3.12/site-packages (from torch>=2.2.0->smartnoise-synth>=1.0.4->lomas-core==0.3.5->lomas-client) (11.2.1.3)\n",
      "Requirement already satisfied: nvidia-curand-cu12==10.3.5.147 in /usr/local/lib/python3.12/site-packages (from torch>=2.2.0->smartnoise-synth>=1.0.4->lomas-core==0.3.5->lomas-client) (10.3.5.147)\n",
      "Requirement already satisfied: nvidia-cusolver-cu12==11.6.1.9 in /usr/local/lib/python3.12/site-packages (from torch>=2.2.0->smartnoise-synth>=1.0.4->lomas-core==0.3.5->lomas-client) (11.6.1.9)\n",
      "Requirement already satisfied: nvidia-cusparse-cu12==12.3.1.170 in /usr/local/lib/python3.12/site-packages (from torch>=2.2.0->smartnoise-synth>=1.0.4->lomas-core==0.3.5->lomas-client) (12.3.1.170)\n",
      "Requirement already satisfied: nvidia-nccl-cu12==2.21.5 in /usr/local/lib/python3.12/site-packages (from torch>=2.2.0->smartnoise-synth>=1.0.4->lomas-core==0.3.5->lomas-client) (2.21.5)\n",
      "Requirement already satisfied: nvidia-nvtx-cu12==12.4.127 in /usr/local/lib/python3.12/site-packages (from torch>=2.2.0->smartnoise-synth>=1.0.4->lomas-core==0.3.5->lomas-client) (12.4.127)\n",
      "Requirement already satisfied: nvidia-nvjitlink-cu12==12.4.127 in /usr/local/lib/python3.12/site-packages (from torch>=2.2.0->smartnoise-synth>=1.0.4->lomas-core==0.3.5->lomas-client) (12.4.127)\n",
      "Requirement already satisfied: triton==3.1.0 in /usr/local/lib/python3.12/site-packages (from torch>=2.2.0->smartnoise-synth>=1.0.4->lomas-core==0.3.5->lomas-client) (3.1.0)\n",
      "Requirement already satisfied: sympy==1.13.1 in /usr/local/lib/python3.12/site-packages (from torch>=2.2.0->smartnoise-synth>=1.0.4->lomas-core==0.3.5->lomas-client) (1.13.1)\n",
      "Requirement already satisfied: mpmath<1.4,>=1.1.0 in /usr/local/lib/python3.12/site-packages (from sympy==1.13.1->torch>=2.2.0->smartnoise-synth>=1.0.4->lomas-core==0.3.5->lomas-client) (1.3.0)\n",
      "Requirement already satisfied: click>=7.0 in /usr/local/lib/python3.12/site-packages (from uvicorn>=0.12.0->uvicorn[standard]>=0.12.0->fastapi>=0.111.1->lomas-core==0.3.5->lomas-client) (8.1.8)\n",
      "Requirement already satisfied: httptools>=0.6.3 in /usr/local/lib/python3.12/site-packages (from uvicorn[standard]>=0.12.0->fastapi>=0.111.1->lomas-core==0.3.5->lomas-client) (0.6.4)\n",
      "Requirement already satisfied: python-dotenv>=0.13 in /usr/local/lib/python3.12/site-packages (from uvicorn[standard]>=0.12.0->fastapi>=0.111.1->lomas-core==0.3.5->lomas-client) (1.0.1)\n",
      "Requirement already satisfied: uvloop!=0.15.0,!=0.15.1,>=0.14.0 in /usr/local/lib/python3.12/site-packages (from uvicorn[standard]>=0.12.0->fastapi>=0.111.1->lomas-core==0.3.5->lomas-client) (0.21.0)\n",
      "Requirement already satisfied: watchfiles>=0.13 in /usr/local/lib/python3.12/site-packages (from uvicorn[standard]>=0.12.0->fastapi>=0.111.1->lomas-core==0.3.5->lomas-client) (1.0.4)\n",
      "Requirement already satisfied: websockets>=10.4 in /usr/local/lib/python3.12/site-packages (from uvicorn[standard]>=0.12.0->fastapi>=0.111.1->lomas-core==0.3.5->lomas-client) (14.1)\n",
      "Requirement already satisfied: sniffio>=1.1 in /usr/local/lib/python3.12/site-packages (from anyio->httpx>=0.23.0->fastapi>=0.111.1->lomas-core==0.3.5->lomas-client) (1.3.1)\n",
      "Requirement already satisfied: rich>=13.7.1 in /usr/local/lib/python3.12/site-packages (from rich-toolkit>=0.11.1->fastapi-cli>=0.0.2->fastapi>=0.111.1->lomas-core==0.3.5->lomas-client) (13.9.4)\n",
      "Requirement already satisfied: greenlet!=0.4.17 in /usr/local/lib/python3.12/site-packages (from sqlalchemy<3.0.0,>=2.0.0->smartnoise-sql<2.0.0,>=1.0.4->smartnoise-synth>=1.0.4->lomas-core==0.3.5->lomas-client) (3.1.1)\n",
      "Requirement already satisfied: shellingham>=1.3.0 in /usr/local/lib/python3.12/site-packages (from typer>=0.12.3->fastapi-cli>=0.0.2->fastapi>=0.111.1->lomas-core==0.3.5->lomas-client) (1.5.4)\n",
      "Requirement already satisfied: markdown-it-py>=2.2.0 in /usr/local/lib/python3.12/site-packages (from rich>=13.7.1->rich-toolkit>=0.11.1->fastapi-cli>=0.0.2->fastapi>=0.111.1->lomas-core==0.3.5->lomas-client) (3.0.0)\n",
      "Requirement already satisfied: pygments<3.0.0,>=2.13.0 in /usr/local/lib/python3.12/site-packages (from rich>=13.7.1->rich-toolkit>=0.11.1->fastapi-cli>=0.0.2->fastapi>=0.111.1->lomas-core==0.3.5->lomas-client) (2.19.1)\n",
      "Requirement already satisfied: mdurl~=0.1 in /usr/local/lib/python3.12/site-packages (from markdown-it-py>=2.2.0->rich>=13.7.1->rich-toolkit>=0.11.1->fastapi-cli>=0.0.2->fastapi>=0.111.1->lomas-core==0.3.5->lomas-client) (0.1.2)\n",
      "Building wheels for collected packages: lomas-client, lomas-core\n",
      "  Building wheel for lomas-client (pyproject.toml) ... \u001b[?25ldone\n",
      "\u001b[?25h  Created wheel for lomas-client: filename=lomas_client-0.3.5-py3-none-any.whl size=15887 sha256=c3a35eebe63bf0966ea87ac3c81da525529fff050a32681ae51fa4de45c5cfcc\n",
      "  Stored in directory: /root/.cache/pip/wheels/19/9a/c5/c00a710a3877b2c3584f36105082b34ded1a1c3491fb4deddc\n",
      "  Building wheel for lomas-core (pyproject.toml) ... \u001b[?25ldone\n",
      "\u001b[?25h  Created wheel for lomas-core: filename=lomas_core-0.3.5-py3-none-any.whl size=11533 sha256=01b2d88756e84cbc7375dcd56ab2e955661d27749bbf8f98f3735d9b0c30ab46\n",
      "  Stored in directory: /root/.cache/pip/wheels/89/0e/b3/d0fd9425a0b247d12d1bb4688168613aade3afa4fe344c538c\n",
      "Successfully built lomas-client lomas-core\n",
      "Installing collected packages: lomas-core, lomas-client\n",
      "Successfully installed lomas-client-0.3.5 lomas-core-0.3.5\n",
      "\u001b[33mWARNING: Running pip as the 'root' user can result in broken permissions and conflicting behaviour with the system package manager, possibly rendering your system unusable.It is recommended to use a virtual environment instead: https://pip.pypa.io/warnings/venv. Use the --root-user-action option if you know what you are doing and want to suppress this warning.\u001b[0m\u001b[33m\n",
      "\u001b[0m"
     ]
    }
   ],
   "source": [
    "!pip install lomas-client"
   ]
  },
  {
   "cell_type": "markdown",
   "id": "c642c713-7c53-4bbc-8750-e572e398fe8b",
   "metadata": {},
   "source": [
    "### Prepare code to interact with the platform"
   ]
  },
  {
   "cell_type": "code",
   "execution_count": 2,
   "id": "06872aec-d994-4a03-b449-dba88288e477",
   "metadata": {},
   "outputs": [],
   "source": [
    "from lomas_client import Client"
   ]
  },
  {
   "cell_type": "code",
   "execution_count": 3,
   "id": "1172d7b4-a4b4-452e-bff9-bb9cfc1fcc22",
   "metadata": {},
   "outputs": [],
   "source": [
    "APP_URL = \"http://lomas_server\"\n",
    "USER_NAME = \"Dr. Antartica\"\n",
    "DATASET_NAME = \"PENGUIN\"\n",
    "client = Client(url=APP_URL, user_name = USER_NAME, dataset_name = DATASET_NAME)"
   ]
  },
  {
   "cell_type": "markdown",
   "id": "96e222fb-6640-499f-a1e4-c14d36071bff",
   "metadata": {},
   "source": [
    "and now we are ready."
   ]
  },
  {
   "cell_type": "markdown",
   "id": "bb4d69db-61f1-48ce-8fac-fd193216950a",
   "metadata": {},
   "source": [
    "### Understand the available data"
   ]
  },
  {
   "cell_type": "markdown",
   "id": "68fdd7ce-57c6-4536-a8f7-627ed5bc4283",
   "metadata": {},
   "source": [
    "##### Metadata"
   ]
  },
  {
   "cell_type": "code",
   "execution_count": 4,
   "id": "f758741a-f20c-4ad2-b100-a3cbdff83ece",
   "metadata": {},
   "outputs": [
    {
     "data": {
      "text/plain": [
       "{'max_ids': 1,\n",
       " 'rows': 344,\n",
       " 'row_privacy': True,\n",
       " 'censor_dims': False,\n",
       " 'columns': {'species': {'private_id': False,\n",
       "   'nullable': False,\n",
       "   'max_partition_length': None,\n",
       "   'max_influenced_partitions': None,\n",
       "   'max_partition_contributions': None,\n",
       "   'type': 'string',\n",
       "   'cardinality': 3,\n",
       "   'categories': ['Adelie', 'Chinstrap', 'Gentoo']},\n",
       "  'island': {'private_id': False,\n",
       "   'nullable': False,\n",
       "   'max_partition_length': None,\n",
       "   'max_influenced_partitions': None,\n",
       "   'max_partition_contributions': None,\n",
       "   'type': 'string',\n",
       "   'cardinality': 3,\n",
       "   'categories': ['Torgersen', 'Biscoe', 'Dream']},\n",
       "  'bill_length_mm': {'private_id': False,\n",
       "   'nullable': False,\n",
       "   'max_partition_length': None,\n",
       "   'max_influenced_partitions': None,\n",
       "   'max_partition_contributions': None,\n",
       "   'type': 'float',\n",
       "   'precision': 64,\n",
       "   'lower': 30.0,\n",
       "   'upper': 65.0},\n",
       "  'bill_depth_mm': {'private_id': False,\n",
       "   'nullable': False,\n",
       "   'max_partition_length': None,\n",
       "   'max_influenced_partitions': None,\n",
       "   'max_partition_contributions': None,\n",
       "   'type': 'float',\n",
       "   'precision': 64,\n",
       "   'lower': 13.0,\n",
       "   'upper': 23.0},\n",
       "  'flipper_length_mm': {'private_id': False,\n",
       "   'nullable': False,\n",
       "   'max_partition_length': None,\n",
       "   'max_influenced_partitions': None,\n",
       "   'max_partition_contributions': None,\n",
       "   'type': 'float',\n",
       "   'precision': 64,\n",
       "   'lower': 150.0,\n",
       "   'upper': 250.0},\n",
       "  'body_mass_g': {'private_id': False,\n",
       "   'nullable': False,\n",
       "   'max_partition_length': None,\n",
       "   'max_influenced_partitions': None,\n",
       "   'max_partition_contributions': None,\n",
       "   'type': 'float',\n",
       "   'precision': 64,\n",
       "   'lower': 2000.0,\n",
       "   'upper': 7000.0},\n",
       "  'sex': {'private_id': False,\n",
       "   'nullable': False,\n",
       "   'max_partition_length': None,\n",
       "   'max_influenced_partitions': None,\n",
       "   'max_partition_contributions': None,\n",
       "   'type': 'string',\n",
       "   'cardinality': 2,\n",
       "   'categories': ['MALE', 'FEMALE']}}}"
      ]
     },
     "execution_count": 4,
     "metadata": {},
     "output_type": "execute_result"
    }
   ],
   "source": [
    "penguin_metadata = client.get_dataset_metadata()\n",
    "penguin_metadata"
   ]
  },
  {
   "cell_type": "code",
   "execution_count": 5,
   "id": "2e4cb857-bb1c-43f5-b5a6-c34cee48dafd",
   "metadata": {},
   "outputs": [
    {
     "data": {
      "text/plain": [
       "{'private_id': False,\n",
       " 'nullable': False,\n",
       " 'max_partition_length': None,\n",
       " 'max_influenced_partitions': None,\n",
       " 'max_partition_contributions': None,\n",
       " 'type': 'float',\n",
       " 'precision': 64,\n",
       " 'lower': 30.0,\n",
       " 'upper': 65.0}"
      ]
     },
     "execution_count": 5,
     "metadata": {},
     "output_type": "execute_result"
    }
   ],
   "source": [
    "penguin_metadata[\"columns\"][\"bill_length_mm\"]"
   ]
  },
  {
   "cell_type": "code",
   "execution_count": 6,
   "id": "99d5c47e-f338-4de1-8192-6b1b4696d604",
   "metadata": {},
   "outputs": [
    {
     "data": {
      "text/plain": [
       "{'private_id': False,\n",
       " 'nullable': False,\n",
       " 'max_partition_length': None,\n",
       " 'max_influenced_partitions': None,\n",
       " 'max_partition_contributions': None,\n",
       " 'type': 'float',\n",
       " 'precision': 64,\n",
       " 'lower': 150.0,\n",
       " 'upper': 250.0}"
      ]
     },
     "execution_count": 6,
     "metadata": {},
     "output_type": "execute_result"
    }
   ],
   "source": [
    "penguin_metadata[\"columns\"][\"flipper_length_mm\"]"
   ]
  },
  {
   "cell_type": "markdown",
   "id": "c1728c44-6084-49e1-b5a7-f196d58c29b2",
   "metadata": {},
   "source": [
    "##### Dummy dataset (RANDOM DATA)"
   ]
  },
  {
   "cell_type": "code",
   "execution_count": 7,
   "id": "c1b96a10-35bb-423d-af40-376d7dcb2602",
   "metadata": {},
   "outputs": [
    {
     "data": {
      "text/html": [
       "<div>\n",
       "<style scoped>\n",
       "    .dataframe tbody tr th:only-of-type {\n",
       "        vertical-align: middle;\n",
       "    }\n",
       "\n",
       "    .dataframe tbody tr th {\n",
       "        vertical-align: top;\n",
       "    }\n",
       "\n",
       "    .dataframe thead th {\n",
       "        text-align: right;\n",
       "    }\n",
       "</style>\n",
       "<table border=\"1\" class=\"dataframe\">\n",
       "  <thead>\n",
       "    <tr style=\"text-align: right;\">\n",
       "      <th></th>\n",
       "      <th>species</th>\n",
       "      <th>island</th>\n",
       "      <th>bill_length_mm</th>\n",
       "      <th>bill_depth_mm</th>\n",
       "      <th>flipper_length_mm</th>\n",
       "      <th>body_mass_g</th>\n",
       "      <th>sex</th>\n",
       "    </tr>\n",
       "  </thead>\n",
       "  <tbody>\n",
       "    <tr>\n",
       "      <th>0</th>\n",
       "      <td>Adelie</td>\n",
       "      <td>Dream</td>\n",
       "      <td>61.800324</td>\n",
       "      <td>20.774048</td>\n",
       "      <td>227.899635</td>\n",
       "      <td>3509.636957</td>\n",
       "      <td>FEMALE</td>\n",
       "    </tr>\n",
       "    <tr>\n",
       "      <th>1</th>\n",
       "      <td>Gentoo</td>\n",
       "      <td>Torgersen</td>\n",
       "      <td>54.489750</td>\n",
       "      <td>22.718264</td>\n",
       "      <td>163.455221</td>\n",
       "      <td>6592.209478</td>\n",
       "      <td>FEMALE</td>\n",
       "    </tr>\n",
       "    <tr>\n",
       "      <th>2</th>\n",
       "      <td>Chinstrap</td>\n",
       "      <td>Dream</td>\n",
       "      <td>39.305449</td>\n",
       "      <td>18.007412</td>\n",
       "      <td>203.606804</td>\n",
       "      <td>5906.470177</td>\n",
       "      <td>FEMALE</td>\n",
       "    </tr>\n",
       "    <tr>\n",
       "      <th>3</th>\n",
       "      <td>Chinstrap</td>\n",
       "      <td>Torgersen</td>\n",
       "      <td>63.921173</td>\n",
       "      <td>14.438975</td>\n",
       "      <td>201.422287</td>\n",
       "      <td>2552.942055</td>\n",
       "      <td>FEMALE</td>\n",
       "    </tr>\n",
       "    <tr>\n",
       "      <th>4</th>\n",
       "      <td>Chinstrap</td>\n",
       "      <td>Dream</td>\n",
       "      <td>57.256282</td>\n",
       "      <td>13.139363</td>\n",
       "      <td>235.757214</td>\n",
       "      <td>6985.173289</td>\n",
       "      <td>MALE</td>\n",
       "    </tr>\n",
       "  </tbody>\n",
       "</table>\n",
       "</div>"
      ],
      "text/plain": [
       "     species     island  bill_length_mm  bill_depth_mm  flipper_length_mm  \\\n",
       "0     Adelie      Dream       61.800324      20.774048         227.899635   \n",
       "1     Gentoo  Torgersen       54.489750      22.718264         163.455221   \n",
       "2  Chinstrap      Dream       39.305449      18.007412         203.606804   \n",
       "3  Chinstrap  Torgersen       63.921173      14.438975         201.422287   \n",
       "4  Chinstrap      Dream       57.256282      13.139363         235.757214   \n",
       "\n",
       "   body_mass_g     sex  \n",
       "0  3509.636957  FEMALE  \n",
       "1  6592.209478  FEMALE  \n",
       "2  5906.470177  FEMALE  \n",
       "3  2552.942055  FEMALE  \n",
       "4  6985.173289    MALE  "
      ]
     },
     "execution_count": 7,
     "metadata": {},
     "output_type": "execute_result"
    }
   ],
   "source": [
    "df_dummy = client.get_dummy_dataset()\n",
    "df_dummy.head()"
   ]
  },
  {
   "cell_type": "markdown",
   "id": "eb96771b-50e2-414e-bdf6-80af56c446f3",
   "metadata": {},
   "source": [
    "### Scientific question"
   ]
  },
  {
   "cell_type": "markdown",
   "id": "fe06972a-c01c-48ff-86ce-df46059ed83b",
   "metadata": {},
   "source": [
    "Question: Are bill length and flipper length correlated ?\n",
    "\n",
    "- $H_0$: Bill lenth and flipper length ARE NOT correlated.\n",
    "- $H_1$: Bill lenth and flipper length ARE correlated.\n",
    "\n",
    "Model $Y = \\alpha + \\beta x$ where:\n",
    "- x is the bill length,\n",
    "- Y is the flipper length,\n",
    "- $\\alpha$ and $\\beta$ are unknown.\n",
    "\n",
    "If $H_0$, then $\\beta = 0$."
   ]
  },
  {
   "cell_type": "markdown",
   "id": "4ef783e1-12e4-489c-b993-a54f5a40414e",
   "metadata": {},
   "source": [
    "### Plan"
   ]
  },
  {
   "cell_type": "markdown",
   "id": "77c2af02-cd3a-477f-a131-cfd37681f718",
   "metadata": {},
   "source": [
    "Dr. Antartica will compute the $t_{score} = \\frac{\\beta_{estimate} - \\beta_0}{SE}$,\n",
    "\n",
    "with $\\beta_{estimate}$ the estimated slope on the real data and $SE$ the standard error of least square estimators of $\\beta$.\n",
    "\n",
    "Therefore, she needs the number of penguin, variance of the flipper length, variance of the bill length (for $SE$) and $\\beta_{estimate}$.\n",
    "\n",
    "She will compute $t_{critical}$ with a 95% confidence interval ($\\alpha=0.5$%).\n",
    "\n",
    "Then, \n",
    "- If $|t_{score}| > t_{critical}$, reject the null hypothesis ($H_0$).\n",
    "- If $|t_{score}| \\leq t_{critical}$, fail to reject the null hypothesis."
   ]
  },
  {
   "cell_type": "markdown",
   "id": "042ec1d2-150d-4929-95d7-17b11813b286",
   "metadata": {},
   "source": [
    "### Query Lomas to get parameters"
   ]
  },
  {
   "cell_type": "code",
   "execution_count": 8,
   "id": "9f628dc6-a41f-49a9-927c-079c1a0002ab",
   "metadata": {},
   "outputs": [],
   "source": [
    "from sklearn.pipeline import Pipeline\n",
    "from diffprivlib import models\n",
    "from scipy.stats import t\n",
    "import pandas as pd"
   ]
  },
  {
   "cell_type": "markdown",
   "id": "9ad14af9-1fb9-45f5-95a1-afc544e7f119",
   "metadata": {},
   "source": [
    "#### Compute $\\beta_{estimate}$"
   ]
  },
  {
   "cell_type": "code",
   "execution_count": 9,
   "id": "4464d7c3-c13d-4cf0-8c9f-1bb231d202ee",
   "metadata": {},
   "outputs": [],
   "source": [
    "bill_length_meta = penguin_metadata['columns']['bill_length_mm']\n",
    "flipper_length_meta = penguin_metadata['columns']['flipper_length_mm']\n",
    "\n",
    "pipeline = Pipeline([\n",
    "    (\n",
    "        'lr', \n",
    "        models.LinearRegression(\n",
    "            epsilon = 4.0, \n",
    "            bounds_X=(bill_length_meta['lower'], bill_length_meta['upper']), \n",
    "            bounds_y=(flipper_length_meta['lower'], flipper_length_meta['upper'])\n",
    "        )\n",
    "    ),\n",
    "])"
   ]
  },
  {
   "cell_type": "code",
   "execution_count": 10,
   "id": "08398bce-b058-42f5-970a-07dac48807d0",
   "metadata": {},
   "outputs": [],
   "source": [
    "TEST_SIZE = 0.3\n",
    "\n",
    "response = client.diffprivlib.query(\n",
    "    pipeline = pipeline,\n",
    "    feature_columns = ['bill_length_mm'],\n",
    "    target_columns = ['flipper_length_mm'],\n",
    "    test_size = TEST_SIZE\n",
    ")"
   ]
  },
  {
   "cell_type": "code",
   "execution_count": 11,
   "id": "345f5ae6-f9cb-4d87-983b-b00568f9f873",
   "metadata": {},
   "outputs": [
    {
     "data": {
      "text/html": [
       "<style>#sk-container-id-1 {\n",
       "  /* Definition of color scheme common for light and dark mode */\n",
       "  --sklearn-color-text: black;\n",
       "  --sklearn-color-line: gray;\n",
       "  /* Definition of color scheme for unfitted estimators */\n",
       "  --sklearn-color-unfitted-level-0: #fff5e6;\n",
       "  --sklearn-color-unfitted-level-1: #f6e4d2;\n",
       "  --sklearn-color-unfitted-level-2: #ffe0b3;\n",
       "  --sklearn-color-unfitted-level-3: chocolate;\n",
       "  /* Definition of color scheme for fitted estimators */\n",
       "  --sklearn-color-fitted-level-0: #f0f8ff;\n",
       "  --sklearn-color-fitted-level-1: #d4ebff;\n",
       "  --sklearn-color-fitted-level-2: #b3dbfd;\n",
       "  --sklearn-color-fitted-level-3: cornflowerblue;\n",
       "\n",
       "  /* Specific color for light theme */\n",
       "  --sklearn-color-text-on-default-background: var(--sg-text-color, var(--theme-code-foreground, var(--jp-content-font-color1, black)));\n",
       "  --sklearn-color-background: var(--sg-background-color, var(--theme-background, var(--jp-layout-color0, white)));\n",
       "  --sklearn-color-border-box: var(--sg-text-color, var(--theme-code-foreground, var(--jp-content-font-color1, black)));\n",
       "  --sklearn-color-icon: #696969;\n",
       "\n",
       "  @media (prefers-color-scheme: dark) {\n",
       "    /* Redefinition of color scheme for dark theme */\n",
       "    --sklearn-color-text-on-default-background: var(--sg-text-color, var(--theme-code-foreground, var(--jp-content-font-color1, white)));\n",
       "    --sklearn-color-background: var(--sg-background-color, var(--theme-background, var(--jp-layout-color0, #111)));\n",
       "    --sklearn-color-border-box: var(--sg-text-color, var(--theme-code-foreground, var(--jp-content-font-color1, white)));\n",
       "    --sklearn-color-icon: #878787;\n",
       "  }\n",
       "}\n",
       "\n",
       "#sk-container-id-1 {\n",
       "  color: var(--sklearn-color-text);\n",
       "}\n",
       "\n",
       "#sk-container-id-1 pre {\n",
       "  padding: 0;\n",
       "}\n",
       "\n",
       "#sk-container-id-1 input.sk-hidden--visually {\n",
       "  border: 0;\n",
       "  clip: rect(1px 1px 1px 1px);\n",
       "  clip: rect(1px, 1px, 1px, 1px);\n",
       "  height: 1px;\n",
       "  margin: -1px;\n",
       "  overflow: hidden;\n",
       "  padding: 0;\n",
       "  position: absolute;\n",
       "  width: 1px;\n",
       "}\n",
       "\n",
       "#sk-container-id-1 div.sk-dashed-wrapped {\n",
       "  border: 1px dashed var(--sklearn-color-line);\n",
       "  margin: 0 0.4em 0.5em 0.4em;\n",
       "  box-sizing: border-box;\n",
       "  padding-bottom: 0.4em;\n",
       "  background-color: var(--sklearn-color-background);\n",
       "}\n",
       "\n",
       "#sk-container-id-1 div.sk-container {\n",
       "  /* jupyter's `normalize.less` sets `[hidden] { display: none; }`\n",
       "     but bootstrap.min.css set `[hidden] { display: none !important; }`\n",
       "     so we also need the `!important` here to be able to override the\n",
       "     default hidden behavior on the sphinx rendered scikit-learn.org.\n",
       "     See: https://github.com/scikit-learn/scikit-learn/issues/21755 */\n",
       "  display: inline-block !important;\n",
       "  position: relative;\n",
       "}\n",
       "\n",
       "#sk-container-id-1 div.sk-text-repr-fallback {\n",
       "  display: none;\n",
       "}\n",
       "\n",
       "div.sk-parallel-item,\n",
       "div.sk-serial,\n",
       "div.sk-item {\n",
       "  /* draw centered vertical line to link estimators */\n",
       "  background-image: linear-gradient(var(--sklearn-color-text-on-default-background), var(--sklearn-color-text-on-default-background));\n",
       "  background-size: 2px 100%;\n",
       "  background-repeat: no-repeat;\n",
       "  background-position: center center;\n",
       "}\n",
       "\n",
       "/* Parallel-specific style estimator block */\n",
       "\n",
       "#sk-container-id-1 div.sk-parallel-item::after {\n",
       "  content: \"\";\n",
       "  width: 100%;\n",
       "  border-bottom: 2px solid var(--sklearn-color-text-on-default-background);\n",
       "  flex-grow: 1;\n",
       "}\n",
       "\n",
       "#sk-container-id-1 div.sk-parallel {\n",
       "  display: flex;\n",
       "  align-items: stretch;\n",
       "  justify-content: center;\n",
       "  background-color: var(--sklearn-color-background);\n",
       "  position: relative;\n",
       "}\n",
       "\n",
       "#sk-container-id-1 div.sk-parallel-item {\n",
       "  display: flex;\n",
       "  flex-direction: column;\n",
       "}\n",
       "\n",
       "#sk-container-id-1 div.sk-parallel-item:first-child::after {\n",
       "  align-self: flex-end;\n",
       "  width: 50%;\n",
       "}\n",
       "\n",
       "#sk-container-id-1 div.sk-parallel-item:last-child::after {\n",
       "  align-self: flex-start;\n",
       "  width: 50%;\n",
       "}\n",
       "\n",
       "#sk-container-id-1 div.sk-parallel-item:only-child::after {\n",
       "  width: 0;\n",
       "}\n",
       "\n",
       "/* Serial-specific style estimator block */\n",
       "\n",
       "#sk-container-id-1 div.sk-serial {\n",
       "  display: flex;\n",
       "  flex-direction: column;\n",
       "  align-items: center;\n",
       "  background-color: var(--sklearn-color-background);\n",
       "  padding-right: 1em;\n",
       "  padding-left: 1em;\n",
       "}\n",
       "\n",
       "\n",
       "/* Toggleable style: style used for estimator/Pipeline/ColumnTransformer box that is\n",
       "clickable and can be expanded/collapsed.\n",
       "- Pipeline and ColumnTransformer use this feature and define the default style\n",
       "- Estimators will overwrite some part of the style using the `sk-estimator` class\n",
       "*/\n",
       "\n",
       "/* Pipeline and ColumnTransformer style (default) */\n",
       "\n",
       "#sk-container-id-1 div.sk-toggleable {\n",
       "  /* Default theme specific background. It is overwritten whether we have a\n",
       "  specific estimator or a Pipeline/ColumnTransformer */\n",
       "  background-color: var(--sklearn-color-background);\n",
       "}\n",
       "\n",
       "/* Toggleable label */\n",
       "#sk-container-id-1 label.sk-toggleable__label {\n",
       "  cursor: pointer;\n",
       "  display: block;\n",
       "  width: 100%;\n",
       "  margin-bottom: 0;\n",
       "  padding: 0.5em;\n",
       "  box-sizing: border-box;\n",
       "  text-align: center;\n",
       "}\n",
       "\n",
       "#sk-container-id-1 label.sk-toggleable__label-arrow:before {\n",
       "  /* Arrow on the left of the label */\n",
       "  content: \"▸\";\n",
       "  float: left;\n",
       "  margin-right: 0.25em;\n",
       "  color: var(--sklearn-color-icon);\n",
       "}\n",
       "\n",
       "#sk-container-id-1 label.sk-toggleable__label-arrow:hover:before {\n",
       "  color: var(--sklearn-color-text);\n",
       "}\n",
       "\n",
       "/* Toggleable content - dropdown */\n",
       "\n",
       "#sk-container-id-1 div.sk-toggleable__content {\n",
       "  max-height: 0;\n",
       "  max-width: 0;\n",
       "  overflow: hidden;\n",
       "  text-align: left;\n",
       "  /* unfitted */\n",
       "  background-color: var(--sklearn-color-unfitted-level-0);\n",
       "}\n",
       "\n",
       "#sk-container-id-1 div.sk-toggleable__content.fitted {\n",
       "  /* fitted */\n",
       "  background-color: var(--sklearn-color-fitted-level-0);\n",
       "}\n",
       "\n",
       "#sk-container-id-1 div.sk-toggleable__content pre {\n",
       "  margin: 0.2em;\n",
       "  border-radius: 0.25em;\n",
       "  color: var(--sklearn-color-text);\n",
       "  /* unfitted */\n",
       "  background-color: var(--sklearn-color-unfitted-level-0);\n",
       "}\n",
       "\n",
       "#sk-container-id-1 div.sk-toggleable__content.fitted pre {\n",
       "  /* unfitted */\n",
       "  background-color: var(--sklearn-color-fitted-level-0);\n",
       "}\n",
       "\n",
       "#sk-container-id-1 input.sk-toggleable__control:checked~div.sk-toggleable__content {\n",
       "  /* Expand drop-down */\n",
       "  max-height: 200px;\n",
       "  max-width: 100%;\n",
       "  overflow: auto;\n",
       "}\n",
       "\n",
       "#sk-container-id-1 input.sk-toggleable__control:checked~label.sk-toggleable__label-arrow:before {\n",
       "  content: \"▾\";\n",
       "}\n",
       "\n",
       "/* Pipeline/ColumnTransformer-specific style */\n",
       "\n",
       "#sk-container-id-1 div.sk-label input.sk-toggleable__control:checked~label.sk-toggleable__label {\n",
       "  color: var(--sklearn-color-text);\n",
       "  background-color: var(--sklearn-color-unfitted-level-2);\n",
       "}\n",
       "\n",
       "#sk-container-id-1 div.sk-label.fitted input.sk-toggleable__control:checked~label.sk-toggleable__label {\n",
       "  background-color: var(--sklearn-color-fitted-level-2);\n",
       "}\n",
       "\n",
       "/* Estimator-specific style */\n",
       "\n",
       "/* Colorize estimator box */\n",
       "#sk-container-id-1 div.sk-estimator input.sk-toggleable__control:checked~label.sk-toggleable__label {\n",
       "  /* unfitted */\n",
       "  background-color: var(--sklearn-color-unfitted-level-2);\n",
       "}\n",
       "\n",
       "#sk-container-id-1 div.sk-estimator.fitted input.sk-toggleable__control:checked~label.sk-toggleable__label {\n",
       "  /* fitted */\n",
       "  background-color: var(--sklearn-color-fitted-level-2);\n",
       "}\n",
       "\n",
       "#sk-container-id-1 div.sk-label label.sk-toggleable__label,\n",
       "#sk-container-id-1 div.sk-label label {\n",
       "  /* The background is the default theme color */\n",
       "  color: var(--sklearn-color-text-on-default-background);\n",
       "}\n",
       "\n",
       "/* On hover, darken the color of the background */\n",
       "#sk-container-id-1 div.sk-label:hover label.sk-toggleable__label {\n",
       "  color: var(--sklearn-color-text);\n",
       "  background-color: var(--sklearn-color-unfitted-level-2);\n",
       "}\n",
       "\n",
       "/* Label box, darken color on hover, fitted */\n",
       "#sk-container-id-1 div.sk-label.fitted:hover label.sk-toggleable__label.fitted {\n",
       "  color: var(--sklearn-color-text);\n",
       "  background-color: var(--sklearn-color-fitted-level-2);\n",
       "}\n",
       "\n",
       "/* Estimator label */\n",
       "\n",
       "#sk-container-id-1 div.sk-label label {\n",
       "  font-family: monospace;\n",
       "  font-weight: bold;\n",
       "  display: inline-block;\n",
       "  line-height: 1.2em;\n",
       "}\n",
       "\n",
       "#sk-container-id-1 div.sk-label-container {\n",
       "  text-align: center;\n",
       "}\n",
       "\n",
       "/* Estimator-specific */\n",
       "#sk-container-id-1 div.sk-estimator {\n",
       "  font-family: monospace;\n",
       "  border: 1px dotted var(--sklearn-color-border-box);\n",
       "  border-radius: 0.25em;\n",
       "  box-sizing: border-box;\n",
       "  margin-bottom: 0.5em;\n",
       "  /* unfitted */\n",
       "  background-color: var(--sklearn-color-unfitted-level-0);\n",
       "}\n",
       "\n",
       "#sk-container-id-1 div.sk-estimator.fitted {\n",
       "  /* fitted */\n",
       "  background-color: var(--sklearn-color-fitted-level-0);\n",
       "}\n",
       "\n",
       "/* on hover */\n",
       "#sk-container-id-1 div.sk-estimator:hover {\n",
       "  /* unfitted */\n",
       "  background-color: var(--sklearn-color-unfitted-level-2);\n",
       "}\n",
       "\n",
       "#sk-container-id-1 div.sk-estimator.fitted:hover {\n",
       "  /* fitted */\n",
       "  background-color: var(--sklearn-color-fitted-level-2);\n",
       "}\n",
       "\n",
       "/* Specification for estimator info (e.g. \"i\" and \"?\") */\n",
       "\n",
       "/* Common style for \"i\" and \"?\" */\n",
       "\n",
       ".sk-estimator-doc-link,\n",
       "a:link.sk-estimator-doc-link,\n",
       "a:visited.sk-estimator-doc-link {\n",
       "  float: right;\n",
       "  font-size: smaller;\n",
       "  line-height: 1em;\n",
       "  font-family: monospace;\n",
       "  background-color: var(--sklearn-color-background);\n",
       "  border-radius: 1em;\n",
       "  height: 1em;\n",
       "  width: 1em;\n",
       "  text-decoration: none !important;\n",
       "  margin-left: 1ex;\n",
       "  /* unfitted */\n",
       "  border: var(--sklearn-color-unfitted-level-1) 1pt solid;\n",
       "  color: var(--sklearn-color-unfitted-level-1);\n",
       "}\n",
       "\n",
       ".sk-estimator-doc-link.fitted,\n",
       "a:link.sk-estimator-doc-link.fitted,\n",
       "a:visited.sk-estimator-doc-link.fitted {\n",
       "  /* fitted */\n",
       "  border: var(--sklearn-color-fitted-level-1) 1pt solid;\n",
       "  color: var(--sklearn-color-fitted-level-1);\n",
       "}\n",
       "\n",
       "/* On hover */\n",
       "div.sk-estimator:hover .sk-estimator-doc-link:hover,\n",
       ".sk-estimator-doc-link:hover,\n",
       "div.sk-label-container:hover .sk-estimator-doc-link:hover,\n",
       ".sk-estimator-doc-link:hover {\n",
       "  /* unfitted */\n",
       "  background-color: var(--sklearn-color-unfitted-level-3);\n",
       "  color: var(--sklearn-color-background);\n",
       "  text-decoration: none;\n",
       "}\n",
       "\n",
       "div.sk-estimator.fitted:hover .sk-estimator-doc-link.fitted:hover,\n",
       ".sk-estimator-doc-link.fitted:hover,\n",
       "div.sk-label-container:hover .sk-estimator-doc-link.fitted:hover,\n",
       ".sk-estimator-doc-link.fitted:hover {\n",
       "  /* fitted */\n",
       "  background-color: var(--sklearn-color-fitted-level-3);\n",
       "  color: var(--sklearn-color-background);\n",
       "  text-decoration: none;\n",
       "}\n",
       "\n",
       "/* Span, style for the box shown on hovering the info icon */\n",
       ".sk-estimator-doc-link span {\n",
       "  display: none;\n",
       "  z-index: 9999;\n",
       "  position: relative;\n",
       "  font-weight: normal;\n",
       "  right: .2ex;\n",
       "  padding: .5ex;\n",
       "  margin: .5ex;\n",
       "  width: min-content;\n",
       "  min-width: 20ex;\n",
       "  max-width: 50ex;\n",
       "  color: var(--sklearn-color-text);\n",
       "  box-shadow: 2pt 2pt 4pt #999;\n",
       "  /* unfitted */\n",
       "  background: var(--sklearn-color-unfitted-level-0);\n",
       "  border: .5pt solid var(--sklearn-color-unfitted-level-3);\n",
       "}\n",
       "\n",
       ".sk-estimator-doc-link.fitted span {\n",
       "  /* fitted */\n",
       "  background: var(--sklearn-color-fitted-level-0);\n",
       "  border: var(--sklearn-color-fitted-level-3);\n",
       "}\n",
       "\n",
       ".sk-estimator-doc-link:hover span {\n",
       "  display: block;\n",
       "}\n",
       "\n",
       "/* \"?\"-specific style due to the `<a>` HTML tag */\n",
       "\n",
       "#sk-container-id-1 a.estimator_doc_link {\n",
       "  float: right;\n",
       "  font-size: 1rem;\n",
       "  line-height: 1em;\n",
       "  font-family: monospace;\n",
       "  background-color: var(--sklearn-color-background);\n",
       "  border-radius: 1rem;\n",
       "  height: 1rem;\n",
       "  width: 1rem;\n",
       "  text-decoration: none;\n",
       "  /* unfitted */\n",
       "  color: var(--sklearn-color-unfitted-level-1);\n",
       "  border: var(--sklearn-color-unfitted-level-1) 1pt solid;\n",
       "}\n",
       "\n",
       "#sk-container-id-1 a.estimator_doc_link.fitted {\n",
       "  /* fitted */\n",
       "  border: var(--sklearn-color-fitted-level-1) 1pt solid;\n",
       "  color: var(--sklearn-color-fitted-level-1);\n",
       "}\n",
       "\n",
       "/* On hover */\n",
       "#sk-container-id-1 a.estimator_doc_link:hover {\n",
       "  /* unfitted */\n",
       "  background-color: var(--sklearn-color-unfitted-level-3);\n",
       "  color: var(--sklearn-color-background);\n",
       "  text-decoration: none;\n",
       "}\n",
       "\n",
       "#sk-container-id-1 a.estimator_doc_link.fitted:hover {\n",
       "  /* fitted */\n",
       "  background-color: var(--sklearn-color-fitted-level-3);\n",
       "}\n",
       "</style><div id=\"sk-container-id-1\" class=\"sk-top-container\"><div class=\"sk-text-repr-fallback\"><pre>LinearRegression(accountant=BudgetAccountant(spent_budget=[(4.0, 0)]),\n",
       "                 bounds_X=(array([30.]), array([65.])),\n",
       "                 bounds_y=(array([150.]), array([250.])), epsilon=4.0)</pre><b>In a Jupyter environment, please rerun this cell to show the HTML representation or trust the notebook. <br />On GitHub, the HTML representation is unable to render, please try loading this page with nbviewer.org.</b></div><div class=\"sk-container\" hidden><div class=\"sk-item\"><div class=\"sk-estimator fitted sk-toggleable\"><input class=\"sk-toggleable__control sk-hidden--visually\" id=\"sk-estimator-id-1\" type=\"checkbox\" checked><label for=\"sk-estimator-id-1\" class=\"sk-toggleable__label fitted sk-toggleable__label-arrow fitted\">&nbsp;LinearRegression<span class=\"sk-estimator-doc-link fitted\">i<span>Fitted</span></span></label><div class=\"sk-toggleable__content fitted\"><pre>LinearRegression(accountant=BudgetAccountant(spent_budget=[(4.0, 0)]),\n",
       "                 bounds_X=(array([30.]), array([65.])),\n",
       "                 bounds_y=(array([150.]), array([250.])), epsilon=4.0)</pre></div> </div></div></div></div>"
      ],
      "text/plain": [
       "LinearRegression(accountant=BudgetAccountant(spent_budget=[(4.0, 0)]),\n",
       "                 bounds_X=(array([30.]), array([65.])),\n",
       "                 bounds_y=(array([150.]), array([250.])), epsilon=4.0)"
      ]
     },
     "execution_count": 11,
     "metadata": {},
     "output_type": "execute_result"
    }
   ],
   "source": [
    "model = response.result.model.steps[0][1]\n",
    "model"
   ]
  },
  {
   "cell_type": "code",
   "execution_count": 12,
   "id": "919f380e-79b8-4f94-86c2-e294a29d6f46",
   "metadata": {},
   "outputs": [
    {
     "data": {
      "text/plain": [
       "113.67254423500745"
      ]
     },
     "execution_count": 12,
     "metadata": {},
     "output_type": "execute_result"
    }
   ],
   "source": [
    "alpha_estimate = model.intercept_\n",
    "alpha_estimate"
   ]
  },
  {
   "cell_type": "code",
   "execution_count": 13,
   "id": "ccecc58d-1c11-4bfa-bc29-a00f7607d3f0",
   "metadata": {},
   "outputs": [
    {
     "data": {
      "text/plain": [
       "2.008158974688773"
      ]
     },
     "execution_count": 13,
     "metadata": {},
     "output_type": "execute_result"
    }
   ],
   "source": [
    "beta_estimate = model.coef_[0]\n",
    "beta_estimate"
   ]
  },
  {
   "cell_type": "markdown",
   "id": "bdf9ed91-1445-4ad2-930e-f7624f2c5c6d",
   "metadata": {},
   "source": [
    "#### Compute SE (standard error of the slope)"
   ]
  },
  {
   "cell_type": "markdown",
   "id": "b9607dac-f17d-498a-a076-886dc9f47741",
   "metadata": {},
   "source": [
    "$SE = (\\frac{RSS}{N_{test} - 2})^2 * \\frac{1}{Var(flipperlength)^2}$. \n",
    "\n",
    "From the documentation, the model score is $score = (1 - \\frac{RSS}{TSS})$, \n",
    "\n",
    "$\\;\\;\\;\\;\\;\\;$ with $RSS$ the residual sum of squares and $TSS$ the total sum of squares.\n",
    "\n",
    "Rewriting, we have $RSS =(1 - score) *TSS$, \n",
    "\n",
    "$\\;\\;\\;\\;\\;\\;$ with $TSS = N_{test} * Var(flipperlength)$ \n",
    "\n",
    "$\\;\\;\\;\\;\\;\\;$ and $N_{test} = N_{tot} * TEST\\_SIZE$."
   ]
  },
  {
   "cell_type": "markdown",
   "id": "3badaeaf-269c-4fba-a050-2c0bcc39c488",
   "metadata": {},
   "source": [
    "We need:\n",
    "- the model score (computed on the test set)\n",
    "- the variance of the flipper length\n",
    "- the total number of penguin (we know the test set size is 30% of the total size)"
   ]
  },
  {
   "cell_type": "code",
   "execution_count": 25,
   "id": "b71069ad-5f31-42b0-9df1-319256b18922",
   "metadata": {},
   "outputs": [
    {
     "data": {
      "text/plain": [
       "0.2915483855298694"
      ]
     },
     "execution_count": 25,
     "metadata": {},
     "output_type": "execute_result"
    }
   ],
   "source": [
    "score  = response.result.score\n",
    "score"
   ]
  },
  {
   "cell_type": "code",
   "execution_count": 14,
   "id": "f614b677-0d85-42da-88a1-118a78e3dd94",
   "metadata": {},
   "outputs": [],
   "source": [
    "query = \"SELECT \\\n",
    "        STD(flipper_length_mm) AS std_flipper_length, \\\n",
    "        COUNT(flipper_length_mm) AS nb_penguin \\\n",
    "        FROM df\""
   ]
  },
  {
   "cell_type": "code",
   "execution_count": 15,
   "id": "9d051335-df22-436d-9e31-112623a0239f",
   "metadata": {},
   "outputs": [
    {
     "data": {
      "text/html": [
       "<div>\n",
       "<style scoped>\n",
       "    .dataframe tbody tr th:only-of-type {\n",
       "        vertical-align: middle;\n",
       "    }\n",
       "\n",
       "    .dataframe tbody tr th {\n",
       "        vertical-align: top;\n",
       "    }\n",
       "\n",
       "    .dataframe thead th {\n",
       "        text-align: right;\n",
       "    }\n",
       "</style>\n",
       "<table border=\"1\" class=\"dataframe\">\n",
       "  <thead>\n",
       "    <tr style=\"text-align: right;\">\n",
       "      <th></th>\n",
       "      <th>std_flipper_length</th>\n",
       "      <th>nb_penguin</th>\n",
       "    </tr>\n",
       "  </thead>\n",
       "  <tbody>\n",
       "    <tr>\n",
       "      <th>0</th>\n",
       "      <td>23.658498</td>\n",
       "      <td>339</td>\n",
       "    </tr>\n",
       "  </tbody>\n",
       "</table>\n",
       "</div>"
      ],
      "text/plain": [
       "   std_flipper_length  nb_penguin\n",
       "0           23.658498         339"
      ]
     },
     "execution_count": 15,
     "metadata": {},
     "output_type": "execute_result"
    }
   ],
   "source": [
    "sql_response = client.smartnoise_sql.query(query = query, epsilon = 1.5, delta = 1e-4)\n",
    "res = sql_response.result.df\n",
    "res"
   ]
  },
  {
   "cell_type": "code",
   "execution_count": 16,
   "id": "8f23eec9-5f4c-43bf-89d6-48e51014f5d9",
   "metadata": {},
   "outputs": [],
   "source": [
    "var_flipper_length = res[\"std_flipper_length\"][0]**2\n",
    "N_TOT = res[\"nb_penguin\"][0]"
   ]
  },
  {
   "cell_type": "code",
   "execution_count": 17,
   "id": "42502d30-d9db-4ed4-b953-c9439cdba61f",
   "metadata": {},
   "outputs": [
    {
     "data": {
      "text/plain": [
       "0.8500960426689488"
      ]
     },
     "execution_count": 17,
     "metadata": {},
     "output_type": "execute_result"
    }
   ],
   "source": [
    "N_TEST = N_TOT * TEST_SIZE\n",
    "TSS = N_TEST * var_flipper_length\n",
    "RSS = (1 - score) * TSS\n",
    "SE = (RSS / (N_TEST - 2))**0.5 / (var_flipper_length**0.5)\n",
    "SE"
   ]
  },
  {
   "cell_type": "markdown",
   "id": "72e607c0-cf6c-4138-b4e6-ce5d678c808c",
   "metadata": {},
   "source": [
    "#### Compute $t_{score}$"
   ]
  },
  {
   "cell_type": "code",
   "execution_count": 18,
   "id": "552b33f2-da28-47ac-9657-bb34a93effd7",
   "metadata": {},
   "outputs": [
    {
     "data": {
      "text/plain": [
       "1.79220213282784"
      ]
     },
     "execution_count": 18,
     "metadata": {},
     "output_type": "execute_result"
    }
   ],
   "source": [
    "t_score = (beta_estimate - 0)/SE\n",
    "t_score"
   ]
  },
  {
   "cell_type": "markdown",
   "id": "dd789cfa-de18-4759-bb47-afdac4dd804a",
   "metadata": {},
   "source": [
    "#### Compute $t_{critical}$"
   ]
  },
  {
   "cell_type": "code",
   "execution_count": 22,
   "id": "bd5cd085-c2fd-42b9-89f5-389e898d6b6c",
   "metadata": {},
   "outputs": [
    {
     "data": {
      "text/plain": [
       "1.9840446252174464"
      ]
     },
     "execution_count": 22,
     "metadata": {},
     "output_type": "execute_result"
    }
   ],
   "source": [
    "alpha = 0.05\n",
    "dof = nb_test_penguin - 2\n",
    "t_critical = t.ppf(1 - alpha / 2, dof)\n",
    "t_critical"
   ]
  },
  {
   "cell_type": "markdown",
   "id": "87f34a09-b58c-46e6-ac3d-7e0f4c04fdb8",
   "metadata": {},
   "source": [
    "### Conclusion"
   ]
  },
  {
   "cell_type": "markdown",
   "id": "cf345407-0238-4bad-aa52-558712875b4c",
   "metadata": {},
   "source": [
    "Test if $|t_{score}| > t_{critical}$."
   ]
  },
  {
   "cell_type": "code",
   "execution_count": 23,
   "id": "7089d8e2-cbce-4f1e-aff3-1ae7faaabe7c",
   "metadata": {},
   "outputs": [
    {
     "name": "stdout",
     "output_type": "stream",
     "text": [
      "Result: t_score <= t_critical\n",
      "We fail to reject the null hypothesis.\n"
     ]
    }
   ],
   "source": [
    "if (t_score > t_critical):\n",
    "    print(\"Result: t_score > t_critical\")\n",
    "    print(\"We reject the null hypothesis: there is a correlation between bill length and flipper length.\")\n",
    "else:\n",
    "    print(\"Result: t_score <= t_critical\")\n",
    "    print(\"We fail to reject the null hypothesis.\")"
   ]
  },
  {
   "cell_type": "code",
   "execution_count": null,
   "id": "b079f3f3-2b08-4b09-b6c2-03f59e5b12f9",
   "metadata": {},
   "outputs": [],
   "source": []
  }
 ],
 "metadata": {
  "kernelspec": {
   "display_name": "Python 3 (ipykernel)",
   "language": "python",
   "name": "python3"
  },
  "language_info": {
   "codemirror_mode": {
    "name": "ipython",
    "version": 3
   },
   "file_extension": ".py",
   "mimetype": "text/x-python",
   "name": "python",
   "nbconvert_exporter": "python",
   "pygments_lexer": "ipython3",
   "version": "3.12.8"
  }
 },
 "nbformat": 4,
 "nbformat_minor": 5
}
