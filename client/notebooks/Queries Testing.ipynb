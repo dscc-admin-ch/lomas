{
 "cells": [
  {
   "cell_type": "markdown",
   "id": "396baf92-b09a-4a7b-8e31-128a6fabb702",
   "metadata": {},
   "source": [
    "# Quick Testing and Verify Observability"
   ]
  },
  {
   "cell_type": "code",
   "execution_count": 6,
   "id": "d4fbe83b-63bd-438a-8f41-6456d8c7ac2b",
   "metadata": {},
   "outputs": [],
   "source": [
    "from lomas_client import Client\n",
    "import opendp as dp\n",
    "import opendp.transformations as trans\n",
    "import opendp.measurements as meas"
   ]
  },
  {
   "cell_type": "markdown",
   "id": "be4ad739-b9e8-4a19-a92f-7dc3c5627b94",
   "metadata": {},
   "source": [
    "## Basic Queries"
   ]
  },
  {
   "cell_type": "code",
   "execution_count": 7,
   "id": "45ae18c4-de43-45ff-85bc-5702e22a0dcf",
   "metadata": {},
   "outputs": [],
   "source": [
    "APP_URL = \"http://lomas_server\"\n",
    "USER_NAME = \"Dr. Antartica\"\n",
    "DATASET_NAME = \"PENGUIN\"\n",
    "client = Client(url=APP_URL, user_name = USER_NAME, dataset_name = DATASET_NAME)"
   ]
  },
  {
   "cell_type": "code",
   "execution_count": 8,
   "id": "a9f343ff-992e-4b3d-8c4c-d0759c6912c2",
   "metadata": {},
   "outputs": [
    {
     "data": {
      "text/plain": [
       "{'max_ids': 1,\n",
       " 'rows': 344,\n",
       " 'row_privacy': True,\n",
       " 'censor_dims': False,\n",
       " 'columns': {'species': {'private_id': False,\n",
       "   'nullable': False,\n",
       "   'max_partition_length': None,\n",
       "   'max_influenced_partitions': None,\n",
       "   'max_partition_contributions': None,\n",
       "   'type': 'string',\n",
       "   'cardinality': 3,\n",
       "   'categories': ['Adelie', 'Chinstrap', 'Gentoo']},\n",
       "  'island': {'private_id': False,\n",
       "   'nullable': False,\n",
       "   'max_partition_length': None,\n",
       "   'max_influenced_partitions': None,\n",
       "   'max_partition_contributions': None,\n",
       "   'type': 'string',\n",
       "   'cardinality': 3,\n",
       "   'categories': ['Torgersen', 'Biscoe', 'Dream']},\n",
       "  'bill_length_mm': {'private_id': False,\n",
       "   'nullable': False,\n",
       "   'max_partition_length': None,\n",
       "   'max_influenced_partitions': None,\n",
       "   'max_partition_contributions': None,\n",
       "   'type': 'float',\n",
       "   'precision': 64,\n",
       "   'lower': 30.0,\n",
       "   'upper': 65.0},\n",
       "  'bill_depth_mm': {'private_id': False,\n",
       "   'nullable': False,\n",
       "   'max_partition_length': None,\n",
       "   'max_influenced_partitions': None,\n",
       "   'max_partition_contributions': None,\n",
       "   'type': 'float',\n",
       "   'precision': 64,\n",
       "   'lower': 13.0,\n",
       "   'upper': 23.0},\n",
       "  'flipper_length_mm': {'private_id': False,\n",
       "   'nullable': False,\n",
       "   'max_partition_length': None,\n",
       "   'max_influenced_partitions': None,\n",
       "   'max_partition_contributions': None,\n",
       "   'type': 'float',\n",
       "   'precision': 64,\n",
       "   'lower': 150.0,\n",
       "   'upper': 250.0},\n",
       "  'body_mass_g': {'private_id': False,\n",
       "   'nullable': False,\n",
       "   'max_partition_length': None,\n",
       "   'max_influenced_partitions': None,\n",
       "   'max_partition_contributions': None,\n",
       "   'type': 'float',\n",
       "   'precision': 64,\n",
       "   'lower': 2000.0,\n",
       "   'upper': 7000.0},\n",
       "  'sex': {'private_id': False,\n",
       "   'nullable': False,\n",
       "   'max_partition_length': None,\n",
       "   'max_influenced_partitions': None,\n",
       "   'max_partition_contributions': None,\n",
       "   'type': 'string',\n",
       "   'cardinality': 2,\n",
       "   'categories': ['MALE', 'FEMALE']}}}"
      ]
     },
     "execution_count": 8,
     "metadata": {},
     "output_type": "execute_result"
    }
   ],
   "source": [
    "penguin_metadata = client.get_dataset_metadata()\n",
    "penguin_metadata"
   ]
  },
  {
   "cell_type": "code",
   "execution_count": 12,
   "id": "ed71ca54-fd62-4710-b39b-c25595e1a7cf",
   "metadata": {},
   "outputs": [
    {
     "data": {
      "text/html": [
       "<div>\n",
       "<style scoped>\n",
       "    .dataframe tbody tr th:only-of-type {\n",
       "        vertical-align: middle;\n",
       "    }\n",
       "\n",
       "    .dataframe tbody tr th {\n",
       "        vertical-align: top;\n",
       "    }\n",
       "\n",
       "    .dataframe thead th {\n",
       "        text-align: right;\n",
       "    }\n",
       "</style>\n",
       "<table border=\"1\" class=\"dataframe\">\n",
       "  <thead>\n",
       "    <tr style=\"text-align: right;\">\n",
       "      <th></th>\n",
       "      <th>species</th>\n",
       "      <th>island</th>\n",
       "      <th>bill_length_mm</th>\n",
       "      <th>bill_depth_mm</th>\n",
       "      <th>flipper_length_mm</th>\n",
       "      <th>body_mass_g</th>\n",
       "      <th>sex</th>\n",
       "    </tr>\n",
       "  </thead>\n",
       "  <tbody>\n",
       "    <tr>\n",
       "      <th>0</th>\n",
       "      <td>Gentoo</td>\n",
       "      <td>Biscoe</td>\n",
       "      <td>46.799577</td>\n",
       "      <td>16.196816</td>\n",
       "      <td>239.680123</td>\n",
       "      <td>3010.840470</td>\n",
       "      <td>FEMALE</td>\n",
       "    </tr>\n",
       "    <tr>\n",
       "      <th>1</th>\n",
       "      <td>Chinstrap</td>\n",
       "      <td>Dream</td>\n",
       "      <td>38.133052</td>\n",
       "      <td>14.875077</td>\n",
       "      <td>208.332005</td>\n",
       "      <td>6689.525543</td>\n",
       "      <td>MALE</td>\n",
       "    </tr>\n",
       "    <tr>\n",
       "      <th>2</th>\n",
       "      <td>Chinstrap</td>\n",
       "      <td>Torgersen</td>\n",
       "      <td>58.065820</td>\n",
       "      <td>19.725266</td>\n",
       "      <td>154.021822</td>\n",
       "      <td>2473.883392</td>\n",
       "      <td>MALE</td>\n",
       "    </tr>\n",
       "    <tr>\n",
       "      <th>3</th>\n",
       "      <td>Adelie</td>\n",
       "      <td>Torgersen</td>\n",
       "      <td>62.323556</td>\n",
       "      <td>14.951074</td>\n",
       "      <td>221.148682</td>\n",
       "      <td>2024.497075</td>\n",
       "      <td>FEMALE</td>\n",
       "    </tr>\n",
       "    <tr>\n",
       "      <th>4</th>\n",
       "      <td>Adelie</td>\n",
       "      <td>Dream</td>\n",
       "      <td>39.314560</td>\n",
       "      <td>18.776879</td>\n",
       "      <td>206.902585</td>\n",
       "      <td>3614.604018</td>\n",
       "      <td>MALE</td>\n",
       "    </tr>\n",
       "  </tbody>\n",
       "</table>\n",
       "</div>"
      ],
      "text/plain": [
       "     species     island  bill_length_mm  bill_depth_mm  flipper_length_mm  \\\n",
       "0     Gentoo     Biscoe       46.799577      16.196816         239.680123   \n",
       "1  Chinstrap      Dream       38.133052      14.875077         208.332005   \n",
       "2  Chinstrap  Torgersen       58.065820      19.725266         154.021822   \n",
       "3     Adelie  Torgersen       62.323556      14.951074         221.148682   \n",
       "4     Adelie      Dream       39.314560      18.776879         206.902585   \n",
       "\n",
       "   body_mass_g     sex  \n",
       "0  3010.840470  FEMALE  \n",
       "1  6689.525543    MALE  \n",
       "2  2473.883392    MALE  \n",
       "3  2024.497075  FEMALE  \n",
       "4  3614.604018    MALE  "
      ]
     },
     "execution_count": 12,
     "metadata": {},
     "output_type": "execute_result"
    }
   ],
   "source": [
    "df_dummy = client.get_dummy_dataset(nb_rows = 100, seed = 0)\n",
    "df_dummy.head()"
   ]
  },
  {
   "cell_type": "code",
   "execution_count": 13,
   "id": "8d55588a-452c-46d1-99c0-b7fedf7d3ee3",
   "metadata": {},
   "outputs": [
    {
     "name": "stdout",
     "output_type": "stream",
     "text": [
      "initial_epsilon=10.0 initial_delta=0.005\n",
      "total_spent_epsilon=0.0 total_spent_delta=0.0\n",
      "remaining_epsilon=10.0 remaining_delta=0.005\n"
     ]
    }
   ],
   "source": [
    "ib = client.get_initial_budget()\n",
    "print(ib)\n",
    "\n",
    "tsb = client.get_total_spent_budget()\n",
    "print(tsb)\n",
    "\n",
    "rb = client.get_remaining_budget()\n",
    "print(rb)"
   ]
  },
  {
   "cell_type": "code",
   "execution_count": 14,
   "id": "630c18e0-c276-47ad-a2a2-9f048a5a3a3f",
   "metadata": {},
   "outputs": [
    {
     "data": {
      "text/plain": [
       "CostResponse(epsilon=1.0, delta=4.999999999999449e-05)"
      ]
     },
     "execution_count": 14,
     "metadata": {},
     "output_type": "execute_result"
    }
   ],
   "source": [
    "QUERY = \"SELECT AVG(bill_length_mm) AS avg_bill_length_mm FROM df\"\n",
    "EPSILON = 0.5\n",
    "DELTA = 1e-4\n",
    "cost = client.smartnoise_sql.cost(query = QUERY, epsilon = EPSILON, delta = DELTA)\n",
    "cost"
   ]
  },
  {
   "cell_type": "code",
   "execution_count": 15,
   "id": "61c998ff-ce65-4731-a185-9ce737c35942",
   "metadata": {},
   "outputs": [
    {
     "data": {
      "text/plain": [
       "QueryResponse(epsilon=200.0, delta=0.495, requested_by='Dr. Antartica', result=SmartnoiseSQLQueryResult(res_type=<DPLibraries.SMARTNOISE_SQL: 'smartnoise_sql'>, df=   avg_bill_length_mm\n",
       "0           48.588302))"
      ]
     },
     "execution_count": 15,
     "metadata": {},
     "output_type": "execute_result"
    }
   ],
   "source": [
    "dummy_res = client.smartnoise_sql.query(query = QUERY, epsilon = 100.0, delta = 0.99, dummy = True, nb_rows = 100, seed = 0)\n",
    "dummy_res"
   ]
  },
  {
   "cell_type": "code",
   "execution_count": 16,
   "id": "15e916e6-caa1-4bb3-b0ad-3d352ae1b0ca",
   "metadata": {},
   "outputs": [
    {
     "data": {
      "text/plain": [
       "QueryResponse(epsilon=1.0, delta=4.999999999999449e-05, requested_by='Dr. Antartica', result=SmartnoiseSQLQueryResult(res_type=<DPLibraries.SMARTNOISE_SQL: 'smartnoise_sql'>, df=   avg_bill_length_mm\n",
       "0           44.292243))"
      ]
     },
     "execution_count": 16,
     "metadata": {},
     "output_type": "execute_result"
    }
   ],
   "source": [
    "res = client.smartnoise_sql.query(query = QUERY, epsilon = EPSILON, delta = DELTA, dummy = False)\n",
    "res"
   ]
  },
  {
   "cell_type": "code",
   "execution_count": 20,
   "id": "027a8e23-f1fe-4e4f-aed3-2c8e7d7f456e",
   "metadata": {},
   "outputs": [],
   "source": [
    "columns = list(penguin_metadata[\"columns\"].keys())\n",
    "bill_length_min = penguin_metadata['columns']['bill_length_mm']['lower']\n",
    "bill_length_max = penguin_metadata['columns']['bill_length_mm']['upper']\n",
    "bill_length_transformation_pipeline = (\n",
    "    trans.make_split_dataframe(separator=\",\", col_names=columns) >>\n",
    "    trans.make_select_column(key=\"bill_length_mm\", TOA=str) >>\n",
    "    trans.then_cast_default(TOA=float) >>\n",
    "    trans.then_clamp(bounds=(bill_length_min, bill_length_max)) >>\n",
    "    trans.then_resize(size=100, constant=44.6) >>\n",
    "    trans.then_variance()\n",
    ")"
   ]
  },
  {
   "cell_type": "code",
   "execution_count": 21,
   "id": "17088dee-0082-47ad-93df-2dc3f626a0ac",
   "metadata": {},
   "outputs": [
    {
     "ename": "ValidationError",
     "evalue": "1 validation error for tagged-union[InvalidQueryExceptionModel,ExternalLibraryExceptionModel,UnauthorizedAccessExceptionModel,InternalServerExceptionModel]\n  JSON input should be string, bytes or bytearray [type=json_type, input_value={'type': 'InvalidQueryExc...cessed in this server.'}, input_type=dict]\n    For further information visit https://errors.pydantic.dev/2.10/v/json_type",
     "output_type": "error",
     "traceback": [
      "\u001b[0;31m---------------------------------------------------------------------------\u001b[0m",
      "\u001b[0;31mValidationError\u001b[0m                           Traceback (most recent call last)",
      "Cell \u001b[0;32mIn[21], line 2\u001b[0m\n\u001b[1;32m      1\u001b[0m \u001b[38;5;66;03m# No instruction for noise addition mechanism: Expect to fail !!!\u001b[39;00m\n\u001b[0;32m----> 2\u001b[0m \u001b[43mclient\u001b[49m\u001b[38;5;241;43m.\u001b[39;49m\u001b[43mopendp\u001b[49m\u001b[38;5;241;43m.\u001b[39;49m\u001b[43mquery\u001b[49m\u001b[43m(\u001b[49m\u001b[43mopendp_pipeline\u001b[49m\u001b[43m \u001b[49m\u001b[38;5;241;43m=\u001b[39;49m\u001b[43m \u001b[49m\u001b[43mbill_length_transformation_pipeline\u001b[49m\u001b[43m,\u001b[49m\u001b[43m \u001b[49m\u001b[43mdummy\u001b[49m\u001b[38;5;241;43m=\u001b[39;49m\u001b[38;5;28;43;01mTrue\u001b[39;49;00m\u001b[43m)\u001b[49m\n",
      "File \u001b[0;32m/code/lomas_client/libraries/opendp.py:105\u001b[0m, in \u001b[0;36mOpenDPClient.query\u001b[0;34m(self, opendp_pipeline, fixed_delta, dummy, nb_rows, seed)\u001b[0m\n\u001b[1;32m    102\u001b[0m body \u001b[38;5;241m=\u001b[39m request_model\u001b[38;5;241m.\u001b[39mmodel_validate(body_dict)\n\u001b[1;32m    103\u001b[0m res \u001b[38;5;241m=\u001b[39m \u001b[38;5;28mself\u001b[39m\u001b[38;5;241m.\u001b[39mhttp_client\u001b[38;5;241m.\u001b[39mpost(endpoint, body)\n\u001b[0;32m--> 105\u001b[0m \u001b[38;5;28;01mreturn\u001b[39;00m \u001b[43mvalidate_model_response\u001b[49m\u001b[43m(\u001b[49m\u001b[43mres\u001b[49m\u001b[43m,\u001b[49m\u001b[43m \u001b[49m\u001b[43mQueryResponse\u001b[49m\u001b[43m)\u001b[49m\n",
      "File \u001b[0;32m/code/lomas_client/utils.py:90\u001b[0m, in \u001b[0;36mvalidate_model_response\u001b[0;34m(response, response_model)\u001b[0m\n\u001b[1;32m     87\u001b[0m     r_model \u001b[38;5;241m=\u001b[39m response_model\u001b[38;5;241m.\u001b[39mmodel_validate_json(data)\n\u001b[1;32m     88\u001b[0m     \u001b[38;5;28;01mreturn\u001b[39;00m r_model\n\u001b[0;32m---> 90\u001b[0m \u001b[43mraise_error\u001b[49m\u001b[43m(\u001b[49m\u001b[43mresponse\u001b[49m\u001b[43m)\u001b[49m\n\u001b[1;32m     91\u001b[0m \u001b[38;5;28;01mreturn\u001b[39;00m \u001b[38;5;28;01mNone\u001b[39;00m\n",
      "File \u001b[0;32m/code/lomas_client/utils.py:31\u001b[0m, in \u001b[0;36mraise_error\u001b[0;34m(response)\u001b[0m\n\u001b[1;32m     22\u001b[0m \u001b[38;5;28;01mdef\u001b[39;00m\u001b[38;5;250m \u001b[39m\u001b[38;5;21mraise_error\u001b[39m(response: requests\u001b[38;5;241m.\u001b[39mResponse) \u001b[38;5;241m-\u001b[39m\u001b[38;5;241m>\u001b[39m \u001b[38;5;28mstr\u001b[39m:\n\u001b[1;32m     23\u001b[0m \u001b[38;5;250m    \u001b[39m\u001b[38;5;124;03m\"\"\"Raise error message based on the HTTP response.\u001b[39;00m\n\u001b[1;32m     24\u001b[0m \n\u001b[1;32m     25\u001b[0m \u001b[38;5;124;03m    Args:\u001b[39;00m\n\u001b[0;32m   (...)\u001b[0m\n\u001b[1;32m     29\u001b[0m \u001b[38;5;124;03m        Server Error\u001b[39;00m\n\u001b[1;32m     30\u001b[0m \u001b[38;5;124;03m    \"\"\"\u001b[39;00m\n\u001b[0;32m---> 31\u001b[0m     error_model \u001b[38;5;241m=\u001b[39m \u001b[43mLomasServerExceptionTypeAdapter\u001b[49m\u001b[38;5;241;43m.\u001b[39;49m\u001b[43mvalidate_json\u001b[49m\u001b[43m(\u001b[49m\u001b[43mresponse\u001b[49m\u001b[38;5;241;43m.\u001b[39;49m\u001b[43mjson\u001b[49m\u001b[43m(\u001b[49m\u001b[43m)\u001b[49m\u001b[43m)\u001b[49m\n\u001b[1;32m     32\u001b[0m     \u001b[38;5;28;01mmatch\u001b[39;00m error_model:\n\u001b[1;32m     33\u001b[0m         \u001b[38;5;28;01mcase\u001b[39;00m InvalidQueryExceptionModel():\n",
      "File \u001b[0;32m/usr/local/lib/python3.12/site-packages/pydantic/type_adapter.py:446\u001b[0m, in \u001b[0;36mTypeAdapter.validate_json\u001b[0;34m(self, data, strict, context, experimental_allow_partial)\u001b[0m\n\u001b[1;32m    420\u001b[0m \u001b[38;5;28;01mdef\u001b[39;00m\u001b[38;5;250m \u001b[39m\u001b[38;5;21mvalidate_json\u001b[39m(\n\u001b[1;32m    421\u001b[0m     \u001b[38;5;28mself\u001b[39m,\n\u001b[1;32m    422\u001b[0m     data: \u001b[38;5;28mstr\u001b[39m \u001b[38;5;241m|\u001b[39m \u001b[38;5;28mbytes\u001b[39m \u001b[38;5;241m|\u001b[39m \u001b[38;5;28mbytearray\u001b[39m,\n\u001b[0;32m   (...)\u001b[0m\n\u001b[1;32m    427\u001b[0m     experimental_allow_partial: \u001b[38;5;28mbool\u001b[39m \u001b[38;5;241m|\u001b[39m Literal[\u001b[38;5;124m'\u001b[39m\u001b[38;5;124moff\u001b[39m\u001b[38;5;124m'\u001b[39m, \u001b[38;5;124m'\u001b[39m\u001b[38;5;124mon\u001b[39m\u001b[38;5;124m'\u001b[39m, \u001b[38;5;124m'\u001b[39m\u001b[38;5;124mtrailing-strings\u001b[39m\u001b[38;5;124m'\u001b[39m] \u001b[38;5;241m=\u001b[39m \u001b[38;5;28;01mFalse\u001b[39;00m,\n\u001b[1;32m    428\u001b[0m ) \u001b[38;5;241m-\u001b[39m\u001b[38;5;241m>\u001b[39m T:\n\u001b[1;32m    429\u001b[0m \u001b[38;5;250m    \u001b[39m\u001b[38;5;124;03m\"\"\"Usage docs: https://docs.pydantic.dev/2.10/concepts/json/#json-parsing\u001b[39;00m\n\u001b[1;32m    430\u001b[0m \n\u001b[1;32m    431\u001b[0m \u001b[38;5;124;03m    Validate a JSON string or bytes against the model.\u001b[39;00m\n\u001b[0;32m   (...)\u001b[0m\n\u001b[1;32m    444\u001b[0m \u001b[38;5;124;03m        The validated object.\u001b[39;00m\n\u001b[1;32m    445\u001b[0m \u001b[38;5;124;03m    \"\"\"\u001b[39;00m\n\u001b[0;32m--> 446\u001b[0m     \u001b[38;5;28;01mreturn\u001b[39;00m \u001b[38;5;28;43mself\u001b[39;49m\u001b[38;5;241;43m.\u001b[39;49m\u001b[43mvalidator\u001b[49m\u001b[38;5;241;43m.\u001b[39;49m\u001b[43mvalidate_json\u001b[49m\u001b[43m(\u001b[49m\n\u001b[1;32m    447\u001b[0m \u001b[43m        \u001b[49m\u001b[43mdata\u001b[49m\u001b[43m,\u001b[49m\u001b[43m \u001b[49m\u001b[43mstrict\u001b[49m\u001b[38;5;241;43m=\u001b[39;49m\u001b[43mstrict\u001b[49m\u001b[43m,\u001b[49m\u001b[43m \u001b[49m\u001b[43mcontext\u001b[49m\u001b[38;5;241;43m=\u001b[39;49m\u001b[43mcontext\u001b[49m\u001b[43m,\u001b[49m\u001b[43m \u001b[49m\u001b[43mallow_partial\u001b[49m\u001b[38;5;241;43m=\u001b[39;49m\u001b[43mexperimental_allow_partial\u001b[49m\n\u001b[1;32m    448\u001b[0m \u001b[43m    \u001b[49m\u001b[43m)\u001b[49m\n",
      "\u001b[0;31mValidationError\u001b[0m: 1 validation error for tagged-union[InvalidQueryExceptionModel,ExternalLibraryExceptionModel,UnauthorizedAccessExceptionModel,InternalServerExceptionModel]\n  JSON input should be string, bytes or bytearray [type=json_type, input_value={'type': 'InvalidQueryExc...cessed in this server.'}, input_type=dict]\n    For further information visit https://errors.pydantic.dev/2.10/v/json_type"
     ]
    }
   ],
   "source": [
    "# No instruction for noise addition mechanism: Expect to fail !!!\n",
    "client.opendp.query(opendp_pipeline = bill_length_transformation_pipeline, dummy=True)"
   ]
  },
  {
   "cell_type": "code",
   "execution_count": 22,
   "id": "6a411978-6290-42f9-94b0-ff8388718981",
   "metadata": {},
   "outputs": [
    {
     "data": {
      "text/plain": [
       "QueryResponse(epsilon=2.4500000000007707, delta=0.0, requested_by='Dr. Antartica', result=OpenDPQueryResult(res_type=<DPLibraries.OPENDP: 'opendp'>, value=99.65514137530252))"
      ]
     },
     "execution_count": 22,
     "metadata": {},
     "output_type": "execute_result"
    }
   ],
   "source": [
    "var_bill_length_measurement_pipeline = (\n",
    "    bill_length_transformation_pipeline >>\n",
    "    meas.then_laplace(scale=5.0)\n",
    ")\n",
    "dummy_var_res = client.opendp.query(opendp_pipeline = var_bill_length_measurement_pipeline, dummy=True)\n",
    "dummy_var_res"
   ]
  },
  {
   "cell_type": "code",
   "execution_count": 23,
   "id": "95f56d55-c2dc-4c9f-9f26-de9c6559593f",
   "metadata": {},
   "outputs": [
    {
     "data": {
      "text/plain": [
       "CostResponse(epsilon=2.4500000000007707, delta=0.0)"
      ]
     },
     "execution_count": 23,
     "metadata": {},
     "output_type": "execute_result"
    }
   ],
   "source": [
    "cost_res = client.opendp.cost(opendp_pipeline = var_bill_length_measurement_pipeline)\n",
    "cost_res"
   ]
  },
  {
   "cell_type": "code",
   "execution_count": 24,
   "id": "01106fff-f894-467e-8038-ddcce7501a2c",
   "metadata": {},
   "outputs": [
    {
     "data": {
      "text/plain": [
       "QueryResponse(epsilon=2.4500000000007707, delta=0.0, requested_by='Dr. Antartica', result=OpenDPQueryResult(res_type=<DPLibraries.OPENDP: 'opendp'>, value=30.445058750420067))"
      ]
     },
     "execution_count": 24,
     "metadata": {},
     "output_type": "execute_result"
    }
   ],
   "source": [
    "var_res = client.opendp.query(opendp_pipeline = var_bill_length_measurement_pipeline)\n",
    "var_res"
   ]
  },
  {
   "cell_type": "markdown",
   "id": "0a828abb-9bc2-46cb-9201-5a183ec4ac0f",
   "metadata": {},
   "source": [
    "## Many Queries"
   ]
  },
  {
   "cell_type": "code",
   "execution_count": 25,
   "id": "c57c605f-aef7-4752-87e1-2c6ad7eba9e0",
   "metadata": {},
   "outputs": [
    {
     "name": "stdout",
     "output_type": "stream",
     "text": [
      "0\n",
      "initial_epsilon=10.0 initial_delta=0.005\n",
      "total_spent_epsilon=3.4500000000007707 total_spent_delta=4.999999999999449e-05\n",
      "remaining_epsilon=6.54999999999923 remaining_delta=0.004950000000000006\n",
      "epsilon=1.0 delta=4.999999999999449e-05\n",
      "1\n",
      "initial_epsilon=10.0 initial_delta=0.005\n",
      "total_spent_epsilon=3.4500000000007707 total_spent_delta=4.999999999999449e-05\n",
      "remaining_epsilon=6.54999999999923 remaining_delta=0.004950000000000006\n",
      "epsilon=1.0 delta=4.999999999999449e-05\n",
      "2\n",
      "initial_epsilon=10.0 initial_delta=0.005\n",
      "total_spent_epsilon=3.4500000000007707 total_spent_delta=4.999999999999449e-05\n",
      "remaining_epsilon=6.54999999999923 remaining_delta=0.004950000000000006\n",
      "epsilon=1.0 delta=4.999999999999449e-05\n",
      "3\n",
      "initial_epsilon=10.0 initial_delta=0.005\n",
      "total_spent_epsilon=3.4500000000007707 total_spent_delta=4.999999999999449e-05\n",
      "remaining_epsilon=6.54999999999923 remaining_delta=0.004950000000000006\n",
      "epsilon=1.0 delta=4.999999999999449e-05\n",
      "4\n",
      "initial_epsilon=10.0 initial_delta=0.005\n",
      "total_spent_epsilon=3.4500000000007707 total_spent_delta=4.999999999999449e-05\n",
      "remaining_epsilon=6.54999999999923 remaining_delta=0.004950000000000006\n",
      "epsilon=1.0 delta=4.999999999999449e-05\n",
      "5\n",
      "initial_epsilon=10.0 initial_delta=0.005\n",
      "total_spent_epsilon=3.4500000000007707 total_spent_delta=4.999999999999449e-05\n",
      "remaining_epsilon=6.54999999999923 remaining_delta=0.004950000000000006\n",
      "epsilon=1.0 delta=4.999999999999449e-05\n",
      "6\n",
      "initial_epsilon=10.0 initial_delta=0.005\n",
      "total_spent_epsilon=3.4500000000007707 total_spent_delta=4.999999999999449e-05\n",
      "remaining_epsilon=6.54999999999923 remaining_delta=0.004950000000000006\n",
      "epsilon=1.0 delta=4.999999999999449e-05\n",
      "7\n",
      "initial_epsilon=10.0 initial_delta=0.005\n",
      "total_spent_epsilon=3.4500000000007707 total_spent_delta=4.999999999999449e-05\n",
      "remaining_epsilon=6.54999999999923 remaining_delta=0.004950000000000006\n",
      "epsilon=1.0 delta=4.999999999999449e-05\n",
      "8\n",
      "initial_epsilon=10.0 initial_delta=0.005\n",
      "total_spent_epsilon=3.4500000000007707 total_spent_delta=4.999999999999449e-05\n",
      "remaining_epsilon=6.54999999999923 remaining_delta=0.004950000000000006\n",
      "epsilon=1.0 delta=4.999999999999449e-05\n",
      "9\n",
      "initial_epsilon=10.0 initial_delta=0.005\n",
      "total_spent_epsilon=3.4500000000007707 total_spent_delta=4.999999999999449e-05\n",
      "remaining_epsilon=6.54999999999923 remaining_delta=0.004950000000000006\n",
      "epsilon=1.0 delta=4.999999999999449e-05\n"
     ]
    }
   ],
   "source": [
    "for i in range(0,10):\n",
    "    print(i)\n",
    "    ib = client.get_initial_budget()\n",
    "    print(ib)\n",
    "    tsb = client.get_total_spent_budget()\n",
    "    print(tsb)\n",
    "    rb = client.get_remaining_budget()\n",
    "    print(rb)\n",
    "    cost = client.smartnoise_sql.cost(query = QUERY, epsilon = EPSILON, delta = DELTA)\n",
    "    print(cost)"
   ]
  },
  {
   "cell_type": "code",
   "execution_count": 26,
   "id": "47e2236a-8e16-49e3-b7e1-ce21100636ff",
   "metadata": {},
   "outputs": [
    {
     "name": "stdout",
     "output_type": "stream",
     "text": [
      "0\n",
      "epsilon=200.0 delta=0.495 requested_by='Dr. Antartica' result=SmartnoiseSQLQueryResult(res_type=<DPLibraries.SMARTNOISE_SQL: 'smartnoise_sql'>, df=   avg_bill_length_mm\n",
      "0            48.57558)\n",
      "1\n",
      "epsilon=200.0 delta=0.495 requested_by='Dr. Antartica' result=SmartnoiseSQLQueryResult(res_type=<DPLibraries.SMARTNOISE_SQL: 'smartnoise_sql'>, df=   avg_bill_length_mm\n",
      "0           48.548767)\n",
      "2\n",
      "epsilon=200.0 delta=0.495 requested_by='Dr. Antartica' result=SmartnoiseSQLQueryResult(res_type=<DPLibraries.SMARTNOISE_SQL: 'smartnoise_sql'>, df=   avg_bill_length_mm\n",
      "0           48.554348)\n",
      "3\n",
      "epsilon=200.0 delta=0.495 requested_by='Dr. Antartica' result=SmartnoiseSQLQueryResult(res_type=<DPLibraries.SMARTNOISE_SQL: 'smartnoise_sql'>, df=   avg_bill_length_mm\n",
      "0           48.605091)\n",
      "4\n",
      "epsilon=200.0 delta=0.495 requested_by='Dr. Antartica' result=SmartnoiseSQLQueryResult(res_type=<DPLibraries.SMARTNOISE_SQL: 'smartnoise_sql'>, df=   avg_bill_length_mm\n",
      "0           48.577882)\n",
      "5\n",
      "epsilon=200.0 delta=0.495 requested_by='Dr. Antartica' result=SmartnoiseSQLQueryResult(res_type=<DPLibraries.SMARTNOISE_SQL: 'smartnoise_sql'>, df=   avg_bill_length_mm\n",
      "0           48.571511)\n",
      "6\n",
      "epsilon=200.0 delta=0.495 requested_by='Dr. Antartica' result=SmartnoiseSQLQueryResult(res_type=<DPLibraries.SMARTNOISE_SQL: 'smartnoise_sql'>, df=   avg_bill_length_mm\n",
      "0           48.569247)\n",
      "7\n",
      "epsilon=200.0 delta=0.495 requested_by='Dr. Antartica' result=SmartnoiseSQLQueryResult(res_type=<DPLibraries.SMARTNOISE_SQL: 'smartnoise_sql'>, df=   avg_bill_length_mm\n",
      "0           48.581139)\n",
      "8\n",
      "epsilon=200.0 delta=0.495 requested_by='Dr. Antartica' result=SmartnoiseSQLQueryResult(res_type=<DPLibraries.SMARTNOISE_SQL: 'smartnoise_sql'>, df=   avg_bill_length_mm\n",
      "0            48.55658)\n",
      "9\n",
      "epsilon=200.0 delta=0.495 requested_by='Dr. Antartica' result=SmartnoiseSQLQueryResult(res_type=<DPLibraries.SMARTNOISE_SQL: 'smartnoise_sql'>, df=   avg_bill_length_mm\n",
      "0           48.586528)\n"
     ]
    }
   ],
   "source": [
    "for i in range(0,10):\n",
    "    print(i)\n",
    "    dummy_res = client.smartnoise_sql.query(query = QUERY, epsilon = 100.0, delta = 0.99, dummy = True, nb_rows = 100, seed = 0)\n",
    "    print(dummy_res)"
   ]
  },
  {
   "cell_type": "code",
   "execution_count": null,
   "id": "7fb50a3c-ef63-4dd4-8ea7-f73589b09e74",
   "metadata": {},
   "outputs": [],
   "source": []
  }
 ],
 "metadata": {
  "kernelspec": {
   "display_name": "Python 3 (ipykernel)",
   "language": "python",
   "name": "python3"
  },
  "language_info": {
   "codemirror_mode": {
    "name": "ipython",
    "version": 3
   },
   "file_extension": ".py",
   "mimetype": "text/x-python",
   "name": "python",
   "nbconvert_exporter": "python",
   "pygments_lexer": "ipython3",
   "version": "3.12.8"
  }
 },
 "nbformat": 4,
 "nbformat_minor": 5
}
