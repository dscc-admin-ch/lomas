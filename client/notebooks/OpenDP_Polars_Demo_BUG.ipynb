{
 "cells": [
  {
   "cell_type": "markdown",
   "metadata": {},
   "source": [
    "# Differential Privacy on Income Data\n",
    "\n",
    "We will use the Synthetic Swiss Income Dataset to demonstrate the how to release differentially private information on tabular data with OpenDP.\n",
    "The main library used in the background is `Polars`."
   ]
  },
  {
   "cell_type": "code",
   "execution_count": 1,
   "metadata": {},
   "outputs": [
    {
     "name": "stdout",
     "output_type": "stream",
     "text": [
      "Requirement already satisfied: polars==0.20.16 in /usr/local/lib/python3.11/site-packages (0.20.16)\n",
      "\u001b[33mWARNING: Running pip as the 'root' user can result in broken permissions and conflicting behaviour with the system package manager. It is recommended to use a virtual environment instead: https://pip.pypa.io/warnings/venv\u001b[0m\u001b[33m\n",
      "\u001b[0m\n",
      "\u001b[1m[\u001b[0m\u001b[34;49mnotice\u001b[0m\u001b[1;39;49m]\u001b[0m\u001b[39;49m A new release of pip is available: \u001b[0m\u001b[31;49m24.0\u001b[0m\u001b[39;49m -> \u001b[0m\u001b[32;49m24.1\u001b[0m\n",
      "\u001b[1m[\u001b[0m\u001b[34;49mnotice\u001b[0m\u001b[1;39;49m]\u001b[0m\u001b[39;49m To update, run: \u001b[0m\u001b[32;49mpip install --upgrade pip\u001b[0m\n"
     ]
    }
   ],
   "source": [
    "!pip install polars==0.20.16\n",
    "!pip install pyarrow"
   ]
  },
  {
   "cell_type": "code",
   "execution_count": 13,
   "metadata": {},
   "outputs": [],
   "source": [
    "import polars as pl\n",
    "import opendp.prelude as dp\n",
    "\n",
    "dp.enable_features(\"contrib\")"
   ]
  },
  {
   "cell_type": "markdown",
   "metadata": {},
   "source": [
    "## 1. Get income df in polars lazyframe format"
   ]
  },
  {
   "cell_type": "code",
   "execution_count": 14,
   "metadata": {},
   "outputs": [],
   "source": [
    "path = \"../data/income_synthetic_data.csv\"\n",
    "lf = pl.scan_csv(path)"
   ]
  },
  {
   "cell_type": "markdown",
   "metadata": {},
   "source": [
    "## 2. Data Domain Preparation\n",
    "We first need to declare the metadata of the input domain of the Lazyframe."
   ]
  },
  {
   "cell_type": "code",
   "execution_count": 15,
   "metadata": {},
   "outputs": [],
   "source": [
    "NB_SEX = 2\n",
    "NB_REGIONS = 7"
   ]
  },
  {
   "cell_type": "code",
   "execution_count": 16,
   "metadata": {},
   "outputs": [],
   "source": [
    "income_lower_bound, income_upper_bound = 1_000, 100_000"
   ]
  },
  {
   "cell_type": "code",
   "execution_count": 17,
   "metadata": {},
   "outputs": [],
   "source": [
    "def get_lf_domain():\n",
    "    lf_domain = dp.lazyframe_domain([\n",
    "        dp.series_domain(\"region\", dp.atom_domain(T=dp.i64)),\n",
    "        dp.series_domain(\"eco_branch\", dp.atom_domain(T=dp.i64)),\n",
    "        dp.series_domain(\"profession\", dp.option_domain(dp.atom_domain(T=dp.i64))),\n",
    "        dp.series_domain(\"education\", dp.atom_domain(T=dp.i64)),\n",
    "        dp.series_domain(\"age\", dp.atom_domain(T=dp.i64)),\n",
    "        dp.series_domain(\"sex\", dp.atom_domain(T=dp.i64)),\n",
    "        dp.series_domain(\"income\", dp.atom_domain(T=dp.f64))\n",
    "    ])\n",
    "    lf_domain = dp.with_margin(lf_domain, by=[], public_info=\"lengths\", max_partition_length=2_032_543)\n",
    "    return lf_domain"
   ]
  },
  {
   "cell_type": "markdown",
   "metadata": {},
   "source": [
    "## 3. Private Data Analysis\n",
    "We will analyse the income column: compute the private mean and quantiles."
   ]
  },
  {
   "cell_type": "code",
   "execution_count": 18,
   "metadata": {},
   "outputs": [],
   "source": [
    "def seed(schema):\n",
    "    return pl.DataFrame(None, schema, orient=\"row\").lazy()"
   ]
  },
  {
   "cell_type": "code",
   "execution_count": 19,
   "metadata": {},
   "outputs": [
    {
     "data": {
      "text/plain": [
       "function"
      ]
     },
     "execution_count": 19,
     "metadata": {},
     "output_type": "execute_result"
    }
   ],
   "source": [
    "type(seed)"
   ]
  },
  {
   "cell_type": "code",
   "execution_count": 20,
   "metadata": {},
   "outputs": [],
   "source": [
    "def opendp_measurement(plan):\n",
    "    return dp.m.make_private_lazyframe(lf_domain, dp.symmetric_distance(), dp.max_divergence(T=float), plan)"
   ]
  },
  {
   "cell_type": "markdown",
   "metadata": {},
   "source": [
    "### a. Mean "
   ]
  },
  {
   "cell_type": "code",
   "execution_count": 21,
   "metadata": {},
   "outputs": [
    {
     "name": "stdout",
     "output_type": "stream",
     "text": [
      "type of ls: <class 'polars.lazyframe.frame.LazyFrame'>\n",
      "type of seed: <class 'polars.lazyframe.frame.LazyFrame'>\n"
     ]
    },
    {
     "name": "stderr",
     "output_type": "stream",
     "text": [
      "/tmp/ipykernel_916/1799308754.py:2: PerformanceWarning: Resolving the schema of a LazyFrame is a potentially expensive operation. Use `LazyFrame.collect_schema()` to get the schema without this warning.\n",
      "  print(f\"type of seed: {type(seed(lf.schema))}\")\n"
     ]
    }
   ],
   "source": [
    "print(f\"type of ls: {type(lf)}\")\n",
    "print(f\"type of seed: {type(seed(lf.schema))}\")\n"
   ]
  },
  {
   "cell_type": "code",
   "execution_count": 22,
   "metadata": {},
   "outputs": [
    {
     "name": "stderr",
     "output_type": "stream",
     "text": [
      "/tmp/ipykernel_916/3180606503.py:4: PerformanceWarning: Resolving the schema of a LazyFrame is a potentially expensive operation. Use `LazyFrame.collect_schema()` to get the schema without this warning.\n",
      "  plan = seed(lf.schema).select(\n"
     ]
    },
    {
     "data": {
      "text/html": [
       "<div><style>\n",
       ".dataframe > thead > tr,\n",
       ".dataframe > tbody > tr {\n",
       "  text-align: right;\n",
       "  white-space: pre-wrap;\n",
       "}\n",
       "</style>\n",
       "<small>shape: (1, 1)</small><table border=\"1\" class=\"dataframe\"><thead><tr><th>income</th></tr><tr><td>f64</td></tr></thead><tbody><tr><td>7052.657818</td></tr></tbody></table></div>"
      ],
      "text/plain": [
       "shape: (1, 1)\n",
       "┌─────────────┐\n",
       "│ income      │\n",
       "│ ---         │\n",
       "│ f64         │\n",
       "╞═════════════╡\n",
       "│ 7052.657818 │\n",
       "└─────────────┘"
      ]
     },
     "execution_count": 22,
     "metadata": {},
     "output_type": "execute_result"
    }
   ],
   "source": [
    "# Overall\n",
    "lf_domain = get_lf_domain()\n",
    "\n",
    "plan = seed(lf.schema).select(\n",
    "    pl.col(\"income\").dp.mean(bounds=(income_lower_bound, income_upper_bound), scale=0.0)\n",
    ")\n",
    "m_lf = opendp_measurement(plan)\n",
    "\n",
    "mean_income = m_lf(lf).collect()\n",
    "mean_income"
   ]
  },
  {
   "cell_type": "code",
   "execution_count": 23,
   "metadata": {},
   "outputs": [],
   "source": [
    "serialized_plan = plan.serialize()"
   ]
  },
  {
   "cell_type": "code",
   "execution_count": 24,
   "metadata": {},
   "outputs": [
    {
     "data": {
      "text/plain": [
       "opendp.polars.OnceFrame"
      ]
     },
     "execution_count": 24,
     "metadata": {},
     "output_type": "execute_result"
    }
   ],
   "source": [
    "type(m_lf(lf))"
   ]
  },
  {
   "cell_type": "code",
   "execution_count": 25,
   "metadata": {},
   "outputs": [
    {
     "name": "stderr",
     "output_type": "stream",
     "text": [
      "/tmp/ipykernel_916/2209599878.py:5: PerformanceWarning: Resolving the schema of a LazyFrame is a potentially expensive operation. Use `LazyFrame.collect_schema()` to get the schema without this warning.\n",
      "  plan = seed(lf.schema).group_by(\"sex\").agg([\n"
     ]
    },
    {
     "data": {
      "text/html": [
       "<div><style>\n",
       ".dataframe > thead > tr,\n",
       ".dataframe > tbody > tr {\n",
       "  text-align: right;\n",
       "  white-space: pre-wrap;\n",
       "}\n",
       "</style>\n",
       "<small>shape: (2, 2)</small><table border=\"1\" class=\"dataframe\"><thead><tr><th>sex</th><th>income</th></tr><tr><td>i64</td><td>f64</td></tr></thead><tbody><tr><td>0</td><td>6362.735212</td></tr><tr><td>1</td><td>7365.936164</td></tr></tbody></table></div>"
      ],
      "text/plain": [
       "shape: (2, 2)\n",
       "┌─────┬─────────────┐\n",
       "│ sex ┆ income      │\n",
       "│ --- ┆ ---         │\n",
       "│ i64 ┆ f64         │\n",
       "╞═════╪═════════════╡\n",
       "│ 0   ┆ 6362.735212 │\n",
       "│ 1   ┆ 7365.936164 │\n",
       "└─────┴─────────────┘"
      ]
     },
     "execution_count": 25,
     "metadata": {},
     "output_type": "execute_result"
    }
   ],
   "source": [
    "# Grouped by \"sex\"\n",
    "lf_domain = get_lf_domain()\n",
    "lf_domain = dp.with_margin(lf_domain, by=[\"sex\"], public_info=\"lengths\", max_partition_length=NB_SEX)\n",
    "\n",
    "plan = seed(lf.schema).group_by(\"sex\").agg([\n",
    "    pl.col(\"income\").dp.mean(bounds=(income_lower_bound, income_upper_bound), scale=1.0)\n",
    "]).sort(\"income\")\n",
    "m_lf = opendp_measurement(plan)\n",
    "\n",
    "by_sex_mean = m_lf(lf).collect()\n",
    "by_sex_mean"
   ]
  },
  {
   "cell_type": "code",
   "execution_count": 37,
   "metadata": {},
   "outputs": [
    {
     "name": "stderr",
     "output_type": "stream",
     "text": [
      "/tmp/ipykernel_916/894032487.py:5: PerformanceWarning: Resolving the schema of a LazyFrame is a potentially expensive operation. Use `LazyFrame.collect_schema()` to get the schema without this warning.\n",
      "  plan = seed(lf.schema).group_by(\"region\").agg([\n"
     ]
    },
    {
     "ename": "OpenDPException",
     "evalue": "\n  FailedFunction(\"max_num_partitions must be known when the metric is not sensitive to ordering (SymmetricDistance)\")",
     "output_type": "error",
     "traceback": [
      "\u001b[0;31m---------------------------------------------------------------------------\u001b[0m",
      "\u001b[0;31mOpenDPException\u001b[0m                           Traceback (most recent call last)",
      "Cell \u001b[0;32mIn[37], line 13\u001b[0m\n\u001b[1;32m     10\u001b[0m by_sex_mean \u001b[38;5;241m=\u001b[39m m_lf(lf)\u001b[38;5;241m.\u001b[39mcollect()\n\u001b[1;32m     11\u001b[0m by_sex_mean\n\u001b[0;32m---> 13\u001b[0m \u001b[43mm_lf\u001b[49m\u001b[38;5;241;43m.\u001b[39;49m\u001b[43mmap\u001b[49m\u001b[43m(\u001b[49m\u001b[38;5;241;43m1\u001b[39;49m\u001b[43m)\u001b[49m\n",
      "File \u001b[0;32m/usr/local/lib/python3.11/site-packages/opendp/mod.py:91\u001b[0m, in \u001b[0;36mMeasurement.map\u001b[0;34m(self, d_in)\u001b[0m\n\u001b[1;32m     89\u001b[0m \u001b[38;5;250m\u001b[39m\u001b[38;5;124;03m\"\"\"Map an input distance `d_in` to an output distance.\"\"\"\u001b[39;00m\n\u001b[1;32m     90\u001b[0m \u001b[38;5;28;01mfrom\u001b[39;00m \u001b[38;5;21;01mopendp\u001b[39;00m\u001b[38;5;21;01m.\u001b[39;00m\u001b[38;5;21;01mcore\u001b[39;00m \u001b[38;5;28;01mimport\u001b[39;00m measurement_map\n\u001b[0;32m---> 91\u001b[0m \u001b[38;5;28;01mreturn\u001b[39;00m \u001b[43mmeasurement_map\u001b[49m\u001b[43m(\u001b[49m\u001b[38;5;28;43mself\u001b[39;49m\u001b[43m,\u001b[49m\u001b[43m \u001b[49m\u001b[43md_in\u001b[49m\u001b[43m)\u001b[49m\n",
      "File \u001b[0;32m/usr/local/lib/python3.11/site-packages/opendp/core.py:398\u001b[0m, in \u001b[0;36mmeasurement_map\u001b[0;34m(measurement, distance_in)\u001b[0m\n\u001b[1;32m    395\u001b[0m lib_function\u001b[38;5;241m.\u001b[39margtypes \u001b[38;5;241m=\u001b[39m [Measurement, AnyObjectPtr]\n\u001b[1;32m    396\u001b[0m lib_function\u001b[38;5;241m.\u001b[39mrestype \u001b[38;5;241m=\u001b[39m FfiResult\n\u001b[0;32m--> 398\u001b[0m output \u001b[38;5;241m=\u001b[39m c_to_py(\u001b[43munwrap\u001b[49m\u001b[43m(\u001b[49m\u001b[43mlib_function\u001b[49m\u001b[43m(\u001b[49m\u001b[43mc_measurement\u001b[49m\u001b[43m,\u001b[49m\u001b[43m \u001b[49m\u001b[43mc_distance_in\u001b[49m\u001b[43m)\u001b[49m\u001b[43m,\u001b[49m\u001b[43m \u001b[49m\u001b[43mAnyObjectPtr\u001b[49m\u001b[43m)\u001b[49m)\n\u001b[1;32m    400\u001b[0m \u001b[38;5;28;01mreturn\u001b[39;00m output\n",
      "File \u001b[0;32m/usr/local/lib/python3.11/site-packages/opendp/_lib.py:254\u001b[0m, in \u001b[0;36munwrap\u001b[0;34m(result, type_)\u001b[0m\n\u001b[1;32m    252\u001b[0m     \u001b[38;5;28;01mif\u001b[39;00m \u001b[38;5;124m'\u001b[39m\u001b[38;5;124mpolars\u001b[39m\u001b[38;5;124m'\u001b[39m \u001b[38;5;129;01min\u001b[39;00m \u001b[38;5;28mstr\u001b[39m(message)\u001b[38;5;241m.\u001b[39mlower() \u001b[38;5;129;01mand\u001b[39;00m pl\u001b[38;5;241m.\u001b[39m__version__ \u001b[38;5;241m!=\u001b[39m _EXPECTED_POLARS_VERSION:\n\u001b[1;32m    253\u001b[0m         message \u001b[38;5;241m=\u001b[39m \u001b[38;5;124mf\u001b[39m\u001b[38;5;124m'\u001b[39m\u001b[38;5;124mInstalled python polars version (\u001b[39m\u001b[38;5;132;01m{\u001b[39;00mpl\u001b[38;5;241m.\u001b[39m__version__\u001b[38;5;132;01m}\u001b[39;00m\u001b[38;5;124m) != expected version (\u001b[39m\u001b[38;5;132;01m{\u001b[39;00m_EXPECTED_POLARS_VERSION\u001b[38;5;132;01m}\u001b[39;00m\u001b[38;5;124m). \u001b[39m\u001b[38;5;132;01m{\u001b[39;00mmessage\u001b[38;5;132;01m}\u001b[39;00m\u001b[38;5;124m'\u001b[39m \u001b[38;5;66;03m# pragma: no cover\u001b[39;00m\n\u001b[0;32m--> 254\u001b[0m \u001b[38;5;28;01mraise\u001b[39;00m OpenDPException(variant, message, backtrace)\n",
      "\u001b[0;31mOpenDPException\u001b[0m: \n  FailedFunction(\"max_num_partitions must be known when the metric is not sensitive to ordering (SymmetricDistance)\")"
     ]
    }
   ],
   "source": [
    "# Grouped by \"region\"\n",
    "lf_domain = get_lf_domain()\n",
    "lf_domain = dp.with_margin(lf_domain, by=[\"region\"], public_info=\"lengths\", max_partition_length=NB_REGIONS)\n",
    "\n",
    "plan = seed(lf.schema).group_by(\"region\").agg([\n",
    "    pl.col(\"income\").dp.mean(bounds=(income_lower_bound, income_upper_bound), scale=1.0)\n",
    "]).sort(\"income\")\n",
    "m_lf = opendp_measurement(plan)\n",
    "\n",
    "by_sex_mean = m_lf(lf).collect()\n",
    "by_sex_mean\n",
    "\n",
    "m_lf.map(1)"
   ]
  },
  {
   "cell_type": "code",
   "execution_count": 36,
   "metadata": {},
   "outputs": [
    {
     "name": "stderr",
     "output_type": "stream",
     "text": [
      "/tmp/ipykernel_916/1620300298.py:5: PerformanceWarning: Resolving the schema of a LazyFrame is a potentially expensive operation. Use `LazyFrame.collect_schema()` to get the schema without this warning.\n",
      "  plan = seed(lf.schema).group_by(\"region\").agg([\n"
     ]
    }
   ],
   "source": [
    "# Grouped by \"region\"\n",
    "lf_domain = get_lf_domain()\n",
    "lf_domain = dp.with_margin(lf_domain, by=[\"region\"], public_info=\"lengths\", max_partition_length=2_032_543,)\n",
    "\n",
    "plan = seed(lf.schema).group_by(\"region\").agg([\n",
    "    pl.col(\"income\").dp.mean(bounds=(income_lower_bound, income_upper_bound), scale=1.0)\n",
    "]).sort(\"income\")\n",
    "m_lf = opendp_measurement(plan)\n"
   ]
  },
  {
   "cell_type": "code",
   "execution_count": 39,
   "metadata": {},
   "outputs": [
    {
     "name": "stderr",
     "output_type": "stream",
     "text": [
      "/tmp/ipykernel_916/4220140068.py:6: PerformanceWarning: Resolving the schema of a LazyFrame is a potentially expensive operation. Use `LazyFrame.collect_schema()` to get the schema without this warning.\n",
      "  plan = seed(lf.schema).group_by(\"region\").agg([\n"
     ]
    },
    {
     "data": {
      "text/plain": [
       "1284.2445919122538"
      ]
     },
     "execution_count": 39,
     "metadata": {},
     "output_type": "execute_result"
    }
   ],
   "source": [
    "# Grouped by \"region\"\n",
    "lf_domain = get_lf_domain()\n",
    "lf_domain = dp.with_margin(lf_domain, by=[\"region\"], public_info=\"lengths\", max_partition_length=2_032_543, max_num_partitions=NB_REGIONS)\n",
    "\n",
    "\n",
    "plan = seed(lf.schema).group_by(\"region\").agg([\n",
    "    pl.col(\"income\").dp.mean(bounds=(income_lower_bound, income_upper_bound), scale=1.0)\n",
    "]).sort(\"income\")\n",
    "m_lf = opendp_measurement(plan)\n",
    "\n",
    "m_lf.map(1)"
   ]
  },
  {
   "cell_type": "code",
   "execution_count": null,
   "metadata": {},
   "outputs": [],
   "source": [
    "plan = seed(lf.schema).group_by(\"region\").agg([\n",
    "    pl.col(\"income\").dp.mean(bounds=(income_lower_bound, income_upper_bound), scale=1.0)\n",
    "]).sort(\"income\")\n",
    "m_lf = opendp_measurement(plan)\n",
    "\n",
    "by_sex_mean = m_lf(lf).collect()\n",
    "by_sex_mean"
   ]
  },
  {
   "cell_type": "code",
   "execution_count": null,
   "metadata": {},
   "outputs": [],
   "source": []
  },
  {
   "cell_type": "code",
   "execution_count": null,
   "metadata": {},
   "outputs": [],
   "source": []
  },
  {
   "cell_type": "code",
   "execution_count": null,
   "metadata": {},
   "outputs": [],
   "source": []
  },
  {
   "cell_type": "code",
   "execution_count": 27,
   "metadata": {},
   "outputs": [
    {
     "name": "stderr",
     "output_type": "stream",
     "text": [
      "/tmp/ipykernel_916/1471911498.py:5: PerformanceWarning: Resolving the schema of a LazyFrame is a potentially expensive operation. Use `LazyFrame.collect_schema()` to get the schema without this warning.\n",
      "  plan = seed(lf.schema).group_by([\"sex\", \"region\"]).agg([\n"
     ]
    },
    {
     "data": {
      "text/html": [
       "<div><style>\n",
       ".dataframe > thead > tr,\n",
       ".dataframe > tbody > tr {\n",
       "  text-align: right;\n",
       "  white-space: pre-wrap;\n",
       "}\n",
       "</style>\n",
       "<small>shape: (14, 3)</small><table border=\"1\" class=\"dataframe\"><thead><tr><th>sex</th><th>region</th><th>income</th></tr><tr><td>i64</td><td>i64</td><td>f64</td></tr></thead><tbody><tr><td>0</td><td>7</td><td>5243.486691</td></tr><tr><td>1</td><td>7</td><td>6057.757329</td></tr><tr><td>0</td><td>5</td><td>6208.044992</td></tr><tr><td>0</td><td>2</td><td>6240.956862</td></tr><tr><td>0</td><td>1</td><td>6470.330028</td></tr><tr><td>&hellip;</td><td>&hellip;</td><td>&hellip;</td></tr><tr><td>1</td><td>2</td><td>7230.468348</td></tr><tr><td>1</td><td>1</td><td>7480.217519</td></tr><tr><td>1</td><td>6</td><td>7536.12794</td></tr><tr><td>1</td><td>3</td><td>7578.416355</td></tr><tr><td>1</td><td>4</td><td>7588.855863</td></tr></tbody></table></div>"
      ],
      "text/plain": [
       "shape: (14, 3)\n",
       "┌─────┬────────┬─────────────┐\n",
       "│ sex ┆ region ┆ income      │\n",
       "│ --- ┆ ---    ┆ ---         │\n",
       "│ i64 ┆ i64    ┆ f64         │\n",
       "╞═════╪════════╪═════════════╡\n",
       "│ 0   ┆ 7      ┆ 5243.486691 │\n",
       "│ 1   ┆ 7      ┆ 6057.757329 │\n",
       "│ 0   ┆ 5      ┆ 6208.044992 │\n",
       "│ 0   ┆ 2      ┆ 6240.956862 │\n",
       "│ 0   ┆ 1      ┆ 6470.330028 │\n",
       "│ …   ┆ …      ┆ …           │\n",
       "│ 1   ┆ 2      ┆ 7230.468348 │\n",
       "│ 1   ┆ 1      ┆ 7480.217519 │\n",
       "│ 1   ┆ 6      ┆ 7536.12794  │\n",
       "│ 1   ┆ 3      ┆ 7578.416355 │\n",
       "│ 1   ┆ 4      ┆ 7588.855863 │\n",
       "└─────┴────────┴─────────────┘"
      ]
     },
     "execution_count": 27,
     "metadata": {},
     "output_type": "execute_result"
    }
   ],
   "source": [
    "# Grouped by sex and region\n",
    "lf_domain = get_lf_domain()\n",
    "lf_domain = dp.with_margin(lf_domain, by=[\"sex\", \"region\"], public_info=\"lengths\", max_partition_length=NB_SEX*NB_REGIONS)\n",
    "\n",
    "plan = seed(lf.schema).group_by([\"sex\", \"region\"]).agg([\n",
    "    pl.col(\"income\").dp.mean(bounds=(1_000.0, 60_000.0), scale=1.0)\n",
    "]).sort(\"income\")\n",
    "m_lf = opendp_measurement(plan)\n",
    "\n",
    "by_sex_mean = m_lf(lf).collect()\n",
    "by_sex_mean"
   ]
  },
  {
   "cell_type": "markdown",
   "metadata": {},
   "source": [
    "### b. Quantile income"
   ]
  },
  {
   "cell_type": "code",
   "execution_count": 12,
   "metadata": {},
   "outputs": [],
   "source": [
    "candidates = list(range(1_000, 100_000, 1000))"
   ]
  },
  {
   "cell_type": "code",
   "execution_count": 23,
   "metadata": {},
   "outputs": [
    {
     "data": {
      "text/html": [
       "<div><style>\n",
       ".dataframe > thead > tr,\n",
       ".dataframe > tbody > tr {\n",
       "  text-align: right;\n",
       "  white-space: pre-wrap;\n",
       "}\n",
       "</style>\n",
       "<small>shape: (1, 1)</small><table border=\"1\" class=\"dataframe\"><thead><tr><th>income</th></tr><tr><td>i64</td></tr></thead><tbody><tr><td>8000</td></tr></tbody></table></div>"
      ],
      "text/plain": [
       "shape: (1, 1)\n",
       "┌────────┐\n",
       "│ income │\n",
       "│ ---    │\n",
       "│ i64    │\n",
       "╞════════╡\n",
       "│ 8000   │\n",
       "└────────┘"
      ]
     },
     "execution_count": 23,
     "metadata": {},
     "output_type": "execute_result"
    }
   ],
   "source": [
    "# Overall\n",
    "lf_domain = get_lf_domain()\n",
    "\n",
    "plan = seed(lf.schema).select(\n",
    "    pl.col(\"income\").dp.quantile(alpha=.75, candidates=candidates, scale=1.)\n",
    ")\n",
    "m_lf = opendp_measurement(plan)\n",
    "\n",
    "quantile_income = m_lf(lf).collect()\n",
    "quantile_income"
   ]
  },
  {
   "cell_type": "code",
   "execution_count": 21,
   "metadata": {},
   "outputs": [
    {
     "data": {
      "text/html": [
       "<div><style>\n",
       ".dataframe > thead > tr,\n",
       ".dataframe > tbody > tr {\n",
       "  text-align: right;\n",
       "  white-space: pre-wrap;\n",
       "}\n",
       "</style>\n",
       "<small>shape: (2, 2)</small><table border=\"1\" class=\"dataframe\"><thead><tr><th>sex</th><th>income</th></tr><tr><td>i64</td><td>i64</td></tr></thead><tbody><tr><td>0</td><td>34000</td></tr><tr><td>1</td><td>77000</td></tr></tbody></table></div>"
      ],
      "text/plain": [
       "shape: (2, 2)\n",
       "┌─────┬────────┐\n",
       "│ sex ┆ income │\n",
       "│ --- ┆ ---    │\n",
       "│ i64 ┆ i64    │\n",
       "╞═════╪════════╡\n",
       "│ 0   ┆ 34000  │\n",
       "│ 1   ┆ 77000  │\n",
       "└─────┴────────┘"
      ]
     },
     "execution_count": 21,
     "metadata": {},
     "output_type": "execute_result"
    }
   ],
   "source": [
    "# Grouped by sex\n",
    "lf_domain = get_lf_domain()\n",
    "lf_domain = dp.with_margin(lf_domain, by=[\"sex\"], public_info=\"keys\", max_partition_length=NB_SEX)\n",
    "\n",
    "plan = seed(lf.schema).group_by(\"sex\").agg([\n",
    "    pl.col(\"income\").dp.quantile(alpha=.75, candidates=candidates, scale=1.),\n",
    "]).sort(\"income\")\n",
    "m_lf = opendp_measurement(plan)\n",
    "\n",
    "by_sex_quantile_income = m_lf(lf).collect()\n",
    "by_sex_quantile_income"
   ]
  },
  {
   "cell_type": "code",
   "execution_count": 20,
   "metadata": {},
   "outputs": [
    {
     "data": {
      "text/html": [
       "<div><style>\n",
       ".dataframe > thead > tr,\n",
       ".dataframe > tbody > tr {\n",
       "  text-align: right;\n",
       "  white-space: pre-wrap;\n",
       "}\n",
       "</style>\n",
       "<small>shape: (7, 2)</small><table border=\"1\" class=\"dataframe\"><thead><tr><th>region</th><th>income</th></tr><tr><td>i64</td><td>i64</td></tr></thead><tbody><tr><td>7</td><td>22000</td></tr><tr><td>2</td><td>26000</td></tr><tr><td>1</td><td>29000</td></tr><tr><td>3</td><td>30000</td></tr><tr><td>6</td><td>32000</td></tr><tr><td>4</td><td>80000</td></tr><tr><td>5</td><td>84000</td></tr></tbody></table></div>"
      ],
      "text/plain": [
       "shape: (7, 2)\n",
       "┌────────┬────────┐\n",
       "│ region ┆ income │\n",
       "│ ---    ┆ ---    │\n",
       "│ i64    ┆ i64    │\n",
       "╞════════╪════════╡\n",
       "│ 7      ┆ 22000  │\n",
       "│ 2      ┆ 26000  │\n",
       "│ 1      ┆ 29000  │\n",
       "│ 3      ┆ 30000  │\n",
       "│ 6      ┆ 32000  │\n",
       "│ 4      ┆ 80000  │\n",
       "│ 5      ┆ 84000  │\n",
       "└────────┴────────┘"
      ]
     },
     "execution_count": 20,
     "metadata": {},
     "output_type": "execute_result"
    }
   ],
   "source": [
    "# Grouped by region\n",
    "lf_domain = get_lf_domain()\n",
    "lf_domain = dp.with_margin(lf_domain, by=[\"region\"], public_info=\"keys\", max_partition_length=NB_REGIONS)\n",
    "\n",
    "plan = seed(lf.schema).group_by(\"region\").agg([\n",
    "    pl.col(\"income\").dp.quantile(alpha=.75, candidates=candidates, scale=1.),\n",
    "]).sort(\"income\")\n",
    "m_lf = opendp_measurement(plan)\n",
    "\n",
    "by_sex_quantile_income = m_lf(lf).collect()\n",
    "by_sex_quantile_income"
   ]
  },
  {
   "cell_type": "code",
   "execution_count": 19,
   "metadata": {},
   "outputs": [
    {
     "data": {
      "text/html": [
       "<div><style>\n",
       ".dataframe > thead > tr,\n",
       ".dataframe > tbody > tr {\n",
       "  text-align: right;\n",
       "  white-space: pre-wrap;\n",
       "}\n",
       "</style>\n",
       "<small>shape: (14, 3)</small><table border=\"1\" class=\"dataframe\"><thead><tr><th>sex</th><th>region</th><th>income</th></tr><tr><td>i64</td><td>i64</td><td>i64</td></tr></thead><tbody><tr><td>0</td><td>7</td><td>16000</td></tr><tr><td>1</td><td>7</td><td>20000</td></tr><tr><td>0</td><td>2</td><td>22000</td></tr><tr><td>0</td><td>3</td><td>22000</td></tr><tr><td>0</td><td>1</td><td>23000</td></tr><tr><td>&hellip;</td><td>&hellip;</td><td>&hellip;</td></tr><tr><td>1</td><td>5</td><td>27000</td></tr><tr><td>1</td><td>1</td><td>28000</td></tr><tr><td>1</td><td>3</td><td>28000</td></tr><tr><td>1</td><td>4</td><td>29000</td></tr><tr><td>1</td><td>6</td><td>30000</td></tr></tbody></table></div>"
      ],
      "text/plain": [
       "shape: (14, 3)\n",
       "┌─────┬────────┬────────┐\n",
       "│ sex ┆ region ┆ income │\n",
       "│ --- ┆ ---    ┆ ---    │\n",
       "│ i64 ┆ i64    ┆ i64    │\n",
       "╞═════╪════════╪════════╡\n",
       "│ 0   ┆ 7      ┆ 16000  │\n",
       "│ 1   ┆ 7      ┆ 20000  │\n",
       "│ 0   ┆ 2      ┆ 22000  │\n",
       "│ 0   ┆ 3      ┆ 22000  │\n",
       "│ 0   ┆ 1      ┆ 23000  │\n",
       "│ …   ┆ …      ┆ …      │\n",
       "│ 1   ┆ 5      ┆ 27000  │\n",
       "│ 1   ┆ 1      ┆ 28000  │\n",
       "│ 1   ┆ 3      ┆ 28000  │\n",
       "│ 1   ┆ 4      ┆ 29000  │\n",
       "│ 1   ┆ 6      ┆ 30000  │\n",
       "└─────┴────────┴────────┘"
      ]
     },
     "execution_count": 19,
     "metadata": {},
     "output_type": "execute_result"
    }
   ],
   "source": [
    "# Grouped by sex and region\n",
    "lf_domain = get_lf_domain()\n",
    "lf_domain = dp.with_margin(lf_domain, by=[\"sex\", \"region\"], public_info=\"keys\", max_partition_length=NB_SEX*NB_REGIONS)\n",
    "\n",
    "plan = seed(lf.schema).group_by([\"sex\", \"region\"]).agg([\n",
    "    pl.col(\"income\").dp.quantile(alpha=.75, candidates=candidates, scale=1.),\n",
    "]).sort(\"income\")\n",
    "m_lf = opendp_measurement(plan)\n",
    "\n",
    "by_sex_quantile_income = m_lf(lf).collect()\n",
    "by_sex_quantile_income"
   ]
  },
  {
   "cell_type": "code",
   "execution_count": null,
   "metadata": {},
   "outputs": [],
   "source": []
  }
 ],
 "metadata": {
  "kernelspec": {
   "display_name": "Python 3 (ipykernel)",
   "language": "python",
   "name": "python3"
  },
  "language_info": {
   "codemirror_mode": {
    "name": "ipython",
    "version": 3
   },
   "file_extension": ".py",
   "mimetype": "text/x-python",
   "name": "python",
   "nbconvert_exporter": "python",
   "pygments_lexer": "ipython3",
   "version": "3.11.9"
  }
 },
 "nbformat": 4,
 "nbformat_minor": 4
}
