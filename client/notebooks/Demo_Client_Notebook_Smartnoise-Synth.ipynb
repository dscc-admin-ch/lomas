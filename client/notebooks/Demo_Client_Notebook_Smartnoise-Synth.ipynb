{
 "cells": [
  {
   "cell_type": "markdown",
   "id": "3f18d338",
   "metadata": {},
   "source": [
    "# Lomas Client Side: Using Smartnoise-Synth"
   ]
  },
  {
   "cell_type": "markdown",
   "id": "1582a2ae",
   "metadata": {},
   "source": [
    "This notebook showcases how researcher could use the Secure Data Disclosure system. It explains the different functionnalities provided by the `lomas-client` client library to interact with the secure server.\n",
    "\n",
    "The secure data are never visible by researchers. They can only access to differentially private responses via queries to the server.\n",
    "\n",
    "Each user has access to one or multiple projects and for each dataset has a limited budget with $\\epsilon$ and $\\delta$ values."
   ]
  },
  {
   "cell_type": "markdown",
   "id": "01ae30d2",
   "metadata": {},
   "source": [
    "## Step 1: Install the library\n",
    "To interact with the secure server on which the data is stored, Dr.Antartica first needs to install the library `fso-sdd-demo` on her local developping environment. \n",
    "\n",
    "It can be installed via the pip command:"
   ]
  },
  {
   "cell_type": "code",
   "execution_count": null,
   "id": "dc563050-fcc0-4c11-9e63-46eaefa63ce7",
   "metadata": {},
   "outputs": [],
   "source": [
    "# !pip install lomas_client"
   ]
  },
  {
   "cell_type": "markdown",
   "id": "c5df0c8f-ca9c-4af1-8c60-fb1d30d6283d",
   "metadata": {},
   "source": [
    "Or using a local version of the client"
   ]
  },
  {
   "cell_type": "code",
   "execution_count": 2,
   "id": "36d508bf-6cc3-4034-8e11-fffe858552f9",
   "metadata": {},
   "outputs": [],
   "source": [
    "import sys\n",
    "import os\n",
    "sys.path.append(os.path.abspath(os.path.join('..')))"
   ]
  },
  {
   "cell_type": "code",
   "execution_count": 3,
   "id": "9535e92e-620e-4df4-92dd-4ea2c653e4ab",
   "metadata": {},
   "outputs": [],
   "source": [
    "from lomas_client import Client\n",
    "import numpy as np"
   ]
  },
  {
   "cell_type": "markdown",
   "id": "9c63718b",
   "metadata": {},
   "source": [
    "## Step 2: Initialise the client\n",
    "\n",
    "Once the library is installed, a Client object must be created. It is responsible for sending sending requests to the server and processing responses in the local environment. It enables a seamless interaction with the server. \n",
    "\n",
    "To create the client, Dr. Antartica needs to give it a few parameters:\n",
    "- a url: the root application endpoint to the remote secure server.\n",
    "- user_name: her name as registered in the database (Dr. Alice Antartica)\n",
    "- dataset_name: the name of the dataset that she wants to query (PENGUIN)\n",
    "\n",
    "She will only be able to query on the real dataset if the queen Icergina has previously made her an account in the database, given her access to the PENGUIN dataset and has given her some epsilon and delta credit (as is done in the Admin Notebook for Users and Datasets management)."
   ]
  },
  {
   "cell_type": "code",
   "execution_count": 4,
   "id": "941991f7",
   "metadata": {},
   "outputs": [],
   "source": [
    "APP_URL = \"http://lomas_server\"\n",
    "USER_NAME = \"Dr. Antartica\"\n",
    "DATASET_NAME = \"PENGUIN\"\n",
    "client = Client(url=APP_URL, user_name = USER_NAME, dataset_name = DATASET_NAME)"
   ]
  },
  {
   "cell_type": "markdown",
   "id": "0ec400c8",
   "metadata": {},
   "source": [
    "And that's it for the preparation. She is now ready to use the various functionnalities offered by `lomas-client`."
   ]
  },
  {
   "cell_type": "markdown",
   "id": "9b9a5f13",
   "metadata": {},
   "source": [
    "## Step 3: Metadata and dummy dataset"
   ]
  },
  {
   "cell_type": "markdown",
   "id": "c7cb5531",
   "metadata": {},
   "source": [
    "### Getting dataset metadata\n",
    "\n",
    "Dr. Antartica has never seen the data and as a first step to understand what is available to her, she would like to check the metadata of the dataset. Therefore, she just needs to call the `get_dataset_metadata()` function of the client. As this is public information, this does not cost any budget.\n",
    "\n",
    "This function returns metadata information in a format based on [SmartnoiseSQL dictionary format](https://docs.smartnoise.org/sql/metadata.html#dictionary-format), where among other, there is information about all the available columns, their type, bound values (see Smartnoise page for more details). Any metadata is required for Smartnoise-SQL is also required here and additional information such that the different categories in a string type column column can be added."
   ]
  },
  {
   "cell_type": "code",
   "execution_count": 5,
   "id": "0fdebac9-57fc-4410-878b-5a77425af634",
   "metadata": {},
   "outputs": [
    {
     "data": {
      "text/plain": [
       "{'max_ids': 1,\n",
       " 'row_privacy': True,\n",
       " 'censor_dims': False,\n",
       " 'columns': {'species': {'type': 'string',\n",
       "   'cardinality': 3,\n",
       "   'categories': ['Adelie', 'Chinstrap', 'Gentoo']},\n",
       "  'island': {'type': 'string',\n",
       "   'cardinality': 3,\n",
       "   'categories': ['Torgersen', 'Biscoe', 'Dream']},\n",
       "  'bill_length_mm': {'type': 'float', 'lower': 30.0, 'upper': 65.0},\n",
       "  'bill_depth_mm': {'type': 'float', 'lower': 13.0, 'upper': 23.0},\n",
       "  'flipper_length_mm': {'type': 'float', 'lower': 150.0, 'upper': 250.0},\n",
       "  'body_mass_g': {'type': 'float', 'lower': 2000.0, 'upper': 7000.0},\n",
       "  'sex': {'type': 'string',\n",
       "   'cardinality': 2,\n",
       "   'categories': ['MALE', 'FEMALE']}},\n",
       " 'rows': 344}"
      ]
     },
     "execution_count": 5,
     "metadata": {},
     "output_type": "execute_result"
    }
   ],
   "source": [
    "penguin_metadata = client.get_dataset_metadata()\n",
    "penguin_metadata"
   ]
  },
  {
   "cell_type": "markdown",
   "id": "9e7ca7ae-bf17-40c8-aa75-2d72fcdd3088",
   "metadata": {},
   "source": [
    "## Step 3: Create a Synthetic Dataset keeping all default parameters"
   ]
  },
  {
   "cell_type": "markdown",
   "id": "2de1389c-53a7-4098-bc3c-397c12a4b869",
   "metadata": {},
   "source": [
    "We want to get a synthetic model to represent the private data.\n",
    "\n",
    "Therefore, we use a Smartnoise Synth Synthesizers."
   ]
  },
  {
   "cell_type": "markdown",
   "id": "3423d410-2501-4eaa-bea4-6b31fba8c869",
   "metadata": {},
   "source": [
    "Let's list the potential options. There respective paramaters are then available in Smarntoise Synth documentation [here](https://docs.smartnoise.org/synth/synthesizers/index.html)."
   ]
  },
  {
   "cell_type": "code",
   "execution_count": 8,
   "id": "cf6dd9f4-a9ca-4805-a597-553a26604430",
   "metadata": {},
   "outputs": [
    {
     "data": {
      "text/plain": [
       "['mwem', 'dpctgan', 'patectgan', 'mst', 'pacsynth', 'dpgan', 'pategan', 'aim']"
      ]
     },
     "execution_count": 8,
     "metadata": {},
     "output_type": "execute_result"
    }
   ],
   "source": [
    "from snsynth import Synthesizer\n",
    "Synthesizer.list_synthesizers()"
   ]
  },
  {
   "cell_type": "markdown",
   "id": "a06365e9-4076-4592-871a-31af91d6a05d",
   "metadata": {},
   "source": [
    "### AIM: Adaptive Iterative Mechanism"
   ]
  },
  {
   "cell_type": "markdown",
   "id": "4f83dffe-f5b6-42fc-a74c-f3f00dc6c257",
   "metadata": {},
   "source": [
    "We start by executing a query on the dummy dataset without specifying any special parameters for AIM (all optional kept as default).\n",
    "Also only works on categorical columns so we select \"species\" and \"island\" columns to create a synthetic dataset of these two columns."
   ]
  },
  {
   "cell_type": "code",
   "execution_count": 9,
   "id": "a17ef2a7-1a70-440a-b11f-9867e1e9dd70",
   "metadata": {},
   "outputs": [
    {
     "data": {
      "text/html": [
       "<div>\n",
       "<style scoped>\n",
       "    .dataframe tbody tr th:only-of-type {\n",
       "        vertical-align: middle;\n",
       "    }\n",
       "\n",
       "    .dataframe tbody tr th {\n",
       "        vertical-align: top;\n",
       "    }\n",
       "\n",
       "    .dataframe thead th {\n",
       "        text-align: right;\n",
       "    }\n",
       "</style>\n",
       "<table border=\"1\" class=\"dataframe\">\n",
       "  <thead>\n",
       "    <tr style=\"text-align: right;\">\n",
       "      <th></th>\n",
       "      <th>species</th>\n",
       "      <th>island</th>\n",
       "    </tr>\n",
       "  </thead>\n",
       "  <tbody>\n",
       "    <tr>\n",
       "      <th>0</th>\n",
       "      <td>Adelie</td>\n",
       "      <td>Dream</td>\n",
       "    </tr>\n",
       "    <tr>\n",
       "      <th>1</th>\n",
       "      <td>Gentoo</td>\n",
       "      <td>Torgersen</td>\n",
       "    </tr>\n",
       "    <tr>\n",
       "      <th>2</th>\n",
       "      <td>Adelie</td>\n",
       "      <td>Dream</td>\n",
       "    </tr>\n",
       "    <tr>\n",
       "      <th>3</th>\n",
       "      <td>Adelie</td>\n",
       "      <td>Dream</td>\n",
       "    </tr>\n",
       "    <tr>\n",
       "      <th>4</th>\n",
       "      <td>Gentoo</td>\n",
       "      <td>Torgersen</td>\n",
       "    </tr>\n",
       "  </tbody>\n",
       "</table>\n",
       "</div>"
      ],
      "text/plain": [
       "  species     island\n",
       "0  Adelie      Dream\n",
       "1  Gentoo  Torgersen\n",
       "2  Adelie      Dream\n",
       "3  Adelie      Dream\n",
       "4  Gentoo  Torgersen"
      ]
     },
     "execution_count": 9,
     "metadata": {},
     "output_type": "execute_result"
    }
   ],
   "source": [
    "res_dummy = client.smartnoise_synth_query(\n",
    "    synth_name=\"aim\",\n",
    "    epsilon=1.0,\n",
    "    delta=0.0001,\n",
    "    select_cols = [\"species\", \"island\"],\n",
    "    dummy=True,\n",
    ")\n",
    "res_dummy['query_response'].head()"
   ]
  },
  {
   "cell_type": "markdown",
   "id": "f12ed311-3622-4cb8-b5e5-585cf20c91a8",
   "metadata": {},
   "source": [
    "The algorithm works and returned a synthetic dataset. We now estimate the cost of running this command:"
   ]
  },
  {
   "cell_type": "code",
   "execution_count": 10,
   "id": "51063e79-0809-49ee-b7f0-c19b190571c5",
   "metadata": {},
   "outputs": [
    {
     "data": {
      "text/plain": [
       "{'epsilon_cost': 1.0, 'delta_cost': 0.0001}"
      ]
     },
     "execution_count": 10,
     "metadata": {},
     "output_type": "execute_result"
    }
   ],
   "source": [
    "res_cost = client.estimate_smartnoise_synth_cost(\n",
    "    synth_name=\"aim\",\n",
    "    epsilon=1.0,\n",
    "    delta=0.0001,\n",
    "    select_cols = [\"species\", \"island\"],\n",
    ")\n",
    "res_cost"
   ]
  },
  {
   "cell_type": "markdown",
   "id": "0f582e93-ca3b-4a9d-b24a-8c26996cab64",
   "metadata": {},
   "source": [
    "Executing such a query on the private dataset would cost 1.0 epsilon and 0.0001 delta. Dr. Antartica decides to do it with now the flag `dummmy` to False and specifiying that the wants the aim synthesizer model in return (with `return_model = True`).\n",
    "\n",
    "NOTE: if she does not set the parameter `return_model = True`, then it is False by default and she will get a synthetic dataframe as response directly."
   ]
  },
  {
   "cell_type": "code",
   "execution_count": 11,
   "id": "8160a5ab-dd53-4d0d-9f6d-ff31c39831c9",
   "metadata": {},
   "outputs": [
    {
     "name": "stderr",
     "output_type": "stream",
     "text": [
      "/usr/local/lib/python3.11/site-packages/mbi/__init__.py:15: UserWarning: MixtureInference disabled, please install jax and jaxlib\n",
      "  warnings.warn('MixtureInference disabled, please install jax and jaxlib')\n"
     ]
    },
    {
     "data": {
      "text/plain": [
       "<snsynth.aim.aim.AIMSynthesizer at 0x75edc6e1ffd0>"
      ]
     },
     "execution_count": 11,
     "metadata": {},
     "output_type": "execute_result"
    }
   ],
   "source": [
    "res = client.smartnoise_synth_query(\n",
    "    synth_name=\"aim\",\n",
    "    epsilon=1.0,\n",
    "    delta=0.0001,\n",
    "    select_cols = [\"species\", \"island\"],\n",
    "    dummy=True,\n",
    "    return_model = True\n",
    ")\n",
    "res['query_response']"
   ]
  },
  {
   "cell_type": "markdown",
   "id": "20d8db1d-6fe2-4bf0-9b12-e9e25a9df235",
   "metadata": {},
   "source": [
    "She can now get the model and sample results with it. She choose to sample 10 samples."
   ]
  },
  {
   "cell_type": "code",
   "execution_count": 12,
   "id": "1add6713-1906-4d57-bd90-9e54b0a883d4",
   "metadata": {},
   "outputs": [
    {
     "data": {
      "text/html": [
       "<div>\n",
       "<style scoped>\n",
       "    .dataframe tbody tr th:only-of-type {\n",
       "        vertical-align: middle;\n",
       "    }\n",
       "\n",
       "    .dataframe tbody tr th {\n",
       "        vertical-align: top;\n",
       "    }\n",
       "\n",
       "    .dataframe thead th {\n",
       "        text-align: right;\n",
       "    }\n",
       "</style>\n",
       "<table border=\"1\" class=\"dataframe\">\n",
       "  <thead>\n",
       "    <tr style=\"text-align: right;\">\n",
       "      <th></th>\n",
       "      <th>species</th>\n",
       "      <th>island</th>\n",
       "    </tr>\n",
       "  </thead>\n",
       "  <tbody>\n",
       "    <tr>\n",
       "      <th>0</th>\n",
       "      <td>Gentoo</td>\n",
       "      <td>Biscoe</td>\n",
       "    </tr>\n",
       "    <tr>\n",
       "      <th>1</th>\n",
       "      <td>Gentoo</td>\n",
       "      <td>Dream</td>\n",
       "    </tr>\n",
       "    <tr>\n",
       "      <th>2</th>\n",
       "      <td>Gentoo</td>\n",
       "      <td>Dream</td>\n",
       "    </tr>\n",
       "    <tr>\n",
       "      <th>3</th>\n",
       "      <td>Adelie</td>\n",
       "      <td>Torgersen</td>\n",
       "    </tr>\n",
       "    <tr>\n",
       "      <th>4</th>\n",
       "      <td>Chinstrap</td>\n",
       "      <td>Dream</td>\n",
       "    </tr>\n",
       "    <tr>\n",
       "      <th>5</th>\n",
       "      <td>Adelie</td>\n",
       "      <td>Dream</td>\n",
       "    </tr>\n",
       "    <tr>\n",
       "      <th>6</th>\n",
       "      <td>Adelie</td>\n",
       "      <td>Torgersen</td>\n",
       "    </tr>\n",
       "    <tr>\n",
       "      <th>7</th>\n",
       "      <td>Chinstrap</td>\n",
       "      <td>Biscoe</td>\n",
       "    </tr>\n",
       "    <tr>\n",
       "      <th>8</th>\n",
       "      <td>Chinstrap</td>\n",
       "      <td>Torgersen</td>\n",
       "    </tr>\n",
       "    <tr>\n",
       "      <th>9</th>\n",
       "      <td>Chinstrap</td>\n",
       "      <td>Torgersen</td>\n",
       "    </tr>\n",
       "  </tbody>\n",
       "</table>\n",
       "</div>"
      ],
      "text/plain": [
       "     species     island\n",
       "0     Gentoo     Biscoe\n",
       "1     Gentoo      Dream\n",
       "2     Gentoo      Dream\n",
       "3     Adelie  Torgersen\n",
       "4  Chinstrap      Dream\n",
       "5     Adelie      Dream\n",
       "6     Adelie  Torgersen\n",
       "7  Chinstrap     Biscoe\n",
       "8  Chinstrap  Torgersen\n",
       "9  Chinstrap  Torgersen"
      ]
     },
     "execution_count": 12,
     "metadata": {},
     "output_type": "execute_result"
    }
   ],
   "source": [
    "synth = res['query_response']\n",
    "synth.sample(10)"
   ]
  },
  {
   "cell_type": "markdown",
   "id": "9b9837d3-11a5-49d9-aaaf-0637061cf2f5",
   "metadata": {},
   "source": [
    "She now wants to specify some specific parameters to the AIM model. Therefore, she needs to set some parameters in `synth_params` based on the Smartnoise-Synth documentation [here](https://docs.smartnoise.org/synth/synthesizers/aim.html#parameters). She decides that she wants to modify the `max_model_size` to 50 (the default was 80) and tries on the dummy."
   ]
  },
  {
   "cell_type": "code",
   "execution_count": 13,
   "id": "8be9943c-4cb3-41ef-bb31-02cbb6e773c6",
   "metadata": {},
   "outputs": [
    {
     "data": {
      "text/plain": [
       "<snsynth.aim.aim.AIMSynthesizer at 0x75edc6883650>"
      ]
     },
     "execution_count": 13,
     "metadata": {},
     "output_type": "execute_result"
    }
   ],
   "source": [
    "res_dummy = client.smartnoise_synth_query(\n",
    "    synth_name=\"aim\",\n",
    "    epsilon=1.0,\n",
    "    delta=0.0001,\n",
    "    select_cols = [\"species\", \"island\"],\n",
    "    dummy=True,\n",
    "    return_model = True,\n",
    "    synth_params = {\"max_model_size\": 50}\n",
    ")\n",
    "res_dummy['query_response']"
   ]
  },
  {
   "cell_type": "code",
   "execution_count": 14,
   "id": "e0e958c9-76de-499c-bdeb-658f7052d0b0",
   "metadata": {},
   "outputs": [
    {
     "data": {
      "text/html": [
       "<div>\n",
       "<style scoped>\n",
       "    .dataframe tbody tr th:only-of-type {\n",
       "        vertical-align: middle;\n",
       "    }\n",
       "\n",
       "    .dataframe tbody tr th {\n",
       "        vertical-align: top;\n",
       "    }\n",
       "\n",
       "    .dataframe thead th {\n",
       "        text-align: right;\n",
       "    }\n",
       "</style>\n",
       "<table border=\"1\" class=\"dataframe\">\n",
       "  <thead>\n",
       "    <tr style=\"text-align: right;\">\n",
       "      <th></th>\n",
       "      <th>species</th>\n",
       "      <th>island</th>\n",
       "    </tr>\n",
       "  </thead>\n",
       "  <tbody>\n",
       "    <tr>\n",
       "      <th>0</th>\n",
       "      <td>Gentoo</td>\n",
       "      <td>Dream</td>\n",
       "    </tr>\n",
       "    <tr>\n",
       "      <th>1</th>\n",
       "      <td>Adelie</td>\n",
       "      <td>None</td>\n",
       "    </tr>\n",
       "    <tr>\n",
       "      <th>2</th>\n",
       "      <td>Adelie</td>\n",
       "      <td>Biscoe</td>\n",
       "    </tr>\n",
       "    <tr>\n",
       "      <th>3</th>\n",
       "      <td>Gentoo</td>\n",
       "      <td>Torgersen</td>\n",
       "    </tr>\n",
       "    <tr>\n",
       "      <th>4</th>\n",
       "      <td>Chinstrap</td>\n",
       "      <td>Torgersen</td>\n",
       "    </tr>\n",
       "  </tbody>\n",
       "</table>\n",
       "</div>"
      ],
      "text/plain": [
       "     species     island\n",
       "0     Gentoo      Dream\n",
       "1     Adelie       None\n",
       "2     Adelie     Biscoe\n",
       "3     Gentoo  Torgersen\n",
       "4  Chinstrap  Torgersen"
      ]
     },
     "execution_count": 14,
     "metadata": {},
     "output_type": "execute_result"
    }
   ],
   "source": [
    "synth = res_dummy['query_response']\n",
    "synth.sample(5)"
   ]
  },
  {
   "cell_type": "markdown",
   "id": "5b656a6c-2199-465e-b109-818c369b2798",
   "metadata": {},
   "source": [
    "Now that the workflow is understood for AIM, she wants to experiment with various synthesizer on the dummy."
   ]
  },
  {
   "cell_type": "markdown",
   "id": "69cab29c-a882-4821-a0ef-eeb863e03071",
   "metadata": {},
   "source": [
    "### MWEM: Multiplicative Weights Exponential Mechanism "
   ]
  },
  {
   "cell_type": "markdown",
   "id": "036bb9fe-29e1-42c1-bf7b-e684c7c37336",
   "metadata": {},
   "source": [
    "She tries MWEM on all columns with all default parameters. As `return_model` is not specified she will directly receive a synthetic dataframe back. "
   ]
  },
  {
   "cell_type": "code",
   "execution_count": 15,
   "id": "002a9a17-3e75-427b-8293-0fbd5188f762",
   "metadata": {},
   "outputs": [
    {
     "data": {
      "text/html": [
       "<div>\n",
       "<style scoped>\n",
       "    .dataframe tbody tr th:only-of-type {\n",
       "        vertical-align: middle;\n",
       "    }\n",
       "\n",
       "    .dataframe tbody tr th {\n",
       "        vertical-align: top;\n",
       "    }\n",
       "\n",
       "    .dataframe thead th {\n",
       "        text-align: right;\n",
       "    }\n",
       "</style>\n",
       "<table border=\"1\" class=\"dataframe\">\n",
       "  <thead>\n",
       "    <tr style=\"text-align: right;\">\n",
       "      <th></th>\n",
       "      <th>species</th>\n",
       "      <th>island</th>\n",
       "      <th>bill_length_mm</th>\n",
       "      <th>bill_depth_mm</th>\n",
       "      <th>flipper_length_mm</th>\n",
       "      <th>body_mass_g</th>\n",
       "      <th>sex</th>\n",
       "    </tr>\n",
       "  </thead>\n",
       "  <tbody>\n",
       "    <tr>\n",
       "      <th>0</th>\n",
       "      <td>Gentoo</td>\n",
       "      <td>Torgersen</td>\n",
       "      <td>42.25</td>\n",
       "      <td>22.5</td>\n",
       "      <td>155.0</td>\n",
       "      <td>2250.0</td>\n",
       "      <td>FEMALE</td>\n",
       "    </tr>\n",
       "    <tr>\n",
       "      <th>1</th>\n",
       "      <td>Chinstrap</td>\n",
       "      <td>Biscoe</td>\n",
       "      <td>63.25</td>\n",
       "      <td>13.5</td>\n",
       "      <td>235.0</td>\n",
       "      <td>5250.0</td>\n",
       "      <td>FEMALE</td>\n",
       "    </tr>\n",
       "    <tr>\n",
       "      <th>2</th>\n",
       "      <td>Gentoo</td>\n",
       "      <td>Torgersen</td>\n",
       "      <td>42.25</td>\n",
       "      <td>22.5</td>\n",
       "      <td>155.0</td>\n",
       "      <td>2750.0</td>\n",
       "      <td>FEMALE</td>\n",
       "    </tr>\n",
       "    <tr>\n",
       "      <th>3</th>\n",
       "      <td>Chinstrap</td>\n",
       "      <td>Torgersen</td>\n",
       "      <td>63.25</td>\n",
       "      <td>13.5</td>\n",
       "      <td>235.0</td>\n",
       "      <td>5250.0</td>\n",
       "      <td>FEMALE</td>\n",
       "    </tr>\n",
       "    <tr>\n",
       "      <th>4</th>\n",
       "      <td>Chinstrap</td>\n",
       "      <td>Dream</td>\n",
       "      <td>63.25</td>\n",
       "      <td>13.5</td>\n",
       "      <td>235.0</td>\n",
       "      <td>5250.0</td>\n",
       "      <td>FEMALE</td>\n",
       "    </tr>\n",
       "  </tbody>\n",
       "</table>\n",
       "</div>"
      ],
      "text/plain": [
       "     species     island  bill_length_mm  bill_depth_mm  flipper_length_mm  \\\n",
       "0     Gentoo  Torgersen           42.25           22.5              155.0   \n",
       "1  Chinstrap     Biscoe           63.25           13.5              235.0   \n",
       "2     Gentoo  Torgersen           42.25           22.5              155.0   \n",
       "3  Chinstrap  Torgersen           63.25           13.5              235.0   \n",
       "4  Chinstrap      Dream           63.25           13.5              235.0   \n",
       "\n",
       "   body_mass_g     sex  \n",
       "0       2250.0  FEMALE  \n",
       "1       5250.0  FEMALE  \n",
       "2       2750.0  FEMALE  \n",
       "3       5250.0  FEMALE  \n",
       "4       5250.0  FEMALE  "
      ]
     },
     "execution_count": 15,
     "metadata": {},
     "output_type": "execute_result"
    }
   ],
   "source": [
    "res_dummy = client.smartnoise_synth_query(\n",
    "    synth_name=\"mwem\",\n",
    "    epsilon=1.0,\n",
    "    dummy=True,\n",
    ")\n",
    "res_dummy['query_response'].head()"
   ]
  },
  {
   "cell_type": "markdown",
   "id": "bf112c1d-2313-451e-8107-966a7b731283",
   "metadata": {},
   "source": [
    "She now specifies 3 columns and some parameters explained [here](https://docs.smartnoise.org/synth/synthesizers/mwem.html#snsynth.mwem.MWEMSynthesizer)."
   ]
  },
  {
   "cell_type": "code",
   "execution_count": 16,
   "id": "4f7303b7-77e0-4023-8f59-6b30e503567b",
   "metadata": {},
   "outputs": [
    {
     "data": {
      "text/html": [
       "<div>\n",
       "<style scoped>\n",
       "    .dataframe tbody tr th:only-of-type {\n",
       "        vertical-align: middle;\n",
       "    }\n",
       "\n",
       "    .dataframe tbody tr th {\n",
       "        vertical-align: top;\n",
       "    }\n",
       "\n",
       "    .dataframe thead th {\n",
       "        text-align: right;\n",
       "    }\n",
       "</style>\n",
       "<table border=\"1\" class=\"dataframe\">\n",
       "  <thead>\n",
       "    <tr style=\"text-align: right;\">\n",
       "      <th></th>\n",
       "      <th>species</th>\n",
       "      <th>island</th>\n",
       "      <th>sex</th>\n",
       "    </tr>\n",
       "  </thead>\n",
       "  <tbody>\n",
       "    <tr>\n",
       "      <th>0</th>\n",
       "      <td>Chinstrap</td>\n",
       "      <td>Torgersen</td>\n",
       "      <td>FEMALE</td>\n",
       "    </tr>\n",
       "    <tr>\n",
       "      <th>1</th>\n",
       "      <td>Gentoo</td>\n",
       "      <td>Torgersen</td>\n",
       "      <td>FEMALE</td>\n",
       "    </tr>\n",
       "    <tr>\n",
       "      <th>2</th>\n",
       "      <td>Gentoo</td>\n",
       "      <td>Torgersen</td>\n",
       "      <td>FEMALE</td>\n",
       "    </tr>\n",
       "    <tr>\n",
       "      <th>3</th>\n",
       "      <td>Gentoo</td>\n",
       "      <td>Torgersen</td>\n",
       "      <td>FEMALE</td>\n",
       "    </tr>\n",
       "    <tr>\n",
       "      <th>4</th>\n",
       "      <td>Chinstrap</td>\n",
       "      <td>Biscoe</td>\n",
       "      <td>FEMALE</td>\n",
       "    </tr>\n",
       "  </tbody>\n",
       "</table>\n",
       "</div>"
      ],
      "text/plain": [
       "     species     island     sex\n",
       "0  Chinstrap  Torgersen  FEMALE\n",
       "1     Gentoo  Torgersen  FEMALE\n",
       "2     Gentoo  Torgersen  FEMALE\n",
       "3     Gentoo  Torgersen  FEMALE\n",
       "4  Chinstrap     Biscoe  FEMALE"
      ]
     },
     "execution_count": 16,
     "metadata": {},
     "output_type": "execute_result"
    }
   ],
   "source": [
    "res_dummy = client.smartnoise_synth_query(\n",
    "    synth_name=\"mwem\",\n",
    "    epsilon=1.0,\n",
    "    select_cols = [\"species\", \"island\", \"sex\"],\n",
    "    synth_params = {\"measure_only\": False, \"max_retries_exp_mechanism\": 5},\n",
    "    dummy=True,\n",
    ")\n",
    "res_dummy['query_response'].head()"
   ]
  },
  {
   "cell_type": "markdown",
   "id": "184114e9-1cf0-4b53-a2e4-5a14d787562a",
   "metadata": {},
   "source": [
    "Finally it MWEM, she wants to go more in depth and create her own data preparation pipeline. Therefore, she can use Smartnoise-Synth \"Data Transformers\" explained [here](https://docs.smartnoise.org/synth/transforms/index.html) and send her own constraints dictionnary for specific steps. This is more for advanced user.\n",
    "\n",
    "By default, if no constraints are specified, the server creates its automatically a data transformer based on selected columns, synthesizer and metadata.\n",
    "\n",
    "Here she wants to add a clamping transformation on the continuous columns before training the synthesizer. She add the bounds based on metadata."
   ]
  },
  {
   "cell_type": "code",
   "execution_count": 18,
   "id": "3c3bf0ec-ca04-4c91-8742-c31f79633191",
   "metadata": {},
   "outputs": [
    {
     "data": {
      "text/plain": [
       "({'type': 'float', 'lower': 30.0, 'upper': 65.0},\n",
       " {'type': 'float', 'lower': 13.0, 'upper': 23.0})"
      ]
     },
     "execution_count": 18,
     "metadata": {},
     "output_type": "execute_result"
    }
   ],
   "source": [
    "bl_bounds = penguin_metadata[\"columns\"][\"bill_length_mm\"]\n",
    "bd_bounds = penguin_metadata[\"columns\"][\"bill_depth_mm\"]\n",
    "bl_bounds, bd_bounds"
   ]
  },
  {
   "cell_type": "code",
   "execution_count": 19,
   "id": "c3215ff4-aafb-4c1e-adf0-50dc383cd133",
   "metadata": {},
   "outputs": [],
   "source": [
    "from snsynth.transform import BinTransformer, ClampTransformer, ChainTransformer, LabelTransformer\n",
    "\n",
    "my_own_constraints = {\n",
    "    \"bill_length_mm\": ChainTransformer(\n",
    "        [\n",
    "            ClampTransformer(lower = bl_bounds[\"lower\"] + 10, upper = bl_bounds[\"upper\"] - 10),\n",
    "            BinTransformer(bins = 20, lower = bl_bounds[\"lower\"] + 10, upper = bl_bounds[\"upper\"] - 10),\n",
    "        ]\n",
    "    ),\n",
    "    \"bill_depth_mm\": ChainTransformer(\n",
    "        [\n",
    "            ClampTransformer(lower = bd_bounds[\"lower\"] + 2, upper = bd_bounds[\"upper\"] - 2),\n",
    "            BinTransformer(bins=20, lower = bd_bounds[\"lower\"] + 2, upper = bd_bounds[\"upper\"] - 2),\n",
    "        ]\n",
    "    ),\n",
    "    \"species\": LabelTransformer(nullable=True)\n",
    "}"
   ]
  },
  {
   "cell_type": "code",
   "execution_count": 20,
   "id": "ffba8bcd-0b6b-4cc0-98a3-b25e8bdd1786",
   "metadata": {},
   "outputs": [
    {
     "data": {
      "text/html": [
       "<div>\n",
       "<style scoped>\n",
       "    .dataframe tbody tr th:only-of-type {\n",
       "        vertical-align: middle;\n",
       "    }\n",
       "\n",
       "    .dataframe tbody tr th {\n",
       "        vertical-align: top;\n",
       "    }\n",
       "\n",
       "    .dataframe thead th {\n",
       "        text-align: right;\n",
       "    }\n",
       "</style>\n",
       "<table border=\"1\" class=\"dataframe\">\n",
       "  <thead>\n",
       "    <tr style=\"text-align: right;\">\n",
       "      <th></th>\n",
       "      <th>bill_length_mm</th>\n",
       "      <th>bill_depth_mm</th>\n",
       "      <th>species</th>\n",
       "    </tr>\n",
       "  </thead>\n",
       "  <tbody>\n",
       "    <tr>\n",
       "      <th>0</th>\n",
       "      <td>48.625</td>\n",
       "      <td>16.05</td>\n",
       "      <td>Chinstrap</td>\n",
       "    </tr>\n",
       "    <tr>\n",
       "      <th>1</th>\n",
       "      <td>51.625</td>\n",
       "      <td>18.75</td>\n",
       "      <td>Gentoo</td>\n",
       "    </tr>\n",
       "    <tr>\n",
       "      <th>2</th>\n",
       "      <td>51.625</td>\n",
       "      <td>18.75</td>\n",
       "      <td>Gentoo</td>\n",
       "    </tr>\n",
       "    <tr>\n",
       "      <th>3</th>\n",
       "      <td>51.625</td>\n",
       "      <td>18.75</td>\n",
       "      <td>Gentoo</td>\n",
       "    </tr>\n",
       "    <tr>\n",
       "      <th>4</th>\n",
       "      <td>44.875</td>\n",
       "      <td>15.15</td>\n",
       "      <td>Adelie</td>\n",
       "    </tr>\n",
       "  </tbody>\n",
       "</table>\n",
       "</div>"
      ],
      "text/plain": [
       "   bill_length_mm  bill_depth_mm    species\n",
       "0          48.625          16.05  Chinstrap\n",
       "1          51.625          18.75     Gentoo\n",
       "2          51.625          18.75     Gentoo\n",
       "3          51.625          18.75     Gentoo\n",
       "4          44.875          15.15     Adelie"
      ]
     },
     "execution_count": 20,
     "metadata": {},
     "output_type": "execute_result"
    }
   ],
   "source": [
    "res_dummy = client.smartnoise_synth_query(\n",
    "    synth_name=\"mwem\",\n",
    "    epsilon=1.0,\n",
    "    select_cols = [\"bill_length_mm\", \"bill_depth_mm\", \"species\"],\n",
    "    constraints = my_own_constraints,\n",
    "    dummy=True,\n",
    ")\n",
    "res_dummy['query_response'].head()"
   ]
  },
  {
   "cell_type": "markdown",
   "id": "8d680bdc-e99f-4a40-a9ff-c2d1d053a573",
   "metadata": {},
   "source": [
    "Also a subset of constraints can be specified for certain columns and the server will automatically generate those for the missing columns."
   ]
  },
  {
   "cell_type": "code",
   "execution_count": 21,
   "id": "21cc6269-5a6f-40c6-b081-52e59a62d903",
   "metadata": {},
   "outputs": [],
   "source": [
    "my_own_constraints = {\n",
    "    \"bill_length_mm\": ChainTransformer(\n",
    "        [\n",
    "            ClampTransformer(lower = bl_bounds[\"lower\"] + 10, upper = bl_bounds[\"upper\"] - 10),\n",
    "            BinTransformer(bins = 20, lower = bl_bounds[\"lower\"] + 10, upper = bl_bounds[\"upper\"] - 10),\n",
    "        ]\n",
    "    )\n",
    "}"
   ]
  },
  {
   "cell_type": "markdown",
   "id": "2b590d77-3cde-42ef-b55b-107cd253aad4",
   "metadata": {},
   "source": [
    "In this case, only the bill_length will be clamped."
   ]
  },
  {
   "cell_type": "code",
   "execution_count": 22,
   "id": "432e076e-8411-49f0-8250-100e0940313a",
   "metadata": {},
   "outputs": [
    {
     "data": {
      "text/html": [
       "<div>\n",
       "<style scoped>\n",
       "    .dataframe tbody tr th:only-of-type {\n",
       "        vertical-align: middle;\n",
       "    }\n",
       "\n",
       "    .dataframe tbody tr th {\n",
       "        vertical-align: top;\n",
       "    }\n",
       "\n",
       "    .dataframe thead th {\n",
       "        text-align: right;\n",
       "    }\n",
       "</style>\n",
       "<table border=\"1\" class=\"dataframe\">\n",
       "  <thead>\n",
       "    <tr style=\"text-align: right;\">\n",
       "      <th></th>\n",
       "      <th>bill_length_mm</th>\n",
       "      <th>bill_depth_mm</th>\n",
       "      <th>species</th>\n",
       "    </tr>\n",
       "  </thead>\n",
       "  <tbody>\n",
       "    <tr>\n",
       "      <th>0</th>\n",
       "      <td>41.125</td>\n",
       "      <td>20.5</td>\n",
       "      <td>Chinstrap</td>\n",
       "    </tr>\n",
       "    <tr>\n",
       "      <th>1</th>\n",
       "      <td>53.875</td>\n",
       "      <td>20.5</td>\n",
       "      <td>Adelie</td>\n",
       "    </tr>\n",
       "    <tr>\n",
       "      <th>2</th>\n",
       "      <td>49.375</td>\n",
       "      <td>21.5</td>\n",
       "      <td>Chinstrap</td>\n",
       "    </tr>\n",
       "    <tr>\n",
       "      <th>3</th>\n",
       "      <td>53.875</td>\n",
       "      <td>20.5</td>\n",
       "      <td>Adelie</td>\n",
       "    </tr>\n",
       "    <tr>\n",
       "      <th>4</th>\n",
       "      <td>41.125</td>\n",
       "      <td>22.5</td>\n",
       "      <td>Chinstrap</td>\n",
       "    </tr>\n",
       "  </tbody>\n",
       "</table>\n",
       "</div>"
      ],
      "text/plain": [
       "   bill_length_mm  bill_depth_mm    species\n",
       "0          41.125           20.5  Chinstrap\n",
       "1          53.875           20.5     Adelie\n",
       "2          49.375           21.5  Chinstrap\n",
       "3          53.875           20.5     Adelie\n",
       "4          41.125           22.5  Chinstrap"
      ]
     },
     "execution_count": 22,
     "metadata": {},
     "output_type": "execute_result"
    }
   ],
   "source": [
    "res_dummy = client.smartnoise_synth_query(\n",
    "    synth_name=\"mwem\",\n",
    "    epsilon=1.0,\n",
    "    select_cols = [\"bill_length_mm\", \"bill_depth_mm\", \"species\"],\n",
    "    constraints = my_own_constraints,\n",
    "    dummy=True,\n",
    ")\n",
    "res_dummy['query_response'].head()"
   ]
  },
  {
   "cell_type": "markdown",
   "id": "035b69c3-4819-4fc1-b4ac-1c2bac1b31fc",
   "metadata": {},
   "source": [
    "### MST: Maximum Spanning Tree"
   ]
  },
  {
   "cell_type": "markdown",
   "id": "21190b72-3089-4783-addd-09590814b94f",
   "metadata": {},
   "source": [
    "She now experiments with MST. As the synthesizer is very needy in terms of computation, she selects a subset of column for it. See MST [here](https://docs.smartnoise.org/synth/synthesizers/mst.html)."
   ]
  },
  {
   "cell_type": "code",
   "execution_count": 23,
   "id": "08d3f738-7dd0-4c73-9db6-ea91ee188968",
   "metadata": {},
   "outputs": [
    {
     "data": {
      "text/html": [
       "<div>\n",
       "<style scoped>\n",
       "    .dataframe tbody tr th:only-of-type {\n",
       "        vertical-align: middle;\n",
       "    }\n",
       "\n",
       "    .dataframe tbody tr th {\n",
       "        vertical-align: top;\n",
       "    }\n",
       "\n",
       "    .dataframe thead th {\n",
       "        text-align: right;\n",
       "    }\n",
       "</style>\n",
       "<table border=\"1\" class=\"dataframe\">\n",
       "  <thead>\n",
       "    <tr style=\"text-align: right;\">\n",
       "      <th></th>\n",
       "      <th>species</th>\n",
       "      <th>sex</th>\n",
       "    </tr>\n",
       "  </thead>\n",
       "  <tbody>\n",
       "    <tr>\n",
       "      <th>0</th>\n",
       "      <td></td>\n",
       "      <td>FEMALE</td>\n",
       "    </tr>\n",
       "    <tr>\n",
       "      <th>1</th>\n",
       "      <td>Adelie</td>\n",
       "      <td>FEMALE</td>\n",
       "    </tr>\n",
       "    <tr>\n",
       "      <th>2</th>\n",
       "      <td>Gentoo</td>\n",
       "      <td>MALE</td>\n",
       "    </tr>\n",
       "    <tr>\n",
       "      <th>3</th>\n",
       "      <td>Gentoo</td>\n",
       "      <td>MALE</td>\n",
       "    </tr>\n",
       "    <tr>\n",
       "      <th>4</th>\n",
       "      <td>Adelie</td>\n",
       "      <td></td>\n",
       "    </tr>\n",
       "  </tbody>\n",
       "</table>\n",
       "</div>"
      ],
      "text/plain": [
       "  species     sex\n",
       "0          FEMALE\n",
       "1  Adelie  FEMALE\n",
       "2  Gentoo    MALE\n",
       "3  Gentoo    MALE\n",
       "4  Adelie        "
      ]
     },
     "execution_count": 23,
     "metadata": {},
     "output_type": "execute_result"
    }
   ],
   "source": [
    "res_dummy = client.smartnoise_synth_query(\n",
    "    synth_name=\"mst\",\n",
    "    epsilon=1.0,\n",
    "    select_cols = [\"species\", \"sex\"],\n",
    "    dummy=True,\n",
    ")\n",
    "res_dummy['query_response'].head()"
   ]
  },
  {
   "cell_type": "markdown",
   "id": "249615d7-14e6-4f9c-8368-3fc00b4832c9",
   "metadata": {},
   "source": [
    "She can also specify a specific number of samples to get (if return_model is not True):"
   ]
  },
  {
   "cell_type": "code",
   "execution_count": 24,
   "id": "7ea90e9d-7190-43d7-8ab8-c58214cd4198",
   "metadata": {},
   "outputs": [
    {
     "data": {
      "text/html": [
       "<div>\n",
       "<style scoped>\n",
       "    .dataframe tbody tr th:only-of-type {\n",
       "        vertical-align: middle;\n",
       "    }\n",
       "\n",
       "    .dataframe tbody tr th {\n",
       "        vertical-align: top;\n",
       "    }\n",
       "\n",
       "    .dataframe thead th {\n",
       "        text-align: right;\n",
       "    }\n",
       "</style>\n",
       "<table border=\"1\" class=\"dataframe\">\n",
       "  <thead>\n",
       "    <tr style=\"text-align: right;\">\n",
       "      <th></th>\n",
       "      <th>species</th>\n",
       "      <th>sex</th>\n",
       "    </tr>\n",
       "  </thead>\n",
       "  <tbody>\n",
       "    <tr>\n",
       "      <th>0</th>\n",
       "      <td>Adelie</td>\n",
       "      <td>FEMALE</td>\n",
       "    </tr>\n",
       "    <tr>\n",
       "      <th>1</th>\n",
       "      <td>Chinstrap</td>\n",
       "      <td></td>\n",
       "    </tr>\n",
       "    <tr>\n",
       "      <th>2</th>\n",
       "      <td>Adelie</td>\n",
       "      <td>MALE</td>\n",
       "    </tr>\n",
       "    <tr>\n",
       "      <th>3</th>\n",
       "      <td>Adelie</td>\n",
       "      <td>FEMALE</td>\n",
       "    </tr>\n",
       "  </tbody>\n",
       "</table>\n",
       "</div>"
      ],
      "text/plain": [
       "     species     sex\n",
       "0     Adelie  FEMALE\n",
       "1  Chinstrap        \n",
       "2     Adelie    MALE\n",
       "3     Adelie  FEMALE"
      ]
     },
     "execution_count": 24,
     "metadata": {},
     "output_type": "execute_result"
    }
   ],
   "source": [
    "res_dummy = client.smartnoise_synth_query(\n",
    "    synth_name=\"mst\",\n",
    "    epsilon=1.0,\n",
    "    select_cols = [\"species\", \"sex\"],\n",
    "    nb_samples = 4,\n",
    "    dummy=True,\n",
    ")\n",
    "res_dummy['query_response']"
   ]
  },
  {
   "cell_type": "markdown",
   "id": "c1b4c876-11a5-4466-8831-d94786debe00",
   "metadata": {},
   "source": [
    "And a condition on these samples. For instance, here, she only wants female samples."
   ]
  },
  {
   "cell_type": "code",
   "execution_count": 25,
   "id": "e1d50939-1fc7-4fcb-84d2-d7611435800b",
   "metadata": {},
   "outputs": [
    {
     "data": {
      "text/html": [
       "<div>\n",
       "<style scoped>\n",
       "    .dataframe tbody tr th:only-of-type {\n",
       "        vertical-align: middle;\n",
       "    }\n",
       "\n",
       "    .dataframe tbody tr th {\n",
       "        vertical-align: top;\n",
       "    }\n",
       "\n",
       "    .dataframe thead th {\n",
       "        text-align: right;\n",
       "    }\n",
       "</style>\n",
       "<table border=\"1\" class=\"dataframe\">\n",
       "  <thead>\n",
       "    <tr style=\"text-align: right;\">\n",
       "      <th></th>\n",
       "      <th>sex</th>\n",
       "      <th>species</th>\n",
       "    </tr>\n",
       "  </thead>\n",
       "  <tbody>\n",
       "    <tr>\n",
       "      <th>0</th>\n",
       "      <td></td>\n",
       "      <td>Gentoo</td>\n",
       "    </tr>\n",
       "    <tr>\n",
       "      <th>1</th>\n",
       "      <td></td>\n",
       "      <td>Gentoo</td>\n",
       "    </tr>\n",
       "    <tr>\n",
       "      <th>2</th>\n",
       "      <td></td>\n",
       "      <td>Chinstrap</td>\n",
       "    </tr>\n",
       "    <tr>\n",
       "      <th>3</th>\n",
       "      <td></td>\n",
       "      <td>Gentoo</td>\n",
       "    </tr>\n",
       "  </tbody>\n",
       "</table>\n",
       "</div>"
      ],
      "text/plain": [
       "  sex    species\n",
       "0         Gentoo\n",
       "1         Gentoo\n",
       "2      Chinstrap\n",
       "3         Gentoo"
      ]
     },
     "execution_count": 25,
     "metadata": {},
     "output_type": "execute_result"
    }
   ],
   "source": [
    "res_dummy = client.smartnoise_synth_query(\n",
    "    synth_name=\"mst\",\n",
    "    epsilon=1.0,\n",
    "    select_cols = [\"sex\", \"species\"],\n",
    "    nb_samples = 4,\n",
    "    condition = \"sex = FEMALE\",\n",
    "    dummy=True,\n",
    ")\n",
    "res_dummy['query_response']"
   ]
  },
  {
   "cell_type": "markdown",
   "id": "54809d01-9dd4-4bef-a575-3bc61d52b842",
   "metadata": {},
   "source": [
    "## DPCTGAN: Differentially Private Conditional Tabular GAN"
   ]
  },
  {
   "cell_type": "markdown",
   "id": "8e0cb6b4-f539-4613-86f1-031b646e2376",
   "metadata": {},
   "source": [
    "She now tries DPCTGAN. A first warning let her know that the random noise generation for this model is not cryptographically secure and if it is not ok for her, she can decode to stop using this synthesizer. Then she does not get a response but an error 422 with an explanation."
   ]
  },
  {
   "cell_type": "code",
   "execution_count": 26,
   "id": "7b508f33-7294-4928-8a25-27e0f0c702d3",
   "metadata": {},
   "outputs": [
    {
     "name": "stderr",
     "output_type": "stream",
     "text": [
      "/code/lomas_client/utils.py:37: UserWarning: Warning:dpctgan synthesizer random generator for noise and shuffling is not cryptographically secure. (pseudo-rng in vanilla PyTorch).\n",
      "  warnings.warn(\n"
     ]
    },
    {
     "name": "stdout",
     "output_type": "stream",
     "text": [
      "Server error status 422: {\"ExternalLibraryException\":\"Error fitting model: sample_rate=5.0 is not a valid value. Please provide a float between 0 and 1. Try decreasing batch_size in synth_params (default batch_size=500).\",\"library\":\"smartnoise_synth\"}\n"
     ]
    }
   ],
   "source": [
    "res_dummy = client.smartnoise_synth_query(\n",
    "    synth_name=\"dpctgan\",\n",
    "    epsilon=1.0,\n",
    "    dummy=True,\n",
    ")\n",
    "res_dummy"
   ]
  },
  {
   "cell_type": "markdown",
   "id": "240b3ad1-bc17-48cd-877e-19a05dc18b67",
   "metadata": {},
   "source": [
    "The default parameters of DPCTGAN do not work for PENGUIN dataset. Hence, as advised in the error message, she decreases the batch_size (also she chekcks the documentation [here](https://docs.smartnoise.org/synth/synthesizers/dpctgan.html)."
   ]
  },
  {
   "cell_type": "code",
   "execution_count": 27,
   "id": "8b122e7f-9cd4-42ca-b175-f26d34609646",
   "metadata": {},
   "outputs": [
    {
     "data": {
      "text/html": [
       "<div>\n",
       "<style scoped>\n",
       "    .dataframe tbody tr th:only-of-type {\n",
       "        vertical-align: middle;\n",
       "    }\n",
       "\n",
       "    .dataframe tbody tr th {\n",
       "        vertical-align: top;\n",
       "    }\n",
       "\n",
       "    .dataframe thead th {\n",
       "        text-align: right;\n",
       "    }\n",
       "</style>\n",
       "<table border=\"1\" class=\"dataframe\">\n",
       "  <thead>\n",
       "    <tr style=\"text-align: right;\">\n",
       "      <th></th>\n",
       "      <th>species</th>\n",
       "      <th>island</th>\n",
       "      <th>bill_length_mm</th>\n",
       "      <th>bill_depth_mm</th>\n",
       "      <th>flipper_length_mm</th>\n",
       "      <th>body_mass_g</th>\n",
       "      <th>sex</th>\n",
       "    </tr>\n",
       "  </thead>\n",
       "  <tbody>\n",
       "    <tr>\n",
       "      <th>0</th>\n",
       "      <td>Gentoo</td>\n",
       "      <td>Torgersen</td>\n",
       "      <td>47.809876</td>\n",
       "      <td>17.548668</td>\n",
       "      <td>188.346262</td>\n",
       "      <td>5152.039871</td>\n",
       "      <td>MALE</td>\n",
       "    </tr>\n",
       "    <tr>\n",
       "      <th>1</th>\n",
       "      <td>Gentoo</td>\n",
       "      <td>Torgersen</td>\n",
       "      <td>45.505892</td>\n",
       "      <td>15.785036</td>\n",
       "      <td>215.527822</td>\n",
       "      <td>4079.444863</td>\n",
       "      <td>FEMALE</td>\n",
       "    </tr>\n",
       "    <tr>\n",
       "      <th>2</th>\n",
       "      <td>Chinstrap</td>\n",
       "      <td>Biscoe</td>\n",
       "      <td>39.293022</td>\n",
       "      <td>19.115118</td>\n",
       "      <td>176.019657</td>\n",
       "      <td>3719.095856</td>\n",
       "      <td>MALE</td>\n",
       "    </tr>\n",
       "    <tr>\n",
       "      <th>3</th>\n",
       "      <td>Adelie</td>\n",
       "      <td>Dream</td>\n",
       "      <td>47.029771</td>\n",
       "      <td>17.322245</td>\n",
       "      <td>202.441730</td>\n",
       "      <td>4394.811036</td>\n",
       "      <td>MALE</td>\n",
       "    </tr>\n",
       "    <tr>\n",
       "      <th>4</th>\n",
       "      <td>Gentoo</td>\n",
       "      <td>Dream</td>\n",
       "      <td>44.393938</td>\n",
       "      <td>17.215382</td>\n",
       "      <td>200.788893</td>\n",
       "      <td>4653.589007</td>\n",
       "      <td>FEMALE</td>\n",
       "    </tr>\n",
       "  </tbody>\n",
       "</table>\n",
       "</div>"
      ],
      "text/plain": [
       "     species     island  bill_length_mm  bill_depth_mm  flipper_length_mm  \\\n",
       "0     Gentoo  Torgersen       47.809876      17.548668         188.346262   \n",
       "1     Gentoo  Torgersen       45.505892      15.785036         215.527822   \n",
       "2  Chinstrap     Biscoe       39.293022      19.115118         176.019657   \n",
       "3     Adelie      Dream       47.029771      17.322245         202.441730   \n",
       "4     Gentoo      Dream       44.393938      17.215382         200.788893   \n",
       "\n",
       "   body_mass_g     sex  \n",
       "0  5152.039871    MALE  \n",
       "1  4079.444863  FEMALE  \n",
       "2  3719.095856    MALE  \n",
       "3  4394.811036    MALE  \n",
       "4  4653.589007  FEMALE  "
      ]
     },
     "execution_count": 27,
     "metadata": {},
     "output_type": "execute_result"
    }
   ],
   "source": [
    "res_dummy = client.smartnoise_synth_query(\n",
    "    synth_name=\"dpctgan\",\n",
    "    epsilon=1.0,\n",
    "    synth_params = {\"batch_size\": 50},\n",
    "    dummy=True,\n",
    ")\n",
    "res_dummy['query_response'].head()"
   ]
  },
  {
   "cell_type": "code",
   "execution_count": null,
   "id": "d0275fe1-7af3-4c1a-b54c-f054b9fc9658",
   "metadata": {},
   "outputs": [],
   "source": []
  },
  {
   "cell_type": "markdown",
   "id": "6372e6e4-26d7-401d-b11b-46d1313a9b1f",
   "metadata": {},
   "source": [
    "## PATEGAN: Private Aggregation of Teacher Ensembles"
   ]
  },
  {
   "cell_type": "markdown",
   "id": "547e950a-0070-42b4-819a-f8527b4e24f1",
   "metadata": {},
   "source": [
    "Unfortunatelly, she is not able to train the pategan synthetizer on the PENGUIN dataset. Hence, she must try another one."
   ]
  },
  {
   "cell_type": "code",
   "execution_count": 28,
   "id": "5a9859d6-5bd7-4300-9232-95314bee37f6",
   "metadata": {},
   "outputs": [
    {
     "name": "stdout",
     "output_type": "stream",
     "text": [
      "Server error status 422: {\"ExternalLibraryException\":\"pategan not reliable with this dataset.\",\"library\":\"smartnoise_synth\"}\n"
     ]
    }
   ],
   "source": [
    "res_dummy = client.smartnoise_synth_query(\n",
    "    synth_name=\"pategan\",\n",
    "    epsilon=1.0,\n",
    "    dummy=True,\n",
    ")\n",
    "res_dummy"
   ]
  },
  {
   "cell_type": "markdown",
   "id": "248f8cdc-a7d0-46e2-9b3a-61b78da606b0",
   "metadata": {},
   "source": [
    "## PATECTGAN: Conditional tabular GAN using Private Aggregation of Teacher Ensembles"
   ]
  },
  {
   "cell_type": "code",
   "execution_count": 29,
   "id": "87dcdd69-8bf0-4eb4-88c1-f6bc9c87ea09",
   "metadata": {},
   "outputs": [
    {
     "data": {
      "text/html": [
       "<div>\n",
       "<style scoped>\n",
       "    .dataframe tbody tr th:only-of-type {\n",
       "        vertical-align: middle;\n",
       "    }\n",
       "\n",
       "    .dataframe tbody tr th {\n",
       "        vertical-align: top;\n",
       "    }\n",
       "\n",
       "    .dataframe thead th {\n",
       "        text-align: right;\n",
       "    }\n",
       "</style>\n",
       "<table border=\"1\" class=\"dataframe\">\n",
       "  <thead>\n",
       "    <tr style=\"text-align: right;\">\n",
       "      <th></th>\n",
       "      <th>species</th>\n",
       "      <th>island</th>\n",
       "      <th>bill_length_mm</th>\n",
       "      <th>bill_depth_mm</th>\n",
       "      <th>flipper_length_mm</th>\n",
       "      <th>body_mass_g</th>\n",
       "      <th>sex</th>\n",
       "    </tr>\n",
       "  </thead>\n",
       "  <tbody>\n",
       "    <tr>\n",
       "      <th>0</th>\n",
       "      <td>Adelie</td>\n",
       "      <td>Torgersen</td>\n",
       "      <td>44.929629</td>\n",
       "      <td>17.136712</td>\n",
       "      <td>206.450379</td>\n",
       "      <td>3677.639037</td>\n",
       "      <td>MALE</td>\n",
       "    </tr>\n",
       "    <tr>\n",
       "      <th>1</th>\n",
       "      <td>Chinstrap</td>\n",
       "      <td>Biscoe</td>\n",
       "      <td>41.911177</td>\n",
       "      <td>15.958753</td>\n",
       "      <td>219.224480</td>\n",
       "      <td>3503.649727</td>\n",
       "      <td>MALE</td>\n",
       "    </tr>\n",
       "    <tr>\n",
       "      <th>2</th>\n",
       "      <td>Chinstrap</td>\n",
       "      <td>Biscoe</td>\n",
       "      <td>39.371106</td>\n",
       "      <td>18.538643</td>\n",
       "      <td>215.860750</td>\n",
       "      <td>6183.452576</td>\n",
       "      <td>MALE</td>\n",
       "    </tr>\n",
       "    <tr>\n",
       "      <th>3</th>\n",
       "      <td>Gentoo</td>\n",
       "      <td>Dream</td>\n",
       "      <td>39.778699</td>\n",
       "      <td>19.392393</td>\n",
       "      <td>220.403337</td>\n",
       "      <td>6291.852415</td>\n",
       "      <td>MALE</td>\n",
       "    </tr>\n",
       "    <tr>\n",
       "      <th>4</th>\n",
       "      <td>Gentoo</td>\n",
       "      <td>Torgersen</td>\n",
       "      <td>41.940040</td>\n",
       "      <td>18.712894</td>\n",
       "      <td>209.865149</td>\n",
       "      <td>3379.273981</td>\n",
       "      <td>FEMALE</td>\n",
       "    </tr>\n",
       "  </tbody>\n",
       "</table>\n",
       "</div>"
      ],
      "text/plain": [
       "     species     island  bill_length_mm  bill_depth_mm  flipper_length_mm  \\\n",
       "0     Adelie  Torgersen       44.929629      17.136712         206.450379   \n",
       "1  Chinstrap     Biscoe       41.911177      15.958753         219.224480   \n",
       "2  Chinstrap     Biscoe       39.371106      18.538643         215.860750   \n",
       "3     Gentoo      Dream       39.778699      19.392393         220.403337   \n",
       "4     Gentoo  Torgersen       41.940040      18.712894         209.865149   \n",
       "\n",
       "   body_mass_g     sex  \n",
       "0  3677.639037    MALE  \n",
       "1  3503.649727    MALE  \n",
       "2  6183.452576    MALE  \n",
       "3  6291.852415    MALE  \n",
       "4  3379.273981  FEMALE  "
      ]
     },
     "execution_count": 29,
     "metadata": {},
     "output_type": "execute_result"
    }
   ],
   "source": [
    "res_dummy = client.smartnoise_synth_query(\n",
    "    synth_name=\"patectgan\",\n",
    "    epsilon=1.0,\n",
    "    dummy=True,\n",
    ")\n",
    "res_dummy['query_response'].head()"
   ]
  },
  {
   "cell_type": "code",
   "execution_count": 30,
   "id": "06eb0b95-1265-422c-9087-121b7091f37c",
   "metadata": {},
   "outputs": [
    {
     "data": {
      "text/html": [
       "<div>\n",
       "<style scoped>\n",
       "    .dataframe tbody tr th:only-of-type {\n",
       "        vertical-align: middle;\n",
       "    }\n",
       "\n",
       "    .dataframe tbody tr th {\n",
       "        vertical-align: top;\n",
       "    }\n",
       "\n",
       "    .dataframe thead th {\n",
       "        text-align: right;\n",
       "    }\n",
       "</style>\n",
       "<table border=\"1\" class=\"dataframe\">\n",
       "  <thead>\n",
       "    <tr style=\"text-align: right;\">\n",
       "      <th></th>\n",
       "      <th>island</th>\n",
       "      <th>bill_length_mm</th>\n",
       "      <th>body_mass_g</th>\n",
       "    </tr>\n",
       "  </thead>\n",
       "  <tbody>\n",
       "    <tr>\n",
       "      <th>0</th>\n",
       "      <td>Torgersen</td>\n",
       "      <td>48.482846</td>\n",
       "      <td>4627.040502</td>\n",
       "    </tr>\n",
       "    <tr>\n",
       "      <th>1</th>\n",
       "      <td>Biscoe</td>\n",
       "      <td>36.627252</td>\n",
       "      <td>4458.971380</td>\n",
       "    </tr>\n",
       "    <tr>\n",
       "      <th>2</th>\n",
       "      <td>Biscoe</td>\n",
       "      <td>50.437214</td>\n",
       "      <td>4419.834249</td>\n",
       "    </tr>\n",
       "    <tr>\n",
       "      <th>3</th>\n",
       "      <td>Torgersen</td>\n",
       "      <td>57.515079</td>\n",
       "      <td>4114.015296</td>\n",
       "    </tr>\n",
       "    <tr>\n",
       "      <th>4</th>\n",
       "      <td>Dream</td>\n",
       "      <td>37.914762</td>\n",
       "      <td>3729.208380</td>\n",
       "    </tr>\n",
       "  </tbody>\n",
       "</table>\n",
       "</div>"
      ],
      "text/plain": [
       "      island  bill_length_mm  body_mass_g\n",
       "0  Torgersen       48.482846  4627.040502\n",
       "1     Biscoe       36.627252  4458.971380\n",
       "2     Biscoe       50.437214  4419.834249\n",
       "3  Torgersen       57.515079  4114.015296\n",
       "4      Dream       37.914762  3729.208380"
      ]
     },
     "execution_count": 30,
     "metadata": {},
     "output_type": "execute_result"
    }
   ],
   "source": [
    "res_dummy = client.smartnoise_synth_query(\n",
    "    synth_name=\"patectgan\",\n",
    "    epsilon=1.0,\n",
    "    select_cols = [\"island\", \"bill_length_mm\", \"body_mass_g\"],\n",
    "    synth_params = {\n",
    "        \"embedding_dim\": 256, \n",
    "        \"generator_dim\": (128, 128), \n",
    "        \"discriminator_dim\": (256, 256),\n",
    "        \"generator_lr\": 0.0003, \n",
    "        \"generator_decay\": 1e-05, \n",
    "        \"discriminator_lr\": 0.0003, \n",
    "        \"discriminator_decay\": 1e-05, \n",
    "        \"batch_size\": 500\n",
    "    },\n",
    "    nb_samples = 100,\n",
    "    dummy=True,\n",
    ")\n",
    "res_dummy['query_response'].head()"
   ]
  },
  {
   "cell_type": "markdown",
   "id": "7fcda9d1-4137-4ff3-9af7-eead85057dd5",
   "metadata": {},
   "source": [
    "## DPGAN: DIfferentially Private GAN"
   ]
  },
  {
   "cell_type": "markdown",
   "id": "084ea436-f47e-4da2-95ea-7a068b9f1510",
   "metadata": {},
   "source": [
    "For DPGAN, there is the same warning as for DPCTGAN with the cryptographically secure random noise generation."
   ]
  },
  {
   "cell_type": "code",
   "execution_count": 31,
   "id": "03c70909-e5f6-4c34-a787-37f5615ed600",
   "metadata": {},
   "outputs": [
    {
     "name": "stderr",
     "output_type": "stream",
     "text": [
      "/code/lomas_client/utils.py:37: UserWarning: Warning:dpgan synthesizer random generator for noise and shuffling is not cryptographically secure. (pseudo-rng in vanilla PyTorch).\n",
      "  warnings.warn(\n"
     ]
    },
    {
     "data": {
      "text/html": [
       "<div>\n",
       "<style scoped>\n",
       "    .dataframe tbody tr th:only-of-type {\n",
       "        vertical-align: middle;\n",
       "    }\n",
       "\n",
       "    .dataframe tbody tr th {\n",
       "        vertical-align: top;\n",
       "    }\n",
       "\n",
       "    .dataframe thead th {\n",
       "        text-align: right;\n",
       "    }\n",
       "</style>\n",
       "<table border=\"1\" class=\"dataframe\">\n",
       "  <thead>\n",
       "    <tr style=\"text-align: right;\">\n",
       "      <th></th>\n",
       "      <th>species</th>\n",
       "      <th>island</th>\n",
       "      <th>bill_length_mm</th>\n",
       "      <th>bill_depth_mm</th>\n",
       "      <th>flipper_length_mm</th>\n",
       "      <th>body_mass_g</th>\n",
       "      <th>sex</th>\n",
       "    </tr>\n",
       "  </thead>\n",
       "  <tbody>\n",
       "    <tr>\n",
       "      <th>0</th>\n",
       "      <td>Chinstrap</td>\n",
       "      <td>Torgersen</td>\n",
       "      <td>47.418710</td>\n",
       "      <td>23.000000</td>\n",
       "      <td>192.233215</td>\n",
       "      <td>4478.892826</td>\n",
       "      <td>MALE</td>\n",
       "    </tr>\n",
       "    <tr>\n",
       "      <th>1</th>\n",
       "      <td>Adelie</td>\n",
       "      <td>Biscoe</td>\n",
       "      <td>45.057986</td>\n",
       "      <td>17.836150</td>\n",
       "      <td>195.967093</td>\n",
       "      <td>5085.548207</td>\n",
       "      <td>MALE</td>\n",
       "    </tr>\n",
       "    <tr>\n",
       "      <th>2</th>\n",
       "      <td>Adelie</td>\n",
       "      <td>Dream</td>\n",
       "      <td>46.495445</td>\n",
       "      <td>17.600734</td>\n",
       "      <td>195.489978</td>\n",
       "      <td>3655.695215</td>\n",
       "      <td>MALE</td>\n",
       "    </tr>\n",
       "    <tr>\n",
       "      <th>3</th>\n",
       "      <td>Gentoo</td>\n",
       "      <td>Torgersen</td>\n",
       "      <td>58.334219</td>\n",
       "      <td>19.706083</td>\n",
       "      <td>250.000000</td>\n",
       "      <td>7000.000000</td>\n",
       "      <td>FEMALE</td>\n",
       "    </tr>\n",
       "    <tr>\n",
       "      <th>4</th>\n",
       "      <td>Adelie</td>\n",
       "      <td>Biscoe</td>\n",
       "      <td>65.000000</td>\n",
       "      <td>16.195120</td>\n",
       "      <td>206.065695</td>\n",
       "      <td>4478.947320</td>\n",
       "      <td>FEMALE</td>\n",
       "    </tr>\n",
       "  </tbody>\n",
       "</table>\n",
       "</div>"
      ],
      "text/plain": [
       "     species     island  bill_length_mm  bill_depth_mm  flipper_length_mm  \\\n",
       "0  Chinstrap  Torgersen       47.418710      23.000000         192.233215   \n",
       "1     Adelie     Biscoe       45.057986      17.836150         195.967093   \n",
       "2     Adelie      Dream       46.495445      17.600734         195.489978   \n",
       "3     Gentoo  Torgersen       58.334219      19.706083         250.000000   \n",
       "4     Adelie     Biscoe       65.000000      16.195120         206.065695   \n",
       "\n",
       "   body_mass_g     sex  \n",
       "0  4478.892826    MALE  \n",
       "1  5085.548207    MALE  \n",
       "2  3655.695215    MALE  \n",
       "3  7000.000000  FEMALE  \n",
       "4  4478.947320  FEMALE  "
      ]
     },
     "execution_count": 31,
     "metadata": {},
     "output_type": "execute_result"
    }
   ],
   "source": [
    "res_dummy = client.smartnoise_synth_query(\n",
    "    synth_name=\"dpgan\",\n",
    "    epsilon=1.0,\n",
    "    dummy=True,\n",
    ")\n",
    "res_dummy['query_response'].head()"
   ]
  },
  {
   "cell_type": "markdown",
   "id": "db5329b4-6a21-4b38-abeb-68a68195109e",
   "metadata": {},
   "source": [
    "One final time she samples with conditions:"
   ]
  },
  {
   "cell_type": "code",
   "execution_count": 32,
   "id": "17651dfc-d3b7-4030-a4be-1767de3767d1",
   "metadata": {},
   "outputs": [
    {
     "name": "stderr",
     "output_type": "stream",
     "text": [
      "/code/lomas_client/utils.py:37: UserWarning: Warning:dpgan synthesizer random generator for noise and shuffling is not cryptographically secure. (pseudo-rng in vanilla PyTorch).\n",
      "  warnings.warn(\n"
     ]
    },
    {
     "data": {
      "text/html": [
       "<div>\n",
       "<style scoped>\n",
       "    .dataframe tbody tr th:only-of-type {\n",
       "        vertical-align: middle;\n",
       "    }\n",
       "\n",
       "    .dataframe tbody tr th {\n",
       "        vertical-align: top;\n",
       "    }\n",
       "\n",
       "    .dataframe thead th {\n",
       "        text-align: right;\n",
       "    }\n",
       "</style>\n",
       "<table border=\"1\" class=\"dataframe\">\n",
       "  <thead>\n",
       "    <tr style=\"text-align: right;\">\n",
       "      <th></th>\n",
       "      <th>species</th>\n",
       "      <th>island</th>\n",
       "      <th>bill_length_mm</th>\n",
       "      <th>bill_depth_mm</th>\n",
       "      <th>flipper_length_mm</th>\n",
       "      <th>body_mass_g</th>\n",
       "      <th>sex</th>\n",
       "    </tr>\n",
       "  </thead>\n",
       "  <tbody>\n",
       "    <tr>\n",
       "      <th>0</th>\n",
       "      <td>Adelie</td>\n",
       "      <td>Torgersen</td>\n",
       "      <td>43.485997</td>\n",
       "      <td>19.496153</td>\n",
       "      <td>180.303064</td>\n",
       "      <td>6134.536535</td>\n",
       "      <td>MALE</td>\n",
       "    </tr>\n",
       "    <tr>\n",
       "      <th>1</th>\n",
       "      <td>Gentoo</td>\n",
       "      <td>Torgersen</td>\n",
       "      <td>63.116608</td>\n",
       "      <td>21.453384</td>\n",
       "      <td>189.907485</td>\n",
       "      <td>7000.000000</td>\n",
       "      <td>MALE</td>\n",
       "    </tr>\n",
       "    <tr>\n",
       "      <th>2</th>\n",
       "      <td>Adelie</td>\n",
       "      <td>Dream</td>\n",
       "      <td>65.000000</td>\n",
       "      <td>20.504224</td>\n",
       "      <td>189.021906</td>\n",
       "      <td>5361.825123</td>\n",
       "      <td>MALE</td>\n",
       "    </tr>\n",
       "    <tr>\n",
       "      <th>3</th>\n",
       "      <td>Adelie</td>\n",
       "      <td>Dream</td>\n",
       "      <td>65.000000</td>\n",
       "      <td>20.310123</td>\n",
       "      <td>193.809981</td>\n",
       "      <td>5012.155779</td>\n",
       "      <td>FEMALE</td>\n",
       "    </tr>\n",
       "    <tr>\n",
       "      <th>4</th>\n",
       "      <td>Adelie</td>\n",
       "      <td>Torgersen</td>\n",
       "      <td>64.386925</td>\n",
       "      <td>16.037792</td>\n",
       "      <td>188.511754</td>\n",
       "      <td>6332.941920</td>\n",
       "      <td>MALE</td>\n",
       "    </tr>\n",
       "  </tbody>\n",
       "</table>\n",
       "</div>"
      ],
      "text/plain": [
       "  species     island  bill_length_mm  bill_depth_mm  flipper_length_mm  \\\n",
       "0  Adelie  Torgersen       43.485997      19.496153         180.303064   \n",
       "1  Gentoo  Torgersen       63.116608      21.453384         189.907485   \n",
       "2  Adelie      Dream       65.000000      20.504224         189.021906   \n",
       "3  Adelie      Dream       65.000000      20.310123         193.809981   \n",
       "4  Adelie  Torgersen       64.386925      16.037792         188.511754   \n",
       "\n",
       "   body_mass_g     sex  \n",
       "0  6134.536535    MALE  \n",
       "1  7000.000000    MALE  \n",
       "2  5361.825123    MALE  \n",
       "3  5012.155779  FEMALE  \n",
       "4  6332.941920    MALE  "
      ]
     },
     "execution_count": 32,
     "metadata": {},
     "output_type": "execute_result"
    }
   ],
   "source": [
    "res_dummy = client.smartnoise_synth_query(\n",
    "    synth_name=\"dpgan\",\n",
    "    epsilon=1.0,\n",
    "    condition = \"body_mass_g > 5000\",\n",
    "    dummy=True,\n",
    ")\n",
    "res_dummy['query_response'].head()"
   ]
  },
  {
   "cell_type": "markdown",
   "id": "177c8a4b-4eb7-444c-836d-cce81327e5c6",
   "metadata": {},
   "source": [
    "And now on the real dataset"
   ]
  },
  {
   "cell_type": "code",
   "execution_count": 33,
   "id": "799c7574-0eb9-49c1-bc01-b051782d7b62",
   "metadata": {},
   "outputs": [
    {
     "name": "stderr",
     "output_type": "stream",
     "text": [
      "/code/lomas_client/utils.py:37: UserWarning: Warning:dpgan synthesizer random generator for noise and shuffling is not cryptographically secure. (pseudo-rng in vanilla PyTorch).\n",
      "  warnings.warn(\n"
     ]
    },
    {
     "data": {
      "text/html": [
       "<div>\n",
       "<style scoped>\n",
       "    .dataframe tbody tr th:only-of-type {\n",
       "        vertical-align: middle;\n",
       "    }\n",
       "\n",
       "    .dataframe tbody tr th {\n",
       "        vertical-align: top;\n",
       "    }\n",
       "\n",
       "    .dataframe thead th {\n",
       "        text-align: right;\n",
       "    }\n",
       "</style>\n",
       "<table border=\"1\" class=\"dataframe\">\n",
       "  <thead>\n",
       "    <tr style=\"text-align: right;\">\n",
       "      <th></th>\n",
       "      <th>species</th>\n",
       "      <th>island</th>\n",
       "      <th>bill_length_mm</th>\n",
       "      <th>bill_depth_mm</th>\n",
       "      <th>flipper_length_mm</th>\n",
       "      <th>body_mass_g</th>\n",
       "      <th>sex</th>\n",
       "    </tr>\n",
       "  </thead>\n",
       "  <tbody>\n",
       "    <tr>\n",
       "      <th>0</th>\n",
       "      <td>Adelie</td>\n",
       "      <td>Torgersen</td>\n",
       "      <td>43.332719</td>\n",
       "      <td>16.996525</td>\n",
       "      <td>197.196980</td>\n",
       "      <td>6542.874247</td>\n",
       "      <td>FEMALE</td>\n",
       "    </tr>\n",
       "    <tr>\n",
       "      <th>1</th>\n",
       "      <td>Gentoo</td>\n",
       "      <td>Biscoe</td>\n",
       "      <td>53.666000</td>\n",
       "      <td>19.943369</td>\n",
       "      <td>184.627506</td>\n",
       "      <td>5256.182522</td>\n",
       "      <td>FEMALE</td>\n",
       "    </tr>\n",
       "    <tr>\n",
       "      <th>2</th>\n",
       "      <td>Adelie</td>\n",
       "      <td>Torgersen</td>\n",
       "      <td>47.092630</td>\n",
       "      <td>21.298139</td>\n",
       "      <td>193.409859</td>\n",
       "      <td>5405.979574</td>\n",
       "      <td>FEMALE</td>\n",
       "    </tr>\n",
       "    <tr>\n",
       "      <th>3</th>\n",
       "      <td>Chinstrap</td>\n",
       "      <td>Biscoe</td>\n",
       "      <td>54.154047</td>\n",
       "      <td>15.847898</td>\n",
       "      <td>192.380197</td>\n",
       "      <td>6358.633310</td>\n",
       "      <td>MALE</td>\n",
       "    </tr>\n",
       "    <tr>\n",
       "      <th>4</th>\n",
       "      <td>Adelie</td>\n",
       "      <td>Biscoe</td>\n",
       "      <td>44.494324</td>\n",
       "      <td>16.248922</td>\n",
       "      <td>188.783114</td>\n",
       "      <td>5486.318067</td>\n",
       "      <td>FEMALE</td>\n",
       "    </tr>\n",
       "    <tr>\n",
       "      <th>5</th>\n",
       "      <td>Gentoo</td>\n",
       "      <td>Biscoe</td>\n",
       "      <td>45.828992</td>\n",
       "      <td>16.119691</td>\n",
       "      <td>209.792230</td>\n",
       "      <td>6048.840851</td>\n",
       "      <td>FEMALE</td>\n",
       "    </tr>\n",
       "    <tr>\n",
       "      <th>6</th>\n",
       "      <td>Chinstrap</td>\n",
       "      <td>Biscoe</td>\n",
       "      <td>45.586326</td>\n",
       "      <td>17.164572</td>\n",
       "      <td>196.064838</td>\n",
       "      <td>6345.135689</td>\n",
       "      <td>FEMALE</td>\n",
       "    </tr>\n",
       "    <tr>\n",
       "      <th>7</th>\n",
       "      <td>Gentoo</td>\n",
       "      <td>Biscoe</td>\n",
       "      <td>52.858690</td>\n",
       "      <td>18.386937</td>\n",
       "      <td>190.213206</td>\n",
       "      <td>5387.799114</td>\n",
       "      <td>MALE</td>\n",
       "    </tr>\n",
       "    <tr>\n",
       "      <th>8</th>\n",
       "      <td>Chinstrap</td>\n",
       "      <td>Biscoe</td>\n",
       "      <td>65.000000</td>\n",
       "      <td>17.667682</td>\n",
       "      <td>203.667950</td>\n",
       "      <td>7000.000000</td>\n",
       "      <td>FEMALE</td>\n",
       "    </tr>\n",
       "    <tr>\n",
       "      <th>9</th>\n",
       "      <td>Chinstrap</td>\n",
       "      <td>Biscoe</td>\n",
       "      <td>65.000000</td>\n",
       "      <td>19.445511</td>\n",
       "      <td>195.644815</td>\n",
       "      <td>5514.548540</td>\n",
       "      <td>FEMALE</td>\n",
       "    </tr>\n",
       "  </tbody>\n",
       "</table>\n",
       "</div>"
      ],
      "text/plain": [
       "     species     island  bill_length_mm  bill_depth_mm  flipper_length_mm  \\\n",
       "0     Adelie  Torgersen       43.332719      16.996525         197.196980   \n",
       "1     Gentoo     Biscoe       53.666000      19.943369         184.627506   \n",
       "2     Adelie  Torgersen       47.092630      21.298139         193.409859   \n",
       "3  Chinstrap     Biscoe       54.154047      15.847898         192.380197   \n",
       "4     Adelie     Biscoe       44.494324      16.248922         188.783114   \n",
       "5     Gentoo     Biscoe       45.828992      16.119691         209.792230   \n",
       "6  Chinstrap     Biscoe       45.586326      17.164572         196.064838   \n",
       "7     Gentoo     Biscoe       52.858690      18.386937         190.213206   \n",
       "8  Chinstrap     Biscoe       65.000000      17.667682         203.667950   \n",
       "9  Chinstrap     Biscoe       65.000000      19.445511         195.644815   \n",
       "\n",
       "   body_mass_g     sex  \n",
       "0  6542.874247  FEMALE  \n",
       "1  5256.182522  FEMALE  \n",
       "2  5405.979574  FEMALE  \n",
       "3  6358.633310    MALE  \n",
       "4  5486.318067  FEMALE  \n",
       "5  6048.840851  FEMALE  \n",
       "6  6345.135689  FEMALE  \n",
       "7  5387.799114    MALE  \n",
       "8  7000.000000  FEMALE  \n",
       "9  5514.548540  FEMALE  "
      ]
     },
     "execution_count": 33,
     "metadata": {},
     "output_type": "execute_result"
    }
   ],
   "source": [
    "res_dummy = client.smartnoise_synth_query(\n",
    "    synth_name=\"dpgan\",\n",
    "    epsilon=1.0,\n",
    "    condition = \"body_mass_g > 5000\",\n",
    "    nb_samples = 10,\n",
    "    dummy=False,\n",
    ")\n",
    "res_dummy['query_response']"
   ]
  },
  {
   "cell_type": "markdown",
   "id": "94eaf59b-c108-424c-8978-b1c86e141ccb",
   "metadata": {},
   "source": [
    "## Step 6: See archives of queries"
   ]
  },
  {
   "cell_type": "markdown",
   "id": "64003c53-de56-4bdc-a3c2-0c3e40031919",
   "metadata": {},
   "source": [
    "She now wants to verify all the queries that she did on the real data. It is possible because an archive of all queries is kept in a secure database. With a function call she can see her queries, budget and associated responses."
   ]
  },
  {
   "cell_type": "code",
   "execution_count": 34,
   "id": "008fd230-cdfd-4e03-91ce-5a60b06c106d",
   "metadata": {},
   "outputs": [],
   "source": [
    "previous_queries = client.get_previous_queries()"
   ]
  },
  {
   "cell_type": "markdown",
   "id": "f2a34bc3-d1a5-4124-983f-ddc09dd1af7b",
   "metadata": {},
   "source": [
    "Let's check the last query"
   ]
  },
  {
   "cell_type": "code",
   "execution_count": 36,
   "id": "1795a54b-d04e-4687-8649-93982c84ad30",
   "metadata": {},
   "outputs": [
    {
     "data": {
      "text/plain": [
       "{'user_name': 'Dr. Antartica',\n",
       " 'dataset_name': 'PENGUIN',\n",
       " 'dp_librairy': 'smartnoise_synth',\n",
       " 'client_input': {'dataset_name': 'PENGUIN',\n",
       "  'synth_name': 'dpgan',\n",
       "  'epsilon': 1.0,\n",
       "  'delta': None,\n",
       "  'select_cols': [],\n",
       "  'synth_params': {},\n",
       "  'nullable': True,\n",
       "  'constraints': '',\n",
       "  'return_model': False,\n",
       "  'condition': 'body_mass_g > 5000',\n",
       "  'nb_samples': 10},\n",
       " 'response': {'requested_by': 'Dr. Antartica',\n",
       "  'query_response':      species     island  bill_length_mm  bill_depth_mm  flipper_length_mm  \\\n",
       "  0     Adelie  Torgersen       43.332719      16.996525         197.196980   \n",
       "  1     Gentoo     Biscoe       53.666000      19.943369         184.627506   \n",
       "  2     Adelie  Torgersen       47.092630      21.298139         193.409859   \n",
       "  3  Chinstrap     Biscoe       54.154047      15.847898         192.380197   \n",
       "  4     Adelie     Biscoe       44.494324      16.248922         188.783114   \n",
       "  5     Gentoo     Biscoe       45.828992      16.119691         209.792230   \n",
       "  6  Chinstrap     Biscoe       45.586326      17.164572         196.064838   \n",
       "  7     Gentoo     Biscoe       52.858690      18.386937         190.213206   \n",
       "  8  Chinstrap     Biscoe       65.000000      17.667682         203.667950   \n",
       "  9  Chinstrap     Biscoe       65.000000      19.445511         195.644815   \n",
       "  \n",
       "     body_mass_g     sex  \n",
       "  0  6542.874247  FEMALE  \n",
       "  1  5256.182522  FEMALE  \n",
       "  2  5405.979574  FEMALE  \n",
       "  3  6358.633310    MALE  \n",
       "  4  5486.318067  FEMALE  \n",
       "  5  6048.840851  FEMALE  \n",
       "  6  6345.135689  FEMALE  \n",
       "  7  5387.799114    MALE  \n",
       "  8  7000.000000  FEMALE  \n",
       "  9  5514.548540  FEMALE  ,\n",
       "  'spent_epsilon': 1.0,\n",
       "  'spent_delta': 0.00015673368198174188},\n",
       " 'timestamp': 1724943669.4523578}"
      ]
     },
     "execution_count": 36,
     "metadata": {},
     "output_type": "execute_result"
    }
   ],
   "source": [
    "last_query = previous_queries[-1]\n",
    "last_query"
   ]
  },
  {
   "cell_type": "code",
   "execution_count": null,
   "id": "08253456-fae7-424d-ac63-52dfc539c1e4",
   "metadata": {},
   "outputs": [],
   "source": []
  }
 ],
 "metadata": {
  "kernelspec": {
   "display_name": "Python 3 (ipykernel)",
   "language": "python",
   "name": "python3"
  },
  "language_info": {
   "codemirror_mode": {
    "name": "ipython",
    "version": 3
   },
   "file_extension": ".py",
   "mimetype": "text/x-python",
   "name": "python",
   "nbconvert_exporter": "python",
   "pygments_lexer": "ipython3",
   "version": "3.11.9"
  }
 },
 "nbformat": 4,
 "nbformat_minor": 5
}
