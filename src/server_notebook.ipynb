{
 "cells": [
  {
   "cell_type": "markdown",
   "id": "363c238d-5925-4b4b-8f68-8ad84ea4705b",
   "metadata": {},
   "source": [
    "# Secure Data Disclosure: Server side"
   ]
  },
  {
   "cell_type": "markdown",
   "id": "2db1363b-e87e-4d0e-bb3f-9af1a1b72b8d",
   "metadata": {},
   "source": [
    "This notebook showcases how data owner could set up the server, add make their data available to certain user. It explains the different steps necessary."
   ]
  },
  {
   "cell_type": "markdown",
   "id": "de384c88-559e-4384-a49b-1664ffdd6692",
   "metadata": {},
   "source": [
    "## Start the server"
   ]
  },
  {
   "cell_type": "markdown",
   "id": "92f3237b-6f13-4c52-a9f2-82d94f0b7e66",
   "metadata": {},
   "source": [
    "### Create a docker volume\n",
    "The first step is to create a docker volume for mongodb. Docker volumes are persistent storage spaces that are managed by docker and can be mounted in containers. To create the volume use `docker volume create mongodata`. This must be done only once, and we use bind mounts for the server, so no need to create volumes for that."
   ]
  },
  {
   "cell_type": "markdown",
   "id": "87093f8e-68b1-4f1e-9e66-97c3885b3e48",
   "metadata": {},
   "source": [
    "In a terminal run: `docker volume create mongodata`. In output you should see `mongodata` written."
   ]
  },
  {
   "cell_type": "markdown",
   "id": "f6829afb-d822-48e4-ba49-5daf0d79db7e",
   "metadata": {},
   "source": [
    "### Start server\n",
    "The second step is to start the server. Therefore the config file `configs/example_config.yaml` has to be adapted. The data owner must make sure to set the develop mode to False, specify the database type and ports. For this notebook, we will keep the default and use a mongodb on port 27017. Note: Keep in mind that if the configuration file is modified then the `docker-compose` has to be modified accordingly. This is out of scope for this notebook."
   ]
  },
  {
   "cell_type": "markdown",
   "id": "2408425a-13c6-4b89-a1fe-88491850fe10",
   "metadata": {},
   "source": [
    "In a terminal run `docker compose up`. This will start the server and the mongodb, each running in its own Docker container. "
   ]
  },
  {
   "cell_type": "markdown",
   "id": "244da0f8",
   "metadata": {},
   "source": [
    "To check that both containers are indeed running, run `docker ps`. You should be able to see a container for the server: `sdd_server_dev` and one for the mongo database `mongodb`."
   ]
  },
  {
   "cell_type": "markdown",
   "id": "8dbebd54-8deb-46e6-b811-73ac74028569",
   "metadata": {},
   "source": [
    "### Access the server to administrate the mongoDB"
   ]
  },
  {
   "cell_type": "markdown",
   "id": "4a8c8115",
   "metadata": {},
   "source": [
    "To interact with the mongoDB, we first need to access the server Docker container from where we will run the commands. To do that from inside this Jupyter Notebook, we will need to use the Docker client library. Let's first install it."
   ]
  },
  {
   "cell_type": "code",
   "execution_count": 1,
   "id": "f6863a6d",
   "metadata": {
    "scrolled": true
   },
   "outputs": [
    {
     "name": "stdout",
     "output_type": "stream",
     "text": [
      "Requirement already satisfied: docker in /home/pauline/anaconda3/lib/python3.10/site-packages (6.1.3)\n",
      "Requirement already satisfied: packaging>=14.0 in /home/pauline/anaconda3/lib/python3.10/site-packages (from docker) (22.0)\n",
      "Requirement already satisfied: requests>=2.26.0 in /home/pauline/anaconda3/lib/python3.10/site-packages (from docker) (2.31.0)\n",
      "Requirement already satisfied: urllib3>=1.26.0 in /home/pauline/anaconda3/lib/python3.10/site-packages (from docker) (2.0.3)\n",
      "Requirement already satisfied: websocket-client>=0.32.0 in /home/pauline/anaconda3/lib/python3.10/site-packages (from docker) (0.58.0)\n",
      "Requirement already satisfied: charset-normalizer<4,>=2 in /home/pauline/anaconda3/lib/python3.10/site-packages (from requests>=2.26.0->docker) (2.0.4)\n",
      "Requirement already satisfied: idna<4,>=2.5 in /home/pauline/anaconda3/lib/python3.10/site-packages (from requests>=2.26.0->docker) (2.8)\n",
      "Requirement already satisfied: certifi>=2017.4.17 in /home/pauline/anaconda3/lib/python3.10/site-packages (from requests>=2.26.0->docker) (2022.12.7)\n",
      "Requirement already satisfied: six in /home/pauline/anaconda3/lib/python3.10/site-packages (from websocket-client>=0.32.0->docker) (1.16.0)\n"
     ]
    }
   ],
   "source": [
    "!pip install docker"
   ]
  },
  {
   "cell_type": "markdown",
   "id": "b12b414a",
   "metadata": {},
   "source": [
    "We can now import the library, create the client allowing us to interact with Docker, and finally, access the server container."
   ]
  },
  {
   "cell_type": "code",
   "execution_count": 29,
   "id": "112e4156",
   "metadata": {},
   "outputs": [],
   "source": [
    "import docker\n",
    "client = docker.DockerClient()\n",
    "server_container = client.containers.get(\"sdd_server_dev\") # where \"vigilant_galileo\" is the name of the runnning server"
   ]
  },
  {
   "cell_type": "markdown",
   "id": "36b475e6",
   "metadata": {},
   "source": [
    "To execute commands inside that Docker container, you can use the `exec_run` method which will return an ExecResult object, from which you can retrieve the output of the command. Let's see in the following example:"
   ]
  },
  {
   "cell_type": "code",
   "execution_count": 30,
   "id": "dc0349be",
   "metadata": {},
   "outputs": [
    {
     "data": {
      "text/plain": [
       "ExecResult(exit_code=0, output=b'__init__.py\\n__pycache__\\napp.py\\ndatabase\\ndp_queries\\nglobals.py\\nmetadata\\nmongodb_admin.py\\nsdd_poc_server_package.egg-info\\nserver_notebook.ipynb\\nsetup.py\\nutils\\nuvicorn_serve.py\\n')"
      ]
     },
     "execution_count": 30,
     "metadata": {},
     "output_type": "execute_result"
    }
   ],
   "source": [
    "response = server_container.exec_run(\"ls\")\n",
    "response"
   ]
  },
  {
   "cell_type": "code",
   "execution_count": 31,
   "id": "b2278a80",
   "metadata": {},
   "outputs": [
    {
     "name": "stdout",
     "output_type": "stream",
     "text": [
      "__init__.py\n",
      "__pycache__\n",
      "app.py\n",
      "database\n",
      "dp_queries\n",
      "globals.py\n",
      "metadata\n",
      "mongodb_admin.py\n",
      "sdd_poc_server_package.egg-info\n",
      "server_notebook.ipynb\n",
      "setup.py\n",
      "utils\n",
      "uvicorn_serve.py\n",
      "\n"
     ]
    }
   ],
   "source": [
    "print(response.output.decode('utf-8'))"
   ]
  },
  {
   "cell_type": "markdown",
   "id": "9f35fd20-715c-483b-88e4-449c287ba61d",
   "metadata": {},
   "source": [
    "Now, you are ready to interact with the database and add users."
   ]
  },
  {
   "cell_type": "markdown",
   "id": "d368d6a6-f1fe-4f65-9ce1-38c0b39584d1",
   "metadata": {},
   "source": [
    "## Prepare the database and user's access rights"
   ]
  },
  {
   "cell_type": "markdown",
   "id": "b37c19b8-303d-4fe8-b515-33ed1099c581",
   "metadata": {},
   "source": [
    "### Visualise all options\n",
    "You can visualise all the options offered by the database by running the command `python mongodb_admin.py --help`. We will go through through each of them in the rest of the notebook."
   ]
  },
  {
   "cell_type": "code",
   "execution_count": 32,
   "id": "8a749f4b-93cb-460c-bb40-4880df6e51d9",
   "metadata": {},
   "outputs": [
    {
     "name": "stdout",
     "output_type": "stream",
     "text": [
      "usage: MongoDB administration script for the SDD POC Server\r\n",
      "       [-h]\r\n",
      "       {add_user,add_user_with_budget,del_user,add_dataset_to_user,del_dataset_to_user,set_budget_field,set_may_query,show_user,add_metadata,del_metadata,drop_collection,show_collection,create_ex_users}\r\n",
      "       ...\r\n",
      "\r\n",
      "options:\r\n",
      "  -h, --help            show this help message and exit\r\n",
      "\r\n",
      "subcommands:\r\n",
      "  {add_user,add_user_with_budget,del_user,add_dataset_to_user,del_dataset_to_user,set_budget_field,set_may_query,show_user,add_metadata,del_metadata,drop_collection,show_collection,create_ex_users}\r\n",
      "                        database administration operations\r\n",
      "    add_user            add user to users collection\r\n",
      "    add_user_with_budget\r\n",
      "                        add user to users collection\r\n",
      "    del_user            delete user from users collection\r\n",
      "    add_dataset_to_user\r\n",
      "                        add dataset with initialized budget values for a user\r\n",
      "                        in users collection\r\n",
      "    del_dataset_to_user\r\n",
      "                        delete dataset for user in users collection\r\n",
      "    set_budget_field    set budget field to given value for given user and\r\n",
      "                        dataset\r\n",
      "    set_may_query       set may query field to given value for given user\r\n",
      "    show_user           show all metadata of user\r\n",
      "    add_metadata        add metadata for given dataset to metadata collection\r\n",
      "    del_metadata        delete metadata to metadata collection\r\n",
      "    drop_collection     delete collection from database\r\n",
      "    show_collection     print the users collection\r\n",
      "    create_ex_users     create example of users collection\r\n"
     ]
    }
   ],
   "source": [
    "!python3 mongodb_admin.py --help"
   ]
  },
  {
   "cell_type": "markdown",
   "id": "e70abf6d",
   "metadata": {},
   "source": [
    "We prepare the function `run_command` to have a cleaner output of the commands in the notebook."
   ]
  },
  {
   "cell_type": "code",
   "execution_count": 33,
   "id": "f9277a43",
   "metadata": {},
   "outputs": [],
   "source": [
    "from ast import literal_eval\n",
    "\n",
    "def run_command(command, to_dict=False):\n",
    "    response = server_container.exec_run(command)\n",
    "    output = response.output.decode('utf-8').replace(\"'\", '\"').replace(\"\\n\", '')\n",
    "    if to_dict:\n",
    "        output = literal_eval(output)\n",
    "    return output"
   ]
  },
  {
   "cell_type": "markdown",
   "id": "d7edd7d3-20f9-4546-afc8-25661f948d44",
   "metadata": {},
   "source": [
    "### Add metadata"
   ]
  },
  {
   "cell_type": "markdown",
   "id": "ed1597b3-767f-470c-a7d7-8fe41dd82da5",
   "metadata": {},
   "source": [
    "To later perform query on the dataset, some metadata is required. In this secure server the metadata information is expected to be in the same format as [SmartnoiseSQL dictionary format](https://docs.smartnoise.org/sql/metadata.html#dictionary-format), where among other, there is information about all the available columns, their type, bound values (see Smartnoise page for more details).\n",
    "\n",
    "Therefore, you should prepare the data and save it in a `yaml` file. When you run the following command, you should give the path to this metadata `yaml` file."
   ]
  },
  {
   "cell_type": "code",
   "execution_count": 34,
   "id": "53f5787d-e721-43d9-85ce-da842f173381",
   "metadata": {},
   "outputs": [
    {
     "data": {
      "text/plain": [
       "'Added metadata of PENGUIN dataset.'"
      ]
     },
     "execution_count": 34,
     "metadata": {},
     "output_type": "execute_result"
    }
   ],
   "source": [
    "run_command(\"python mongodb_admin.py add_metadata --metadata_path metadata/penguin_metadata.yaml --dataset PENGUIN\")"
   ]
  },
  {
   "cell_type": "code",
   "execution_count": 35,
   "id": "0e42f9cb-3a02-45f5-baee-2e06edda739f",
   "metadata": {},
   "outputs": [
    {
     "data": {
      "text/plain": [
       "'Added metadata of IRIS dataset.'"
      ]
     },
     "execution_count": 35,
     "metadata": {},
     "output_type": "execute_result"
    }
   ],
   "source": [
    "run_command(\"python mongodb_admin.py add_metadata --metadata_path metadata/iris_metadata.yaml --dataset IRIS\")"
   ]
  },
  {
   "cell_type": "markdown",
   "id": "0746b382-8692-445f-9ca9-0d2407a25259",
   "metadata": {},
   "source": [
    "Finally let's have a look at the  stored metadata:"
   ]
  },
  {
   "cell_type": "code",
   "execution_count": 36,
   "id": "c667dda0-5d0f-48c8-956c-8d8a756b7ff7",
   "metadata": {},
   "outputs": [
    {
     "data": {
      "text/plain": [
       "[{'PENGUIN': {'': {'Schema': {'Table': {'max_ids': 1,\n",
       "      'row_privacy': True,\n",
       "      'species': {'type': 'string'},\n",
       "      'island': {'type': 'string'},\n",
       "      'bill_length_mm': {'type': 'float', 'lower': 30.0, 'upper': 65.0},\n",
       "      'bill_depth_mm': {'type': 'float', 'lower': 13.0, 'upper': 23.0},\n",
       "      'flipper_length_mm': {'type': 'float', 'lower': 150.0, 'upper': 250.0},\n",
       "      'body_mass_g': {'type': 'float', 'lower': 2000.0, 'upper': 7000.0},\n",
       "      'sex': {'type': 'string'}}}},\n",
       "   'engine': 'csv'}},\n",
       " {'IRIS': {'': {'Schema': {'Table': {'max_ids': 1,\n",
       "      'petal_length': {'type': 'float', 'lower': 0.5, 'upper': 10.0},\n",
       "      'petal_width': {'type': 'float', 'lower': 0.05, 'upper': 5.0},\n",
       "      'row_privacy': True,\n",
       "      'sepal_length': {'type': 'float', 'lower': 2.0, 'upper': 10.0},\n",
       "      'sepal_width': {'type': 'float', 'lower': 1.0, 'upper': 6.0},\n",
       "      'species': {'type': 'string'}}}},\n",
       "   'engine': 'csv'}}]"
      ]
     },
     "execution_count": 36,
     "metadata": {},
     "output_type": "execute_result"
    }
   ],
   "source": [
    "run_command(\"python mongodb_admin.py show_collection --collection metadata\", to_dict=True)"
   ]
  },
  {
   "cell_type": "markdown",
   "id": "14ab18db-4b6d-4663-bde0-b5d9d3d3d2ee",
   "metadata": {},
   "source": [
    "### Add user\n",
    "Let's add few users."
   ]
  },
  {
   "cell_type": "code",
   "execution_count": 37,
   "id": "bbd5a9f9",
   "metadata": {},
   "outputs": [
    {
     "data": {
      "text/plain": [
       "'Added access to user Dr. Antartica with dataset PENGUIN, budget epsilon 10.0 and delta 0.001.'"
      ]
     },
     "execution_count": 37,
     "metadata": {},
     "output_type": "execute_result"
    }
   ],
   "source": [
    "run_command(\"python mongodb_admin.py add_user_with_budget --user 'Dr. Antartica' --dataset 'PENGUIN' \\\n",
    "--epsilon 10.0 --delta 0.001\")"
   ]
  },
  {
   "cell_type": "code",
   "execution_count": 11,
   "id": "4426b1ea",
   "metadata": {},
   "outputs": [
    {
     "data": {
      "text/plain": [
       "'Set budget of Dr. Antartica for dataset PENGUIN of initial_epsilon to 15.0.'"
      ]
     },
     "execution_count": 11,
     "metadata": {},
     "output_type": "execute_result"
    }
   ],
   "source": [
    "run_command(\"python mongodb_admin.py set_budget_field --user 'Dr. Antartica' --dataset 'PENGUIN' \\\n",
    "--field initial_epsilon --value 15.0\")"
   ]
  },
  {
   "cell_type": "code",
   "execution_count": 12,
   "id": "0f6aa33c-6bd1-4d62-ba06-3533b064340d",
   "metadata": {},
   "outputs": [
    {
     "data": {
      "text/plain": [
       "'Added access to user Mrs. Daisy with dataset IRIS, budget epsilon 10.0 and delta 0.001.'"
      ]
     },
     "execution_count": 12,
     "metadata": {},
     "output_type": "execute_result"
    }
   ],
   "source": [
    "run_command(\"python mongodb_admin.py add_user_with_budget --user 'Mrs. Daisy' --dataset 'IRIS' \\\n",
    "--epsilon 10.0 --delta 0.001\")"
   ]
  },
  {
   "cell_type": "code",
   "execution_count": 13,
   "id": "7858f019-8783-4fed-acd8-ff0107d33465",
   "metadata": {},
   "outputs": [
    {
     "data": {
      "text/plain": [
       "'Added access to user Mr. Coldheart with dataset PENGUIN, budget epsilon 10.0 and delta 0.001.'"
      ]
     },
     "execution_count": 13,
     "metadata": {},
     "output_type": "execute_result"
    }
   ],
   "source": [
    "run_command(\"python mongodb_admin.py add_user_with_budget --user 'Mr. Coldheart' --dataset 'PENGUIN' \\\n",
    "--epsilon 10.0 --delta 0.001\")"
   ]
  },
  {
   "cell_type": "code",
   "execution_count": 14,
   "id": "231e7d93-05ba-424a-8329-d96b0bfb4fb9",
   "metadata": {},
   "outputs": [
    {
     "data": {
      "text/plain": [
       "'Added access to user Lord McFreeze with dataset PENGUIN, budget epsilon 10.0 and delta 0.001.'"
      ]
     },
     "execution_count": 14,
     "metadata": {},
     "output_type": "execute_result"
    }
   ],
   "source": [
    "run_command(\"python mongodb_admin.py add_user_with_budget --user 'Lord McFreeze' --dataset 'PENGUIN' \\\n",
    "--epsilon 10.0 --delta 0.001\")"
   ]
  },
  {
   "cell_type": "markdown",
   "id": "51b0c274-880c-44f9-9182-6cb162a54c55",
   "metadata": {},
   "source": [
    "Users must all have different names, otherwise you will have an error and nothing will be done:"
   ]
  },
  {
   "cell_type": "code",
   "execution_count": 15,
   "id": "6276730e-39c2-47f1-962f-342c1acb7944",
   "metadata": {},
   "outputs": [
    {
     "data": {
      "text/plain": [
       "'Traceback (most recent call last):  File \"mongodb_admin.py\", line 377, in <module>    args.func(args)  File \"mongodb_admin.py\", line 47, in add_user_with_budget    raise ValueError(\"Cannot add user because already exists. \")ValueError: Cannot add user because already exists. '"
      ]
     },
     "execution_count": 15,
     "metadata": {},
     "output_type": "execute_result"
    }
   ],
   "source": [
    "run_command(\"python mongodb_admin.py add_user_with_budget --user 'Lord McFreeze' --dataset 'IRIS' \\\n",
    "--epsilon 10.0 --delta 0.001\")"
   ]
  },
  {
   "cell_type": "markdown",
   "id": "49f81f7e-e086-412f-8467-89b665e5559a",
   "metadata": {},
   "source": [
    "If you want to add another dataset access to an existing user, just use the function `add_dataset_to_user` command."
   ]
  },
  {
   "cell_type": "code",
   "execution_count": 16,
   "id": "82a5f498-aed1-4779-9d73-b2b71dde4ce0",
   "metadata": {},
   "outputs": [
    {
     "data": {
      "text/plain": [
       "'Added access to dataset IRIS to user Lord McFreeze with budget epsilon 5.0 and delta 0.005.'"
      ]
     },
     "execution_count": 16,
     "metadata": {},
     "output_type": "execute_result"
    }
   ],
   "source": [
    "run_command(\"python mongodb_admin.py add_dataset_to_user --user 'Lord McFreeze' --dataset 'IRIS' \\\n",
    "--epsilon 5.0 --delta 0.005\")"
   ]
  },
  {
   "cell_type": "markdown",
   "id": "06170073-49ed-4329-8101-2debdd77eb98",
   "metadata": {},
   "source": [
    "Alternatively, you can create a user without assigned dataset and then add dataset in another command."
   ]
  },
  {
   "cell_type": "code",
   "execution_count": 17,
   "id": "06839270-36cf-4de7-b93c-d143c4866bc8",
   "metadata": {},
   "outputs": [
    {
     "data": {
      "text/plain": [
       "'Added user Madame Frostina.'"
      ]
     },
     "execution_count": 17,
     "metadata": {},
     "output_type": "execute_result"
    }
   ],
   "source": [
    "run_command(\"python mongodb_admin.py add_user --user 'Madame Frostina'\")"
   ]
  },
  {
   "cell_type": "code",
   "execution_count": 18,
   "id": "e83378fe",
   "metadata": {},
   "outputs": [
    {
     "data": {
      "text/plain": [
       "'Added access to dataset IRIS to user Madame Frostina with budget epsilon 5.0 and delta 0.005.'"
      ]
     },
     "execution_count": 18,
     "metadata": {},
     "output_type": "execute_result"
    }
   ],
   "source": [
    "run_command(\"python mongodb_admin.py add_dataset_to_user --user 'Madame Frostina' --dataset 'IRIS' \\\n",
    "--epsilon 5.0 --delta 0.005\")"
   ]
  },
  {
   "cell_type": "code",
   "execution_count": 19,
   "id": "919b2652",
   "metadata": {},
   "outputs": [
    {
     "data": {
      "text/plain": [
       "'Added access to dataset PENGUIN to user Madame Frostina with budget epsilon 5.0 and delta 0.005.'"
      ]
     },
     "execution_count": 19,
     "metadata": {},
     "output_type": "execute_result"
    }
   ],
   "source": [
    "run_command(\"python mongodb_admin.py add_dataset_to_user --user 'Madame Frostina' --dataset 'PENGUIN' \\\n",
    "--epsilon 5.0 --delta 0.005\")"
   ]
  },
  {
   "cell_type": "markdown",
   "id": "bbeb5dc2-e91e-4440-8df5-3e9506bf4ee1",
   "metadata": {},
   "source": [
    "Let's see the current state of the database:"
   ]
  },
  {
   "cell_type": "code",
   "execution_count": 20,
   "id": "3b3f61c6-65dc-4b1e-a32e-47cdd2729ab6",
   "metadata": {},
   "outputs": [
    {
     "data": {
      "text/plain": [
       "[{'user_name': 'Antartica',\n",
       "  'may_query': True,\n",
       "  'datasets_list': [{'dataset_name': 'IRIS',\n",
       "    'initial_epsilon': 10.0,\n",
       "    'initial_delta': 0.0004,\n",
       "    'total_spent_epsilon': 0.0,\n",
       "    'total_spent_delta': 0.0},\n",
       "   {'dataset_name': 'PENGUIN',\n",
       "    'initial_epsilon': 10.0,\n",
       "    'initial_delta': 0.0004,\n",
       "    'total_spent_epsilon': 0.0,\n",
       "    'total_spent_delta': 0.0}]},\n",
       " {'user_name': 'Bob',\n",
       "  'may_query': True,\n",
       "  'datasets_list': [{'dataset_name': 'IRIS',\n",
       "    'initial_epsilon': 10.0,\n",
       "    'initial_delta': 0.0004,\n",
       "    'total_spent_epsilon': 0.0,\n",
       "    'total_spent_delta': 0.0}]},\n",
       " {'user_name': 'Dr. Antartica',\n",
       "  'may_query': True,\n",
       "  'datasets_list': [{'dataset_name': 'PENGUIN',\n",
       "    'initial_epsilon': 15.0,\n",
       "    'initial_delta': 0.001,\n",
       "    'total_spent_epsilon': 13.95,\n",
       "    'total_spent_delta': 0.0002249947499999294}]},\n",
       " {'user_name': 'Mrs. Daisy',\n",
       "  'may_query': True,\n",
       "  'datasets_list': [{'dataset_name': 'IRIS',\n",
       "    'initial_epsilon': 10.0,\n",
       "    'initial_delta': 0.001,\n",
       "    'total_spent_epsilon': 0.0,\n",
       "    'total_spent_delta': 0.0}]},\n",
       " {'user_name': 'Mr. Coldheart',\n",
       "  'may_query': True,\n",
       "  'datasets_list': [{'dataset_name': 'PENGUIN',\n",
       "    'initial_epsilon': 10.0,\n",
       "    'initial_delta': 0.001,\n",
       "    'total_spent_epsilon': 0.0,\n",
       "    'total_spent_delta': 0.0}]},\n",
       " {'user_name': 'Lord McFreeze',\n",
       "  'may_query': True,\n",
       "  'datasets_list': [{'dataset_name': 'PENGUIN',\n",
       "    'initial_epsilon': 10.0,\n",
       "    'initial_delta': 0.001,\n",
       "    'total_spent_epsilon': 0.0,\n",
       "    'total_spent_delta': 0.0},\n",
       "   {'dataset_name': 'IRIS',\n",
       "    'initial_epsilon': 5.0,\n",
       "    'initial_delta': 0.005,\n",
       "    'total_spent_epsilon': 0.0,\n",
       "    'total_spent_delta': 0.0}]},\n",
       " {'user_name': 'Madame Frostina',\n",
       "  'may_query': True,\n",
       "  'datasets_list': [{'dataset_name': 'IRIS',\n",
       "    'initial_epsilon': 5.0,\n",
       "    'initial_delta': 0.005,\n",
       "    'total_spent_epsilon': 0.0,\n",
       "    'total_spent_delta': 0.0},\n",
       "   {'dataset_name': 'PENGUIN',\n",
       "    'initial_epsilon': 5.0,\n",
       "    'initial_delta': 0.005,\n",
       "    'total_spent_epsilon': 0.0,\n",
       "    'total_spent_delta': 0.0}]}]"
      ]
     },
     "execution_count": 20,
     "metadata": {},
     "output_type": "execute_result"
    }
   ],
   "source": [
    "run_command(\"python mongodb_admin.py show_collection --collection users\", to_dict=True)"
   ]
  },
  {
   "cell_type": "markdown",
   "id": "4e0ae62f-ff80-4234-8102-4dccec0b284f",
   "metadata": {},
   "source": [
    "Do not hesitate to re-run this command after every other command to ensure that everything runs as expected."
   ]
  },
  {
   "cell_type": "markdown",
   "id": "9ab1f5ba-68bd-4c96-bacd-b81dfa5d6302",
   "metadata": {},
   "source": [
    "### Remove user\n",
    "You have just heard that the penguin named Coldheart might have malicious intentions and decide to remove his access until an investigation has been carried out. To ensure that he is not allowed to do any more queries, run the following command:"
   ]
  },
  {
   "cell_type": "code",
   "execution_count": 21,
   "id": "7f341b3d-5a88-4fd9-8c97-cc70145834f1",
   "metadata": {},
   "outputs": [
    {
     "data": {
      "text/plain": [
       "'Set user Mr. Coldheart may query.'"
      ]
     },
     "execution_count": 21,
     "metadata": {},
     "output_type": "execute_result"
    }
   ],
   "source": [
    "run_command(\"python mongodb_admin.py set_may_query --user 'Mr. Coldheart' --value False\")"
   ]
  },
  {
   "cell_type": "markdown",
   "id": "4cc56586-f9a9-4e88-abed-51ba36a6e4f1",
   "metadata": {},
   "source": [
    "Now, he won't be able to do any query (unless you re-run the query with --value True).\n",
    "\n",
    "A few days have passed and the investigation reveals that he was aiming to do unethical research, you can remove his dataset by doing:"
   ]
  },
  {
   "cell_type": "code",
   "execution_count": 22,
   "id": "9153d9af-b4be-4496-9f80-d140870f60fe",
   "metadata": {},
   "outputs": [
    {
     "data": {
      "text/plain": [
       "'Remove access to dataset PENGUIN from user Mr. Coldheart.'"
      ]
     },
     "execution_count": 22,
     "metadata": {},
     "output_type": "execute_result"
    }
   ],
   "source": [
    "run_command(\"python mongodb_admin.py del_dataset_to_user --user 'Mr. Coldheart' --dataset 'PENGUIN'\")"
   ]
  },
  {
   "cell_type": "markdown",
   "id": "18d411ae-a211-4997-8984-81281c6275eb",
   "metadata": {},
   "source": [
    "Or delete him completely from the codebase:"
   ]
  },
  {
   "cell_type": "code",
   "execution_count": 23,
   "id": "a54e89eb-1ee1-48ad-9e00-bace8516a3ef",
   "metadata": {},
   "outputs": [
    {
     "data": {
      "text/plain": [
       "'Deleted user Mr. Coldheart.'"
      ]
     },
     "execution_count": 23,
     "metadata": {},
     "output_type": "execute_result"
    }
   ],
   "source": [
    "run_command(\"python mongodb_admin.py del_user --user 'Mr. Coldheart'\")"
   ]
  },
  {
   "cell_type": "markdown",
   "id": "06a7c17f-da34-472a-ad7f-3ae73a1beb7b",
   "metadata": {},
   "source": [
    "Let's see the resulting users:"
   ]
  },
  {
   "cell_type": "code",
   "execution_count": 24,
   "id": "79fa414a-f097-4207-a628-19fa434a1ad3",
   "metadata": {},
   "outputs": [
    {
     "data": {
      "text/plain": [
       "[{'user_name': 'Antartica',\n",
       "  'may_query': True,\n",
       "  'datasets_list': [{'dataset_name': 'IRIS',\n",
       "    'initial_epsilon': 10.0,\n",
       "    'initial_delta': 0.0004,\n",
       "    'total_spent_epsilon': 0.0,\n",
       "    'total_spent_delta': 0.0},\n",
       "   {'dataset_name': 'PENGUIN',\n",
       "    'initial_epsilon': 10.0,\n",
       "    'initial_delta': 0.0004,\n",
       "    'total_spent_epsilon': 0.0,\n",
       "    'total_spent_delta': 0.0}]},\n",
       " {'user_name': 'Bob',\n",
       "  'may_query': True,\n",
       "  'datasets_list': [{'dataset_name': 'IRIS',\n",
       "    'initial_epsilon': 10.0,\n",
       "    'initial_delta': 0.0004,\n",
       "    'total_spent_epsilon': 0.0,\n",
       "    'total_spent_delta': 0.0}]},\n",
       " {'user_name': 'Dr. Antartica',\n",
       "  'may_query': True,\n",
       "  'datasets_list': [{'dataset_name': 'PENGUIN',\n",
       "    'initial_epsilon': 15.0,\n",
       "    'initial_delta': 0.001,\n",
       "    'total_spent_epsilon': 13.95,\n",
       "    'total_spent_delta': 0.0002249947499999294}]},\n",
       " {'user_name': 'Mrs. Daisy',\n",
       "  'may_query': True,\n",
       "  'datasets_list': [{'dataset_name': 'IRIS',\n",
       "    'initial_epsilon': 10.0,\n",
       "    'initial_delta': 0.001,\n",
       "    'total_spent_epsilon': 0.0,\n",
       "    'total_spent_delta': 0.0}]},\n",
       " {'user_name': 'Lord McFreeze',\n",
       "  'may_query': True,\n",
       "  'datasets_list': [{'dataset_name': 'PENGUIN',\n",
       "    'initial_epsilon': 10.0,\n",
       "    'initial_delta': 0.001,\n",
       "    'total_spent_epsilon': 0.0,\n",
       "    'total_spent_delta': 0.0},\n",
       "   {'dataset_name': 'IRIS',\n",
       "    'initial_epsilon': 5.0,\n",
       "    'initial_delta': 0.005,\n",
       "    'total_spent_epsilon': 0.0,\n",
       "    'total_spent_delta': 0.0}]},\n",
       " {'user_name': 'Madame Frostina',\n",
       "  'may_query': True,\n",
       "  'datasets_list': [{'dataset_name': 'IRIS',\n",
       "    'initial_epsilon': 5.0,\n",
       "    'initial_delta': 0.005,\n",
       "    'total_spent_epsilon': 0.0,\n",
       "    'total_spent_delta': 0.0},\n",
       "   {'dataset_name': 'PENGUIN',\n",
       "    'initial_epsilon': 5.0,\n",
       "    'initial_delta': 0.005,\n",
       "    'total_spent_epsilon': 0.0,\n",
       "    'total_spent_delta': 0.0}]}]"
      ]
     },
     "execution_count": 24,
     "metadata": {},
     "output_type": "execute_result"
    }
   ],
   "source": [
    "run_command(\"python mongodb_admin.py show_collection --collection users\", to_dict=True)"
   ]
  },
  {
   "cell_type": "markdown",
   "id": "90a46a59-70ed-4a26-88cd-6ca8f1d17318",
   "metadata": {},
   "source": [
    "### Change budget\n",
    "You also change your mind about the budget allowed to Lord McFreeze and give him a bit more on the penguin dataset."
   ]
  },
  {
   "cell_type": "code",
   "execution_count": 25,
   "id": "0909e6c4-141e-4d57-acd2-bdc0a2d92cea",
   "metadata": {},
   "outputs": [
    {
     "data": {
      "text/plain": [
       "'Set budget of Lord McFreeze for dataset PENGUIN of initial_epsilon to 15.0.'"
      ]
     },
     "execution_count": 25,
     "metadata": {},
     "output_type": "execute_result"
    }
   ],
   "source": [
    "run_command(\"python mongodb_admin.py set_budget_field --user 'Lord McFreeze' --dataset 'PENGUIN' \\\n",
    "--field initial_epsilon --value 15.0\")"
   ]
  },
  {
   "cell_type": "code",
   "execution_count": 26,
   "id": "c0e110fe-4297-4559-9a95-bc0ebdfa402c",
   "metadata": {},
   "outputs": [
    {
     "data": {
      "text/plain": [
       "'Set budget of Lord McFreeze for dataset PENGUIN of initial_delta to 0.005.'"
      ]
     },
     "execution_count": 26,
     "metadata": {},
     "output_type": "execute_result"
    }
   ],
   "source": [
    "run_command(\"python mongodb_admin.py set_budget_field --user 'Lord McFreeze' --dataset 'PENGUIN' \\\n",
    "--field initial_delta --value 0.005\")"
   ]
  },
  {
   "cell_type": "markdown",
   "id": "952d7ed4-ce1d-4a87-9319-6b57968ef20e",
   "metadata": {},
   "source": [
    "Let's check all our changes by looking at the state of the database:"
   ]
  },
  {
   "cell_type": "code",
   "execution_count": 27,
   "id": "2ab46c5d-1553-4925-bd25-61c9c205dc95",
   "metadata": {},
   "outputs": [
    {
     "data": {
      "text/plain": [
       "[{'user_name': 'Antartica',\n",
       "  'may_query': True,\n",
       "  'datasets_list': [{'dataset_name': 'IRIS',\n",
       "    'initial_epsilon': 10.0,\n",
       "    'initial_delta': 0.0004,\n",
       "    'total_spent_epsilon': 0.0,\n",
       "    'total_spent_delta': 0.0},\n",
       "   {'dataset_name': 'PENGUIN',\n",
       "    'initial_epsilon': 10.0,\n",
       "    'initial_delta': 0.0004,\n",
       "    'total_spent_epsilon': 0.0,\n",
       "    'total_spent_delta': 0.0}]},\n",
       " {'user_name': 'Bob',\n",
       "  'may_query': True,\n",
       "  'datasets_list': [{'dataset_name': 'IRIS',\n",
       "    'initial_epsilon': 10.0,\n",
       "    'initial_delta': 0.0004,\n",
       "    'total_spent_epsilon': 0.0,\n",
       "    'total_spent_delta': 0.0}]},\n",
       " {'user_name': 'Dr. Antartica',\n",
       "  'may_query': True,\n",
       "  'datasets_list': [{'dataset_name': 'PENGUIN',\n",
       "    'initial_epsilon': 15.0,\n",
       "    'initial_delta': 0.001,\n",
       "    'total_spent_epsilon': 13.95,\n",
       "    'total_spent_delta': 0.0002249947499999294}]},\n",
       " {'user_name': 'Mrs. Daisy',\n",
       "  'may_query': True,\n",
       "  'datasets_list': [{'dataset_name': 'IRIS',\n",
       "    'initial_epsilon': 10.0,\n",
       "    'initial_delta': 0.001,\n",
       "    'total_spent_epsilon': 0.0,\n",
       "    'total_spent_delta': 0.0}]},\n",
       " {'user_name': 'Lord McFreeze',\n",
       "  'may_query': True,\n",
       "  'datasets_list': [{'dataset_name': 'PENGUIN',\n",
       "    'initial_epsilon': 15.0,\n",
       "    'initial_delta': 0.005,\n",
       "    'total_spent_epsilon': 0.0,\n",
       "    'total_spent_delta': 0.0},\n",
       "   {'dataset_name': 'IRIS',\n",
       "    'initial_epsilon': 5.0,\n",
       "    'initial_delta': 0.005,\n",
       "    'total_spent_epsilon': 0.0,\n",
       "    'total_spent_delta': 0.0}]},\n",
       " {'user_name': 'Madame Frostina',\n",
       "  'may_query': True,\n",
       "  'datasets_list': [{'dataset_name': 'IRIS',\n",
       "    'initial_epsilon': 5.0,\n",
       "    'initial_delta': 0.005,\n",
       "    'total_spent_epsilon': 0.0,\n",
       "    'total_spent_delta': 0.0},\n",
       "   {'dataset_name': 'PENGUIN',\n",
       "    'initial_epsilon': 5.0,\n",
       "    'initial_delta': 0.005,\n",
       "    'total_spent_epsilon': 0.0,\n",
       "    'total_spent_delta': 0.0}]}]"
      ]
     },
     "execution_count": 27,
     "metadata": {},
     "output_type": "execute_result"
    }
   ],
   "source": [
    "run_command(\"python mongodb_admin.py show_collection --collection users\", to_dict = True)"
   ]
  },
  {
   "cell_type": "markdown",
   "id": "a27be3d3-77a2-43d3-9a7f-87c8466293fe",
   "metadata": {},
   "source": [
    "## Stop the server: do not do it now !\n",
    "To tear down the service, first do `ctrl+C` in the terminal where you had done `docker compose up`. Wait for the command to finish executing and then run `docker compose down`. This will also delete all the containers but the volume will stay in place. "
   ]
  }
 ],
 "metadata": {
  "kernelspec": {
   "display_name": "Python 3 (ipykernel)",
   "language": "python",
   "name": "python3"
  },
  "language_info": {
   "codemirror_mode": {
    "name": "ipython",
    "version": 3
   },
   "file_extension": ".py",
   "mimetype": "text/x-python",
   "name": "python",
   "nbconvert_exporter": "python",
   "pygments_lexer": "ipython3",
   "version": "3.10.9"
  }
 },
 "nbformat": 4,
 "nbformat_minor": 5
}
