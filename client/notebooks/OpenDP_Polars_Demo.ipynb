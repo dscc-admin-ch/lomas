{
 "cells": [
  {
   "cell_type": "markdown",
   "metadata": {},
   "source": [
    "# Differential Privacy on Income Data\n",
    "\n",
    "We will use the Synthetic Swiss Income Dataset to demonstrate the how to release differentially private information on tabular data with OpenDP.\n",
    "The main library used in the background is `Polars`."
   ]
  },
  {
   "cell_type": "code",
   "execution_count": 1,
   "metadata": {},
   "outputs": [
    {
     "name": "stdout",
     "output_type": "stream",
     "text": [
      "Requirement already satisfied: polars==0.20.16 in /usr/local/lib/python3.11/site-packages (0.20.16)\n",
      "\u001b[33mWARNING: Running pip as the 'root' user can result in broken permissions and conflicting behaviour with the system package manager. It is recommended to use a virtual environment instead: https://pip.pypa.io/warnings/venv\u001b[0m\u001b[33m\n",
      "\u001b[0m\n",
      "\u001b[1m[\u001b[0m\u001b[34;49mnotice\u001b[0m\u001b[1;39;49m]\u001b[0m\u001b[39;49m A new release of pip is available: \u001b[0m\u001b[31;49m24.0\u001b[0m\u001b[39;49m -> \u001b[0m\u001b[32;49m24.1\u001b[0m\n",
      "\u001b[1m[\u001b[0m\u001b[34;49mnotice\u001b[0m\u001b[1;39;49m]\u001b[0m\u001b[39;49m To update, run: \u001b[0m\u001b[32;49mpip install --upgrade pip\u001b[0m\n"
     ]
    }
   ],
   "source": [
    "!pip install polars==0.20.16\n",
    "!pip install pyarrow"
   ]
  },
  {
   "cell_type": "code",
   "execution_count": 2,
   "metadata": {},
   "outputs": [],
   "source": [
    "import polars as pl\n",
    "import opendp.prelude as dp\n",
    "\n",
    "dp.enable_features(\"contrib\")"
   ]
  },
  {
   "cell_type": "markdown",
   "metadata": {},
   "source": [
    "## 1. Get income df in polars lazyframe format"
   ]
  },
  {
   "cell_type": "code",
   "execution_count": 3,
   "metadata": {},
   "outputs": [],
   "source": [
    "path = \"income_synthetic.csv\"\n",
    "lf = pl.scan_csv(path)"
   ]
  },
  {
   "cell_type": "markdown",
   "metadata": {},
   "source": [
    "## 2. Data Domain Preparation\n",
    "We first need to declare the metadata of the input domain of the Lazyframe."
   ]
  },
  {
   "cell_type": "code",
   "execution_count": 4,
   "metadata": {},
   "outputs": [],
   "source": [
    "def seed(schema):\n",
    "    return pl.DataFrame(None, schema, orient=\"row\").lazy()  # type: ignore[attr-defined]"
   ]
  },
  {
   "cell_type": "code",
   "execution_count": 8,
   "metadata": {},
   "outputs": [],
   "source": [
    "income_lower_bound, income_upper_bound = 1_000, 100_000"
   ]
  },
  {
   "cell_type": "code",
   "execution_count": 9,
   "metadata": {},
   "outputs": [],
   "source": [
    "def get_lf_domain():\n",
    "    lf_domain = dp.lazyframe_domain([\n",
    "        dp.series_domain(\"region\", dp.atom_domain(T=dp.i64)),\n",
    "        dp.series_domain(\"eco_branch\", dp.atom_domain(T=dp.i64)),\n",
    "        dp.series_domain(\"profession\", dp.option_domain(dp.atom_domain(T=dp.i64))),\n",
    "        dp.series_domain(\"education\", dp.atom_domain(T=dp.i64)),\n",
    "        dp.series_domain(\"age\", dp.atom_domain(T=dp.i64)),\n",
    "        dp.series_domain(\"sex\", dp.atom_domain(T=dp.i64)),\n",
    "        dp.series_domain(\"income\", dp.atom_domain(T=dp.f64))\n",
    "    ])\n",
    "    lf_domain = dp.with_margin(lf_domain, by=[], public_info=\"lengths\", max_partition_length=50)\n",
    "    return lf_domain"
   ]
  },
  {
   "cell_type": "markdown",
   "metadata": {},
   "source": [
    "## 3. Private Data Analysis\n",
    "We will analyse the income column: compute the private mean and quantiles."
   ]
  },
  {
   "cell_type": "code",
   "execution_count": null,
   "metadata": {},
   "outputs": [],
   "source": []
  },
  {
   "cell_type": "markdown",
   "metadata": {},
   "source": [
    "### a. Mean "
   ]
  },
  {
   "cell_type": "code",
   "execution_count": 10,
   "metadata": {},
   "outputs": [
    {
     "data": {
      "text/html": [
       "<div><style>\n",
       ".dataframe > thead > tr,\n",
       ".dataframe > tbody > tr {\n",
       "  text-align: right;\n",
       "  white-space: pre-wrap;\n",
       "}\n",
       "</style>\n",
       "<small>shape: (1, 1)</small><table border=\"1\" class=\"dataframe\"><thead><tr><th>income</th></tr><tr><td>f64</td></tr></thead><tbody><tr><td>7052.657818</td></tr></tbody></table></div>"
      ],
      "text/plain": [
       "shape: (1, 1)\n",
       "┌─────────────┐\n",
       "│ income      │\n",
       "│ ---         │\n",
       "│ f64         │\n",
       "╞═════════════╡\n",
       "│ 7052.657818 │\n",
       "└─────────────┘"
      ]
     },
     "execution_count": 10,
     "metadata": {},
     "output_type": "execute_result"
    }
   ],
   "source": [
    "# Overall\n",
    "lf_domain = get_lf_domain()\n",
    "\n",
    "plan = seed(lf.schema).select(\n",
    "    pl.col(\"income\").dp.mean(bounds=(income_lower_bound, income_upper_bound), scale=0.0)\n",
    ")\n",
    "m_lf = dp.m.make_private_lazyframe(\n",
    "    lf_domain, dp.symmetric_distance(), dp.max_divergence(T=float), plan\n",
    ")\n",
    "mean_income = m_lf(lf).collect()\n",
    "mean_income"
   ]
  },
  {
   "cell_type": "code",
   "execution_count": 12,
   "metadata": {},
   "outputs": [
    {
     "data": {
      "text/html": [
       "<div><style>\n",
       ".dataframe > thead > tr,\n",
       ".dataframe > tbody > tr {\n",
       "  text-align: right;\n",
       "  white-space: pre-wrap;\n",
       "}\n",
       "</style>\n",
       "<small>shape: (2, 2)</small><table border=\"1\" class=\"dataframe\"><thead><tr><th>sex</th><th>income</th></tr><tr><td>i64</td><td>f64</td></tr></thead><tbody><tr><td>1</td><td>7365.936164</td></tr><tr><td>0</td><td>6362.735208</td></tr></tbody></table></div>"
      ],
      "text/plain": [
       "shape: (2, 2)\n",
       "┌─────┬─────────────┐\n",
       "│ sex ┆ income      │\n",
       "│ --- ┆ ---         │\n",
       "│ i64 ┆ f64         │\n",
       "╞═════╪═════════════╡\n",
       "│ 1   ┆ 7365.936164 │\n",
       "│ 0   ┆ 6362.735208 │\n",
       "└─────┴─────────────┘"
      ]
     },
     "execution_count": 12,
     "metadata": {},
     "output_type": "execute_result"
    }
   ],
   "source": [
    "# Grouped by \"sex\"\n",
    "lf_domain = get_lf_domain()\n",
    "lf_domain = dp.with_margin(lf_domain, by=[\"sex\"], public_info=\"lengths\", max_partition_length=50) # works for grouped mean\n",
    "\n",
    "plan = seed(lf.schema).group_by(\"sex\").agg([\n",
    "    pl.col(\"income\").dp.mean(bounds=(1_000.0, 60_000.0), scale=1.0)\n",
    "])\n",
    "m_lf = dp.m.make_private_lazyframe(\n",
    "    input_domain=lf_domain, \n",
    "    input_metric=dp.symmetric_distance(), \n",
    "    output_measure=dp.max_divergence(T=float), \n",
    "    lazyframe=plan\n",
    ")\n",
    "by_sex_mean = m_lf(lf).collect()\n",
    "by_sex_mean"
   ]
  },
  {
   "cell_type": "markdown",
   "metadata": {},
   "source": [
    "### b. Quantile income"
   ]
  },
  {
   "cell_type": "code",
   "execution_count": 13,
   "metadata": {},
   "outputs": [],
   "source": [
    "candidates = list(range(1_000, 100_000, 1000))"
   ]
  },
  {
   "cell_type": "code",
   "execution_count": 14,
   "metadata": {},
   "outputs": [
    {
     "data": {
      "text/html": [
       "<div><style>\n",
       ".dataframe > thead > tr,\n",
       ".dataframe > tbody > tr {\n",
       "  text-align: right;\n",
       "  white-space: pre-wrap;\n",
       "}\n",
       "</style>\n",
       "<small>shape: (1, 1)</small><table border=\"1\" class=\"dataframe\"><thead><tr><th>income</th></tr><tr><td>i64</td></tr></thead><tbody><tr><td>29000</td></tr></tbody></table></div>"
      ],
      "text/plain": [
       "shape: (1, 1)\n",
       "┌────────┐\n",
       "│ income │\n",
       "│ ---    │\n",
       "│ i64    │\n",
       "╞════════╡\n",
       "│ 29000  │\n",
       "└────────┘"
      ]
     },
     "execution_count": 14,
     "metadata": {},
     "output_type": "execute_result"
    }
   ],
   "source": [
    "# Overall\n",
    "lf_domain = get_lf_domain()\n",
    "\n",
    "plan = seed(lf.schema).select(\n",
    "    pl.col(\"income\").dp.quantile(alpha=.75, candidates=candidates, scale=1.)\n",
    ")\n",
    "m_lf = dp.m.make_private_lazyframe(\n",
    "    lf_domain, dp.symmetric_distance(), dp.max_divergence(T=float), plan\n",
    ")\n",
    "quantile_income = m_lf(lf).collect()\n",
    "quantile_income"
   ]
  },
  {
   "cell_type": "code",
   "execution_count": 14,
   "metadata": {},
   "outputs": [
    {
     "data": {
      "text/html": [
       "<div><style>\n",
       ".dataframe > thead > tr,\n",
       ".dataframe > tbody > tr {\n",
       "  text-align: right;\n",
       "  white-space: pre-wrap;\n",
       "}\n",
       "</style>\n",
       "<small>shape: (2, 2)</small><table border=\"1\" class=\"dataframe\"><thead><tr><th>sex</th><th>income</th></tr><tr><td>i64</td><td>i64</td></tr></thead><tbody><tr><td>0</td><td>25000</td></tr><tr><td>1</td><td>29000</td></tr></tbody></table></div>"
      ],
      "text/plain": [
       "shape: (2, 2)\n",
       "┌─────┬────────┐\n",
       "│ sex ┆ income │\n",
       "│ --- ┆ ---    │\n",
       "│ i64 ┆ i64    │\n",
       "╞═════╪════════╡\n",
       "│ 0   ┆ 25000  │\n",
       "│ 1   ┆ 29000  │\n",
       "└─────┴────────┘"
      ]
     },
     "execution_count": 14,
     "metadata": {},
     "output_type": "execute_result"
    }
   ],
   "source": [
    "# Grouped by sex\n",
    "lf_domain = get_lf_domain()\n",
    "lf_domain = dp.with_margin(lf_domain, by=[\"sex\"], public_info=\"keys\", max_partition_length=50)\n",
    "\n",
    "plan = seed(lf.schema).group_by(\"sex\").agg([\n",
    "    pl.col(\"income\").dp.quantile(alpha=.75, candidates=candidates, scale=1.),\n",
    "])\n",
    "m_lf = dp.m.make_private_lazyframe(\n",
    "    input_domain=lf_domain, \n",
    "    input_metric=dp.symmetric_distance(), \n",
    "    output_measure=dp.max_divergence(T=float), \n",
    "    lazyframe=plan\n",
    ")\n",
    "by_sex_quantile_income = m_lf(lf).collect()\n",
    "by_sex_quantile_income"
   ]
  },
  {
   "cell_type": "code",
   "execution_count": null,
   "metadata": {},
   "outputs": [],
   "source": []
  }
 ],
 "metadata": {
  "kernelspec": {
   "display_name": "Python 3 (ipykernel)",
   "language": "python",
   "name": "python3"
  },
  "language_info": {
   "codemirror_mode": {
    "name": "ipython",
    "version": 3
   },
   "file_extension": ".py",
   "mimetype": "text/x-python",
   "name": "python",
   "nbconvert_exporter": "python",
   "pygments_lexer": "ipython3",
   "version": "3.11.9"
  }
 },
 "nbformat": 4,
 "nbformat_minor": 4
}
