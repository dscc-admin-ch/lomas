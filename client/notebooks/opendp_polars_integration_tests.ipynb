{
 "cells": [
  {
   "cell_type": "markdown",
   "metadata": {},
   "source": [
    "# OpenDP polars integration to Lomas"
   ]
  },
  {
   "cell_type": "code",
   "execution_count": 9,
   "metadata": {},
   "outputs": [],
   "source": [
    "# Lomas client setup\n",
    "from lomas_client import Client\n",
    "import polars as pl\n",
    "import opendp as dp\n",
    "\n",
    "APP_URL = \"http://lomas_server:80\"\n",
    "USER_NAME = \"Dr. FSO\"\n",
    "DATASET_NAME = \"FSO_INCOME_SYNTHETIC\"\n",
    "client = Client(url=APP_URL, user_name = USER_NAME, dataset_name = DATASET_NAME)\n",
    "\n",
    "metadata = client.get_dataset_metadata()"
   ]
  },
  {
   "cell_type": "code",
   "execution_count": 10,
   "metadata": {},
   "outputs": [
    {
     "data": {
      "text/plain": [
       "{'requested_by': 'Dr. FSO',\n",
       " 'query_response': shape: (1, 1)\n",
       " ┌─────────────┐\n",
       " │ income      │\n",
       " │ ---         │\n",
       " │ f64         │\n",
       " ╞═════════════╡\n",
       " │ 7052.657812 │\n",
       " └─────────────┘,\n",
       " 'spent_epsilon': 18.346351313032198,\n",
       " 'spent_delta': 0}"
      ]
     },
     "execution_count": 10,
     "metadata": {},
     "output_type": "execute_result"
    }
   ],
   "source": [
    "dummy_lf = client.get_dummy_lf()\n",
    "\n",
    "plan = dummy_lf.select(\n",
    "    pl.col(\"income\").dp.mean(bounds=(1000.0, 100000.0), scale=10.0)\n",
    ")\n",
    "\n",
    "res = client.opendp_query(plan, mechanism=\"Laplace\", delta=0.00)\n",
    "res"
   ]
  },
  {
   "cell_type": "code",
   "execution_count": 12,
   "metadata": {},
   "outputs": [
    {
     "data": {
      "text/html": [
       "<i>naive plan: (run <b>LazyFrame.explain(optimized=True)</b> to see the optimized plan)</i>\n",
       "    <p></p>\n",
       "    <div>DF [\"region\", \"eco_branch\", \"profession\", \"education\"]; PROJECT */7 COLUMNS; SELECTION: \"None\"</div>"
      ],
      "text/plain": [
       "<LazyFrame [7 cols, {\"region\": Int32 … \"income\": Float64}] at 0x7F204611AD50>"
      ]
     },
     "execution_count": 12,
     "metadata": {},
     "output_type": "execute_result"
    }
   ],
   "source": [
    "# This is not needed anymore, delete?\n",
    "seed = client.get_lf_seed()\n",
    "seed"
   ]
  },
  {
   "cell_type": "code",
   "execution_count": null,
   "metadata": {},
   "outputs": [],
   "source": []
  }
 ],
 "metadata": {
  "kernelspec": {
   "display_name": "Python 3 (ipykernel)",
   "language": "python",
   "name": "python3"
  },
  "language_info": {
   "codemirror_mode": {
    "name": "ipython",
    "version": 3
   },
   "file_extension": ".py",
   "mimetype": "text/x-python",
   "name": "python",
   "nbconvert_exporter": "python",
   "pygments_lexer": "ipython3",
   "version": "3.11.0"
  }
 },
 "nbformat": 4,
 "nbformat_minor": 4
}
