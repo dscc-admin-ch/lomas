{
    "cells": [
        {
            "cell_type": "markdown",
            "id": "363c238d-5925-4b4b-8f68-8ad84ea4705b",
            "metadata": {},
            "source": [
                "# Local Service Deployment - How to"
            ]
        },
        {
            "cell_type": "markdown",
            "id": "2db1363b-e87e-4d0e-bb3f-9af1a1b72b8d",
            "metadata": {},
            "source": [
                "This notebook showcases how to set up the service, add and make data available to users in a local environment. In addition, it also shows how to set up a user session for testing.\n",
                "\n",
                "We use docker and docker compose files to automate the local deployment."
            ]
        },
        {
            "cell_type": "markdown",
            "id": "92f3237b-6f13-4c52-a9f2-82d94f0b7e66",
            "metadata": {},
            "source": [
                "## Docker volume and config setup\n",
                "The first step is to create a docker volume for mongodb, which will hold all the \"admin\" data of the server. Docker volumes are persistent storage spaces that are managed by docker and can be mounted in containers. To create the volume, use\n",
                "\n",
                "`docker volume create mongodata`\n",
                "\n",
                "and you should see `mongodata` printed to the console. This must be done only once, and we use bind mounts for the server, so no need to create volumes for that.\n",
                "\n",
                "Secondly, one must adapt the yaml config files in `server/configs/`. The default values should be enough to start a demo version of the service though. Keep in mind that certain parameter modification require to also update the docker compose files accordingly. This is out of scope for this notebook."
            ]
        },
        {
            "cell_type": "markdown",
            "id": "f6829afb-d822-48e4-ba49-5daf0d79db7e",
            "metadata": {},
            "source": [
                "## Service start\n",
                "\n",
                "In `server/` you will find the `docker-compose.yml` file that is used for deploying the service locally. In a terminal, `cd` into `server/`and run\n",
                "\n",
                "`docker compose up`\n",
                "\n",
                "This will start the server, the mongodb as well as a user environment, each running in their own container. The first time this command is run, required containers images will automatically be built locally or downloaded from dockerhub, depending on the particular image. Note that container logs are all printed to your terminal.\n",
                "\n",
                "To check that all containers are indeed running, run `docker ps`. You should be able to see a container for the server (`lomas_server_dev`), for the client (`lomas_client_dev`) and one for the mongo database (`mongodb`).\n",
                "\n",
                "## Server test\n",
                "\n",
                "Appart from the logs in the console, we can also check the server state through our web browser. To get the server state, use the following url:\n",
                "\n",
                "http://127.0.0.1/state\n",
                "\n",
                "If everything went well, the page should show a few messages and the state should be \"LIVE\".\n",
                "\n",
                "For exploring and testing API endpoints of the server, one can also use the automatically generated Swagger docummentation page with \n",
                "\n",
                "http://127.0.0.1/docs\n",
                "\n",
                "## User session\n",
                "\n",
                "Now that we know the server is in \"LIVE\" state, one can run one of our client demo notebooks from the user session. The default configuration starts a JupyterLab server at \n",
                "\n",
                "http://127.0.0.1:8.8.8.8/\n",
                "\n",
                "and the default password for that is \"dprocks\". The root directory of the client session gives access to all the client demo notebooks, follow them for more!\n",
                "\n",
                "For starting user sessions alone, there is an alternative `docker-compose.yml` file in the `client` directory of this repository. The configuration files for the user session are located in `client/configs`, regardless of the chosen docker compose file.\n",
                "\n",
                "## Service stop\n",
                "\n",
                "For stopping the service, simply run \n",
                "\n",
                "`CTRL + c` and then `docker compose down`\n",
                "\n",
                "in your terminal. This will stop and remove all the service containers. Note that the mongodb volume will persist and must not be recreate on subsequent startups of the service.\n",
                "\n"
            ]
        }
    ],
    "metadata": {
        "kernelspec": {
            "display_name": "Python 3 (ipykernel)",
            "language": "python",
            "name": "python3"
        },
        "language_info": {
            "codemirror_mode": {
                "name": "ipython",
                "version": 3
            },
            "file_extension": ".py",
            "mimetype": "text/x-python",
            "name": "python",
            "nbconvert_exporter": "python",
            "pygments_lexer": "ipython3",
            "version": "3.10.6"
        }
    },
    "nbformat": 4,
    "nbformat_minor": 5
}