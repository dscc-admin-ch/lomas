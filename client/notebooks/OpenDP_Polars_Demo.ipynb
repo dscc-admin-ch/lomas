{
 "cells": [
  {
   "cell_type": "markdown",
   "metadata": {},
   "source": [
    "# Differential Privacy on Income Data\n",
    "\n",
    "We will use the Synthetic Swiss Income Dataset to demonstrate the how to release differentially private information on tabular data with OpenDP.\n",
    "The main library used in the background is `Polars`."
   ]
  },
  {
   "cell_type": "code",
   "execution_count": 91,
   "metadata": {},
   "outputs": [
    {
     "name": "stdout",
     "output_type": "stream",
     "text": [
      "Requirement already satisfied: opendp==0.10.0 in /usr/local/lib/python3.11/site-packages (0.10.0)\n",
      "\u001b[33mWARNING: Running pip as the 'root' user can result in broken permissions and conflicting behaviour with the system package manager. It is recommended to use a virtual environment instead: https://pip.pypa.io/warnings/venv\u001b[0m\u001b[33m\n",
      "\u001b[0m\n",
      "\u001b[1m[\u001b[0m\u001b[34;49mnotice\u001b[0m\u001b[1;39;49m]\u001b[0m\u001b[39;49m A new release of pip is available: \u001b[0m\u001b[31;49m24.0\u001b[0m\u001b[39;49m -> \u001b[0m\u001b[32;49m24.1\u001b[0m\n",
      "\u001b[1m[\u001b[0m\u001b[34;49mnotice\u001b[0m\u001b[1;39;49m]\u001b[0m\u001b[39;49m To update, run: \u001b[0m\u001b[32;49mpip install --upgrade pip\u001b[0m\n"
     ]
    }
   ],
   "source": [
    "!pip install opendp==0.10.0"
   ]
  },
  {
   "cell_type": "code",
   "execution_count": 8,
   "metadata": {},
   "outputs": [
    {
     "name": "stdout",
     "output_type": "stream",
     "text": [
      "Collecting polars\n",
      "  Downloading polars-0.20.31-cp38-abi3-manylinux_2_17_x86_64.manylinux2014_x86_64.whl.metadata (14 kB)\n",
      "Downloading polars-0.20.31-cp38-abi3-manylinux_2_17_x86_64.manylinux2014_x86_64.whl (28.8 MB)\n",
      "\u001b[2K   \u001b[90m━━━━━━━━━━━━━━━━━━━━━━━━━━━━━━━━━━━━━━━━\u001b[0m \u001b[32m28.8/28.8 MB\u001b[0m \u001b[31m3.0 MB/s\u001b[0m eta \u001b[36m0:00:00\u001b[0m00:01\u001b[0m00:01\u001b[0m\n",
      "\u001b[?25hInstalling collected packages: polars\n",
      "Successfully installed polars-0.20.31\n",
      "\u001b[33mWARNING: Running pip as the 'root' user can result in broken permissions and conflicting behaviour with the system package manager. It is recommended to use a virtual environment instead: https://pip.pypa.io/warnings/venv\u001b[0m\u001b[33m\n",
      "\u001b[0m\n",
      "\u001b[1m[\u001b[0m\u001b[34;49mnotice\u001b[0m\u001b[1;39;49m]\u001b[0m\u001b[39;49m A new release of pip is available: \u001b[0m\u001b[31;49m24.0\u001b[0m\u001b[39;49m -> \u001b[0m\u001b[32;49m24.1\u001b[0m\n",
      "\u001b[1m[\u001b[0m\u001b[34;49mnotice\u001b[0m\u001b[1;39;49m]\u001b[0m\u001b[39;49m To update, run: \u001b[0m\u001b[32;49mpip install --upgrade pip\u001b[0m\n"
     ]
    }
   ],
   "source": [
    "!pip install polars"
   ]
  },
  {
   "cell_type": "code",
   "execution_count": 92,
   "metadata": {},
   "outputs": [
    {
     "name": "stdout",
     "output_type": "stream",
     "text": [
      "Package                   Version        Editable project location\n",
      "------------------------- -------------- -------------------------\n",
      "anyio                     4.4.0\n",
      "argon2-cffi               23.1.0\n",
      "argon2-cffi-bindings      21.2.0\n",
      "arrow                     1.3.0\n",
      "asttokens                 2.4.1\n",
      "async-lru                 2.0.4\n",
      "attrs                     23.2.0\n",
      "Babel                     2.15.0\n",
      "beautifulsoup4            4.12.3\n",
      "bleach                    6.1.0\n",
      "certifi                   2024.2.2\n",
      "cffi                      1.16.0\n",
      "charset-normalizer        3.3.2\n",
      "comm                      0.2.2\n",
      "contourpy                 1.2.1\n",
      "cycler                    0.12.1\n",
      "debugpy                   1.8.1\n",
      "decorator                 5.1.1\n",
      "defusedxml                0.7.1\n",
      "executing                 2.0.1\n",
      "fastjsonschema            2.19.1\n",
      "fonttools                 4.52.4\n",
      "fqdn                      1.5.1\n",
      "h11                       0.14.0\n",
      "httpcore                  1.0.5\n",
      "httpx                     0.27.0\n",
      "idna                      3.7\n",
      "ipykernel                 6.29.4\n",
      "ipython                   8.24.0\n",
      "ipywidgets                8.1.3\n",
      "isoduration               20.11.0\n",
      "jedi                      0.19.1\n",
      "Jinja2                    3.1.4\n",
      "json5                     0.9.25\n",
      "jsonpointer               2.4\n",
      "jsonschema                4.22.0\n",
      "jsonschema-specifications 2023.12.1\n",
      "jupyter                   1.0.0\n",
      "jupyter_client            8.6.2\n",
      "jupyter-console           6.6.3\n",
      "jupyter_core              5.7.2\n",
      "jupyter-events            0.10.0\n",
      "jupyter-lsp               2.2.5\n",
      "jupyter_server            2.14.0\n",
      "jupyter_server_terminals  0.5.3\n",
      "jupyterlab                4.2.1\n",
      "jupyterlab_pygments       0.3.0\n",
      "jupyterlab_server         2.27.2\n",
      "jupyterlab_widgets        3.0.11\n",
      "kiwisolver                1.4.5\n",
      "lomas-client              0.0.3          /code\n",
      "MarkupSafe                2.1.5\n",
      "matplotlib                3.9.0\n",
      "matplotlib-inline         0.1.7\n",
      "mistune                   3.0.2\n",
      "nbclient                  0.10.0\n",
      "nbconvert                 7.16.4\n",
      "nbformat                  5.10.4\n",
      "nest-asyncio              1.6.0\n",
      "notebook                  7.2.0\n",
      "notebook_shim             0.2.4\n",
      "numpy                     1.23.2\n",
      "opendp                    0.10.0\n",
      "opendp-logger             0.3.0\n",
      "overrides                 7.7.0\n",
      "packaging                 24.0\n",
      "pandas                    2.0.1\n",
      "pandocfilters             1.5.1\n",
      "parso                     0.8.4\n",
      "pexpect                   4.9.0\n",
      "pillow                    10.3.0\n",
      "pip                       24.0\n",
      "platformdirs              4.2.2\n",
      "polars                    0.20.31\n",
      "prometheus_client         0.20.0\n",
      "prompt_toolkit            3.0.45\n",
      "psutil                    5.9.8\n",
      "ptyprocess                0.7.0\n",
      "pure-eval                 0.2.2\n",
      "pycparser                 2.22\n",
      "Pygments                  2.18.0\n",
      "pyparsing                 3.1.2\n",
      "python-dateutil           2.9.0.post0\n",
      "python-json-logger        2.0.7\n",
      "pytz                      2024.1\n",
      "PyYAML                    6.0.1\n",
      "pyzmq                     26.0.3\n",
      "qtconsole                 5.5.2\n",
      "QtPy                      2.4.1\n",
      "referencing               0.35.1\n",
      "requests                  2.31.0\n",
      "rfc3339-validator         0.1.4\n",
      "rfc3986-validator         0.1.1\n",
      "rpds-py                   0.18.1\n",
      "seaborn                   0.13.2\n",
      "Send2Trash                1.8.3\n",
      "setuptools                65.5.1\n",
      "six                       1.16.0\n",
      "sniffio                   1.3.1\n",
      "soupsieve                 2.5\n",
      "stack-data                0.6.3\n",
      "terminado                 0.18.1\n",
      "tinycss2                  1.3.0\n",
      "tornado                   6.4\n",
      "traitlets                 5.14.3\n",
      "types-python-dateutil     2.9.0.20240316\n",
      "typing_extensions         4.12.0\n",
      "tzdata                    2024.1\n",
      "uri-template              1.3.0\n",
      "urllib3                   2.2.1\n",
      "wcwidth                   0.2.13\n",
      "webcolors                 1.13\n",
      "webencodings              0.5.1\n",
      "websocket-client          1.8.0\n",
      "wheel                     0.43.0\n",
      "widgetsnbextension        4.0.11\n",
      "\n",
      "\u001b[1m[\u001b[0m\u001b[34;49mnotice\u001b[0m\u001b[1;39;49m]\u001b[0m\u001b[39;49m A new release of pip is available: \u001b[0m\u001b[31;49m24.0\u001b[0m\u001b[39;49m -> \u001b[0m\u001b[32;49m24.1\u001b[0m\n",
      "\u001b[1m[\u001b[0m\u001b[34;49mnotice\u001b[0m\u001b[1;39;49m]\u001b[0m\u001b[39;49m To update, run: \u001b[0m\u001b[32;49mpip install --upgrade pip\u001b[0m\n"
     ]
    }
   ],
   "source": [
    "!pip list"
   ]
  },
  {
   "cell_type": "code",
   "execution_count": 10,
   "metadata": {},
   "outputs": [],
   "source": [
    "# Import library\n",
    "import polars as pl\n",
    "import opendp.prelude as dp\n",
    "\n",
    "dp.enable_features(\"contrib\")"
   ]
  },
  {
   "cell_type": "markdown",
   "metadata": {},
   "source": [
    "## 1. Data Domain Preparation\n",
    "We first need to declare the metadata of the input domain of the Lazyframe."
   ]
  },
  {
   "cell_type": "code",
   "execution_count": 52,
   "metadata": {},
   "outputs": [],
   "source": [
    "def seed(schema):\n",
    "    return pl.DataFrame(None, schema, orient=\"row\").lazy()  # type: ignore[attr-defined]"
   ]
  },
  {
   "cell_type": "markdown",
   "metadata": {},
   "source": [
    "### Define domain with bounds"
   ]
  },
  {
   "cell_type": "code",
   "execution_count": 11,
   "metadata": {},
   "outputs": [],
   "source": [
    "# Income bounds\n",
    "income_lower_bound, income_upper_bound = 1_000.0, 60_000.0"
   ]
  },
  {
   "cell_type": "code",
   "execution_count": 23,
   "metadata": {},
   "outputs": [],
   "source": [
    "lf_domain = dp.lazyframe_domain([\n",
    "    dp.series_domain(\"region\", dp.atom_domain(T=dp.i32)),\n",
    "    dp.series_domain(\"eco_branch\", dp.atom_domain(T=dp.i32)),\n",
    "    dp.series_domain(\"profession\", dp.option_domain(dp.atom_domain(T=dp.i32))),\n",
    "    dp.series_domain(\"education\", dp.atom_domain(T=dp.i32)),\n",
    "    dp.series_domain(\"age\", dp.atom_domain(T=dp.i32)),\n",
    "    dp.series_domain(\"sex\", dp.atom_domain(T=dp.i32)),\n",
    "    dp.series_domain(\"income\", dp.atom_domain(bounds=(income_lower_bound, income_upper_bound), T=dp.f64))\n",
    "])"
   ]
  },
  {
   "cell_type": "markdown",
   "metadata": {},
   "source": [
    "### Add margin metadata: \n",
    "Here, we add the counts the we will need."
   ]
  },
  {
   "cell_type": "code",
   "execution_count": 24,
   "metadata": {},
   "outputs": [],
   "source": [
    "lf_domain = dp.with_margin(lf_domain, by=[\"sex\"], public_info=\"keys\", max_partition_length=50)\n",
    "lf_domain = dp.with_margin(lf_domain, by=[\"region\"], public_info=\"keys\", max_partition_length=50)\n",
    "lf_domain = dp.with_margin(lf_domain, by=[\"sex\", \"region\"], public_info=\"keys\", max_partition_length=50)\n",
    "#public_info=\"lengths\",\n",
    "#max_partition_length=50,\n",
    "#max_num_partitions=3,\n",
    "#max_partition_contributions=2,\n",
    "#max_influenced_partitions=1,"
   ]
  },
  {
   "cell_type": "markdown",
   "metadata": {},
   "source": [
    "### Input metrics and output measures"
   ]
  },
  {
   "cell_type": "code",
   "execution_count": 25,
   "metadata": {},
   "outputs": [],
   "source": [
    "input_metric = dp.symmetric_distance()\n",
    "output_measure = dp.max_divergence(T=dp.f64)"
   ]
  },
  {
   "cell_type": "markdown",
   "metadata": {},
   "source": [
    "## 2. Get income df in polars lazyframe format"
   ]
  },
  {
   "cell_type": "code",
   "execution_count": 84,
   "metadata": {},
   "outputs": [],
   "source": [
    "path = \"income_synthetic.csv\""
   ]
  },
  {
   "cell_type": "code",
   "execution_count": 85,
   "metadata": {},
   "outputs": [
    {
     "data": {
      "text/html": [
       "<i>naive plan: (run <b>LazyFrame.explain(optimized=True)</b> to see the optimized plan)</i>\n",
       "    <p></p>\n",
       "    <div>SLICE[offset: 0, len: 5]<p></p><p></p>    Csv SCAN income_synthetic.csv<p></p>    PROJECT */7 COLUMNS</div>"
      ],
      "text/plain": [
       "<LazyFrame at 0x7F1F67235910>"
      ]
     },
     "execution_count": 85,
     "metadata": {},
     "output_type": "execute_result"
    }
   ],
   "source": [
    "lf = pl.scan_csv(path)\n",
    "lf.head()"
   ]
  },
  {
   "cell_type": "code",
   "execution_count": 86,
   "metadata": {},
   "outputs": [],
   "source": [
    "#lf.collect()"
   ]
  },
  {
   "cell_type": "markdown",
   "metadata": {},
   "source": [
    "## 3. Private Data Analysis\n",
    "We will analyse the income column: compute the private mean and quantiles."
   ]
  },
  {
   "cell_type": "markdown",
   "metadata": {},
   "source": [
    "### Mean income"
   ]
  },
  {
   "cell_type": "markdown",
   "metadata": {},
   "source": [
    "#### Overall"
   ]
  },
  {
   "cell_type": "code",
   "execution_count": null,
   "metadata": {},
   "outputs": [],
   "source": []
  },
  {
   "cell_type": "markdown",
   "metadata": {},
   "source": [
    "#### Per partition"
   ]
  },
  {
   "cell_type": "code",
   "execution_count": 89,
   "metadata": {},
   "outputs": [],
   "source": [
    "expr = pl.col(\"Income\").fill_null(0.0).dp.mean((1_000.0, 60_000.0), scale=0.0)\n",
    "plan = seed(lf.schema).group_by(\"sex\").agg(expr).sort(\"sex\")"
   ]
  },
  {
   "cell_type": "code",
   "execution_count": 90,
   "metadata": {},
   "outputs": [
    {
     "ename": "OpenDPException",
     "evalue": "\n  FFI(\"Error when deserializing LazyFrame. This may be due to mismatched polars versions. Semantic(None, \"unknown variant `GroupBy`, expected one of `Selection`, `Cache`, `Scan`, `DataFrameScan`, `Projection`, `Aggregate`, `Join`, `HStack`, `Distinct`, `Sort`, `Slice`, `MapFunction`, `Union`, `HConcat`, `ExtContext`, `Sink`\")\")",
     "output_type": "error",
     "traceback": [
      "\u001b[0;31m---------------------------------------------------------------------------\u001b[0m",
      "\u001b[0;31mOpenDPException\u001b[0m                           Traceback (most recent call last)",
      "Cell \u001b[0;32mIn[90], line 1\u001b[0m\n\u001b[0;32m----> 1\u001b[0m m_lf \u001b[38;5;241m=\u001b[39m \u001b[43mdp\u001b[49m\u001b[38;5;241;43m.\u001b[39;49m\u001b[43mm\u001b[49m\u001b[38;5;241;43m.\u001b[39;49m\u001b[43mmake_private_lazyframe\u001b[49m\u001b[43m(\u001b[49m\n\u001b[1;32m      2\u001b[0m \u001b[43m    \u001b[49m\u001b[43minput_domain\u001b[49m\u001b[38;5;241;43m=\u001b[39;49m\u001b[43mlf_domain\u001b[49m\u001b[43m,\u001b[49m\u001b[43m \u001b[49m\n\u001b[1;32m      3\u001b[0m \u001b[43m    \u001b[49m\u001b[43minput_metric\u001b[49m\u001b[38;5;241;43m=\u001b[39;49m\u001b[43mdp\u001b[49m\u001b[38;5;241;43m.\u001b[39;49m\u001b[43msymmetric_distance\u001b[49m\u001b[43m(\u001b[49m\u001b[43m)\u001b[49m\u001b[43m,\u001b[49m\u001b[43m \u001b[49m\n\u001b[1;32m      4\u001b[0m \u001b[43m    \u001b[49m\u001b[43moutput_measure\u001b[49m\u001b[38;5;241;43m=\u001b[39;49m\u001b[43mdp\u001b[49m\u001b[38;5;241;43m.\u001b[39;49m\u001b[43mmax_divergence\u001b[49m\u001b[43m(\u001b[49m\u001b[43mT\u001b[49m\u001b[38;5;241;43m=\u001b[39;49m\u001b[38;5;28;43mfloat\u001b[39;49m\u001b[43m)\u001b[49m\u001b[43m,\u001b[49m\u001b[43m \u001b[49m\n\u001b[1;32m      5\u001b[0m \u001b[43m    \u001b[49m\u001b[43mlazyframe\u001b[49m\u001b[38;5;241;43m=\u001b[39;49m\u001b[43mplan\u001b[49m\n\u001b[1;32m      6\u001b[0m \u001b[43m)\u001b[49m\n\u001b[1;32m      8\u001b[0m df_release \u001b[38;5;241m=\u001b[39m m_lf(lf)\u001b[38;5;241m.\u001b[39mcollect()\n\u001b[1;32m      9\u001b[0m df_release\n",
      "File \u001b[0;32m/usr/local/lib/python3.11/site-packages/opendp/measurements.py:769\u001b[0m, in \u001b[0;36mmake_private_lazyframe\u001b[0;34m(input_domain, input_metric, output_measure, lazyframe, global_scale)\u001b[0m\n\u001b[1;32m    767\u001b[0m c_input_metric \u001b[38;5;241m=\u001b[39m py_to_c(input_metric, c_type\u001b[38;5;241m=\u001b[39mMetric, type_name\u001b[38;5;241m=\u001b[39m\u001b[38;5;28;01mNone\u001b[39;00m)\n\u001b[1;32m    768\u001b[0m c_output_measure \u001b[38;5;241m=\u001b[39m py_to_c(output_measure, c_type\u001b[38;5;241m=\u001b[39mMeasure, type_name\u001b[38;5;241m=\u001b[39m\u001b[38;5;28;01mNone\u001b[39;00m)\n\u001b[0;32m--> 769\u001b[0m c_lazyframe \u001b[38;5;241m=\u001b[39m \u001b[43mpy_to_c\u001b[49m\u001b[43m(\u001b[49m\u001b[43mlazyframe\u001b[49m\u001b[43m,\u001b[49m\u001b[43m \u001b[49m\u001b[43mc_type\u001b[49m\u001b[38;5;241;43m=\u001b[39;49m\u001b[43mAnyObjectPtr\u001b[49m\u001b[43m,\u001b[49m\u001b[43m \u001b[49m\u001b[43mtype_name\u001b[49m\u001b[38;5;241;43m=\u001b[39;49m\u001b[43mLazyFrame\u001b[49m\u001b[43m)\u001b[49m\n\u001b[1;32m    770\u001b[0m c_global_scale \u001b[38;5;241m=\u001b[39m py_to_c(global_scale, c_type\u001b[38;5;241m=\u001b[39mAnyObjectPtr, type_name\u001b[38;5;241m=\u001b[39mRuntimeType(origin\u001b[38;5;241m=\u001b[39m\u001b[38;5;124m'\u001b[39m\u001b[38;5;124mOption\u001b[39m\u001b[38;5;124m'\u001b[39m, args\u001b[38;5;241m=\u001b[39m[f64]))\n\u001b[1;32m    772\u001b[0m \u001b[38;5;66;03m# Call library function.\u001b[39;00m\n",
      "File \u001b[0;32m/usr/local/lib/python3.11/site-packages/opendp/_convert.py:111\u001b[0m, in \u001b[0;36mpy_to_c\u001b[0;34m(value, c_type, type_name)\u001b[0m\n\u001b[1;32m    109\u001b[0m \u001b[38;5;28;01mif\u001b[39;00m c_type \u001b[38;5;241m==\u001b[39m AnyObjectPtr:\n\u001b[1;32m    110\u001b[0m     \u001b[38;5;28;01mfrom\u001b[39;00m \u001b[38;5;21;01mopendp\u001b[39;00m\u001b[38;5;21;01m.\u001b[39;00m\u001b[38;5;21;01m_data\u001b[39;00m \u001b[38;5;28;01mimport\u001b[39;00m slice_as_object\n\u001b[0;32m--> 111\u001b[0m     \u001b[38;5;28;01mreturn\u001b[39;00m \u001b[43mslice_as_object\u001b[49m\u001b[43m(\u001b[49m\u001b[43mvalue\u001b[49m\u001b[43m,\u001b[49m\u001b[43m \u001b[49m\u001b[43mtype_name\u001b[49m\u001b[43m)\u001b[49m \u001b[38;5;66;03m# type: ignore[arg-type]\u001b[39;00m\n\u001b[1;32m    113\u001b[0m \u001b[38;5;28;01mif\u001b[39;00m c_type \u001b[38;5;241m==\u001b[39m FfiSlicePtr:\n\u001b[1;32m    114\u001b[0m     \u001b[38;5;28;01mif\u001b[39;00m type_name \u001b[38;5;129;01mis\u001b[39;00m \u001b[38;5;28;01mNone\u001b[39;00m:\n",
      "File \u001b[0;32m/usr/local/lib/python3.11/site-packages/opendp/_data.py:343\u001b[0m, in \u001b[0;36mslice_as_object\u001b[0;34m(raw, T)\u001b[0m\n\u001b[1;32m    340\u001b[0m lib_function\u001b[38;5;241m.\u001b[39margtypes \u001b[38;5;241m=\u001b[39m [FfiSlicePtr, ctypes\u001b[38;5;241m.\u001b[39mc_char_p]\n\u001b[1;32m    341\u001b[0m lib_function\u001b[38;5;241m.\u001b[39mrestype \u001b[38;5;241m=\u001b[39m FfiResult\n\u001b[0;32m--> 343\u001b[0m output \u001b[38;5;241m=\u001b[39m \u001b[43munwrap\u001b[49m\u001b[43m(\u001b[49m\u001b[43mlib_function\u001b[49m\u001b[43m(\u001b[49m\u001b[43mc_raw\u001b[49m\u001b[43m,\u001b[49m\u001b[43m \u001b[49m\u001b[43mc_T\u001b[49m\u001b[43m)\u001b[49m\u001b[43m,\u001b[49m\u001b[43m \u001b[49m\u001b[43mAnyObjectPtr\u001b[49m\u001b[43m)\u001b[49m\n\u001b[1;32m    345\u001b[0m \u001b[38;5;28;01mreturn\u001b[39;00m output\n",
      "File \u001b[0;32m/usr/local/lib/python3.11/site-packages/opendp/_lib.py:249\u001b[0m, in \u001b[0;36munwrap\u001b[0;34m(result, type_)\u001b[0m\n\u001b[1;32m    246\u001b[0m     \u001b[38;5;28;01mraise\u001b[39;00m OpenDPException(\u001b[38;5;124m\"\u001b[39m\u001b[38;5;124mFailed to free error.\u001b[39m\u001b[38;5;124m\"\u001b[39m)\n\u001b[1;32m    248\u001b[0m \u001b[38;5;66;03m# Rust stack traces follow from here:\u001b[39;00m\n\u001b[0;32m--> 249\u001b[0m \u001b[38;5;28;01mraise\u001b[39;00m OpenDPException(variant, message, backtrace)\n",
      "\u001b[0;31mOpenDPException\u001b[0m: \n  FFI(\"Error when deserializing LazyFrame. This may be due to mismatched polars versions. Semantic(None, \"unknown variant `GroupBy`, expected one of `Selection`, `Cache`, `Scan`, `DataFrameScan`, `Projection`, `Aggregate`, `Join`, `HStack`, `Distinct`, `Sort`, `Slice`, `MapFunction`, `Union`, `HConcat`, `ExtContext`, `Sink`\")\")"
     ]
    }
   ],
   "source": [
    "m_lf = dp.m.make_private_lazyframe(\n",
    "    input_domain=lf_domain, \n",
    "    input_metric=dp.symmetric_distance(), \n",
    "    output_measure=dp.max_divergence(T=float), \n",
    "    lazyframe=plan\n",
    ")\n",
    "\n",
    "df_release = m_lf(lf).collect()\n",
    "df_release"
   ]
  },
  {
   "cell_type": "code",
   "execution_count": null,
   "metadata": {},
   "outputs": [],
   "source": [
    "plan = lf_dummy.group_by(\"sex\").agg([\n",
    "    pl.col(\"income\").dp.mean(bounds=(0.0, 1.0), scale=2.),\n",
    "])"
   ]
  },
  {
   "cell_type": "code",
   "execution_count": null,
   "metadata": {},
   "outputs": [],
   "source": []
  },
  {
   "cell_type": "code",
   "execution_count": 17,
   "metadata": {},
   "outputs": [
    {
     "data": {
      "text/html": [
       "<div><style>\n",
       ".dataframe > thead > tr > th,\n",
       ".dataframe > tbody > tr > td {\n",
       "  text-align: right;\n",
       "}\n",
       "</style>\n",
       "<small>shape: (1, 1)</small><table border=\"1\" class=\"dataframe\"><thead><tr><th>income</th></tr><tr><td>f64</td></tr></thead><tbody><tr><td>7054.439756</td></tr></tbody></table></div>"
      ],
      "text/plain": [
       "shape: (1, 1)\n",
       "┌─────────────┐\n",
       "│ income      │\n",
       "│ ---         │\n",
       "│ f64         │\n",
       "╞═════════════╡\n",
       "│ 7054.439756 │\n",
       "└─────────────┘"
      ]
     },
     "execution_count": 17,
     "metadata": {},
     "output_type": "execute_result"
    }
   ],
   "source": [
    "expr_domain = dp.expr_domain(lf_domain, context=\"select\")\n",
    "\n",
    "mean_lazy_all = (lf_domain, metric) >> dp.m.then_private_select(\n",
    "    dp.c.make_basic_composition([\n",
    "        (expr_domain, metric) \n",
    "        >> dp.t.then_col(col_name = \"income\") \n",
    "        # >> dp.t.then_clamp_expr((income_lower_bound, income_upper_bound)) \n",
    "        >> dp.m.then_private_mean_expr(scale = 0.5)\n",
    "    ])\n",
    ") >> dp.t.make_collect(lf_domain, metric)\n",
    "\n",
    "mean_lazy_all(data)"
   ]
  },
  {
   "cell_type": "markdown",
   "metadata": {},
   "source": [
    "#### On partitions (groupby and agg operators)"
   ]
  },
  {
   "cell_type": "code",
   "execution_count": 18,
   "metadata": {},
   "outputs": [],
   "source": [
    "def partition_mean(lf_domain, metric, active_column, grouping_columns, bounds, scale):\n",
    "    # Groupby Expr domain\n",
    "    expr_domain = dp.expr_domain(lf_domain, grouping_columns = grouping_columns)\n",
    "    \n",
    "    # Groupby metric\n",
    "    expr_metric = dp.l1(metric)\n",
    "    \n",
    "    # Create expression\n",
    "    meas_lazy = (\n",
    "        (lf_domain, metric)\n",
    "        >> dp.t.then_groupby_stable(grouping_columns = grouping_columns)\n",
    "        >> dp.m.then_private_agg(\n",
    "            dp.c.make_basic_composition(\n",
    "                [\n",
    "                    (expr_domain, expr_metric)\n",
    "                    >> dp.t.then_col(col_name = active_column)\n",
    "                    >> dp.t.then_clamp_expr(bounds)\n",
    "                    >> dp.m.then_private_mean_expr(scale = scale)\n",
    "                ]\n",
    "            )\n",
    "        )\n",
    "        >> dp.t.make_collect(lf_domain, metric)\n",
    "    )\n",
    "    return meas_lazy"
   ]
  },
  {
   "cell_type": "code",
   "execution_count": 19,
   "metadata": {},
   "outputs": [
    {
     "data": {
      "text/html": [
       "<div><style>\n",
       ".dataframe > thead > tr > th,\n",
       ".dataframe > tbody > tr > td {\n",
       "  text-align: right;\n",
       "}\n",
       "</style>\n",
       "<small>shape: (2, 2)</small><table border=\"1\" class=\"dataframe\"><thead><tr><th>sex</th><th>income</th></tr><tr><td>i32</td><td>f64</td></tr></thead><tbody><tr><td>0</td><td>6363.060526</td></tr><tr><td>1</td><td>7366.282274</td></tr></tbody></table></div>"
      ],
      "text/plain": [
       "shape: (2, 2)\n",
       "┌─────┬─────────────┐\n",
       "│ sex ┆ income      │\n",
       "│ --- ┆ ---         │\n",
       "│ i32 ┆ f64         │\n",
       "╞═════╪═════════════╡\n",
       "│ 0   ┆ 6363.060526 │\n",
       "│ 1   ┆ 7366.282274 │\n",
       "└─────┴─────────────┘"
      ]
     },
     "execution_count": 19,
     "metadata": {},
     "output_type": "execute_result"
    }
   ],
   "source": [
    "# One level partition\n",
    "mean_one_level_partition = partition_mean(\n",
    "    lf_domain = lf_domain,\n",
    "    metric = dp.symmetric_distance(),\n",
    "    active_column = \"income\", \n",
    "    grouping_columns = [\"sex\"], \n",
    "    bounds = (income_lower_bound, income_upper_bound),\n",
    "    scale = 0.5\n",
    ")\n",
    "mean_one_level_partition(data)"
   ]
  },
  {
   "cell_type": "code",
   "execution_count": 20,
   "metadata": {},
   "outputs": [
    {
     "data": {
      "text/html": [
       "<div><style>\n",
       ".dataframe > thead > tr > th,\n",
       ".dataframe > tbody > tr > td {\n",
       "  text-align: right;\n",
       "}\n",
       "</style>\n",
       "<small>shape: (14, 3)</small><table border=\"1\" class=\"dataframe\"><thead><tr><th>sex</th><th>region</th><th>income</th></tr><tr><td>i32</td><td>i32</td><td>f64</td></tr></thead><tbody><tr><td>0</td><td>1</td><td>6470.466979</td></tr><tr><td>1</td><td>1</td><td>7480.28327</td></tr><tr><td>0</td><td>2</td><td>6240.920249</td></tr><tr><td>1</td><td>2</td><td>7230.395263</td></tr><tr><td>0</td><td>3</td><td>6565.734997</td></tr><tr><td>1</td><td>3</td><td>7578.334403</td></tr><tr><td>0</td><td>4</td><td>6545.059519</td></tr><tr><td>1</td><td>4</td><td>7588.845886</td></tr><tr><td>0</td><td>5</td><td>6208.029746</td></tr><tr><td>1</td><td>5</td><td>7187.171853</td></tr><tr><td>0</td><td>6</td><td>6497.591985</td></tr><tr><td>1</td><td>6</td><td>7536.233468</td></tr><tr><td>0</td><td>7</td><td>5243.14918</td></tr><tr><td>1</td><td>7</td><td>6057.904612</td></tr></tbody></table></div>"
      ],
      "text/plain": [
       "shape: (14, 3)\n",
       "┌─────┬────────┬─────────────┐\n",
       "│ sex ┆ region ┆ income      │\n",
       "│ --- ┆ ---    ┆ ---         │\n",
       "│ i32 ┆ i32    ┆ f64         │\n",
       "╞═════╪════════╪═════════════╡\n",
       "│ 0   ┆ 1      ┆ 6470.466979 │\n",
       "│ 1   ┆ 1      ┆ 7480.28327  │\n",
       "│ 0   ┆ 2      ┆ 6240.920249 │\n",
       "│ 1   ┆ 2      ┆ 7230.395263 │\n",
       "│ …   ┆ …      ┆ …           │\n",
       "│ 0   ┆ 6      ┆ 6497.591985 │\n",
       "│ 1   ┆ 6      ┆ 7536.233468 │\n",
       "│ 0   ┆ 7      ┆ 5243.14918  │\n",
       "│ 1   ┆ 7      ┆ 6057.904612 │\n",
       "└─────┴────────┴─────────────┘"
      ]
     },
     "execution_count": 20,
     "metadata": {},
     "output_type": "execute_result"
    }
   ],
   "source": [
    "# Multi level partitions\n",
    "mean_multi_level_partitions = partition_mean(\n",
    "    lf_domain = lf_domain,\n",
    "    metric = dp.symmetric_distance(),\n",
    "    active_column = \"income\",\n",
    "    grouping_columns = [\"sex\", \"region\"],\n",
    "    bounds = (income_lower_bound, income_upper_bound),\n",
    "    scale = 0.5\n",
    ")\n",
    "mean_multi_level_partitions(data).sort(['region', 'sex'])"
   ]
  },
  {
   "cell_type": "markdown",
   "metadata": {},
   "source": [
    "### Compute the quantiles\n",
    "\n",
    "With ´make_private_quantile´"
   ]
  },
  {
   "cell_type": "code",
   "execution_count": 40,
   "metadata": {},
   "outputs": [
    {
     "data": {
      "text/plain": [
       "[2000.0,\n",
       " 2500.0,\n",
       " 3000.0,\n",
       " 3500.0,\n",
       " 4000.0,\n",
       " 4500.0,\n",
       " 5000.0,\n",
       " 5500.0,\n",
       " 6000.0,\n",
       " 6500.0,\n",
       " 7000.0,\n",
       " 7500.0,\n",
       " 8000.0,\n",
       " 8500.0,\n",
       " 9000.0,\n",
       " 9500.0,\n",
       " 10000.0,\n",
       " 10500.0,\n",
       " 11000.0,\n",
       " 11500.0,\n",
       " 12000.0,\n",
       " 12500.0]"
      ]
     },
     "execution_count": 40,
     "metadata": {},
     "output_type": "execute_result"
    }
   ],
   "source": [
    "# Candidates\n",
    "candidates = [x * 500.0 for x in range(4, 26)]\n",
    "candidates"
   ]
  },
  {
   "cell_type": "markdown",
   "metadata": {},
   "source": [
    "#### On all rows of the column (select operator)"
   ]
  },
  {
   "cell_type": "code",
   "execution_count": 32,
   "metadata": {},
   "outputs": [
    {
     "data": {
      "text/html": [
       "<div><style>\n",
       ".dataframe > thead > tr > th,\n",
       ".dataframe > tbody > tr > td {\n",
       "  text-align: right;\n",
       "}\n",
       "</style>\n",
       "<small>shape: (1, 1)</small><table border=\"1\" class=\"dataframe\"><thead><tr><th>income</th></tr><tr><td>f64</td></tr></thead><tbody><tr><td>6500.0</td></tr></tbody></table></div>"
      ],
      "text/plain": [
       "shape: (1, 1)\n",
       "┌────────┐\n",
       "│ income │\n",
       "│ ---    │\n",
       "│ f64    │\n",
       "╞════════╡\n",
       "│ 6500.0 │\n",
       "└────────┘"
      ]
     },
     "execution_count": 32,
     "metadata": {},
     "output_type": "execute_result"
    }
   ],
   "source": [
    "expr_domain = dp.expr_domain(lf_domain, context=\"select\")\n",
    "\n",
    "# On the median (alpha = 0.5)\n",
    "mean_lazy_all = (lf_domain, metric) >> dp.m.then_private_select(\n",
    "    dp.c.make_basic_composition([\n",
    "        (expr_domain, metric) \n",
    "        >> dp.t.then_col(col_name = \"income\") \n",
    "        >> dp.m.then_private_quantile(\n",
    "            candidates = candidates,\n",
    "            temperature = 0.1,\n",
    "            alpha = 0.5\n",
    "        )\n",
    "    ])\n",
    ") >> dp.t.make_collect(lf_domain, metric)\n",
    "\n",
    "mean_lazy_all(data)"
   ]
  },
  {
   "cell_type": "markdown",
   "metadata": {},
   "source": [
    "### On partitions (groupby and agg operators)"
   ]
  },
  {
   "cell_type": "code",
   "execution_count": 34,
   "metadata": {},
   "outputs": [],
   "source": [
    "def partition_quantiles(domain, metric, active_column, grouping_columns, candidates, temperature, alpha):\n",
    "    # Groupby Expr domain\n",
    "    expr_domain = dp.expr_domain(domain, grouping_columns=grouping_columns)\n",
    "    \n",
    "    # Groupby metric\n",
    "    expr_metric = dp.l1(metric)\n",
    "    \n",
    "    # Create expression\n",
    "    meas_lazy = (\n",
    "        (domain, metric)\n",
    "        >> dp.t.then_groupby_stable(grouping_columns)\n",
    "        >> dp.m.then_private_agg(\n",
    "            dp.c.make_basic_composition(\n",
    "                [\n",
    "                    (expr_domain, expr_metric)\n",
    "                    >> dp.t.then_col(active_column)\n",
    "                    >> dp.m.then_private_quantile(candidates, temperature, alpha)\n",
    "                ]\n",
    "            )\n",
    "        )\n",
    "        >> dp.t.make_collect(domain, metric)\n",
    "    )\n",
    "    return meas_lazy"
   ]
  },
  {
   "cell_type": "code",
   "execution_count": 35,
   "metadata": {},
   "outputs": [
    {
     "data": {
      "text/html": [
       "<div><style>\n",
       ".dataframe > thead > tr > th,\n",
       ".dataframe > tbody > tr > td {\n",
       "  text-align: right;\n",
       "}\n",
       "</style>\n",
       "<small>shape: (2, 2)</small><table border=\"1\" class=\"dataframe\"><thead><tr><th>sex</th><th>income</th></tr><tr><td>i32</td><td>list[f64]</td></tr></thead><tbody><tr><td>0</td><td>[6000.0]</td></tr><tr><td>1</td><td>[7000.0]</td></tr></tbody></table></div>"
      ],
      "text/plain": [
       "shape: (2, 2)\n",
       "┌─────┬───────────┐\n",
       "│ sex ┆ income    │\n",
       "│ --- ┆ ---       │\n",
       "│ i32 ┆ list[f64] │\n",
       "╞═════╪═══════════╡\n",
       "│ 0   ┆ [6000.0]  │\n",
       "│ 1   ┆ [7000.0]  │\n",
       "└─────┴───────────┘"
      ]
     },
     "execution_count": 35,
     "metadata": {},
     "output_type": "execute_result"
    }
   ],
   "source": [
    "# One level partition\n",
    "q50_one_level_partition = partition_quantiles(\n",
    "    domain = lf_domain,\n",
    "    metric = dp.symmetric_distance(),\n",
    "    active_column = \"income\", \n",
    "    grouping_columns = [\"sex\"],\n",
    "    candidates = candidates,\n",
    "    temperature = 1.0,\n",
    "    alpha = 0.5\n",
    ")\n",
    "q50_one_level_partition(data)"
   ]
  },
  {
   "cell_type": "code",
   "execution_count": 37,
   "metadata": {},
   "outputs": [
    {
     "data": {
      "text/html": [
       "<div><style>\n",
       ".dataframe > thead > tr > th,\n",
       ".dataframe > tbody > tr > td {\n",
       "  text-align: right;\n",
       "}\n",
       "</style>\n",
       "<small>shape: (2, 2)</small><table border=\"1\" class=\"dataframe\"><thead><tr><th>sex</th><th>income</th></tr><tr><td>i32</td><td>list[f64]</td></tr></thead><tbody><tr><td>0</td><td>[9000.0]</td></tr><tr><td>1</td><td>[10500.0]</td></tr></tbody></table></div>"
      ],
      "text/plain": [
       "shape: (2, 2)\n",
       "┌─────┬───────────┐\n",
       "│ sex ┆ income    │\n",
       "│ --- ┆ ---       │\n",
       "│ i32 ┆ list[f64] │\n",
       "╞═════╪═══════════╡\n",
       "│ 0   ┆ [9000.0]  │\n",
       "│ 1   ┆ [10500.0] │\n",
       "└─────┴───────────┘"
      ]
     },
     "execution_count": 37,
     "metadata": {},
     "output_type": "execute_result"
    }
   ],
   "source": [
    "q90_one_level_partition = partition_quantiles(\n",
    "    domain = lf_domain,\n",
    "    metric = dp.symmetric_distance(),\n",
    "    active_column = \"income\", \n",
    "    grouping_columns = [\"sex\"], \n",
    "    candidates = candidates,\n",
    "    temperature = 1.0,\n",
    "    alpha = 0.9\n",
    ")\n",
    "q90_one_level_partition(data)"
   ]
  },
  {
   "cell_type": "code",
   "execution_count": 39,
   "metadata": {},
   "outputs": [
    {
     "data": {
      "text/html": [
       "<div><style>\n",
       ".dataframe > thead > tr > th,\n",
       ".dataframe > tbody > tr > td {\n",
       "  text-align: right;\n",
       "}\n",
       "</style>\n",
       "<small>shape: (14, 3)</small><table border=\"1\" class=\"dataframe\"><thead><tr><th>sex</th><th>region</th><th>income</th></tr><tr><td>i32</td><td>i32</td><td>list[f64]</td></tr></thead><tbody><tr><td>0</td><td>1</td><td>[9500.0]</td></tr><tr><td>1</td><td>1</td><td>[11000.0]</td></tr><tr><td>0</td><td>2</td><td>[9000.0]</td></tr><tr><td>1</td><td>2</td><td>[10500.0]</td></tr><tr><td>0</td><td>3</td><td>[9500.0]</td></tr><tr><td>1</td><td>3</td><td>[11000.0]</td></tr><tr><td>0</td><td>4</td><td>[9500.0]</td></tr><tr><td>1</td><td>4</td><td>[11000.0]</td></tr><tr><td>0</td><td>5</td><td>[9000.0]</td></tr><tr><td>1</td><td>5</td><td>[10500.0]</td></tr><tr><td>0</td><td>6</td><td>[9500.0]</td></tr><tr><td>1</td><td>6</td><td>[11000.0]</td></tr><tr><td>0</td><td>7</td><td>[7500.0]</td></tr><tr><td>1</td><td>7</td><td>[8500.0]</td></tr></tbody></table></div>"
      ],
      "text/plain": [
       "shape: (14, 3)\n",
       "┌─────┬────────┬───────────┐\n",
       "│ sex ┆ region ┆ income    │\n",
       "│ --- ┆ ---    ┆ ---       │\n",
       "│ i32 ┆ i32    ┆ list[f64] │\n",
       "╞═════╪════════╪═══════════╡\n",
       "│ 0   ┆ 1      ┆ [9500.0]  │\n",
       "│ 1   ┆ 1      ┆ [11000.0] │\n",
       "│ 0   ┆ 2      ┆ [9000.0]  │\n",
       "│ 1   ┆ 2      ┆ [10500.0] │\n",
       "│ …   ┆ …      ┆ …         │\n",
       "│ 0   ┆ 6      ┆ [9500.0]  │\n",
       "│ 1   ┆ 6      ┆ [11000.0] │\n",
       "│ 0   ┆ 7      ┆ [7500.0]  │\n",
       "│ 1   ┆ 7      ┆ [8500.0]  │\n",
       "└─────┴────────┴───────────┘"
      ]
     },
     "execution_count": 39,
     "metadata": {},
     "output_type": "execute_result"
    }
   ],
   "source": [
    "# Multi level partitions\n",
    "multi_level_partition = partition_quantiles(\n",
    "    domain = lf_domain,\n",
    "    metric = dp.symmetric_distance(),\n",
    "    active_column = \"income\", \n",
    "    grouping_columns = [\"sex\", \"region\"], \n",
    "    candidates = candidates,\n",
    "    temperature = 1.0,\n",
    "    alpha = 0.9\n",
    ")\n",
    "multi_level_partition(data).sort(['region', 'sex'])"
   ]
  },
  {
   "cell_type": "code",
   "execution_count": null,
   "metadata": {},
   "outputs": [],
   "source": []
  }
 ],
 "metadata": {
  "kernelspec": {
   "display_name": "Python 3 (ipykernel)",
   "language": "python",
   "name": "python3"
  },
  "language_info": {
   "codemirror_mode": {
    "name": "ipython",
    "version": 3
   },
   "file_extension": ".py",
   "mimetype": "text/x-python",
   "name": "python",
   "nbconvert_exporter": "python",
   "pygments_lexer": "ipython3",
   "version": "3.11.9"
  }
 },
 "nbformat": 4,
 "nbformat_minor": 4
}
