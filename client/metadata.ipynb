{
 "cells": [
  {
   "cell_type": "code",
   "execution_count": null,
   "id": "288487aa-9d41-4ea5-9d44-1af870acceb1",
   "metadata": {},
   "outputs": [],
   "source": []
  },
  {
   "cell_type": "code",
   "execution_count": null,
   "id": "950113ed-e8c4-4e14-a9d5-1051eeb4617a",
   "metadata": {},
   "outputs": [],
   "source": []
  },
  {
   "cell_type": "code",
   "execution_count": 1,
   "id": "fb05ab46-3795-4b24-b11d-959cdf08d734",
   "metadata": {},
   "outputs": [],
   "source": [
    "metadata = {'max_ids': 1,\n",
    " 'row_privacy': True,\n",
    " 'censor_dims': False,\n",
    " 'species': {'type': 'string',\n",
    "  'cardinality': 3,\n",
    "  'categories': ['Adelie', 'Chinstrap', 'Gentoo']},\n",
    " 'island': {'type': 'string',\n",
    "  'cardinality': 3,\n",
    "  'categories': ['Torgersen', 'Biscoe', 'Dream']},\n",
    " 'bill_length_mm': {'type': 'float', 'lower': 30.0, 'upper': 65.0},\n",
    " 'bill_depth_mm': {'type': 'float', 'lower': 13.0, 'upper': 23.0},\n",
    " 'flipper_length_mm': {'type': 'float', 'lower': 150.0, 'upper': 250.0},\n",
    " 'body_mass_g': {'type': 'float', 'lower': 2000.0, 'upper': 7000.0},\n",
    " 'sex': {'type': 'string', 'cardinality': 2, 'categories': ['MALE', 'FEMALE']}}"
   ]
  },
  {
   "cell_type": "code",
   "execution_count": null,
   "id": "c0fa2c82-9dae-49a9-97c7-58b8995303f5",
   "metadata": {},
   "outputs": [],
   "source": []
  }
 ],
 "metadata": {
  "kernelspec": {
   "display_name": "Python 3 (ipykernel)",
   "language": "python",
   "name": "python3"
  },
  "language_info": {
   "codemirror_mode": {
    "name": "ipython",
    "version": 3
   },
   "file_extension": ".py",
   "mimetype": "text/x-python",
   "name": "python",
   "nbconvert_exporter": "python",
   "pygments_lexer": "ipython3",
   "version": "3.8.18"
  }
 },
 "nbformat": 4,
 "nbformat_minor": 5
}
