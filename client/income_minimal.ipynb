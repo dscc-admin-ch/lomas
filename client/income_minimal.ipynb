{
 "cells": [
  {
   "cell_type": "markdown",
   "id": "13180a2e-3676-4b55-8de4-c114a50aba35",
   "metadata": {},
   "source": [
    "## Minimal SmartNoiseSQL example on the income dataset\n",
    "\n",
    "(Just to check if it's working as intended)"
   ]
  },
  {
   "cell_type": "code",
   "execution_count": 2,
   "id": "20ebbbe0-71f2-4daf-93f6-185d7574c8fc",
   "metadata": {},
   "outputs": [],
   "source": [
    "from fso_sdd_demo.client import Client\n",
    "\n",
    "APP_URL = \"http://sdd_server_dev:80\" # Onyxia: \"https://sdd-server-demo.lab.sspcloud.fr\"\n",
    "USER_NAME = \"Dr. FSO\"\n",
    "DATASET_NAME = \"FSO_INCOME_SYNTHETIC\"\n",
    "client = Client(url=APP_URL, user_name = USER_NAME, dataset_name = DATASET_NAME)"
   ]
  },
  {
   "cell_type": "code",
   "execution_count": 3,
   "id": "f1b5cc29-9581-4fd8-9efe-ad818f861fdf",
   "metadata": {},
   "outputs": [
    {
     "data": {
      "text/plain": [
       "{'max_ids': 1,\n",
       " 'region': {'type': 'int'},\n",
       " 'eco_branch': {'type': 'int'},\n",
       " 'profession': {'type': 'int'},\n",
       " 'education': {'type': 'int'},\n",
       " 'age': {'type': 'int'},\n",
       " 'sex': {'type': 'int'},\n",
       " 'income': {'type': 'float', 'lower': 1000, 'upper': 100000}}"
      ]
     },
     "execution_count": 3,
     "metadata": {},
     "output_type": "execute_result"
    }
   ],
   "source": [
    "income_metadata = client.get_dataset_metadata()['']['Schema']['Table']\n",
    "income_metadata"
   ]
  },
  {
   "cell_type": "code",
   "execution_count": 4,
   "id": "fc70134d-264b-4088-ac6c-9c56361dbc32",
   "metadata": {},
   "outputs": [
    {
     "name": "stdout",
     "output_type": "stream",
     "text": [
      "(200, 7)\n"
     ]
    },
    {
     "data": {
      "text/html": [
       "<div>\n",
       "<style scoped>\n",
       "    .dataframe tbody tr th:only-of-type {\n",
       "        vertical-align: middle;\n",
       "    }\n",
       "\n",
       "    .dataframe tbody tr th {\n",
       "        vertical-align: top;\n",
       "    }\n",
       "\n",
       "    .dataframe thead th {\n",
       "        text-align: right;\n",
       "    }\n",
       "</style>\n",
       "<table border=\"1\" class=\"dataframe\">\n",
       "  <thead>\n",
       "    <tr style=\"text-align: right;\">\n",
       "      <th></th>\n",
       "      <th>region</th>\n",
       "      <th>eco_branch</th>\n",
       "      <th>profession</th>\n",
       "      <th>education</th>\n",
       "      <th>age</th>\n",
       "      <th>sex</th>\n",
       "      <th>income</th>\n",
       "    </tr>\n",
       "  </thead>\n",
       "  <tbody>\n",
       "    <tr>\n",
       "      <th>0</th>\n",
       "      <td>-7268</td>\n",
       "      <td>-8759</td>\n",
       "      <td>4470</td>\n",
       "      <td>-7097</td>\n",
       "      <td>2279</td>\n",
       "      <td>4470</td>\n",
       "      <td>99981.049234</td>\n",
       "    </tr>\n",
       "    <tr>\n",
       "      <th>1</th>\n",
       "      <td>799</td>\n",
       "      <td>903</td>\n",
       "      <td>-4654</td>\n",
       "      <td>-6748</td>\n",
       "      <td>-2700</td>\n",
       "      <td>1345</td>\n",
       "      <td>20528.687956</td>\n",
       "    </tr>\n",
       "    <tr>\n",
       "      <th>2</th>\n",
       "      <td>-155</td>\n",
       "      <td>-5597</td>\n",
       "      <td>-5224</td>\n",
       "      <td>-3552</td>\n",
       "      <td>9480</td>\n",
       "      <td>8039</td>\n",
       "      <td>53955.911640</td>\n",
       "    </tr>\n",
       "    <tr>\n",
       "      <th>3</th>\n",
       "      <td>9648</td>\n",
       "      <td>7582</td>\n",
       "      <td>3729</td>\n",
       "      <td>4274</td>\n",
       "      <td>-178</td>\n",
       "      <td>-7578</td>\n",
       "      <td>29734.556213</td>\n",
       "    </tr>\n",
       "    <tr>\n",
       "      <th>4</th>\n",
       "      <td>3123</td>\n",
       "      <td>9381</td>\n",
       "      <td>-5878</td>\n",
       "      <td>-2574</td>\n",
       "      <td>9842</td>\n",
       "      <td>8165</td>\n",
       "      <td>31113.182182</td>\n",
       "    </tr>\n",
       "  </tbody>\n",
       "</table>\n",
       "</div>"
      ],
      "text/plain": [
       "   region  eco_branch  profession  education   age   sex        income\n",
       "0   -7268       -8759        4470      -7097  2279  4470  99981.049234\n",
       "1     799         903       -4654      -6748 -2700  1345  20528.687956\n",
       "2    -155       -5597       -5224      -3552  9480  8039  53955.911640\n",
       "3    9648        7582        3729       4274  -178 -7578  29734.556213\n",
       "4    3123        9381       -5878      -2574  9842  8165  31113.182182"
      ]
     },
     "execution_count": 4,
     "metadata": {},
     "output_type": "execute_result"
    }
   ],
   "source": [
    "NB_ROWS = 200\n",
    "SEED = 0\n",
    "\n",
    "df_dummy = client.get_dummy_dataset(\n",
    "    nb_rows = NB_ROWS, \n",
    "    seed = SEED\n",
    ")\n",
    "\n",
    "print(df_dummy.shape)\n",
    "df_dummy.head()"
   ]
  },
  {
   "cell_type": "code",
   "execution_count": 5,
   "id": "ce85a354-8a3a-42be-92bf-b06c7ceaf0e7",
   "metadata": {},
   "outputs": [
    {
     "data": {
      "text/plain": [
       "{'requested_by': 'Dr. FSO',\n",
       " 'state': 'Query successful.',\n",
       " 'query_response': 2032544,\n",
       " 'spent_epsilon': 2.0,\n",
       " 'spent_delta': 0,\n",
       " 'remaining_epsilon': 41.0,\n",
       " 'remaining_delta': 0.005}"
      ]
     },
     "execution_count": 5,
     "metadata": {},
     "output_type": "execute_result"
    }
   ],
   "source": [
    "import opendp_polars.prelude as dp\n",
    "import opendp_polars.transformations as trans\n",
    "import opendp_polars.measurements as meas\n",
    "\n",
    "dp.enable_features(\"contrib\")\n",
    "\n",
    "columns = [\"region\", \"eco_branch\", \"profession\", \"education\", \"age\", \"sex\", \"income\"]\n",
    "\n",
    "income_min = income_metadata[\"income\"][\"lower\"]\n",
    "income_max = income_metadata[\"income\"][\"upper\"]\n",
    "\n",
    "num_rows_pipeline = (\n",
    "    trans.make_split_dataframe(separator=\",\", col_names=columns) >>\n",
    "    trans.make_select_column(key=\"income\", TOA=str) >>\n",
    "    trans.then_count() >>\n",
    "    meas.then_laplace(scale=0.5) # scale arbitrary\n",
    ")\n",
    "\n",
    "num_rows = client.opendp_query(\n",
    "    opendp_pipeline = num_rows_pipeline\n",
    ")\n",
    "\n",
    "num_rows"
   ]
  },
  {
   "cell_type": "markdown",
   "id": "e6d1214b-257c-4662-8eaa-a0e53c1768db",
   "metadata": {},
   "source": [
    "This here does not work, feel free to comment/update, etc.."
   ]
  },
  {
   "cell_type": "code",
   "execution_count": 10,
   "id": "1c713e61-4c80-4514-88cd-b15d8e151c5a",
   "metadata": {},
   "outputs": [
    {
     "ename": "TypeError",
     "evalue": "then_resize() got an unexpected keyword argument 'bounds'",
     "output_type": "error",
     "traceback": [
      "\u001b[0;31m---------------------------------------------------------------------------\u001b[0m",
      "\u001b[0;31mTypeError\u001b[0m                                 Traceback (most recent call last)",
      "Cell \u001b[0;32mIn[10], line 6\u001b[0m\n\u001b[1;32m      1\u001b[0m income_average_pipeline \u001b[38;5;241m=\u001b[39m (\n\u001b[1;32m      2\u001b[0m     trans\u001b[38;5;241m.\u001b[39mmake_split_dataframe(separator\u001b[38;5;241m=\u001b[39m\u001b[38;5;124m\"\u001b[39m\u001b[38;5;124m,\u001b[39m\u001b[38;5;124m\"\u001b[39m, col_names\u001b[38;5;241m=\u001b[39mcolumns) \u001b[38;5;241m>>\u001b[39m\n\u001b[1;32m      3\u001b[0m     trans\u001b[38;5;241m.\u001b[39mmake_select_column(key\u001b[38;5;241m=\u001b[39m\u001b[38;5;124m\"\u001b[39m\u001b[38;5;124mincome\u001b[39m\u001b[38;5;124m\"\u001b[39m, TOA\u001b[38;5;241m=\u001b[39m\u001b[38;5;28mstr\u001b[39m) \u001b[38;5;241m>>\u001b[39m\n\u001b[1;32m      4\u001b[0m     trans\u001b[38;5;241m.\u001b[39mthen_cast_default(TOA\u001b[38;5;241m=\u001b[39m\u001b[38;5;28mint\u001b[39m) \u001b[38;5;241m>>\u001b[39m\n\u001b[1;32m      5\u001b[0m     trans\u001b[38;5;241m.\u001b[39mthen_clamp(bounds\u001b[38;5;241m=\u001b[39m(income_min, income_max)) \u001b[38;5;241m>>\u001b[39m\n\u001b[0;32m----> 6\u001b[0m     \u001b[43mtrans\u001b[49m\u001b[38;5;241;43m.\u001b[39;49m\u001b[43mthen_resize\u001b[49m\u001b[43m(\u001b[49m\u001b[43msize\u001b[49m\u001b[38;5;241;43m=\u001b[39;49m\u001b[43mnum_rows\u001b[49m\u001b[43m,\u001b[49m\u001b[43m \u001b[49m\u001b[43mbounds\u001b[49m\u001b[38;5;241;43m=\u001b[39;49m\u001b[43m(\u001b[49m\u001b[43mincome_min\u001b[49m\u001b[43m,\u001b[49m\u001b[43m \u001b[49m\u001b[43mincome_max\u001b[49m\u001b[43m)\u001b[49m\u001b[43m,\u001b[49m\u001b[43m \u001b[49m\u001b[43mconstant\u001b[49m\u001b[38;5;241;43m=\u001b[39;49m\u001b[38;5;241;43m0\u001b[39;49m\u001b[43m)\u001b[49m \u001b[38;5;241m>>\u001b[39m \u001b[38;5;66;03m# how do you choose constant?\u001b[39;00m\n\u001b[1;32m      7\u001b[0m     trans\u001b[38;5;241m.\u001b[39mthen_sized_bounded_mean(size\u001b[38;5;241m=\u001b[39mnum_rows, bounds\u001b[38;5;241m=\u001b[39m(income_min, income_max)) \u001b[38;5;241m>>\u001b[39m\n\u001b[1;32m      8\u001b[0m     meas\u001b[38;5;241m.\u001b[39mthen_laplace(size\u001b[38;5;241m=\u001b[39m\u001b[38;5;241m0.5\u001b[39m)\n\u001b[1;32m      9\u001b[0m )\n\u001b[1;32m     11\u001b[0m income_average \u001b[38;5;241m=\u001b[39m client\u001b[38;5;241m.\u001b[39mopendp_query(\n\u001b[1;32m     12\u001b[0m     opendp_pipeline \u001b[38;5;241m=\u001b[39m income_average_pipeline\n\u001b[1;32m     13\u001b[0m )\n",
      "File \u001b[0;32m/opendp-logger/opendp_logger/serialize.py:33\u001b[0m, in \u001b[0;36mwrap_func.<locals>.wrapper\u001b[0;34m(*args, **kwargs)\u001b[0m\n\u001b[1;32m     31\u001b[0m \u001b[38;5;129m@wraps\u001b[39m(f)\n\u001b[1;32m     32\u001b[0m \u001b[38;5;28;01mdef\u001b[39;00m \u001b[38;5;21mwrapper\u001b[39m(\u001b[38;5;241m*\u001b[39margs, \u001b[38;5;241m*\u001b[39m\u001b[38;5;241m*\u001b[39mkwargs):\n\u001b[0;32m---> 33\u001b[0m     chain \u001b[38;5;241m=\u001b[39m \u001b[43mf\u001b[49m\u001b[43m(\u001b[49m\u001b[38;5;241;43m*\u001b[39;49m\u001b[43margs\u001b[49m\u001b[43m,\u001b[49m\u001b[43m \u001b[49m\u001b[38;5;241;43m*\u001b[39;49m\u001b[38;5;241;43m*\u001b[39;49m\u001b[43mkwargs\u001b[49m\u001b[43m)\u001b[49m\n\u001b[1;32m     34\u001b[0m     \u001b[38;5;28;01mif\u001b[39;00m \u001b[38;5;28misinstance\u001b[39m(chain, LOGGED_CLASSES):\n\u001b[1;32m     35\u001b[0m         chain\u001b[38;5;241m.\u001b[39mlog \u001b[38;5;241m=\u001b[39m {\n\u001b[1;32m     36\u001b[0m             \u001b[38;5;124m\"\u001b[39m\u001b[38;5;124m_type\u001b[39m\u001b[38;5;124m\"\u001b[39m: \u001b[38;5;124m\"\u001b[39m\u001b[38;5;124mconstructor\u001b[39m\u001b[38;5;124m\"\u001b[39m,\n\u001b[1;32m     37\u001b[0m             \u001b[38;5;124m\"\u001b[39m\u001b[38;5;124mfunc\u001b[39m\u001b[38;5;124m\"\u001b[39m: f\u001b[38;5;241m.\u001b[39m\u001b[38;5;18m__name__\u001b[39m,\n\u001b[1;32m     38\u001b[0m             \u001b[38;5;124m\"\u001b[39m\u001b[38;5;124mmodule\u001b[39m\u001b[38;5;124m\"\u001b[39m: module_name,\n\u001b[1;32m     39\u001b[0m         }\n",
      "\u001b[0;31mTypeError\u001b[0m: then_resize() got an unexpected keyword argument 'bounds'"
     ]
    }
   ],
   "source": [
    "income_average_pipeline = (\n",
    "    trans.make_split_dataframe(separator=\",\", col_names=columns) >>\n",
    "    trans.make_select_column(key=\"income\", TOA=str) >>\n",
    "    trans.then_cast_default(TOA=float) >>\n",
    "    trans.then_clamp(bounds=(income_min, income_max)) >>\n",
    "    trans.then_bounded_resize(size=num_rows, bounds=(income_min, income_max), constant=0) >> # how do you choose constant?\n",
    "    trans.then_sized_bounded_mean(size=num_rows, bounds=(income_min, income_max)) >>\n",
    "    meas.then_laplace(size=0.5)\n",
    ")\n",
    "\n",
    "income_average = client.opendp_query(\n",
    "    opendp_pipeline = income_average_pipeline\n",
    ")"
   ]
  }
 ],
 "metadata": {
  "kernelspec": {
   "display_name": "Python 3 (ipykernel)",
   "language": "python",
   "name": "python3"
  },
  "language_info": {
   "codemirror_mode": {
    "name": "ipython",
    "version": 3
   },
   "file_extension": ".py",
   "mimetype": "text/x-python",
   "name": "python",
   "nbconvert_exporter": "python",
   "pygments_lexer": "ipython3",
   "version": "3.8.18"
  }
 },
 "nbformat": 4,
 "nbformat_minor": 5
}
