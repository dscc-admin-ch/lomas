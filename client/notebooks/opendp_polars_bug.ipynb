{
 "cells": [
  {
   "cell_type": "code",
   "execution_count": 11,
   "metadata": {},
   "outputs": [],
   "source": [
    "import opendp.prelude as dp\n",
    "import polars as pl\n",
    "\n",
    "dp.enable_features(\"contrib\")\n",
    "\n",
    "\n",
    "# Minimal dataframe\n",
    "NB_REGIONS = 3\n",
    "NB_ROWS = 6\n",
    "\n",
    "df = pl.DataFrame({\"region\": [1, 1, 2, 2, 3, 3], \"income\": [1000.0, 1000.0, 2000.0, 2000.0, 3000.0, 3000.0]}, schema={\"region\": pl.Int64, \"income\": pl.Float64})\n",
    "lf = df.lazy()\n",
    "\n",
    "# Minimal domain\n",
    "lf_domain = dp.lazyframe_domain([\n",
    "    dp.series_domain(\"region\", dp.atom_domain(T=dp.i64)),\n",
    "    dp.series_domain(\"income\", dp.atom_domain(T=dp.f64))\n",
    "])\n",
    "lf_domain = dp.with_margin(lf_domain, by=[], public_info=\"lengths\", max_partition_length=NB_ROWS)\n",
    "\n",
    "# Group-by query: average income per region, add noïse with scale of 1.0\n",
    "income_lower_bound, income_upper_bound = 1_000, 100_000\n",
    "plan = lf.group_by(\"region\").agg([\n",
    "    pl.col(\"income\").dp.mean(bounds=(income_lower_bound, income_upper_bound), scale=1.0)\n",
    "]).sort(\"income\")"
   ]
  },
  {
   "cell_type": "code",
   "execution_count": 18,
   "metadata": {},
   "outputs": [
    {
     "ename": "OpenDPException",
     "evalue": "\n  FailedFunction(\"max_num_partitions must be known when the metric is not sensitive to ordering (SymmetricDistance)\")",
     "output_type": "error",
     "traceback": [
      "\u001b[0;31m---------------------------------------------------------------------------\u001b[0m",
      "\u001b[0;31mOpenDPException\u001b[0m                           Traceback (most recent call last)",
      "Cell \u001b[0;32mIn[18], line 9\u001b[0m\n\u001b[1;32m      6\u001b[0m bad_res \u001b[38;5;241m=\u001b[39m bad_meas(lf)\u001b[38;5;241m.\u001b[39mcollect()\n\u001b[1;32m      8\u001b[0m \u001b[38;5;66;03m# Privacy map fails\u001b[39;00m\n\u001b[0;32m----> 9\u001b[0m \u001b[43mbad_meas\u001b[49m\u001b[38;5;241;43m.\u001b[39;49m\u001b[43mmap\u001b[49m\u001b[43m(\u001b[49m\u001b[38;5;241;43m1\u001b[39;49m\u001b[43m)\u001b[49m\n",
      "File \u001b[0;32m~/work/venv-opendp-10/lib/python3.11/site-packages/opendp/mod.py:91\u001b[0m, in \u001b[0;36mMeasurement.map\u001b[0;34m(self, d_in)\u001b[0m\n\u001b[1;32m     89\u001b[0m \u001b[38;5;250m\u001b[39m\u001b[38;5;124;03m\"\"\"Map an input distance `d_in` to an output distance.\"\"\"\u001b[39;00m\n\u001b[1;32m     90\u001b[0m \u001b[38;5;28;01mfrom\u001b[39;00m \u001b[38;5;21;01mopendp\u001b[39;00m\u001b[38;5;21;01m.\u001b[39;00m\u001b[38;5;21;01mcore\u001b[39;00m \u001b[38;5;28;01mimport\u001b[39;00m measurement_map\n\u001b[0;32m---> 91\u001b[0m \u001b[38;5;28;01mreturn\u001b[39;00m \u001b[43mmeasurement_map\u001b[49m\u001b[43m(\u001b[49m\u001b[38;5;28;43mself\u001b[39;49m\u001b[43m,\u001b[49m\u001b[43m \u001b[49m\u001b[43md_in\u001b[49m\u001b[43m)\u001b[49m\n",
      "File \u001b[0;32m~/work/venv-opendp-10/lib/python3.11/site-packages/opendp/core.py:398\u001b[0m, in \u001b[0;36mmeasurement_map\u001b[0;34m(measurement, distance_in)\u001b[0m\n\u001b[1;32m    395\u001b[0m lib_function\u001b[38;5;241m.\u001b[39margtypes \u001b[38;5;241m=\u001b[39m [Measurement, AnyObjectPtr]\n\u001b[1;32m    396\u001b[0m lib_function\u001b[38;5;241m.\u001b[39mrestype \u001b[38;5;241m=\u001b[39m FfiResult\n\u001b[0;32m--> 398\u001b[0m output \u001b[38;5;241m=\u001b[39m c_to_py(\u001b[43munwrap\u001b[49m\u001b[43m(\u001b[49m\u001b[43mlib_function\u001b[49m\u001b[43m(\u001b[49m\u001b[43mc_measurement\u001b[49m\u001b[43m,\u001b[49m\u001b[43m \u001b[49m\u001b[43mc_distance_in\u001b[49m\u001b[43m)\u001b[49m\u001b[43m,\u001b[49m\u001b[43m \u001b[49m\u001b[43mAnyObjectPtr\u001b[49m\u001b[43m)\u001b[49m)\n\u001b[1;32m    400\u001b[0m \u001b[38;5;28;01mreturn\u001b[39;00m output\n",
      "File \u001b[0;32m~/work/venv-opendp-10/lib/python3.11/site-packages/opendp/_lib.py:249\u001b[0m, in \u001b[0;36munwrap\u001b[0;34m(result, type_)\u001b[0m\n\u001b[1;32m    246\u001b[0m     \u001b[38;5;28;01mraise\u001b[39;00m OpenDPException(\u001b[38;5;124m\"\u001b[39m\u001b[38;5;124mFailed to free error.\u001b[39m\u001b[38;5;124m\"\u001b[39m)\n\u001b[1;32m    248\u001b[0m \u001b[38;5;66;03m# Rust stack traces follow from here:\u001b[39;00m\n\u001b[0;32m--> 249\u001b[0m \u001b[38;5;28;01mraise\u001b[39;00m OpenDPException(variant, message, backtrace)\n",
      "\u001b[0;31mOpenDPException\u001b[0m: \n  FailedFunction(\"max_num_partitions must be known when the metric is not sensitive to ordering (SymmetricDistance)\")"
     ]
    }
   ],
   "source": [
    "# Bad domain: add a margin that does not include max_num_partitions\n",
    "bad_domain = dp.with_margin(lf_domain, by=[\"region\"], public_info=\"lengths\", max_partition_length=NB_ROWS)\n",
    "\n",
    "# Construct and collect a measurement with bad_domain works\n",
    "bad_meas = dp.make_private_lazyframe(bad_domain, dp.symmetric_distance(), dp.max_divergence(T=float), plan)\n",
    "bad_res = bad_meas(lf).collect()\n",
    "\n",
    "# Privacy map fails\n",
    "bad_meas.map(1)"
   ]
  },
  {
   "cell_type": "code",
   "execution_count": 19,
   "metadata": {},
   "outputs": [
    {
     "data": {
      "text/plain": [
       "4.796163466380676e-09"
      ]
     },
     "execution_count": 19,
     "metadata": {},
     "output_type": "execute_result"
    }
   ],
   "source": [
    "# Good domain: includes everything that is needed\n",
    "good_domain = dp.with_margin(lf_domain, by=[\"region\"], public_info=\"lengths\", max_partition_length=NB_ROWS, max_num_partitions=NB_REGIONS)\n",
    "\n",
    "# Measurement and privacy map work as expected\n",
    "good_meas = dp.make_private_lazyframe(good_domain, dp.symmetric_distance(), dp.max_divergence(T=float), plan)\n",
    "good_res = good_meas(lf).collect()\n",
    "\n",
    "good_meas.map(1)"
   ]
  }
 ],
 "metadata": {
  "kernelspec": {
   "display_name": "venv-opendp-10",
   "language": "python",
   "name": "python3"
  },
  "language_info": {
   "codemirror_mode": {
    "name": "ipython",
    "version": 3
   },
   "file_extension": ".py",
   "mimetype": "text/x-python",
   "name": "python",
   "nbconvert_exporter": "python",
   "pygments_lexer": "ipython3",
   "version": "3.11.0rc1"
  }
 },
 "nbformat": 4,
 "nbformat_minor": 2
}
